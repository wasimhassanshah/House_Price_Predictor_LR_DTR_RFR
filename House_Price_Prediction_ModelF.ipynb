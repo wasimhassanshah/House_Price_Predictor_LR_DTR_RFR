{
 "cells": [
  {
   "cell_type": "markdown",
   "id": "f4200889",
   "metadata": {},
   "source": [
    "# House price prediction model using Linear Regression, Decision Tree and Random Forest Algorithms and finding the best model "
   ]
  },
  {
   "cell_type": "code",
   "execution_count": 533,
   "id": "7f8b8e7d",
   "metadata": {
    "scrolled": true
   },
   "outputs": [],
   "source": [
    "# importing all the important libraries\n",
    "\n",
    "import numpy as np\n",
    "import pandas as pd\n",
    "import matplotlib.pyplot as plt\n",
    "import seaborn as sns\n",
    "from sklearn.model_selection import train_test_split\n",
    "from sklearn.metrics import confusion_matrix\n",
    "from sklearn.linear_model import LinearRegression    # for linear regression model\n",
    "from sklearn.model_selection import cross_val_score   # for cross validation\n",
    "from sklearn.tree import DecisionTreeRegressor       # for decision tree regressor problem\n",
    "\n"
   ]
  },
  {
   "cell_type": "code",
   "execution_count": 3,
   "id": "2fe7a784",
   "metadata": {},
   "outputs": [],
   "source": [
    "dataset = pd.read_csv(r\"C:\\Users\\Sahito\\Downloads\\Documents\\kc_house_data.csv\")\n"
   ]
  },
  {
   "cell_type": "code",
   "execution_count": 4,
   "id": "e6c8b607",
   "metadata": {},
   "outputs": [
    {
     "data": {
      "text/html": [
       "<div>\n",
       "<style scoped>\n",
       "    .dataframe tbody tr th:only-of-type {\n",
       "        vertical-align: middle;\n",
       "    }\n",
       "\n",
       "    .dataframe tbody tr th {\n",
       "        vertical-align: top;\n",
       "    }\n",
       "\n",
       "    .dataframe thead th {\n",
       "        text-align: right;\n",
       "    }\n",
       "</style>\n",
       "<table border=\"1\" class=\"dataframe\">\n",
       "  <thead>\n",
       "    <tr style=\"text-align: right;\">\n",
       "      <th></th>\n",
       "      <th>id</th>\n",
       "      <th>date</th>\n",
       "      <th>price</th>\n",
       "      <th>bedrooms</th>\n",
       "      <th>bathrooms</th>\n",
       "      <th>sqft_living</th>\n",
       "      <th>sqft_lot</th>\n",
       "      <th>floors</th>\n",
       "      <th>waterfront</th>\n",
       "      <th>view</th>\n",
       "      <th>...</th>\n",
       "      <th>grade</th>\n",
       "      <th>sqft_above</th>\n",
       "      <th>sqft_basement</th>\n",
       "      <th>yr_built</th>\n",
       "      <th>yr_renovated</th>\n",
       "      <th>zipcode</th>\n",
       "      <th>lat</th>\n",
       "      <th>long</th>\n",
       "      <th>sqft_living15</th>\n",
       "      <th>sqft_lot15</th>\n",
       "    </tr>\n",
       "  </thead>\n",
       "  <tbody>\n",
       "    <tr>\n",
       "      <th>0</th>\n",
       "      <td>7129300520</td>\n",
       "      <td>20141013T000000</td>\n",
       "      <td>221900.0</td>\n",
       "      <td>3</td>\n",
       "      <td>1.00</td>\n",
       "      <td>1180</td>\n",
       "      <td>5650</td>\n",
       "      <td>1.0</td>\n",
       "      <td>0</td>\n",
       "      <td>0</td>\n",
       "      <td>...</td>\n",
       "      <td>7</td>\n",
       "      <td>1180</td>\n",
       "      <td>0</td>\n",
       "      <td>1955</td>\n",
       "      <td>0</td>\n",
       "      <td>98178</td>\n",
       "      <td>47.5112</td>\n",
       "      <td>-122.257</td>\n",
       "      <td>1340</td>\n",
       "      <td>5650</td>\n",
       "    </tr>\n",
       "    <tr>\n",
       "      <th>1</th>\n",
       "      <td>6414100192</td>\n",
       "      <td>20141209T000000</td>\n",
       "      <td>538000.0</td>\n",
       "      <td>3</td>\n",
       "      <td>2.25</td>\n",
       "      <td>2570</td>\n",
       "      <td>7242</td>\n",
       "      <td>2.0</td>\n",
       "      <td>0</td>\n",
       "      <td>0</td>\n",
       "      <td>...</td>\n",
       "      <td>7</td>\n",
       "      <td>2170</td>\n",
       "      <td>400</td>\n",
       "      <td>1951</td>\n",
       "      <td>1991</td>\n",
       "      <td>98125</td>\n",
       "      <td>47.7210</td>\n",
       "      <td>-122.319</td>\n",
       "      <td>1690</td>\n",
       "      <td>7639</td>\n",
       "    </tr>\n",
       "    <tr>\n",
       "      <th>2</th>\n",
       "      <td>5631500400</td>\n",
       "      <td>20150225T000000</td>\n",
       "      <td>180000.0</td>\n",
       "      <td>2</td>\n",
       "      <td>1.00</td>\n",
       "      <td>770</td>\n",
       "      <td>10000</td>\n",
       "      <td>1.0</td>\n",
       "      <td>0</td>\n",
       "      <td>0</td>\n",
       "      <td>...</td>\n",
       "      <td>6</td>\n",
       "      <td>770</td>\n",
       "      <td>0</td>\n",
       "      <td>1933</td>\n",
       "      <td>0</td>\n",
       "      <td>98028</td>\n",
       "      <td>47.7379</td>\n",
       "      <td>-122.233</td>\n",
       "      <td>2720</td>\n",
       "      <td>8062</td>\n",
       "    </tr>\n",
       "    <tr>\n",
       "      <th>3</th>\n",
       "      <td>2487200875</td>\n",
       "      <td>20141209T000000</td>\n",
       "      <td>604000.0</td>\n",
       "      <td>4</td>\n",
       "      <td>3.00</td>\n",
       "      <td>1960</td>\n",
       "      <td>5000</td>\n",
       "      <td>1.0</td>\n",
       "      <td>0</td>\n",
       "      <td>0</td>\n",
       "      <td>...</td>\n",
       "      <td>7</td>\n",
       "      <td>1050</td>\n",
       "      <td>910</td>\n",
       "      <td>1965</td>\n",
       "      <td>0</td>\n",
       "      <td>98136</td>\n",
       "      <td>47.5208</td>\n",
       "      <td>-122.393</td>\n",
       "      <td>1360</td>\n",
       "      <td>5000</td>\n",
       "    </tr>\n",
       "    <tr>\n",
       "      <th>4</th>\n",
       "      <td>1954400510</td>\n",
       "      <td>20150218T000000</td>\n",
       "      <td>510000.0</td>\n",
       "      <td>3</td>\n",
       "      <td>2.00</td>\n",
       "      <td>1680</td>\n",
       "      <td>8080</td>\n",
       "      <td>1.0</td>\n",
       "      <td>0</td>\n",
       "      <td>0</td>\n",
       "      <td>...</td>\n",
       "      <td>8</td>\n",
       "      <td>1680</td>\n",
       "      <td>0</td>\n",
       "      <td>1987</td>\n",
       "      <td>0</td>\n",
       "      <td>98074</td>\n",
       "      <td>47.6168</td>\n",
       "      <td>-122.045</td>\n",
       "      <td>1800</td>\n",
       "      <td>7503</td>\n",
       "    </tr>\n",
       "  </tbody>\n",
       "</table>\n",
       "<p>5 rows × 21 columns</p>\n",
       "</div>"
      ],
      "text/plain": [
       "           id             date     price  bedrooms  bathrooms  sqft_living  \\\n",
       "0  7129300520  20141013T000000  221900.0         3       1.00         1180   \n",
       "1  6414100192  20141209T000000  538000.0         3       2.25         2570   \n",
       "2  5631500400  20150225T000000  180000.0         2       1.00          770   \n",
       "3  2487200875  20141209T000000  604000.0         4       3.00         1960   \n",
       "4  1954400510  20150218T000000  510000.0         3       2.00         1680   \n",
       "\n",
       "   sqft_lot  floors  waterfront  view  ...  grade  sqft_above  sqft_basement  \\\n",
       "0      5650     1.0           0     0  ...      7        1180              0   \n",
       "1      7242     2.0           0     0  ...      7        2170            400   \n",
       "2     10000     1.0           0     0  ...      6         770              0   \n",
       "3      5000     1.0           0     0  ...      7        1050            910   \n",
       "4      8080     1.0           0     0  ...      8        1680              0   \n",
       "\n",
       "   yr_built  yr_renovated  zipcode      lat     long  sqft_living15  \\\n",
       "0      1955             0    98178  47.5112 -122.257           1340   \n",
       "1      1951          1991    98125  47.7210 -122.319           1690   \n",
       "2      1933             0    98028  47.7379 -122.233           2720   \n",
       "3      1965             0    98136  47.5208 -122.393           1360   \n",
       "4      1987             0    98074  47.6168 -122.045           1800   \n",
       "\n",
       "   sqft_lot15  \n",
       "0        5650  \n",
       "1        7639  \n",
       "2        8062  \n",
       "3        5000  \n",
       "4        7503  \n",
       "\n",
       "[5 rows x 21 columns]"
      ]
     },
     "execution_count": 4,
     "metadata": {},
     "output_type": "execute_result"
    }
   ],
   "source": [
    "dataset.head()"
   ]
  },
  {
   "cell_type": "code",
   "execution_count": 5,
   "id": "bdd598c0",
   "metadata": {},
   "outputs": [
    {
     "data": {
      "text/plain": [
       "Index(['id', 'date', 'price', 'bedrooms', 'bathrooms', 'sqft_living',\n",
       "       'sqft_lot', 'floors', 'waterfront', 'view', 'condition', 'grade',\n",
       "       'sqft_above', 'sqft_basement', 'yr_built', 'yr_renovated', 'zipcode',\n",
       "       'lat', 'long', 'sqft_living15', 'sqft_lot15'],\n",
       "      dtype='object')"
      ]
     },
     "execution_count": 5,
     "metadata": {},
     "output_type": "execute_result"
    }
   ],
   "source": [
    "dataset.columns"
   ]
  },
  {
   "cell_type": "code",
   "execution_count": 6,
   "id": "579d3a2e",
   "metadata": {
    "scrolled": true
   },
   "outputs": [
    {
     "data": {
      "text/plain": [
       "0        221900.0\n",
       "1        538000.0\n",
       "2        180000.0\n",
       "3        604000.0\n",
       "4        510000.0\n",
       "           ...   \n",
       "21608    360000.0\n",
       "21609    400000.0\n",
       "21610    402101.0\n",
       "21611    400000.0\n",
       "21612    325000.0\n",
       "Name: price, Length: 21613, dtype: float64"
      ]
     },
     "execution_count": 6,
     "metadata": {},
     "output_type": "execute_result"
    }
   ],
   "source": [
    "# y(target variables 'Price') \n",
    "\n",
    "y= dataset.iloc[:, 2]\n",
    "y"
   ]
  },
  {
   "cell_type": "code",
   "execution_count": 75,
   "id": "189b47a4",
   "metadata": {
    "scrolled": true
   },
   "outputs": [
    {
     "data": {
      "text/html": [
       "<div>\n",
       "<style scoped>\n",
       "    .dataframe tbody tr th:only-of-type {\n",
       "        vertical-align: middle;\n",
       "    }\n",
       "\n",
       "    .dataframe tbody tr th {\n",
       "        vertical-align: top;\n",
       "    }\n",
       "\n",
       "    .dataframe thead th {\n",
       "        text-align: right;\n",
       "    }\n",
       "</style>\n",
       "<table border=\"1\" class=\"dataframe\">\n",
       "  <thead>\n",
       "    <tr style=\"text-align: right;\">\n",
       "      <th></th>\n",
       "      <th>bedrooms</th>\n",
       "      <th>bathrooms</th>\n",
       "      <th>sqft_living</th>\n",
       "      <th>sqft_lot</th>\n",
       "      <th>floors</th>\n",
       "      <th>waterfront</th>\n",
       "      <th>view</th>\n",
       "      <th>condition</th>\n",
       "      <th>grade</th>\n",
       "      <th>sqft_above</th>\n",
       "      <th>...</th>\n",
       "      <th>yr_built</th>\n",
       "      <th>yr_renovated</th>\n",
       "      <th>zipcode</th>\n",
       "      <th>lat</th>\n",
       "      <th>long</th>\n",
       "      <th>sqft_living15</th>\n",
       "      <th>sqft_lot15</th>\n",
       "      <th>logged price</th>\n",
       "      <th>logged sqft_living</th>\n",
       "      <th>date</th>\n",
       "    </tr>\n",
       "  </thead>\n",
       "  <tbody>\n",
       "    <tr>\n",
       "      <th>0</th>\n",
       "      <td>3</td>\n",
       "      <td>1.00</td>\n",
       "      <td>1180</td>\n",
       "      <td>5650</td>\n",
       "      <td>1.0</td>\n",
       "      <td>0</td>\n",
       "      <td>0</td>\n",
       "      <td>3</td>\n",
       "      <td>7</td>\n",
       "      <td>1180</td>\n",
       "      <td>...</td>\n",
       "      <td>1955</td>\n",
       "      <td>0</td>\n",
       "      <td>98178</td>\n",
       "      <td>47.5112</td>\n",
       "      <td>-122.257</td>\n",
       "      <td>1340</td>\n",
       "      <td>5650</td>\n",
       "      <td>12.309982</td>\n",
       "      <td>7.073270</td>\n",
       "      <td>20141013T000000</td>\n",
       "    </tr>\n",
       "    <tr>\n",
       "      <th>1</th>\n",
       "      <td>3</td>\n",
       "      <td>2.25</td>\n",
       "      <td>2570</td>\n",
       "      <td>7242</td>\n",
       "      <td>2.0</td>\n",
       "      <td>0</td>\n",
       "      <td>0</td>\n",
       "      <td>3</td>\n",
       "      <td>7</td>\n",
       "      <td>2170</td>\n",
       "      <td>...</td>\n",
       "      <td>1951</td>\n",
       "      <td>1991</td>\n",
       "      <td>98125</td>\n",
       "      <td>47.7210</td>\n",
       "      <td>-122.319</td>\n",
       "      <td>1690</td>\n",
       "      <td>7639</td>\n",
       "      <td>NaN</td>\n",
       "      <td>7.851661</td>\n",
       "      <td>20141209T000000</td>\n",
       "    </tr>\n",
       "    <tr>\n",
       "      <th>2</th>\n",
       "      <td>2</td>\n",
       "      <td>1.00</td>\n",
       "      <td>770</td>\n",
       "      <td>10000</td>\n",
       "      <td>1.0</td>\n",
       "      <td>0</td>\n",
       "      <td>0</td>\n",
       "      <td>3</td>\n",
       "      <td>6</td>\n",
       "      <td>770</td>\n",
       "      <td>...</td>\n",
       "      <td>1933</td>\n",
       "      <td>0</td>\n",
       "      <td>98028</td>\n",
       "      <td>47.7379</td>\n",
       "      <td>-122.233</td>\n",
       "      <td>2720</td>\n",
       "      <td>8062</td>\n",
       "      <td>12.100712</td>\n",
       "      <td>6.646391</td>\n",
       "      <td>20150225T000000</td>\n",
       "    </tr>\n",
       "    <tr>\n",
       "      <th>3</th>\n",
       "      <td>4</td>\n",
       "      <td>3.00</td>\n",
       "      <td>1960</td>\n",
       "      <td>5000</td>\n",
       "      <td>1.0</td>\n",
       "      <td>0</td>\n",
       "      <td>0</td>\n",
       "      <td>5</td>\n",
       "      <td>7</td>\n",
       "      <td>1050</td>\n",
       "      <td>...</td>\n",
       "      <td>1965</td>\n",
       "      <td>0</td>\n",
       "      <td>98136</td>\n",
       "      <td>47.5208</td>\n",
       "      <td>-122.393</td>\n",
       "      <td>1360</td>\n",
       "      <td>5000</td>\n",
       "      <td>13.311329</td>\n",
       "      <td>7.580700</td>\n",
       "      <td>20141209T000000</td>\n",
       "    </tr>\n",
       "    <tr>\n",
       "      <th>4</th>\n",
       "      <td>3</td>\n",
       "      <td>2.00</td>\n",
       "      <td>1680</td>\n",
       "      <td>8080</td>\n",
       "      <td>1.0</td>\n",
       "      <td>0</td>\n",
       "      <td>0</td>\n",
       "      <td>3</td>\n",
       "      <td>8</td>\n",
       "      <td>1680</td>\n",
       "      <td>...</td>\n",
       "      <td>1987</td>\n",
       "      <td>0</td>\n",
       "      <td>98074</td>\n",
       "      <td>47.6168</td>\n",
       "      <td>-122.045</td>\n",
       "      <td>1800</td>\n",
       "      <td>7503</td>\n",
       "      <td>13.142166</td>\n",
       "      <td>7.426549</td>\n",
       "      <td>20150218T000000</td>\n",
       "    </tr>\n",
       "    <tr>\n",
       "      <th>...</th>\n",
       "      <td>...</td>\n",
       "      <td>...</td>\n",
       "      <td>...</td>\n",
       "      <td>...</td>\n",
       "      <td>...</td>\n",
       "      <td>...</td>\n",
       "      <td>...</td>\n",
       "      <td>...</td>\n",
       "      <td>...</td>\n",
       "      <td>...</td>\n",
       "      <td>...</td>\n",
       "      <td>...</td>\n",
       "      <td>...</td>\n",
       "      <td>...</td>\n",
       "      <td>...</td>\n",
       "      <td>...</td>\n",
       "      <td>...</td>\n",
       "      <td>...</td>\n",
       "      <td>...</td>\n",
       "      <td>...</td>\n",
       "      <td>...</td>\n",
       "    </tr>\n",
       "    <tr>\n",
       "      <th>21608</th>\n",
       "      <td>3</td>\n",
       "      <td>2.50</td>\n",
       "      <td>1530</td>\n",
       "      <td>1131</td>\n",
       "      <td>3.0</td>\n",
       "      <td>0</td>\n",
       "      <td>0</td>\n",
       "      <td>3</td>\n",
       "      <td>8</td>\n",
       "      <td>1530</td>\n",
       "      <td>...</td>\n",
       "      <td>2009</td>\n",
       "      <td>0</td>\n",
       "      <td>98103</td>\n",
       "      <td>47.6993</td>\n",
       "      <td>-122.346</td>\n",
       "      <td>1530</td>\n",
       "      <td>1509</td>\n",
       "      <td>12.793859</td>\n",
       "      <td>7.333023</td>\n",
       "      <td>20140521T000000</td>\n",
       "    </tr>\n",
       "    <tr>\n",
       "      <th>21609</th>\n",
       "      <td>4</td>\n",
       "      <td>2.50</td>\n",
       "      <td>2310</td>\n",
       "      <td>5813</td>\n",
       "      <td>2.0</td>\n",
       "      <td>0</td>\n",
       "      <td>0</td>\n",
       "      <td>3</td>\n",
       "      <td>8</td>\n",
       "      <td>2310</td>\n",
       "      <td>...</td>\n",
       "      <td>2014</td>\n",
       "      <td>0</td>\n",
       "      <td>98146</td>\n",
       "      <td>47.5107</td>\n",
       "      <td>-122.362</td>\n",
       "      <td>1830</td>\n",
       "      <td>7200</td>\n",
       "      <td>NaN</td>\n",
       "      <td>7.745003</td>\n",
       "      <td>20150223T000000</td>\n",
       "    </tr>\n",
       "    <tr>\n",
       "      <th>21610</th>\n",
       "      <td>2</td>\n",
       "      <td>0.75</td>\n",
       "      <td>1020</td>\n",
       "      <td>1350</td>\n",
       "      <td>2.0</td>\n",
       "      <td>0</td>\n",
       "      <td>0</td>\n",
       "      <td>3</td>\n",
       "      <td>7</td>\n",
       "      <td>1020</td>\n",
       "      <td>...</td>\n",
       "      <td>2009</td>\n",
       "      <td>0</td>\n",
       "      <td>98144</td>\n",
       "      <td>47.5944</td>\n",
       "      <td>-122.299</td>\n",
       "      <td>1020</td>\n",
       "      <td>2007</td>\n",
       "      <td>NaN</td>\n",
       "      <td>6.927558</td>\n",
       "      <td>20140623T000000</td>\n",
       "    </tr>\n",
       "    <tr>\n",
       "      <th>21611</th>\n",
       "      <td>3</td>\n",
       "      <td>2.50</td>\n",
       "      <td>1600</td>\n",
       "      <td>2388</td>\n",
       "      <td>2.0</td>\n",
       "      <td>0</td>\n",
       "      <td>0</td>\n",
       "      <td>3</td>\n",
       "      <td>8</td>\n",
       "      <td>1600</td>\n",
       "      <td>...</td>\n",
       "      <td>2004</td>\n",
       "      <td>0</td>\n",
       "      <td>98027</td>\n",
       "      <td>47.5345</td>\n",
       "      <td>-122.069</td>\n",
       "      <td>1410</td>\n",
       "      <td>1287</td>\n",
       "      <td>NaN</td>\n",
       "      <td>7.377759</td>\n",
       "      <td>20150116T000000</td>\n",
       "    </tr>\n",
       "    <tr>\n",
       "      <th>21612</th>\n",
       "      <td>2</td>\n",
       "      <td>0.75</td>\n",
       "      <td>1020</td>\n",
       "      <td>1076</td>\n",
       "      <td>2.0</td>\n",
       "      <td>0</td>\n",
       "      <td>0</td>\n",
       "      <td>3</td>\n",
       "      <td>7</td>\n",
       "      <td>1020</td>\n",
       "      <td>...</td>\n",
       "      <td>2008</td>\n",
       "      <td>0</td>\n",
       "      <td>98144</td>\n",
       "      <td>47.5941</td>\n",
       "      <td>-122.299</td>\n",
       "      <td>1020</td>\n",
       "      <td>1357</td>\n",
       "      <td>12.691580</td>\n",
       "      <td>6.927558</td>\n",
       "      <td>20141015T000000</td>\n",
       "    </tr>\n",
       "  </tbody>\n",
       "</table>\n",
       "<p>21613 rows × 21 columns</p>\n",
       "</div>"
      ],
      "text/plain": [
       "       bedrooms  bathrooms  sqft_living  sqft_lot  floors  waterfront  view  \\\n",
       "0             3       1.00         1180      5650     1.0           0     0   \n",
       "1             3       2.25         2570      7242     2.0           0     0   \n",
       "2             2       1.00          770     10000     1.0           0     0   \n",
       "3             4       3.00         1960      5000     1.0           0     0   \n",
       "4             3       2.00         1680      8080     1.0           0     0   \n",
       "...         ...        ...          ...       ...     ...         ...   ...   \n",
       "21608         3       2.50         1530      1131     3.0           0     0   \n",
       "21609         4       2.50         2310      5813     2.0           0     0   \n",
       "21610         2       0.75         1020      1350     2.0           0     0   \n",
       "21611         3       2.50         1600      2388     2.0           0     0   \n",
       "21612         2       0.75         1020      1076     2.0           0     0   \n",
       "\n",
       "       condition  grade  sqft_above  ...  yr_built  yr_renovated  zipcode  \\\n",
       "0              3      7        1180  ...      1955             0    98178   \n",
       "1              3      7        2170  ...      1951          1991    98125   \n",
       "2              3      6         770  ...      1933             0    98028   \n",
       "3              5      7        1050  ...      1965             0    98136   \n",
       "4              3      8        1680  ...      1987             0    98074   \n",
       "...          ...    ...         ...  ...       ...           ...      ...   \n",
       "21608          3      8        1530  ...      2009             0    98103   \n",
       "21609          3      8        2310  ...      2014             0    98146   \n",
       "21610          3      7        1020  ...      2009             0    98144   \n",
       "21611          3      8        1600  ...      2004             0    98027   \n",
       "21612          3      7        1020  ...      2008             0    98144   \n",
       "\n",
       "           lat     long  sqft_living15  sqft_lot15  logged price  \\\n",
       "0      47.5112 -122.257           1340        5650     12.309982   \n",
       "1      47.7210 -122.319           1690        7639           NaN   \n",
       "2      47.7379 -122.233           2720        8062     12.100712   \n",
       "3      47.5208 -122.393           1360        5000     13.311329   \n",
       "4      47.6168 -122.045           1800        7503     13.142166   \n",
       "...        ...      ...            ...         ...           ...   \n",
       "21608  47.6993 -122.346           1530        1509     12.793859   \n",
       "21609  47.5107 -122.362           1830        7200           NaN   \n",
       "21610  47.5944 -122.299           1020        2007           NaN   \n",
       "21611  47.5345 -122.069           1410        1287           NaN   \n",
       "21612  47.5941 -122.299           1020        1357     12.691580   \n",
       "\n",
       "       logged sqft_living             date  \n",
       "0                7.073270  20141013T000000  \n",
       "1                7.851661  20141209T000000  \n",
       "2                6.646391  20150225T000000  \n",
       "3                7.580700  20141209T000000  \n",
       "4                7.426549  20150218T000000  \n",
       "...                   ...              ...  \n",
       "21608            7.333023  20140521T000000  \n",
       "21609            7.745003  20150223T000000  \n",
       "21610            6.927558  20140623T000000  \n",
       "21611            7.377759  20150116T000000  \n",
       "21612            6.927558  20141015T000000  \n",
       "\n",
       "[21613 rows x 21 columns]"
      ]
     },
     "execution_count": 75,
     "metadata": {},
     "output_type": "execute_result"
    }
   ],
   "source": [
    " \n",
    "X= dataset.iloc[:, 3:]\n",
    "X['date']= dataset['date']\n",
    "X"
   ]
  },
  {
   "cell_type": "markdown",
   "id": "a92eb8fd",
   "metadata": {},
   "source": [
    "# Hypothesis : -"
   ]
  },
  {
   "cell_type": "markdown",
   "id": "d9e3f6e1",
   "metadata": {},
   "source": [
    "**After reading the dataset it seems that the target variable (price) is dependent on features ('bedrooms', 'bathrooms', 'sqft_living','floors', 'condition', 'grade',  'yr_renovated')**"
   ]
  },
  {
   "cell_type": "markdown",
   "id": "58bf9cc3",
   "metadata": {},
   "source": [
    " # Exploratory Data Analyst :-"
   ]
  },
  {
   "cell_type": "code",
   "execution_count": 76,
   "id": "5e366995",
   "metadata": {},
   "outputs": [
    {
     "data": {
      "text/plain": [
       "id                      int64\n",
       "date                   object\n",
       "price                 float64\n",
       "bedrooms                int64\n",
       "bathrooms             float64\n",
       "sqft_living             int64\n",
       "sqft_lot                int64\n",
       "floors                float64\n",
       "waterfront              int64\n",
       "view                    int64\n",
       "condition               int64\n",
       "grade                   int64\n",
       "sqft_above              int64\n",
       "sqft_basement           int64\n",
       "yr_built                int64\n",
       "yr_renovated            int64\n",
       "zipcode                 int64\n",
       "lat                   float64\n",
       "long                  float64\n",
       "sqft_living15           int64\n",
       "sqft_lot15              int64\n",
       "logged price          float64\n",
       "logged sqft_living    float64\n",
       "dtype: object"
      ]
     },
     "execution_count": 76,
     "metadata": {},
     "output_type": "execute_result"
    }
   ],
   "source": [
    "dataset.dtypes"
   ]
  },
  {
   "cell_type": "code",
   "execution_count": 77,
   "id": "52498337",
   "metadata": {},
   "outputs": [
    {
     "data": {
      "text/plain": [
       "id                       0\n",
       "date                     0\n",
       "price                    0\n",
       "bedrooms                 0\n",
       "bathrooms                0\n",
       "sqft_living              0\n",
       "sqft_lot                 0\n",
       "floors                   0\n",
       "waterfront               0\n",
       "view                     0\n",
       "condition                0\n",
       "grade                    0\n",
       "sqft_above               0\n",
       "sqft_basement            0\n",
       "yr_built                 0\n",
       "yr_renovated             0\n",
       "zipcode                  0\n",
       "lat                      0\n",
       "long                     0\n",
       "sqft_living15            0\n",
       "sqft_lot15               0\n",
       "logged price          6484\n",
       "logged sqft_living       0\n",
       "dtype: int64"
      ]
     },
     "execution_count": 77,
     "metadata": {},
     "output_type": "execute_result"
    }
   ],
   "source": [
    "dataset.isnull().sum()"
   ]
  },
  {
   "cell_type": "code",
   "execution_count": 78,
   "id": "49e7f31e",
   "metadata": {},
   "outputs": [
    {
     "data": {
      "text/html": [
       "<div>\n",
       "<style scoped>\n",
       "    .dataframe tbody tr th:only-of-type {\n",
       "        vertical-align: middle;\n",
       "    }\n",
       "\n",
       "    .dataframe tbody tr th {\n",
       "        vertical-align: top;\n",
       "    }\n",
       "\n",
       "    .dataframe thead th {\n",
       "        text-align: right;\n",
       "    }\n",
       "</style>\n",
       "<table border=\"1\" class=\"dataframe\">\n",
       "  <thead>\n",
       "    <tr style=\"text-align: right;\">\n",
       "      <th></th>\n",
       "      <th>id</th>\n",
       "      <th>price</th>\n",
       "      <th>bedrooms</th>\n",
       "      <th>bathrooms</th>\n",
       "      <th>sqft_living</th>\n",
       "      <th>sqft_lot</th>\n",
       "      <th>floors</th>\n",
       "      <th>waterfront</th>\n",
       "      <th>view</th>\n",
       "      <th>condition</th>\n",
       "      <th>...</th>\n",
       "      <th>sqft_basement</th>\n",
       "      <th>yr_built</th>\n",
       "      <th>yr_renovated</th>\n",
       "      <th>zipcode</th>\n",
       "      <th>lat</th>\n",
       "      <th>long</th>\n",
       "      <th>sqft_living15</th>\n",
       "      <th>sqft_lot15</th>\n",
       "      <th>logged price</th>\n",
       "      <th>logged sqft_living</th>\n",
       "    </tr>\n",
       "  </thead>\n",
       "  <tbody>\n",
       "    <tr>\n",
       "      <th>count</th>\n",
       "      <td>2.161300e+04</td>\n",
       "      <td>2.161300e+04</td>\n",
       "      <td>21613.000000</td>\n",
       "      <td>21613.000000</td>\n",
       "      <td>21613.000000</td>\n",
       "      <td>2.161300e+04</td>\n",
       "      <td>21613.000000</td>\n",
       "      <td>21613.000000</td>\n",
       "      <td>21613.000000</td>\n",
       "      <td>21613.000000</td>\n",
       "      <td>...</td>\n",
       "      <td>21613.000000</td>\n",
       "      <td>21613.000000</td>\n",
       "      <td>21613.000000</td>\n",
       "      <td>21613.000000</td>\n",
       "      <td>21613.000000</td>\n",
       "      <td>21613.000000</td>\n",
       "      <td>21613.000000</td>\n",
       "      <td>21613.000000</td>\n",
       "      <td>15129.000000</td>\n",
       "      <td>21613.000000</td>\n",
       "    </tr>\n",
       "    <tr>\n",
       "      <th>mean</th>\n",
       "      <td>4.580302e+09</td>\n",
       "      <td>5.400881e+05</td>\n",
       "      <td>3.370842</td>\n",
       "      <td>2.114757</td>\n",
       "      <td>2079.899736</td>\n",
       "      <td>1.510697e+04</td>\n",
       "      <td>1.494309</td>\n",
       "      <td>0.007542</td>\n",
       "      <td>0.234303</td>\n",
       "      <td>3.409430</td>\n",
       "      <td>...</td>\n",
       "      <td>291.509045</td>\n",
       "      <td>1971.005136</td>\n",
       "      <td>84.402258</td>\n",
       "      <td>98077.939805</td>\n",
       "      <td>47.560053</td>\n",
       "      <td>-122.213896</td>\n",
       "      <td>1986.552492</td>\n",
       "      <td>12768.455652</td>\n",
       "      <td>13.048634</td>\n",
       "      <td>7.550335</td>\n",
       "    </tr>\n",
       "    <tr>\n",
       "      <th>std</th>\n",
       "      <td>2.876566e+09</td>\n",
       "      <td>3.671272e+05</td>\n",
       "      <td>0.930062</td>\n",
       "      <td>0.770163</td>\n",
       "      <td>918.440897</td>\n",
       "      <td>4.142051e+04</td>\n",
       "      <td>0.539989</td>\n",
       "      <td>0.086517</td>\n",
       "      <td>0.766318</td>\n",
       "      <td>0.650743</td>\n",
       "      <td>...</td>\n",
       "      <td>442.575043</td>\n",
       "      <td>29.373411</td>\n",
       "      <td>401.679240</td>\n",
       "      <td>53.505026</td>\n",
       "      <td>0.138564</td>\n",
       "      <td>0.140828</td>\n",
       "      <td>685.391304</td>\n",
       "      <td>27304.179631</td>\n",
       "      <td>0.527391</td>\n",
       "      <td>0.424807</td>\n",
       "    </tr>\n",
       "    <tr>\n",
       "      <th>min</th>\n",
       "      <td>1.000102e+06</td>\n",
       "      <td>7.500000e+04</td>\n",
       "      <td>0.000000</td>\n",
       "      <td>0.000000</td>\n",
       "      <td>290.000000</td>\n",
       "      <td>5.200000e+02</td>\n",
       "      <td>1.000000</td>\n",
       "      <td>0.000000</td>\n",
       "      <td>0.000000</td>\n",
       "      <td>1.000000</td>\n",
       "      <td>...</td>\n",
       "      <td>0.000000</td>\n",
       "      <td>1900.000000</td>\n",
       "      <td>0.000000</td>\n",
       "      <td>98001.000000</td>\n",
       "      <td>47.155900</td>\n",
       "      <td>-122.519000</td>\n",
       "      <td>399.000000</td>\n",
       "      <td>651.000000</td>\n",
       "      <td>11.225243</td>\n",
       "      <td>5.669881</td>\n",
       "    </tr>\n",
       "    <tr>\n",
       "      <th>25%</th>\n",
       "      <td>2.123049e+09</td>\n",
       "      <td>3.219500e+05</td>\n",
       "      <td>3.000000</td>\n",
       "      <td>1.750000</td>\n",
       "      <td>1427.000000</td>\n",
       "      <td>5.040000e+03</td>\n",
       "      <td>1.000000</td>\n",
       "      <td>0.000000</td>\n",
       "      <td>0.000000</td>\n",
       "      <td>3.000000</td>\n",
       "      <td>...</td>\n",
       "      <td>0.000000</td>\n",
       "      <td>1951.000000</td>\n",
       "      <td>0.000000</td>\n",
       "      <td>98033.000000</td>\n",
       "      <td>47.471000</td>\n",
       "      <td>-122.328000</td>\n",
       "      <td>1490.000000</td>\n",
       "      <td>5100.000000</td>\n",
       "      <td>12.682928</td>\n",
       "      <td>7.263330</td>\n",
       "    </tr>\n",
       "    <tr>\n",
       "      <th>50%</th>\n",
       "      <td>3.904930e+09</td>\n",
       "      <td>4.500000e+05</td>\n",
       "      <td>3.000000</td>\n",
       "      <td>2.250000</td>\n",
       "      <td>1910.000000</td>\n",
       "      <td>7.618000e+03</td>\n",
       "      <td>1.500000</td>\n",
       "      <td>0.000000</td>\n",
       "      <td>0.000000</td>\n",
       "      <td>3.000000</td>\n",
       "      <td>...</td>\n",
       "      <td>0.000000</td>\n",
       "      <td>1975.000000</td>\n",
       "      <td>0.000000</td>\n",
       "      <td>98065.000000</td>\n",
       "      <td>47.571800</td>\n",
       "      <td>-122.230000</td>\n",
       "      <td>1840.000000</td>\n",
       "      <td>7620.000000</td>\n",
       "      <td>13.017003</td>\n",
       "      <td>7.554859</td>\n",
       "    </tr>\n",
       "    <tr>\n",
       "      <th>75%</th>\n",
       "      <td>7.308900e+09</td>\n",
       "      <td>6.450000e+05</td>\n",
       "      <td>4.000000</td>\n",
       "      <td>2.500000</td>\n",
       "      <td>2550.000000</td>\n",
       "      <td>1.068800e+04</td>\n",
       "      <td>2.000000</td>\n",
       "      <td>0.000000</td>\n",
       "      <td>0.000000</td>\n",
       "      <td>4.000000</td>\n",
       "      <td>...</td>\n",
       "      <td>560.000000</td>\n",
       "      <td>1997.000000</td>\n",
       "      <td>0.000000</td>\n",
       "      <td>98118.000000</td>\n",
       "      <td>47.678000</td>\n",
       "      <td>-122.125000</td>\n",
       "      <td>2360.000000</td>\n",
       "      <td>10083.000000</td>\n",
       "      <td>13.377006</td>\n",
       "      <td>7.843849</td>\n",
       "    </tr>\n",
       "    <tr>\n",
       "      <th>max</th>\n",
       "      <td>9.900000e+09</td>\n",
       "      <td>7.700000e+06</td>\n",
       "      <td>33.000000</td>\n",
       "      <td>8.000000</td>\n",
       "      <td>13540.000000</td>\n",
       "      <td>1.651359e+06</td>\n",
       "      <td>3.500000</td>\n",
       "      <td>1.000000</td>\n",
       "      <td>4.000000</td>\n",
       "      <td>5.000000</td>\n",
       "      <td>...</td>\n",
       "      <td>4820.000000</td>\n",
       "      <td>2015.000000</td>\n",
       "      <td>2015.000000</td>\n",
       "      <td>98199.000000</td>\n",
       "      <td>47.777600</td>\n",
       "      <td>-121.315000</td>\n",
       "      <td>6210.000000</td>\n",
       "      <td>871200.000000</td>\n",
       "      <td>15.856731</td>\n",
       "      <td>9.513404</td>\n",
       "    </tr>\n",
       "  </tbody>\n",
       "</table>\n",
       "<p>8 rows × 22 columns</p>\n",
       "</div>"
      ],
      "text/plain": [
       "                 id         price      bedrooms     bathrooms   sqft_living  \\\n",
       "count  2.161300e+04  2.161300e+04  21613.000000  21613.000000  21613.000000   \n",
       "mean   4.580302e+09  5.400881e+05      3.370842      2.114757   2079.899736   \n",
       "std    2.876566e+09  3.671272e+05      0.930062      0.770163    918.440897   \n",
       "min    1.000102e+06  7.500000e+04      0.000000      0.000000    290.000000   \n",
       "25%    2.123049e+09  3.219500e+05      3.000000      1.750000   1427.000000   \n",
       "50%    3.904930e+09  4.500000e+05      3.000000      2.250000   1910.000000   \n",
       "75%    7.308900e+09  6.450000e+05      4.000000      2.500000   2550.000000   \n",
       "max    9.900000e+09  7.700000e+06     33.000000      8.000000  13540.000000   \n",
       "\n",
       "           sqft_lot        floors    waterfront          view     condition  \\\n",
       "count  2.161300e+04  21613.000000  21613.000000  21613.000000  21613.000000   \n",
       "mean   1.510697e+04      1.494309      0.007542      0.234303      3.409430   \n",
       "std    4.142051e+04      0.539989      0.086517      0.766318      0.650743   \n",
       "min    5.200000e+02      1.000000      0.000000      0.000000      1.000000   \n",
       "25%    5.040000e+03      1.000000      0.000000      0.000000      3.000000   \n",
       "50%    7.618000e+03      1.500000      0.000000      0.000000      3.000000   \n",
       "75%    1.068800e+04      2.000000      0.000000      0.000000      4.000000   \n",
       "max    1.651359e+06      3.500000      1.000000      4.000000      5.000000   \n",
       "\n",
       "       ...  sqft_basement      yr_built  yr_renovated       zipcode  \\\n",
       "count  ...   21613.000000  21613.000000  21613.000000  21613.000000   \n",
       "mean   ...     291.509045   1971.005136     84.402258  98077.939805   \n",
       "std    ...     442.575043     29.373411    401.679240     53.505026   \n",
       "min    ...       0.000000   1900.000000      0.000000  98001.000000   \n",
       "25%    ...       0.000000   1951.000000      0.000000  98033.000000   \n",
       "50%    ...       0.000000   1975.000000      0.000000  98065.000000   \n",
       "75%    ...     560.000000   1997.000000      0.000000  98118.000000   \n",
       "max    ...    4820.000000   2015.000000   2015.000000  98199.000000   \n",
       "\n",
       "                lat          long  sqft_living15     sqft_lot15  logged price  \\\n",
       "count  21613.000000  21613.000000   21613.000000   21613.000000  15129.000000   \n",
       "mean      47.560053   -122.213896    1986.552492   12768.455652     13.048634   \n",
       "std        0.138564      0.140828     685.391304   27304.179631      0.527391   \n",
       "min       47.155900   -122.519000     399.000000     651.000000     11.225243   \n",
       "25%       47.471000   -122.328000    1490.000000    5100.000000     12.682928   \n",
       "50%       47.571800   -122.230000    1840.000000    7620.000000     13.017003   \n",
       "75%       47.678000   -122.125000    2360.000000   10083.000000     13.377006   \n",
       "max       47.777600   -121.315000    6210.000000  871200.000000     15.856731   \n",
       "\n",
       "       logged sqft_living  \n",
       "count        21613.000000  \n",
       "mean             7.550335  \n",
       "std              0.424807  \n",
       "min              5.669881  \n",
       "25%              7.263330  \n",
       "50%              7.554859  \n",
       "75%              7.843849  \n",
       "max              9.513404  \n",
       "\n",
       "[8 rows x 22 columns]"
      ]
     },
     "execution_count": 78,
     "metadata": {},
     "output_type": "execute_result"
    }
   ],
   "source": [
    "dataset.describe()"
   ]
  },
  {
   "cell_type": "markdown",
   "id": "06986a08",
   "metadata": {},
   "source": [
    "# => Creating plots for our hypothesis variables :-"
   ]
  },
  {
   "cell_type": "markdown",
   "id": "dfac2746",
   "metadata": {},
   "source": [
    "**Checking wheteher target variable (price) is dependent on features ('bedrooms', 'bathrooms', 'sqft_living','floors', 'condition', 'grade', 'yr_renovated') or not**\n"
   ]
  },
  {
   "cell_type": "code",
   "execution_count": 79,
   "id": "a04c0dcd",
   "metadata": {},
   "outputs": [
    {
     "data": {
      "image/png": "[encoded data removed]",
      "text/plain": [
       "<Figure size 432x288 with 1 Axes>"
      ]
     },
     "metadata": {
      "needs_background": "light"
     },
     "output_type": "display_data"
    }
   ],
   "source": [
    "\n",
    "\n",
    "plt.scatter(dataset['sqft_living'], dataset['price'])\n",
    "plt.xlabel('sqft_living', fontsize=14)\n",
    "plt.ylabel('Price', fontsize=14)\n",
    "plt.show()"
   ]
  },
  {
   "cell_type": "code",
   "execution_count": 80,
   "id": "4322bf00",
   "metadata": {},
   "outputs": [
    {
     "data": {
      "image/png": "[encoded data removed]",
      "text/plain": [
       "<Figure size 432x288 with 1 Axes>"
      ]
     },
     "metadata": {
      "needs_background": "light"
     },
     "output_type": "display_data"
    }
   ],
   "source": [
    "\n",
    "plt.bar(dataset['floors'], dataset['price'])\n",
    "plt.xlabel('Floors', fontsize=14)\n",
    "plt.ylabel('Price', fontsize=14)\n",
    "plt.show()"
   ]
  },
  {
   "cell_type": "code",
   "execution_count": 81,
   "id": "e6ff1bb7",
   "metadata": {},
   "outputs": [
    {
     "data": {
      "image/png": "[encoded data removed]",
      "text/plain": [
       "<Figure size 432x288 with 1 Axes>"
      ]
     },
     "metadata": {
      "needs_background": "light"
     },
     "output_type": "display_data"
    }
   ],
   "source": [
    "plt.bar(dataset['bedrooms'], dataset['price'])\n",
    "plt.xlabel('Bedrooms', fontsize=14)\n",
    "plt.ylabel('Price', fontsize=14)\n",
    "plt.show()"
   ]
  },
  {
   "cell_type": "code",
   "execution_count": 82,
   "id": "56efffb2",
   "metadata": {},
   "outputs": [
    {
     "data": {
      "image/png": "[encoded data removed]",
      "text/plain": [
       "<Figure size 432x288 with 1 Axes>"
      ]
     },
     "metadata": {
      "needs_background": "light"
     },
     "output_type": "display_data"
    }
   ],
   "source": [
    "plt.bar(dataset['condition'], dataset['price'])\n",
    "plt.xlabel('Condition', fontsize=14)\n",
    "plt.ylabel('Price', fontsize=14)\n",
    "plt.show()"
   ]
  },
  {
   "cell_type": "code",
   "execution_count": 83,
   "id": "46fe4d1a",
   "metadata": {},
   "outputs": [
    {
     "data": {
      "image/png": "[encoded data removed]",
      "text/plain": [
       "<Figure size 432x288 with 1 Axes>"
      ]
     },
     "metadata": {
      "needs_background": "light"
     },
     "output_type": "display_data"
    }
   ],
   "source": [
    "plt.bar(dataset['grade'], dataset['price'])\n",
    "plt.xlabel('Grade', fontsize=14)\n",
    "plt.ylabel('Price', fontsize=14)\n",
    "plt.show()"
   ]
  },
  {
   "cell_type": "code",
   "execution_count": 84,
   "id": "f4439b2b",
   "metadata": {},
   "outputs": [
    {
     "data": {
      "image/png": "[encoded data removed]",
      "text/plain": [
       "<Figure size 432x288 with 1 Axes>"
      ]
     },
     "metadata": {
      "needs_background": "light"
     },
     "output_type": "display_data"
    }
   ],
   "source": [
    "plt.bar(dataset['yr_renovated'], dataset['price'])\n",
    "plt.xlabel('Year_Renovated', fontsize=14)\n",
    "plt.ylabel('Price', fontsize=14)\n",
    "plt.show()"
   ]
  },
  {
   "cell_type": "markdown",
   "id": "5151d6ca",
   "metadata": {},
   "source": [
    "# => Creating Correlation Matrix :-\n"
   ]
  },
  {
   "cell_type": "markdown",
   "id": "88f9ad2f",
   "metadata": {},
   "source": [
    "It will give us the better understanding of how each feature is related to target variable"
   ]
  },
  {
   "cell_type": "code",
   "execution_count": 85,
   "id": "0db18f1e",
   "metadata": {},
   "outputs": [
    {
     "name": "stdout",
     "output_type": "stream",
     "text": [
      "                          id     price  bedrooms  bathrooms  sqft_living  \\\n",
      "id                  1.000000 -0.016762  0.001286   0.005160    -0.012258   \n",
      "price              -0.016762  1.000000  0.308350   0.525138     0.702035   \n",
      "bedrooms            0.001286  0.308350  1.000000   0.515884     0.576671   \n",
      "bathrooms           0.005160  0.525138  0.515884   1.000000     0.754665   \n",
      "sqft_living        -0.012258  0.702035  0.576671   0.754665     1.000000   \n",
      "sqft_lot           -0.132109  0.089661  0.031703   0.087740     0.172826   \n",
      "floors              0.018525  0.256794  0.175429   0.500653     0.353949   \n",
      "waterfront         -0.002721  0.266369 -0.006582   0.063744     0.103818   \n",
      "view                0.011592  0.397293  0.079532   0.187737     0.284611   \n",
      "condition          -0.023783  0.036362  0.028472  -0.124982    -0.058753   \n",
      "grade               0.008130  0.667434  0.356967   0.664983     0.762704   \n",
      "sqft_above         -0.010842  0.605567  0.477600   0.685342     0.876597   \n",
      "sqft_basement      -0.005151  0.323816  0.303093   0.283770     0.435043   \n",
      "yr_built            0.021380  0.054012  0.154178   0.506019     0.318049   \n",
      "yr_renovated       -0.016907  0.126434  0.018841   0.050739     0.055363   \n",
      "zipcode            -0.008224 -0.053203 -0.152668  -0.203866    -0.199430   \n",
      "lat                -0.001891  0.307003 -0.008931   0.024573     0.052529   \n",
      "long                0.020799  0.021626  0.129473   0.223042     0.240223   \n",
      "sqft_living15      -0.002901  0.585379  0.391638   0.568634     0.756420   \n",
      "sqft_lot15         -0.138798  0.082447  0.029244   0.087175     0.183286   \n",
      "logged price       -0.005564  0.894627  0.349680   0.549958     0.694044   \n",
      "logged sqft_living -0.001810  0.611704  0.620864   0.761304     0.954322   \n",
      "\n",
      "                    sqft_lot    floors  waterfront      view  condition  ...  \\\n",
      "id                 -0.132109  0.018525   -0.002721  0.011592  -0.023783  ...   \n",
      "price               0.089661  0.256794    0.266369  0.397293   0.036362  ...   \n",
      "bedrooms            0.031703  0.175429   -0.006582  0.079532   0.028472  ...   \n",
      "bathrooms           0.087740  0.500653    0.063744  0.187737  -0.124982  ...   \n",
      "sqft_living         0.172826  0.353949    0.103818  0.284611  -0.058753  ...   \n",
      "sqft_lot            1.000000 -0.005201    0.021604  0.074710  -0.008958  ...   \n",
      "floors             -0.005201  1.000000    0.023698  0.029444  -0.263768  ...   \n",
      "waterfront          0.021604  0.023698    1.000000  0.401857   0.016653  ...   \n",
      "view                0.074710  0.029444    0.401857  1.000000   0.045990  ...   \n",
      "condition          -0.008958 -0.263768    0.016653  0.045990   1.000000  ...   \n",
      "grade               0.113621  0.458183    0.082775  0.251321  -0.144674  ...   \n",
      "sqft_above          0.183512  0.523885    0.072075  0.167649  -0.158214  ...   \n",
      "sqft_basement       0.015286 -0.245705    0.080588  0.276947   0.174105  ...   \n",
      "yr_built            0.053080  0.489319   -0.026161 -0.053440  -0.361417  ...   \n",
      "yr_renovated        0.007644  0.006338    0.092885  0.103917  -0.060618  ...   \n",
      "zipcode            -0.129574 -0.059121    0.030285  0.084827   0.003026  ...   \n",
      "lat                -0.085683  0.049614   -0.014274  0.006157  -0.014941  ...   \n",
      "long                0.229521  0.125419   -0.041910 -0.078400  -0.106500  ...   \n",
      "sqft_living15       0.144608  0.279885    0.086463  0.280439  -0.092824  ...   \n",
      "sqft_lot15          0.718557 -0.011269    0.030703  0.072575  -0.003406  ...   \n",
      "logged price        0.104082  0.309431    0.183876  0.350607   0.046330  ...   \n",
      "logged sqft_living  0.148859  0.367569    0.079306  0.246712  -0.048143  ...   \n",
      "\n",
      "                    sqft_basement  yr_built  yr_renovated   zipcode       lat  \\\n",
      "id                      -0.005151  0.021380     -0.016907 -0.008224 -0.001891   \n",
      "price                    0.323816  0.054012      0.126434 -0.053203  0.307003   \n",
      "bedrooms                 0.303093  0.154178      0.018841 -0.152668 -0.008931   \n",
      "bathrooms                0.283770  0.506019      0.050739 -0.203866  0.024573   \n",
      "sqft_living              0.435043  0.318049      0.055363 -0.199430  0.052529   \n",
      "sqft_lot                 0.015286  0.053080      0.007644 -0.129574 -0.085683   \n",
      "floors                  -0.245705  0.489319      0.006338 -0.059121  0.049614   \n",
      "waterfront               0.080588 -0.026161      0.092885  0.030285 -0.014274   \n",
      "view                     0.276947 -0.053440      0.103917  0.084827  0.006157   \n",
      "condition                0.174105 -0.361417     -0.060618  0.003026 -0.014941   \n",
      "grade                    0.168392  0.446963      0.014414 -0.184862  0.114084   \n",
      "sqft_above              -0.051943  0.423898      0.023285 -0.261190 -0.000816   \n",
      "sqft_basement            1.000000 -0.133124      0.071323  0.074845  0.110538   \n",
      "yr_built                -0.133124  1.000000     -0.224874 -0.346869 -0.148122   \n",
      "yr_renovated             0.071323 -0.224874      1.000000  0.064357  0.029398   \n",
      "zipcode                  0.074845 -0.346869      0.064357  1.000000  0.267048   \n",
      "lat                      0.110538 -0.148122      0.029398  0.267048  1.000000   \n",
      "long                    -0.144765  0.409356     -0.068372 -0.564072 -0.135512   \n",
      "sqft_living15            0.200355  0.326229     -0.002673 -0.279033  0.048858   \n",
      "sqft_lot15               0.017276  0.070958      0.007854 -0.147221 -0.086419   \n",
      "logged price             0.319694  0.080164      0.112886 -0.031555  0.446489   \n",
      "logged sqft_living       0.423147  0.349296      0.051089 -0.221298  0.039376   \n",
      "\n",
      "                        long  sqft_living15  sqft_lot15  logged price  \\\n",
      "id                  0.020799      -0.002901   -0.138798     -0.005564   \n",
      "price               0.021626       0.585379    0.082447      0.894627   \n",
      "bedrooms            0.129473       0.391638    0.029244      0.349680   \n",
      "bathrooms           0.223042       0.568634    0.087175      0.549958   \n",
      "sqft_living         0.240223       0.756420    0.183286      0.694044   \n",
      "sqft_lot            0.229521       0.144608    0.718557      0.104082   \n",
      "floors              0.125419       0.279885   -0.011269      0.309431   \n",
      "waterfront         -0.041910       0.086463    0.030703      0.183876   \n",
      "view               -0.078400       0.280439    0.072575      0.350607   \n",
      "condition          -0.106500      -0.092824   -0.003406      0.046330   \n",
      "grade               0.198372       0.713202    0.119248      0.700612   \n",
      "sqft_above          0.343803       0.731870    0.194050      0.600244   \n",
      "sqft_basement      -0.144765       0.200355    0.017276      0.319694   \n",
      "yr_built            0.409356       0.326229    0.070958      0.080164   \n",
      "yr_renovated       -0.068372      -0.002673    0.007854      0.112886   \n",
      "zipcode            -0.564072      -0.279033   -0.147221     -0.031555   \n",
      "lat                -0.135512       0.048858   -0.086419      0.446489   \n",
      "long                1.000000       0.334605    0.254451      0.050202   \n",
      "sqft_living15       0.334605       1.000000    0.183192      0.617884   \n",
      "sqft_lot15          0.254451       0.183192    1.000000      0.092413   \n",
      "logged price        0.050202       0.617884    0.092413      1.000000   \n",
      "logged sqft_living  0.255496       0.736531    0.160884      0.673939   \n",
      "\n",
      "                    logged sqft_living  \n",
      "id                           -0.001810  \n",
      "price                         0.611704  \n",
      "bedrooms                      0.620864  \n",
      "bathrooms                     0.761304  \n",
      "sqft_living                   0.954322  \n",
      "sqft_lot                      0.148859  \n",
      "floors                        0.367569  \n",
      "waterfront                    0.079306  \n",
      "view                          0.246712  \n",
      "condition                    -0.048143  \n",
      "grade                         0.743686  \n",
      "sqft_above                    0.832293  \n",
      "sqft_basement                 0.423147  \n",
      "yr_built                      0.349296  \n",
      "yr_renovated                  0.051089  \n",
      "zipcode                      -0.221298  \n",
      "lat                           0.039376  \n",
      "long                          0.255496  \n",
      "sqft_living15                 0.736531  \n",
      "sqft_lot15                    0.160884  \n",
      "logged price                  0.673939  \n",
      "logged sqft_living            1.000000  \n",
      "\n",
      "[22 rows x 22 columns]\n"
     ]
    },
    {
     "data": {
      "text/html": [
       "<style type=\"text/css\">\n",
       "#T_1942f_row0_col0, #T_1942f_row1_col1, #T_1942f_row2_col2, #T_1942f_row3_col3, #T_1942f_row4_col4, #T_1942f_row5_col5, #T_1942f_row6_col6, #T_1942f_row7_col7, #T_1942f_row8_col8, #T_1942f_row9_col9, #T_1942f_row10_col10, #T_1942f_row11_col11, #T_1942f_row12_col12, #T_1942f_row13_col13, #T_1942f_row14_col14, #T_1942f_row15_col15, #T_1942f_row16_col16, #T_1942f_row17_col17, #T_1942f_row18_col18, #T_1942f_row19_col19, #T_1942f_row20_col20, #T_1942f_row21_col21 {\n",
       "  background-color: #006837;\n",
       "  color: #f1f1f1;\n",
       "}\n",
       "#T_1942f_row0_col1, #T_1942f_row2_col7, #T_1942f_row9_col10 {\n",
       "  background-color: #b50f26;\n",
       "  color: #f1f1f1;\n",
       "}\n",
       "#T_1942f_row0_col2, #T_1942f_row5_col1, #T_1942f_row7_col5, #T_1942f_row8_col16, #T_1942f_row9_col14, #T_1942f_row14_col19 {\n",
       "  background-color: #e14430;\n",
       "  color: #f1f1f1;\n",
       "}\n",
       "#T_1942f_row0_col3, #T_1942f_row3_col9, #T_1942f_row4_col16, #T_1942f_row6_col16 {\n",
       "  background-color: #ec5c3b;\n",
       "  color: #f1f1f1;\n",
       "}\n",
       "#T_1942f_row0_col4, #T_1942f_row2_col19, #T_1942f_row7_col19, #T_1942f_row11_col12, #T_1942f_row14_col16 {\n",
       "  background-color: #e65036;\n",
       "  color: #f1f1f1;\n",
       "}\n",
       "#T_1942f_row0_col5, #T_1942f_row6_col12, #T_1942f_row9_col6, #T_1942f_row9_col13, #T_1942f_row13_col9, #T_1942f_row13_col14, #T_1942f_row13_col16, #T_1942f_row15_col1, #T_1942f_row15_col2, #T_1942f_row15_col3, #T_1942f_row15_col4, #T_1942f_row15_col5, #T_1942f_row15_col10, #T_1942f_row15_col11, #T_1942f_row15_col17, #T_1942f_row15_col18, #T_1942f_row15_col19, #T_1942f_row15_col20, #T_1942f_row15_col21, #T_1942f_row17_col7, #T_1942f_row17_col8, #T_1942f_row17_col15, #T_1942f_row19_col0 {\n",
       "  background-color: #a50026;\n",
       "  color: #f1f1f1;\n",
       "}\n",
       "#T_1942f_row0_col6, #T_1942f_row3_col14, #T_1942f_row7_col10, #T_1942f_row8_col13, #T_1942f_row12_col16, #T_1942f_row14_col11, #T_1942f_row14_col21, #T_1942f_row21_col14 {\n",
       "  background-color: #f67c4a;\n",
       "  color: #f1f1f1;\n",
       "}\n",
       "#T_1942f_row0_col7 {\n",
       "  background-color: #b71126;\n",
       "  color: #f1f1f1;\n",
       "}\n",
       "#T_1942f_row0_col8, #T_1942f_row9_col1 {\n",
       "  background-color: #ce2827;\n",
       "  color: #f1f1f1;\n",
       "}\n",
       "#T_1942f_row0_col9, #T_1942f_row3_col8, #T_1942f_row7_col13, #T_1942f_row7_col21, #T_1942f_row16_col6, #T_1942f_row21_col5 {\n",
       "  background-color: #f88c51;\n",
       "  color: #f1f1f1;\n",
       "}\n",
       "#T_1942f_row0_col10, #T_1942f_row13_col5, #T_1942f_row15_col6, #T_1942f_row21_col16 {\n",
       "  background-color: #e95538;\n",
       "  color: #f1f1f1;\n",
       "}\n",
       "#T_1942f_row0_col11, #T_1942f_row1_col5, #T_1942f_row2_col14, #T_1942f_row10_col14, #T_1942f_row18_col9 {\n",
       "  background-color: #f36b42;\n",
       "  color: #f1f1f1;\n",
       "}\n",
       "#T_1942f_row0_col12, #T_1942f_row3_col5, #T_1942f_row8_col19, #T_1942f_row11_col15 {\n",
       "  background-color: #f26841;\n",
       "  color: #f1f1f1;\n",
       "}\n",
       "#T_1942f_row0_col13, #T_1942f_row5_col15, #T_1942f_row7_col9, #T_1942f_row11_col5 {\n",
       "  background-color: #fba05b;\n",
       "  color: #000000;\n",
       "}\n",
       "#T_1942f_row0_col14, #T_1942f_row14_col1, #T_1942f_row14_col8, #T_1942f_row14_col10, #T_1942f_row18_col16 {\n",
       "  background-color: #eb5a3a;\n",
       "  color: #f1f1f1;\n",
       "}\n",
       "#T_1942f_row0_col15, #T_1942f_row5_col11, #T_1942f_row17_col3 {\n",
       "  background-color: #fec877;\n",
       "  color: #000000;\n",
       "}\n",
       "#T_1942f_row0_col16, #T_1942f_row3_col0, #T_1942f_row7_col2, #T_1942f_row9_col19, #T_1942f_row11_col16, #T_1942f_row17_col14, #T_1942f_row19_col1 {\n",
       "  background-color: #de402e;\n",
       "  color: #f1f1f1;\n",
       "}\n",
       "#T_1942f_row0_col17, #T_1942f_row1_col17, #T_1942f_row12_col18 {\n",
       "  background-color: #fed27f;\n",
       "  color: #000000;\n",
       "}\n",
       "#T_1942f_row0_col18, #T_1942f_row10_col5, #T_1942f_row14_col18, #T_1942f_row20_col7 {\n",
       "  background-color: #f57748;\n",
       "  color: #f1f1f1;\n",
       "}\n",
       "#T_1942f_row0_col19, #T_1942f_row5_col0 {\n",
       "  background-color: #a70226;\n",
       "  color: #f1f1f1;\n",
       "}\n",
       "#T_1942f_row0_col20, #T_1942f_row16_col7 {\n",
       "  background-color: #b10b26;\n",
       "  color: #f1f1f1;\n",
       "}\n",
       "#T_1942f_row0_col21, #T_1942f_row8_col5, #T_1942f_row18_col14, #T_1942f_row18_col15 {\n",
       "  background-color: #ee613e;\n",
       "  color: #f1f1f1;\n",
       "}\n",
       "#T_1942f_row1_col0, #T_1942f_row9_col5, #T_1942f_row13_col20, #T_1942f_row14_col0 {\n",
       "  background-color: #d93429;\n",
       "  color: #f1f1f1;\n",
       "}\n",
       "#T_1942f_row1_col2, #T_1942f_row14_col15 {\n",
       "  background-color: #fee08b;\n",
       "  color: #000000;\n",
       "}\n",
       "#T_1942f_row1_col3, #T_1942f_row18_col1 {\n",
       "  background-color: #d5ed88;\n",
       "  color: #000000;\n",
       "}\n",
       "#T_1942f_row1_col4, #T_1942f_row3_col11, #T_1942f_row19_col5 {\n",
       "  background-color: #84ca66;\n",
       "  color: #000000;\n",
       "}\n",
       "#T_1942f_row1_col6 {\n",
       "  background-color: #fee491;\n",
       "  color: #000000;\n",
       "}\n",
       "#T_1942f_row1_col7, #T_1942f_row6_col1 {\n",
       "  background-color: #fcaa5f;\n",
       "  color: #000000;\n",
       "}\n",
       "#T_1942f_row1_col8, #T_1942f_row2_col12, #T_1942f_row6_col17 {\n",
       "  background-color: #feec9f;\n",
       "  color: #000000;\n",
       "}\n",
       "#T_1942f_row1_col9, #T_1942f_row9_col17 {\n",
       "  background-color: #fca85e;\n",
       "  color: #000000;\n",
       "}\n",
       "#T_1942f_row1_col10, #T_1942f_row10_col3 {\n",
       "  background-color: #98d368;\n",
       "  color: #000000;\n",
       "}\n",
       "#T_1942f_row1_col11, #T_1942f_row10_col1, #T_1942f_row21_col20 {\n",
       "  background-color: #addc6f;\n",
       "  color: #000000;\n",
       "}\n",
       "#T_1942f_row1_col12, #T_1942f_row2_col10 {\n",
       "  background-color: #fff2aa;\n",
       "  color: #000000;\n",
       "}\n",
       "#T_1942f_row1_col13, #T_1942f_row10_col8, #T_1942f_row17_col6 {\n",
       "  background-color: #fdb163;\n",
       "  color: #000000;\n",
       "}\n",
       "#T_1942f_row1_col14, #T_1942f_row2_col9, #T_1942f_row4_col19, #T_1942f_row7_col18, #T_1942f_row16_col12, #T_1942f_row18_col19 {\n",
       "  background-color: #fca55d;\n",
       "  color: #000000;\n",
       "}\n",
       "#T_1942f_row1_col15, #T_1942f_row8_col3, #T_1942f_row20_col13 {\n",
       "  background-color: #fdbb6c;\n",
       "  color: #000000;\n",
       "}\n",
       "#T_1942f_row1_col16, #T_1942f_row12_col2, #T_1942f_row20_col8 {\n",
       "  background-color: #fede89;\n",
       "  color: #000000;\n",
       "}\n",
       "#T_1942f_row1_col18 {\n",
       "  background-color: #b1de71;\n",
       "  color: #000000;\n",
       "}\n",
       "#T_1942f_row1_col19, #T_1942f_row8_col2, #T_1942f_row11_col14, #T_1942f_row19_col6 {\n",
       "  background-color: #f46d43;\n",
       "  color: #f1f1f1;\n",
       "}\n",
       "#T_1942f_row1_col20, #T_1942f_row11_col4 {\n",
       "  background-color: #1b9950;\n",
       "  color: #f1f1f1;\n",
       "}\n",
       "#T_1942f_row1_col21, #T_1942f_row20_col11 {\n",
       "  background-color: #afdd70;\n",
       "  color: #000000;\n",
       "}\n",
       "#T_1942f_row2_col0, #T_1942f_row2_col16, #T_1942f_row14_col5, #T_1942f_row16_col2, #T_1942f_row18_col7 {\n",
       "  background-color: #dd3d2d;\n",
       "  color: #f1f1f1;\n",
       "}\n",
       "#T_1942f_row2_col1, #T_1942f_row8_col11, #T_1942f_row12_col20, #T_1942f_row16_col1, #T_1942f_row20_col15 {\n",
       "  background-color: #fdc372;\n",
       "  color: #000000;\n",
       "}\n",
       "#T_1942f_row2_col3 {\n",
       "  background-color: #d9ef8b;\n",
       "  color: #000000;\n",
       "}\n",
       "#T_1942f_row2_col4 {\n",
       "  background-color: #c1e57b;\n",
       "  color: #000000;\n",
       "}\n",
       "#T_1942f_row2_col5, #T_1942f_row2_col8, #T_1942f_row9_col18 {\n",
       "  background-color: #e44c34;\n",
       "  color: #f1f1f1;\n",
       "}\n",
       "#T_1942f_row2_col6 {\n",
       "  background-color: #fdc574;\n",
       "  color: #000000;\n",
       "}\n",
       "#T_1942f_row2_col11, #T_1942f_row6_col3 {\n",
       "  background-color: #dff293;\n",
       "  color: #000000;\n",
       "}\n",
       "#T_1942f_row2_col13 {\n",
       "  background-color: #fed481;\n",
       "  color: #000000;\n",
       "}\n",
       "#T_1942f_row2_col15, #T_1942f_row7_col11, #T_1942f_row7_col12, #T_1942f_row19_col9 {\n",
       "  background-color: #fa9656;\n",
       "  color: #000000;\n",
       "}\n",
       "#T_1942f_row2_col17, #T_1942f_row10_col2 {\n",
       "  background-color: #feeda1;\n",
       "  color: #000000;\n",
       "}\n",
       "#T_1942f_row2_col18, #T_1942f_row21_col17 {\n",
       "  background-color: #f5fbb2;\n",
       "  color: #000000;\n",
       "}\n",
       "#T_1942f_row2_col20, #T_1942f_row8_col10, #T_1942f_row8_col20 {\n",
       "  background-color: #fed07e;\n",
       "  color: #000000;\n",
       "}\n",
       "#T_1942f_row2_col21 {\n",
       "  background-color: #abdb6d;\n",
       "  color: #000000;\n",
       "}\n",
       "#T_1942f_row3_col1 {\n",
       "  background-color: #ecf7a6;\n",
       "  color: #000000;\n",
       "}\n",
       "#T_1942f_row3_col2, #T_1942f_row11_col17 {\n",
       "  background-color: #e0f295;\n",
       "  color: #000000;\n",
       "}\n",
       "#T_1942f_row3_col4, #T_1942f_row4_col3, #T_1942f_row11_col10, #T_1942f_row21_col18 {\n",
       "  background-color: #69be63;\n",
       "  color: #f1f1f1;\n",
       "}\n",
       "#T_1942f_row3_col6 {\n",
       "  background-color: #d7ee8a;\n",
       "  color: #000000;\n",
       "}\n",
       "#T_1942f_row3_col7, #T_1942f_row6_col8, #T_1942f_row9_col0, #T_1942f_row14_col13 {\n",
       "  background-color: #d62f27;\n",
       "  color: #f1f1f1;\n",
       "}\n",
       "#T_1942f_row3_col10, #T_1942f_row4_col1 {\n",
       "  background-color: #9bd469;\n",
       "  color: #000000;\n",
       "}\n",
       "#T_1942f_row3_col12 {\n",
       "  background-color: #fee797;\n",
       "  color: #000000;\n",
       "}\n",
       "#T_1942f_row3_col13 {\n",
       "  background-color: #c5e67e;\n",
       "  color: #000000;\n",
       "}\n",
       "#T_1942f_row3_col15, #T_1942f_row4_col14, #T_1942f_row7_col6, #T_1942f_row10_col16, #T_1942f_row11_col8, #T_1942f_row21_col9 {\n",
       "  background-color: #f67f4b;\n",
       "  color: #f1f1f1;\n",
       "}\n",
       "#T_1942f_row3_col16, #T_1942f_row11_col9, #T_1942f_row14_col2, #T_1942f_row15_col8 {\n",
       "  background-color: #e54e35;\n",
       "  color: #f1f1f1;\n",
       "}\n",
       "#T_1942f_row3_col17 {\n",
       "  background-color: #feffbe;\n",
       "  color: #000000;\n",
       "}\n",
       "#T_1942f_row3_col18 {\n",
       "  background-color: #b9e176;\n",
       "  color: #000000;\n",
       "}\n",
       "#T_1942f_row3_col19, #T_1942f_row5_col6, #T_1942f_row16_col11 {\n",
       "  background-color: #f47044;\n",
       "  color: #f1f1f1;\n",
       "}\n",
       "#T_1942f_row3_col20, #T_1942f_row17_col13 {\n",
       "  background-color: #e6f59d;\n",
       "  color: #000000;\n",
       "}\n",
       "#T_1942f_row3_col21, #T_1942f_row10_col4, #T_1942f_row21_col3 {\n",
       "  background-color: #63bc62;\n",
       "  color: #f1f1f1;\n",
       "}\n",
       "#T_1942f_row4_col0, #T_1942f_row6_col5, #T_1942f_row11_col0, #T_1942f_row11_col7 {\n",
       "  background-color: #da362a;\n",
       "  color: #f1f1f1;\n",
       "}\n",
       "#T_1942f_row4_col2, #T_1942f_row18_col20, #T_1942f_row21_col1 {\n",
       "  background-color: #c9e881;\n",
       "  color: #000000;\n",
       "}\n",
       "#T_1942f_row4_col5, #T_1942f_row8_col14, #T_1942f_row12_col17, #T_1942f_row13_col2, #T_1942f_row15_col9, #T_1942f_row19_col15, #T_1942f_row21_col19 {\n",
       "  background-color: #fa9857;\n",
       "  color: #000000;\n",
       "}\n",
       "#T_1942f_row4_col6 {\n",
       "  background-color: #fffcba;\n",
       "  color: #000000;\n",
       "}\n",
       "#T_1942f_row4_col7, #T_1942f_row6_col0, #T_1942f_row13_col15, #T_1942f_row14_col20, #T_1942f_row17_col0, #T_1942f_row19_col8 {\n",
       "  background-color: #e24731;\n",
       "  color: #f1f1f1;\n",
       "}\n",
       "#T_1942f_row4_col8, #T_1942f_row9_col12 {\n",
       "  background-color: #fdc171;\n",
       "  color: #000000;\n",
       "}\n",
       "#T_1942f_row4_col9, #T_1942f_row7_col3, #T_1942f_row14_col9, #T_1942f_row21_col15 {\n",
       "  background-color: #f67a49;\n",
       "  color: #f1f1f1;\n",
       "}\n",
       "#T_1942f_row4_col10, #T_1942f_row18_col4 {\n",
       "  background-color: #66bd63;\n",
       "  color: #f1f1f1;\n",
       "}\n",
       "#T_1942f_row4_col11, #T_1942f_row20_col1 {\n",
       "  background-color: #199750;\n",
       "  color: #f1f1f1;\n",
       "}\n",
       "#T_1942f_row4_col12, #T_1942f_row11_col2, #T_1942f_row13_col11 {\n",
       "  background-color: #eef8a8;\n",
       "  color: #000000;\n",
       "}\n",
       "#T_1942f_row4_col13, #T_1942f_row21_col6 {\n",
       "  background-color: #fffebe;\n",
       "  color: #000000;\n",
       "}\n",
       "#T_1942f_row4_col15, #T_1942f_row8_col6, #T_1942f_row10_col19 {\n",
       "  background-color: #f7814c;\n",
       "  color: #f1f1f1;\n",
       "}\n",
       "#T_1942f_row4_col17 {\n",
       "  background-color: #fafdb8;\n",
       "  color: #000000;\n",
       "}\n",
       "#T_1942f_row4_col18 {\n",
       "  background-color: #5db961;\n",
       "  color: #f1f1f1;\n",
       "}\n",
       "#T_1942f_row4_col20 {\n",
       "  background-color: #a2d76a;\n",
       "  color: #000000;\n",
       "}\n",
       "#T_1942f_row4_col21, #T_1942f_row21_col4 {\n",
       "  background-color: #097940;\n",
       "  color: #f1f1f1;\n",
       "}\n",
       "#T_1942f_row5_col2, #T_1942f_row9_col2, #T_1942f_row10_col9, #T_1942f_row16_col13, #T_1942f_row19_col2 {\n",
       "  background-color: #e75337;\n",
       "  color: #f1f1f1;\n",
       "}\n",
       "#T_1942f_row5_col3, #T_1942f_row10_col15, #T_1942f_row17_col2, #T_1942f_row18_col5 {\n",
       "  background-color: #f88950;\n",
       "  color: #f1f1f1;\n",
       "}\n",
       "#T_1942f_row5_col4, #T_1942f_row8_col17 {\n",
       "  background-color: #fdb365;\n",
       "  color: #000000;\n",
       "}\n",
       "#T_1942f_row5_col7 {\n",
       "  background-color: #c21c27;\n",
       "  color: #f1f1f1;\n",
       "}\n",
       "#T_1942f_row5_col8, #T_1942f_row9_col21, #T_1942f_row12_col19, #T_1942f_row13_col0 {\n",
       "  background-color: #e34933;\n",
       "  color: #f1f1f1;\n",
       "}\n",
       "#T_1942f_row5_col9, #T_1942f_row7_col14 {\n",
       "  background-color: #f99355;\n",
       "  color: #000000;\n",
       "}\n",
       "#T_1942f_row5_col10, #T_1942f_row7_col4, #T_1942f_row16_col10 {\n",
       "  background-color: #f98e52;\n",
       "  color: #f1f1f1;\n",
       "}\n",
       "#T_1942f_row5_col12, #T_1942f_row7_col20, #T_1942f_row16_col4, #T_1942f_row16_col14, #T_1942f_row20_col5, #T_1942f_row20_col19 {\n",
       "  background-color: #f57245;\n",
       "  color: #f1f1f1;\n",
       "}\n",
       "#T_1942f_row5_col13, #T_1942f_row5_col21, #T_1942f_row7_col1, #T_1942f_row21_col8 {\n",
       "  background-color: #fdaf62;\n",
       "  color: #000000;\n",
       "}\n",
       "#T_1942f_row5_col14, #T_1942f_row6_col14, #T_1942f_row13_col19, #T_1942f_row16_col3, #T_1942f_row19_col14 {\n",
       "  background-color: #f16640;\n",
       "  color: #f1f1f1;\n",
       "}\n",
       "#T_1942f_row5_col16, #T_1942f_row16_col19, #T_1942f_row19_col16 {\n",
       "  background-color: #be1827;\n",
       "  color: #f1f1f1;\n",
       "}\n",
       "#T_1942f_row5_col17, #T_1942f_row18_col13 {\n",
       "  background-color: #fdfebc;\n",
       "  color: #000000;\n",
       "}\n",
       "#T_1942f_row5_col18, #T_1942f_row6_col20, #T_1942f_row12_col8 {\n",
       "  background-color: #fdbd6d;\n",
       "  color: #000000;\n",
       "}\n",
       "#T_1942f_row5_col19 {\n",
       "  background-color: #82c966;\n",
       "  color: #000000;\n",
       "}\n",
       "#T_1942f_row5_col20, #T_1942f_row8_col0, #T_1942f_row10_col0, #T_1942f_row12_col5, #T_1942f_row14_col7 {\n",
       "  background-color: #e0422f;\n",
       "  color: #f1f1f1;\n",
       "}\n",
       "#T_1942f_row6_col2 {\n",
       "  background-color: #fba35c;\n",
       "  color: #000000;\n",
       "}\n",
       "#T_1942f_row6_col4, #T_1942f_row16_col20 {\n",
       "  background-color: #fff3ac;\n",
       "  color: #000000;\n",
       "}\n",
       "#T_1942f_row6_col7, #T_1942f_row9_col3 {\n",
       "  background-color: #c41e27;\n",
       "  color: #f1f1f1;\n",
       "}\n",
       "#T_1942f_row6_col9, #T_1942f_row17_col1 {\n",
       "  background-color: #c82227;\n",
       "  color: #f1f1f1;\n",
       "}\n",
       "#T_1942f_row6_col10 {\n",
       "  background-color: #eff8aa;\n",
       "  color: #000000;\n",
       "}\n",
       "#T_1942f_row6_col11, #T_1942f_row6_col13, #T_1942f_row11_col6, #T_1942f_row13_col17 {\n",
       "  background-color: #cdea83;\n",
       "  color: #000000;\n",
       "}\n",
       "#T_1942f_row6_col15, #T_1942f_row17_col10 {\n",
       "  background-color: #fdb96a;\n",
       "  color: #000000;\n",
       "}\n",
       "#T_1942f_row6_col18, #T_1942f_row8_col18, #T_1942f_row20_col2 {\n",
       "  background-color: #feeb9d;\n",
       "  color: #000000;\n",
       "}\n",
       "#T_1942f_row6_col19, #T_1942f_row7_col0, #T_1942f_row9_col4, #T_1942f_row10_col7, #T_1942f_row12_col0, #T_1942f_row12_col7, #T_1942f_row16_col0, #T_1942f_row18_col0, #T_1942f_row19_col20, #T_1942f_row21_col0 {\n",
       "  background-color: #dc3b2c;\n",
       "  color: #f1f1f1;\n",
       "}\n",
       "#T_1942f_row6_col21 {\n",
       "  background-color: #fffab6;\n",
       "  color: #000000;\n",
       "}\n",
       "#T_1942f_row7_col8 {\n",
       "  background-color: #feefa3;\n",
       "  color: #000000;\n",
       "}\n",
       "#T_1942f_row7_col15 {\n",
       "  background-color: #fed683;\n",
       "  color: #000000;\n",
       "}\n",
       "#T_1942f_row7_col16, #T_1942f_row9_col8, #T_1942f_row9_col16, #T_1942f_row15_col0, #T_1942f_row20_col0, #T_1942f_row21_col7 {\n",
       "  background-color: #db382b;\n",
       "  color: #f1f1f1;\n",
       "}\n",
       "#T_1942f_row7_col17, #T_1942f_row10_col12, #T_1942f_row18_col8 {\n",
       "  background-color: #fdbf6f;\n",
       "  color: #000000;\n",
       "}\n",
       "#T_1942f_row8_col1, #T_1942f_row8_col7 {\n",
       "  background-color: #fee999;\n",
       "  color: #000000;\n",
       "}\n",
       "#T_1942f_row8_col4, #T_1942f_row12_col3 {\n",
       "  background-color: #fee18d;\n",
       "  color: #000000;\n",
       "}\n",
       "#T_1942f_row8_col9, #T_1942f_row11_col19, #T_1942f_row12_col10, #T_1942f_row20_col9 {\n",
       "  background-color: #fdad60;\n",
       "  color: #000000;\n",
       "}\n",
       "#T_1942f_row8_col12 {\n",
       "  background-color: #fee695;\n",
       "  color: #000000;\n",
       "}\n",
       "#T_1942f_row8_col15 {\n",
       "  background-color: #fee593;\n",
       "  color: #000000;\n",
       "}\n",
       "#T_1942f_row8_col21 {\n",
       "  background-color: #fed884;\n",
       "  color: #000000;\n",
       "}\n",
       "#T_1942f_row9_col7 {\n",
       "  background-color: #c01a27;\n",
       "  color: #f1f1f1;\n",
       "}\n",
       "#T_1942f_row9_col11, #T_1942f_row16_col8, #T_1942f_row17_col12, #T_1942f_row17_col20 {\n",
       "  background-color: #cc2627;\n",
       "  color: #f1f1f1;\n",
       "}\n",
       "#T_1942f_row9_col15, #T_1942f_row15_col16, #T_1942f_row19_col11, #T_1942f_row19_col18 {\n",
       "  background-color: #fecc7b;\n",
       "  color: #000000;\n",
       "}\n",
       "#T_1942f_row9_col20 {\n",
       "  background-color: #ca2427;\n",
       "  color: #f1f1f1;\n",
       "}\n",
       "#T_1942f_row10_col6 {\n",
       "  background-color: #e3f399;\n",
       "  color: #000000;\n",
       "}\n",
       "#T_1942f_row10_col11 {\n",
       "  background-color: #60ba62;\n",
       "  color: #f1f1f1;\n",
       "}\n",
       "#T_1942f_row10_col13, #T_1942f_row13_col6 {\n",
       "  background-color: #daf08d;\n",
       "  color: #000000;\n",
       "}\n",
       "#T_1942f_row10_col17 {\n",
       "  background-color: #fffbb8;\n",
       "  color: #000000;\n",
       "}\n",
       "#T_1942f_row10_col18 {\n",
       "  background-color: #75c465;\n",
       "  color: #000000;\n",
       "}\n",
       "#T_1942f_row10_col20 {\n",
       "  background-color: #a0d669;\n",
       "  color: #000000;\n",
       "}\n",
       "#T_1942f_row10_col21, #T_1942f_row11_col18 {\n",
       "  background-color: #6bbf64;\n",
       "  color: #000000;\n",
       "}\n",
       "#T_1942f_row11_col1, #T_1942f_row20_col3 {\n",
       "  background-color: #cbe982;\n",
       "  color: #000000;\n",
       "}\n",
       "#T_1942f_row11_col3 {\n",
       "  background-color: #8ccd67;\n",
       "  color: #000000;\n",
       "}\n",
       "#T_1942f_row11_col13, #T_1942f_row18_col17 {\n",
       "  background-color: #e2f397;\n",
       "  color: #000000;\n",
       "}\n",
       "#T_1942f_row11_col20 {\n",
       "  background-color: #d3ec87;\n",
       "  color: #000000;\n",
       "}\n",
       "#T_1942f_row11_col21 {\n",
       "  background-color: #36a657;\n",
       "  color: #f1f1f1;\n",
       "}\n",
       "#T_1942f_row12_col1, #T_1942f_row18_col12 {\n",
       "  background-color: #feca79;\n",
       "  color: #000000;\n",
       "}\n",
       "#T_1942f_row12_col4, #T_1942f_row12_col21 {\n",
       "  background-color: #f4fab0;\n",
       "  color: #000000;\n",
       "}\n",
       "#T_1942f_row12_col6, #T_1942f_row13_col7 {\n",
       "  background-color: #ab0626;\n",
       "  color: #f1f1f1;\n",
       "}\n",
       "#T_1942f_row12_col9, #T_1942f_row20_col17 {\n",
       "  background-color: #fedc88;\n",
       "  color: #000000;\n",
       "}\n",
       "#T_1942f_row12_col11, #T_1942f_row12_col13 {\n",
       "  background-color: #ea5739;\n",
       "  color: #f1f1f1;\n",
       "}\n",
       "#T_1942f_row12_col14, #T_1942f_row19_col3 {\n",
       "  background-color: #f8864f;\n",
       "  color: #f1f1f1;\n",
       "}\n",
       "#T_1942f_row12_col15 {\n",
       "  background-color: #fee28f;\n",
       "  color: #000000;\n",
       "}\n",
       "#T_1942f_row13_col1 {\n",
       "  background-color: #d83128;\n",
       "  color: #f1f1f1;\n",
       "}\n",
       "#T_1942f_row13_col3 {\n",
       "  background-color: #ddf191;\n",
       "  color: #000000;\n",
       "}\n",
       "#T_1942f_row13_col4, #T_1942f_row18_col6 {\n",
       "  background-color: #feea9b;\n",
       "  color: #000000;\n",
       "}\n",
       "#T_1942f_row13_col8 {\n",
       "  background-color: #af0926;\n",
       "  color: #f1f1f1;\n",
       "}\n",
       "#T_1942f_row13_col10, #T_1942f_row16_col15 {\n",
       "  background-color: #f2faae;\n",
       "  color: #000000;\n",
       "}\n",
       "#T_1942f_row13_col12 {\n",
       "  background-color: #d22b27;\n",
       "  color: #f1f1f1;\n",
       "}\n",
       "#T_1942f_row13_col18 {\n",
       "  background-color: #fff7b2;\n",
       "  color: #000000;\n",
       "}\n",
       "#T_1942f_row13_col21 {\n",
       "  background-color: #fff5ae;\n",
       "  color: #000000;\n",
       "}\n",
       "#T_1942f_row14_col3, #T_1942f_row14_col4, #T_1942f_row14_col6, #T_1942f_row16_col21, #T_1942f_row19_col12 {\n",
       "  background-color: #f57547;\n",
       "  color: #f1f1f1;\n",
       "}\n",
       "#T_1942f_row14_col12, #T_1942f_row15_col12, #T_1942f_row16_col9, #T_1942f_row16_col18, #T_1942f_row19_col10 {\n",
       "  background-color: #f99153;\n",
       "  color: #000000;\n",
       "}\n",
       "#T_1942f_row14_col17, #T_1942f_row17_col5, #T_1942f_row19_col4, #T_1942f_row19_col13 {\n",
       "  background-color: #fdb768;\n",
       "  color: #000000;\n",
       "}\n",
       "#T_1942f_row15_col7, #T_1942f_row19_col7 {\n",
       "  background-color: #c62027;\n",
       "  color: #f1f1f1;\n",
       "}\n",
       "#T_1942f_row15_col13, #T_1942f_row17_col16 {\n",
       "  background-color: #a90426;\n",
       "  color: #f1f1f1;\n",
       "}\n",
       "#T_1942f_row15_col14 {\n",
       "  background-color: #f7844e;\n",
       "  color: #f1f1f1;\n",
       "}\n",
       "#T_1942f_row16_col5 {\n",
       "  background-color: #b91326;\n",
       "  color: #f1f1f1;\n",
       "}\n",
       "#T_1942f_row16_col17, #T_1942f_row20_col14 {\n",
       "  background-color: #fb9d59;\n",
       "  color: #000000;\n",
       "}\n",
       "#T_1942f_row17_col4 {\n",
       "  background-color: #fece7c;\n",
       "  color: #000000;\n",
       "}\n",
       "#T_1942f_row17_col9 {\n",
       "  background-color: #ef633f;\n",
       "  color: #f1f1f1;\n",
       "}\n",
       "#T_1942f_row17_col11, #T_1942f_row17_col18 {\n",
       "  background-color: #fff8b4;\n",
       "  color: #000000;\n",
       "}\n",
       "#T_1942f_row17_col19 {\n",
       "  background-color: #fdc776;\n",
       "  color: #000000;\n",
       "}\n",
       "#T_1942f_row17_col21 {\n",
       "  background-color: #feda86;\n",
       "  color: #000000;\n",
       "}\n",
       "#T_1942f_row18_col2 {\n",
       "  background-color: #fff6b0;\n",
       "  color: #000000;\n",
       "}\n",
       "#T_1942f_row18_col3 {\n",
       "  background-color: #c3e67d;\n",
       "  color: #000000;\n",
       "}\n",
       "#T_1942f_row18_col10 {\n",
       "  background-color: #7fc866;\n",
       "  color: #000000;\n",
       "}\n",
       "#T_1942f_row18_col11 {\n",
       "  background-color: #6ec064;\n",
       "  color: #000000;\n",
       "}\n",
       "#T_1942f_row18_col21, #T_1942f_row21_col10 {\n",
       "  background-color: #70c164;\n",
       "  color: #000000;\n",
       "}\n",
       "#T_1942f_row19_col17, #T_1942f_row21_col13 {\n",
       "  background-color: #f7fcb4;\n",
       "  color: #000000;\n",
       "}\n",
       "#T_1942f_row19_col21 {\n",
       "  background-color: #fdb567;\n",
       "  color: #000000;\n",
       "}\n",
       "#T_1942f_row20_col4 {\n",
       "  background-color: #89cc67;\n",
       "  color: #000000;\n",
       "}\n",
       "#T_1942f_row20_col6, #T_1942f_row20_col12 {\n",
       "  background-color: #fff1a8;\n",
       "  color: #000000;\n",
       "}\n",
       "#T_1942f_row20_col10 {\n",
       "  background-color: #87cb67;\n",
       "  color: #000000;\n",
       "}\n",
       "#T_1942f_row20_col16 {\n",
       "  background-color: #f8fcb6;\n",
       "  color: #000000;\n",
       "}\n",
       "#T_1942f_row20_col18 {\n",
       "  background-color: #a5d86a;\n",
       "  color: #000000;\n",
       "}\n",
       "#T_1942f_row20_col21 {\n",
       "  background-color: #91d068;\n",
       "  color: #000000;\n",
       "}\n",
       "#T_1942f_row21_col2 {\n",
       "  background-color: #b5df74;\n",
       "  color: #000000;\n",
       "}\n",
       "#T_1942f_row21_col11 {\n",
       "  background-color: #33a456;\n",
       "  color: #f1f1f1;\n",
       "}\n",
       "#T_1942f_row21_col12 {\n",
       "  background-color: #f1f9ac;\n",
       "  color: #000000;\n",
       "}\n",
       "</style>\n",
       "<table id=\"T_1942f_\">\n",
       "  <thead>\n",
       "    <tr>\n",
       "      <th class=\"blank level0\" >&nbsp;</th>\n",
       "      <th class=\"col_heading level0 col0\" >id</th>\n",
       "      <th class=\"col_heading level0 col1\" >price</th>\n",
       "      <th class=\"col_heading level0 col2\" >bedrooms</th>\n",
       "      <th class=\"col_heading level0 col3\" >bathrooms</th>\n",
       "      <th class=\"col_heading level0 col4\" >sqft_living</th>\n",
       "      <th class=\"col_heading level0 col5\" >sqft_lot</th>\n",
       "      <th class=\"col_heading level0 col6\" >floors</th>\n",
       "      <th class=\"col_heading level0 col7\" >waterfront</th>\n",
       "      <th class=\"col_heading level0 col8\" >view</th>\n",
       "      <th class=\"col_heading level0 col9\" >condition</th>\n",
       "      <th class=\"col_heading level0 col10\" >grade</th>\n",
       "      <th class=\"col_heading level0 col11\" >sqft_above</th>\n",
       "      <th class=\"col_heading level0 col12\" >sqft_basement</th>\n",
       "      <th class=\"col_heading level0 col13\" >yr_built</th>\n",
       "      <th class=\"col_heading level0 col14\" >yr_renovated</th>\n",
       "      <th class=\"col_heading level0 col15\" >zipcode</th>\n",
       "      <th class=\"col_heading level0 col16\" >lat</th>\n",
       "      <th class=\"col_heading level0 col17\" >long</th>\n",
       "      <th class=\"col_heading level0 col18\" >sqft_living15</th>\n",
       "      <th class=\"col_heading level0 col19\" >sqft_lot15</th>\n",
       "      <th class=\"col_heading level0 col20\" >logged price</th>\n",
       "      <th class=\"col_heading level0 col21\" >logged sqft_living</th>\n",
       "    </tr>\n",
       "  </thead>\n",
       "  <tbody>\n",
       "    <tr>\n",
       "      <th id=\"T_1942f_level0_row0\" class=\"row_heading level0 row0\" >id</th>\n",
       "      <td id=\"T_1942f_row0_col0\" class=\"data row0 col0\" >1.000000</td>\n",
       "      <td id=\"T_1942f_row0_col1\" class=\"data row0 col1\" >-0.016762</td>\n",
       "      <td id=\"T_1942f_row0_col2\" class=\"data row0 col2\" >0.001286</td>\n",
       "      <td id=\"T_1942f_row0_col3\" class=\"data row0 col3\" >0.005160</td>\n",
       "      <td id=\"T_1942f_row0_col4\" class=\"data row0 col4\" >-0.012258</td>\n",
       "      <td id=\"T_1942f_row0_col5\" class=\"data row0 col5\" >-0.132109</td>\n",
       "      <td id=\"T_1942f_row0_col6\" class=\"data row0 col6\" >0.018525</td>\n",
       "      <td id=\"T_1942f_row0_col7\" class=\"data row0 col7\" >-0.002721</td>\n",
       "      <td id=\"T_1942f_row0_col8\" class=\"data row0 col8\" >0.011592</td>\n",
       "      <td id=\"T_1942f_row0_col9\" class=\"data row0 col9\" >-0.023783</td>\n",
       "      <td id=\"T_1942f_row0_col10\" class=\"data row0 col10\" >0.008130</td>\n",
       "      <td id=\"T_1942f_row0_col11\" class=\"data row0 col11\" >-0.010842</td>\n",
       "      <td id=\"T_1942f_row0_col12\" class=\"data row0 col12\" >-0.005151</td>\n",
       "      <td id=\"T_1942f_row0_col13\" class=\"data row0 col13\" >0.021380</td>\n",
       "      <td id=\"T_1942f_row0_col14\" class=\"data row0 col14\" >-0.016907</td>\n",
       "      <td id=\"T_1942f_row0_col15\" class=\"data row0 col15\" >-0.008224</td>\n",
       "      <td id=\"T_1942f_row0_col16\" class=\"data row0 col16\" >-0.001891</td>\n",
       "      <td id=\"T_1942f_row0_col17\" class=\"data row0 col17\" >0.020799</td>\n",
       "      <td id=\"T_1942f_row0_col18\" class=\"data row0 col18\" >-0.002901</td>\n",
       "      <td id=\"T_1942f_row0_col19\" class=\"data row0 col19\" >-0.138798</td>\n",
       "      <td id=\"T_1942f_row0_col20\" class=\"data row0 col20\" >-0.005564</td>\n",
       "      <td id=\"T_1942f_row0_col21\" class=\"data row0 col21\" >-0.001810</td>\n",
       "    </tr>\n",
       "    <tr>\n",
       "      <th id=\"T_1942f_level0_row1\" class=\"row_heading level0 row1\" >price</th>\n",
       "      <td id=\"T_1942f_row1_col0\" class=\"data row1 col0\" >-0.016762</td>\n",
       "      <td id=\"T_1942f_row1_col1\" class=\"data row1 col1\" >1.000000</td>\n",
       "      <td id=\"T_1942f_row1_col2\" class=\"data row1 col2\" >0.308350</td>\n",
       "      <td id=\"T_1942f_row1_col3\" class=\"data row1 col3\" >0.525138</td>\n",
       "      <td id=\"T_1942f_row1_col4\" class=\"data row1 col4\" >0.702035</td>\n",
       "      <td id=\"T_1942f_row1_col5\" class=\"data row1 col5\" >0.089661</td>\n",
       "      <td id=\"T_1942f_row1_col6\" class=\"data row1 col6\" >0.256794</td>\n",
       "      <td id=\"T_1942f_row1_col7\" class=\"data row1 col7\" >0.266369</td>\n",
       "      <td id=\"T_1942f_row1_col8\" class=\"data row1 col8\" >0.397293</td>\n",
       "      <td id=\"T_1942f_row1_col9\" class=\"data row1 col9\" >0.036362</td>\n",
       "      <td id=\"T_1942f_row1_col10\" class=\"data row1 col10\" >0.667434</td>\n",
       "      <td id=\"T_1942f_row1_col11\" class=\"data row1 col11\" >0.605567</td>\n",
       "      <td id=\"T_1942f_row1_col12\" class=\"data row1 col12\" >0.323816</td>\n",
       "      <td id=\"T_1942f_row1_col13\" class=\"data row1 col13\" >0.054012</td>\n",
       "      <td id=\"T_1942f_row1_col14\" class=\"data row1 col14\" >0.126434</td>\n",
       "      <td id=\"T_1942f_row1_col15\" class=\"data row1 col15\" >-0.053203</td>\n",
       "      <td id=\"T_1942f_row1_col16\" class=\"data row1 col16\" >0.307003</td>\n",
       "      <td id=\"T_1942f_row1_col17\" class=\"data row1 col17\" >0.021626</td>\n",
       "      <td id=\"T_1942f_row1_col18\" class=\"data row1 col18\" >0.585379</td>\n",
       "      <td id=\"T_1942f_row1_col19\" class=\"data row1 col19\" >0.082447</td>\n",
       "      <td id=\"T_1942f_row1_col20\" class=\"data row1 col20\" >0.894627</td>\n",
       "      <td id=\"T_1942f_row1_col21\" class=\"data row1 col21\" >0.611704</td>\n",
       "    </tr>\n",
       "    <tr>\n",
       "      <th id=\"T_1942f_level0_row2\" class=\"row_heading level0 row2\" >bedrooms</th>\n",
       "      <td id=\"T_1942f_row2_col0\" class=\"data row2 col0\" >0.001286</td>\n",
       "      <td id=\"T_1942f_row2_col1\" class=\"data row2 col1\" >0.308350</td>\n",
       "      <td id=\"T_1942f_row2_col2\" class=\"data row2 col2\" >1.000000</td>\n",
       "      <td id=\"T_1942f_row2_col3\" class=\"data row2 col3\" >0.515884</td>\n",
       "      <td id=\"T_1942f_row2_col4\" class=\"data row2 col4\" >0.576671</td>\n",
       "      <td id=\"T_1942f_row2_col5\" class=\"data row2 col5\" >0.031703</td>\n",
       "      <td id=\"T_1942f_row2_col6\" class=\"data row2 col6\" >0.175429</td>\n",
       "      <td id=\"T_1942f_row2_col7\" class=\"data row2 col7\" >-0.006582</td>\n",
       "      <td id=\"T_1942f_row2_col8\" class=\"data row2 col8\" >0.079532</td>\n",
       "      <td id=\"T_1942f_row2_col9\" class=\"data row2 col9\" >0.028472</td>\n",
       "      <td id=\"T_1942f_row2_col10\" class=\"data row2 col10\" >0.356967</td>\n",
       "      <td id=\"T_1942f_row2_col11\" class=\"data row2 col11\" >0.477600</td>\n",
       "      <td id=\"T_1942f_row2_col12\" class=\"data row2 col12\" >0.303093</td>\n",
       "      <td id=\"T_1942f_row2_col13\" class=\"data row2 col13\" >0.154178</td>\n",
       "      <td id=\"T_1942f_row2_col14\" class=\"data row2 col14\" >0.018841</td>\n",
       "      <td id=\"T_1942f_row2_col15\" class=\"data row2 col15\" >-0.152668</td>\n",
       "      <td id=\"T_1942f_row2_col16\" class=\"data row2 col16\" >-0.008931</td>\n",
       "      <td id=\"T_1942f_row2_col17\" class=\"data row2 col17\" >0.129473</td>\n",
       "      <td id=\"T_1942f_row2_col18\" class=\"data row2 col18\" >0.391638</td>\n",
       "      <td id=\"T_1942f_row2_col19\" class=\"data row2 col19\" >0.029244</td>\n",
       "      <td id=\"T_1942f_row2_col20\" class=\"data row2 col20\" >0.349680</td>\n",
       "      <td id=\"T_1942f_row2_col21\" class=\"data row2 col21\" >0.620864</td>\n",
       "    </tr>\n",
       "    <tr>\n",
       "      <th id=\"T_1942f_level0_row3\" class=\"row_heading level0 row3\" >bathrooms</th>\n",
       "      <td id=\"T_1942f_row3_col0\" class=\"data row3 col0\" >0.005160</td>\n",
       "      <td id=\"T_1942f_row3_col1\" class=\"data row3 col1\" >0.525138</td>\n",
       "      <td id=\"T_1942f_row3_col2\" class=\"data row3 col2\" >0.515884</td>\n",
       "      <td id=\"T_1942f_row3_col3\" class=\"data row3 col3\" >1.000000</td>\n",
       "      <td id=\"T_1942f_row3_col4\" class=\"data row3 col4\" >0.754665</td>\n",
       "      <td id=\"T_1942f_row3_col5\" class=\"data row3 col5\" >0.087740</td>\n",
       "      <td id=\"T_1942f_row3_col6\" class=\"data row3 col6\" >0.500653</td>\n",
       "      <td id=\"T_1942f_row3_col7\" class=\"data row3 col7\" >0.063744</td>\n",
       "      <td id=\"T_1942f_row3_col8\" class=\"data row3 col8\" >0.187737</td>\n",
       "      <td id=\"T_1942f_row3_col9\" class=\"data row3 col9\" >-0.124982</td>\n",
       "      <td id=\"T_1942f_row3_col10\" class=\"data row3 col10\" >0.664983</td>\n",
       "      <td id=\"T_1942f_row3_col11\" class=\"data row3 col11\" >0.685342</td>\n",
       "      <td id=\"T_1942f_row3_col12\" class=\"data row3 col12\" >0.283770</td>\n",
       "      <td id=\"T_1942f_row3_col13\" class=\"data row3 col13\" >0.506019</td>\n",
       "      <td id=\"T_1942f_row3_col14\" class=\"data row3 col14\" >0.050739</td>\n",
       "      <td id=\"T_1942f_row3_col15\" class=\"data row3 col15\" >-0.203866</td>\n",
       "      <td id=\"T_1942f_row3_col16\" class=\"data row3 col16\" >0.024573</td>\n",
       "      <td id=\"T_1942f_row3_col17\" class=\"data row3 col17\" >0.223042</td>\n",
       "      <td id=\"T_1942f_row3_col18\" class=\"data row3 col18\" >0.568634</td>\n",
       "      <td id=\"T_1942f_row3_col19\" class=\"data row3 col19\" >0.087175</td>\n",
       "      <td id=\"T_1942f_row3_col20\" class=\"data row3 col20\" >0.549958</td>\n",
       "      <td id=\"T_1942f_row3_col21\" class=\"data row3 col21\" >0.761304</td>\n",
       "    </tr>\n",
       "    <tr>\n",
       "      <th id=\"T_1942f_level0_row4\" class=\"row_heading level0 row4\" >sqft_living</th>\n",
       "      <td id=\"T_1942f_row4_col0\" class=\"data row4 col0\" >-0.012258</td>\n",
       "      <td id=\"T_1942f_row4_col1\" class=\"data row4 col1\" >0.702035</td>\n",
       "      <td id=\"T_1942f_row4_col2\" class=\"data row4 col2\" >0.576671</td>\n",
       "      <td id=\"T_1942f_row4_col3\" class=\"data row4 col3\" >0.754665</td>\n",
       "      <td id=\"T_1942f_row4_col4\" class=\"data row4 col4\" >1.000000</td>\n",
       "      <td id=\"T_1942f_row4_col5\" class=\"data row4 col5\" >0.172826</td>\n",
       "      <td id=\"T_1942f_row4_col6\" class=\"data row4 col6\" >0.353949</td>\n",
       "      <td id=\"T_1942f_row4_col7\" class=\"data row4 col7\" >0.103818</td>\n",
       "      <td id=\"T_1942f_row4_col8\" class=\"data row4 col8\" >0.284611</td>\n",
       "      <td id=\"T_1942f_row4_col9\" class=\"data row4 col9\" >-0.058753</td>\n",
       "      <td id=\"T_1942f_row4_col10\" class=\"data row4 col10\" >0.762704</td>\n",
       "      <td id=\"T_1942f_row4_col11\" class=\"data row4 col11\" >0.876597</td>\n",
       "      <td id=\"T_1942f_row4_col12\" class=\"data row4 col12\" >0.435043</td>\n",
       "      <td id=\"T_1942f_row4_col13\" class=\"data row4 col13\" >0.318049</td>\n",
       "      <td id=\"T_1942f_row4_col14\" class=\"data row4 col14\" >0.055363</td>\n",
       "      <td id=\"T_1942f_row4_col15\" class=\"data row4 col15\" >-0.199430</td>\n",
       "      <td id=\"T_1942f_row4_col16\" class=\"data row4 col16\" >0.052529</td>\n",
       "      <td id=\"T_1942f_row4_col17\" class=\"data row4 col17\" >0.240223</td>\n",
       "      <td id=\"T_1942f_row4_col18\" class=\"data row4 col18\" >0.756420</td>\n",
       "      <td id=\"T_1942f_row4_col19\" class=\"data row4 col19\" >0.183286</td>\n",
       "      <td id=\"T_1942f_row4_col20\" class=\"data row4 col20\" >0.694044</td>\n",
       "      <td id=\"T_1942f_row4_col21\" class=\"data row4 col21\" >0.954322</td>\n",
       "    </tr>\n",
       "    <tr>\n",
       "      <th id=\"T_1942f_level0_row5\" class=\"row_heading level0 row5\" >sqft_lot</th>\n",
       "      <td id=\"T_1942f_row5_col0\" class=\"data row5 col0\" >-0.132109</td>\n",
       "      <td id=\"T_1942f_row5_col1\" class=\"data row5 col1\" >0.089661</td>\n",
       "      <td id=\"T_1942f_row5_col2\" class=\"data row5 col2\" >0.031703</td>\n",
       "      <td id=\"T_1942f_row5_col3\" class=\"data row5 col3\" >0.087740</td>\n",
       "      <td id=\"T_1942f_row5_col4\" class=\"data row5 col4\" >0.172826</td>\n",
       "      <td id=\"T_1942f_row5_col5\" class=\"data row5 col5\" >1.000000</td>\n",
       "      <td id=\"T_1942f_row5_col6\" class=\"data row5 col6\" >-0.005201</td>\n",
       "      <td id=\"T_1942f_row5_col7\" class=\"data row5 col7\" >0.021604</td>\n",
       "      <td id=\"T_1942f_row5_col8\" class=\"data row5 col8\" >0.074710</td>\n",
       "      <td id=\"T_1942f_row5_col9\" class=\"data row5 col9\" >-0.008958</td>\n",
       "      <td id=\"T_1942f_row5_col10\" class=\"data row5 col10\" >0.113621</td>\n",
       "      <td id=\"T_1942f_row5_col11\" class=\"data row5 col11\" >0.183512</td>\n",
       "      <td id=\"T_1942f_row5_col12\" class=\"data row5 col12\" >0.015286</td>\n",
       "      <td id=\"T_1942f_row5_col13\" class=\"data row5 col13\" >0.053080</td>\n",
       "      <td id=\"T_1942f_row5_col14\" class=\"data row5 col14\" >0.007644</td>\n",
       "      <td id=\"T_1942f_row5_col15\" class=\"data row5 col15\" >-0.129574</td>\n",
       "      <td id=\"T_1942f_row5_col16\" class=\"data row5 col16\" >-0.085683</td>\n",
       "      <td id=\"T_1942f_row5_col17\" class=\"data row5 col17\" >0.229521</td>\n",
       "      <td id=\"T_1942f_row5_col18\" class=\"data row5 col18\" >0.144608</td>\n",
       "      <td id=\"T_1942f_row5_col19\" class=\"data row5 col19\" >0.718557</td>\n",
       "      <td id=\"T_1942f_row5_col20\" class=\"data row5 col20\" >0.104082</td>\n",
       "      <td id=\"T_1942f_row5_col21\" class=\"data row5 col21\" >0.148859</td>\n",
       "    </tr>\n",
       "    <tr>\n",
       "      <th id=\"T_1942f_level0_row6\" class=\"row_heading level0 row6\" >floors</th>\n",
       "      <td id=\"T_1942f_row6_col0\" class=\"data row6 col0\" >0.018525</td>\n",
       "      <td id=\"T_1942f_row6_col1\" class=\"data row6 col1\" >0.256794</td>\n",
       "      <td id=\"T_1942f_row6_col2\" class=\"data row6 col2\" >0.175429</td>\n",
       "      <td id=\"T_1942f_row6_col3\" class=\"data row6 col3\" >0.500653</td>\n",
       "      <td id=\"T_1942f_row6_col4\" class=\"data row6 col4\" >0.353949</td>\n",
       "      <td id=\"T_1942f_row6_col5\" class=\"data row6 col5\" >-0.005201</td>\n",
       "      <td id=\"T_1942f_row6_col6\" class=\"data row6 col6\" >1.000000</td>\n",
       "      <td id=\"T_1942f_row6_col7\" class=\"data row6 col7\" >0.023698</td>\n",
       "      <td id=\"T_1942f_row6_col8\" class=\"data row6 col8\" >0.029444</td>\n",
       "      <td id=\"T_1942f_row6_col9\" class=\"data row6 col9\" >-0.263768</td>\n",
       "      <td id=\"T_1942f_row6_col10\" class=\"data row6 col10\" >0.458183</td>\n",
       "      <td id=\"T_1942f_row6_col11\" class=\"data row6 col11\" >0.523885</td>\n",
       "      <td id=\"T_1942f_row6_col12\" class=\"data row6 col12\" >-0.245705</td>\n",
       "      <td id=\"T_1942f_row6_col13\" class=\"data row6 col13\" >0.489319</td>\n",
       "      <td id=\"T_1942f_row6_col14\" class=\"data row6 col14\" >0.006338</td>\n",
       "      <td id=\"T_1942f_row6_col15\" class=\"data row6 col15\" >-0.059121</td>\n",
       "      <td id=\"T_1942f_row6_col16\" class=\"data row6 col16\" >0.049614</td>\n",
       "      <td id=\"T_1942f_row6_col17\" class=\"data row6 col17\" >0.125419</td>\n",
       "      <td id=\"T_1942f_row6_col18\" class=\"data row6 col18\" >0.279885</td>\n",
       "      <td id=\"T_1942f_row6_col19\" class=\"data row6 col19\" >-0.011269</td>\n",
       "      <td id=\"T_1942f_row6_col20\" class=\"data row6 col20\" >0.309431</td>\n",
       "      <td id=\"T_1942f_row6_col21\" class=\"data row6 col21\" >0.367569</td>\n",
       "    </tr>\n",
       "    <tr>\n",
       "      <th id=\"T_1942f_level0_row7\" class=\"row_heading level0 row7\" >waterfront</th>\n",
       "      <td id=\"T_1942f_row7_col0\" class=\"data row7 col0\" >-0.002721</td>\n",
       "      <td id=\"T_1942f_row7_col1\" class=\"data row7 col1\" >0.266369</td>\n",
       "      <td id=\"T_1942f_row7_col2\" class=\"data row7 col2\" >-0.006582</td>\n",
       "      <td id=\"T_1942f_row7_col3\" class=\"data row7 col3\" >0.063744</td>\n",
       "      <td id=\"T_1942f_row7_col4\" class=\"data row7 col4\" >0.103818</td>\n",
       "      <td id=\"T_1942f_row7_col5\" class=\"data row7 col5\" >0.021604</td>\n",
       "      <td id=\"T_1942f_row7_col6\" class=\"data row7 col6\" >0.023698</td>\n",
       "      <td id=\"T_1942f_row7_col7\" class=\"data row7 col7\" >1.000000</td>\n",
       "      <td id=\"T_1942f_row7_col8\" class=\"data row7 col8\" >0.401857</td>\n",
       "      <td id=\"T_1942f_row7_col9\" class=\"data row7 col9\" >0.016653</td>\n",
       "      <td id=\"T_1942f_row7_col10\" class=\"data row7 col10\" >0.082775</td>\n",
       "      <td id=\"T_1942f_row7_col11\" class=\"data row7 col11\" >0.072075</td>\n",
       "      <td id=\"T_1942f_row7_col12\" class=\"data row7 col12\" >0.080588</td>\n",
       "      <td id=\"T_1942f_row7_col13\" class=\"data row7 col13\" >-0.026161</td>\n",
       "      <td id=\"T_1942f_row7_col14\" class=\"data row7 col14\" >0.092885</td>\n",
       "      <td id=\"T_1942f_row7_col15\" class=\"data row7 col15\" >0.030285</td>\n",
       "      <td id=\"T_1942f_row7_col16\" class=\"data row7 col16\" >-0.014274</td>\n",
       "      <td id=\"T_1942f_row7_col17\" class=\"data row7 col17\" >-0.041910</td>\n",
       "      <td id=\"T_1942f_row7_col18\" class=\"data row7 col18\" >0.086463</td>\n",
       "      <td id=\"T_1942f_row7_col19\" class=\"data row7 col19\" >0.030703</td>\n",
       "      <td id=\"T_1942f_row7_col20\" class=\"data row7 col20\" >0.183876</td>\n",
       "      <td id=\"T_1942f_row7_col21\" class=\"data row7 col21\" >0.079306</td>\n",
       "    </tr>\n",
       "    <tr>\n",
       "      <th id=\"T_1942f_level0_row8\" class=\"row_heading level0 row8\" >view</th>\n",
       "      <td id=\"T_1942f_row8_col0\" class=\"data row8 col0\" >0.011592</td>\n",
       "      <td id=\"T_1942f_row8_col1\" class=\"data row8 col1\" >0.397293</td>\n",
       "      <td id=\"T_1942f_row8_col2\" class=\"data row8 col2\" >0.079532</td>\n",
       "      <td id=\"T_1942f_row8_col3\" class=\"data row8 col3\" >0.187737</td>\n",
       "      <td id=\"T_1942f_row8_col4\" class=\"data row8 col4\" >0.284611</td>\n",
       "      <td id=\"T_1942f_row8_col5\" class=\"data row8 col5\" >0.074710</td>\n",
       "      <td id=\"T_1942f_row8_col6\" class=\"data row8 col6\" >0.029444</td>\n",
       "      <td id=\"T_1942f_row8_col7\" class=\"data row8 col7\" >0.401857</td>\n",
       "      <td id=\"T_1942f_row8_col8\" class=\"data row8 col8\" >1.000000</td>\n",
       "      <td id=\"T_1942f_row8_col9\" class=\"data row8 col9\" >0.045990</td>\n",
       "      <td id=\"T_1942f_row8_col10\" class=\"data row8 col10\" >0.251321</td>\n",
       "      <td id=\"T_1942f_row8_col11\" class=\"data row8 col11\" >0.167649</td>\n",
       "      <td id=\"T_1942f_row8_col12\" class=\"data row8 col12\" >0.276947</td>\n",
       "      <td id=\"T_1942f_row8_col13\" class=\"data row8 col13\" >-0.053440</td>\n",
       "      <td id=\"T_1942f_row8_col14\" class=\"data row8 col14\" >0.103917</td>\n",
       "      <td id=\"T_1942f_row8_col15\" class=\"data row8 col15\" >0.084827</td>\n",
       "      <td id=\"T_1942f_row8_col16\" class=\"data row8 col16\" >0.006157</td>\n",
       "      <td id=\"T_1942f_row8_col17\" class=\"data row8 col17\" >-0.078400</td>\n",
       "      <td id=\"T_1942f_row8_col18\" class=\"data row8 col18\" >0.280439</td>\n",
       "      <td id=\"T_1942f_row8_col19\" class=\"data row8 col19\" >0.072575</td>\n",
       "      <td id=\"T_1942f_row8_col20\" class=\"data row8 col20\" >0.350607</td>\n",
       "      <td id=\"T_1942f_row8_col21\" class=\"data row8 col21\" >0.246712</td>\n",
       "    </tr>\n",
       "    <tr>\n",
       "      <th id=\"T_1942f_level0_row9\" class=\"row_heading level0 row9\" >condition</th>\n",
       "      <td id=\"T_1942f_row9_col0\" class=\"data row9 col0\" >-0.023783</td>\n",
       "      <td id=\"T_1942f_row9_col1\" class=\"data row9 col1\" >0.036362</td>\n",
       "      <td id=\"T_1942f_row9_col2\" class=\"data row9 col2\" >0.028472</td>\n",
       "      <td id=\"T_1942f_row9_col3\" class=\"data row9 col3\" >-0.124982</td>\n",
       "      <td id=\"T_1942f_row9_col4\" class=\"data row9 col4\" >-0.058753</td>\n",
       "      <td id=\"T_1942f_row9_col5\" class=\"data row9 col5\" >-0.008958</td>\n",
       "      <td id=\"T_1942f_row9_col6\" class=\"data row9 col6\" >-0.263768</td>\n",
       "      <td id=\"T_1942f_row9_col7\" class=\"data row9 col7\" >0.016653</td>\n",
       "      <td id=\"T_1942f_row9_col8\" class=\"data row9 col8\" >0.045990</td>\n",
       "      <td id=\"T_1942f_row9_col9\" class=\"data row9 col9\" >1.000000</td>\n",
       "      <td id=\"T_1942f_row9_col10\" class=\"data row9 col10\" >-0.144674</td>\n",
       "      <td id=\"T_1942f_row9_col11\" class=\"data row9 col11\" >-0.158214</td>\n",
       "      <td id=\"T_1942f_row9_col12\" class=\"data row9 col12\" >0.174105</td>\n",
       "      <td id=\"T_1942f_row9_col13\" class=\"data row9 col13\" >-0.361417</td>\n",
       "      <td id=\"T_1942f_row9_col14\" class=\"data row9 col14\" >-0.060618</td>\n",
       "      <td id=\"T_1942f_row9_col15\" class=\"data row9 col15\" >0.003026</td>\n",
       "      <td id=\"T_1942f_row9_col16\" class=\"data row9 col16\" >-0.014941</td>\n",
       "      <td id=\"T_1942f_row9_col17\" class=\"data row9 col17\" >-0.106500</td>\n",
       "      <td id=\"T_1942f_row9_col18\" class=\"data row9 col18\" >-0.092824</td>\n",
       "      <td id=\"T_1942f_row9_col19\" class=\"data row9 col19\" >-0.003406</td>\n",
       "      <td id=\"T_1942f_row9_col20\" class=\"data row9 col20\" >0.046330</td>\n",
       "      <td id=\"T_1942f_row9_col21\" class=\"data row9 col21\" >-0.048143</td>\n",
       "    </tr>\n",
       "    <tr>\n",
       "      <th id=\"T_1942f_level0_row10\" class=\"row_heading level0 row10\" >grade</th>\n",
       "      <td id=\"T_1942f_row10_col0\" class=\"data row10 col0\" >0.008130</td>\n",
       "      <td id=\"T_1942f_row10_col1\" class=\"data row10 col1\" >0.667434</td>\n",
       "      <td id=\"T_1942f_row10_col2\" class=\"data row10 col2\" >0.356967</td>\n",
       "      <td id=\"T_1942f_row10_col3\" class=\"data row10 col3\" >0.664983</td>\n",
       "      <td id=\"T_1942f_row10_col4\" class=\"data row10 col4\" >0.762704</td>\n",
       "      <td id=\"T_1942f_row10_col5\" class=\"data row10 col5\" >0.113621</td>\n",
       "      <td id=\"T_1942f_row10_col6\" class=\"data row10 col6\" >0.458183</td>\n",
       "      <td id=\"T_1942f_row10_col7\" class=\"data row10 col7\" >0.082775</td>\n",
       "      <td id=\"T_1942f_row10_col8\" class=\"data row10 col8\" >0.251321</td>\n",
       "      <td id=\"T_1942f_row10_col9\" class=\"data row10 col9\" >-0.144674</td>\n",
       "      <td id=\"T_1942f_row10_col10\" class=\"data row10 col10\" >1.000000</td>\n",
       "      <td id=\"T_1942f_row10_col11\" class=\"data row10 col11\" >0.755923</td>\n",
       "      <td id=\"T_1942f_row10_col12\" class=\"data row10 col12\" >0.168392</td>\n",
       "      <td id=\"T_1942f_row10_col13\" class=\"data row10 col13\" >0.446963</td>\n",
       "      <td id=\"T_1942f_row10_col14\" class=\"data row10 col14\" >0.014414</td>\n",
       "      <td id=\"T_1942f_row10_col15\" class=\"data row10 col15\" >-0.184862</td>\n",
       "      <td id=\"T_1942f_row10_col16\" class=\"data row10 col16\" >0.114084</td>\n",
       "      <td id=\"T_1942f_row10_col17\" class=\"data row10 col17\" >0.198372</td>\n",
       "      <td id=\"T_1942f_row10_col18\" class=\"data row10 col18\" >0.713202</td>\n",
       "      <td id=\"T_1942f_row10_col19\" class=\"data row10 col19\" >0.119248</td>\n",
       "      <td id=\"T_1942f_row10_col20\" class=\"data row10 col20\" >0.700612</td>\n",
       "      <td id=\"T_1942f_row10_col21\" class=\"data row10 col21\" >0.743686</td>\n",
       "    </tr>\n",
       "    <tr>\n",
       "      <th id=\"T_1942f_level0_row11\" class=\"row_heading level0 row11\" >sqft_above</th>\n",
       "      <td id=\"T_1942f_row11_col0\" class=\"data row11 col0\" >-0.010842</td>\n",
       "      <td id=\"T_1942f_row11_col1\" class=\"data row11 col1\" >0.605567</td>\n",
       "      <td id=\"T_1942f_row11_col2\" class=\"data row11 col2\" >0.477600</td>\n",
       "      <td id=\"T_1942f_row11_col3\" class=\"data row11 col3\" >0.685342</td>\n",
       "      <td id=\"T_1942f_row11_col4\" class=\"data row11 col4\" >0.876597</td>\n",
       "      <td id=\"T_1942f_row11_col5\" class=\"data row11 col5\" >0.183512</td>\n",
       "      <td id=\"T_1942f_row11_col6\" class=\"data row11 col6\" >0.523885</td>\n",
       "      <td id=\"T_1942f_row11_col7\" class=\"data row11 col7\" >0.072075</td>\n",
       "      <td id=\"T_1942f_row11_col8\" class=\"data row11 col8\" >0.167649</td>\n",
       "      <td id=\"T_1942f_row11_col9\" class=\"data row11 col9\" >-0.158214</td>\n",
       "      <td id=\"T_1942f_row11_col10\" class=\"data row11 col10\" >0.755923</td>\n",
       "      <td id=\"T_1942f_row11_col11\" class=\"data row11 col11\" >1.000000</td>\n",
       "      <td id=\"T_1942f_row11_col12\" class=\"data row11 col12\" >-0.051943</td>\n",
       "      <td id=\"T_1942f_row11_col13\" class=\"data row11 col13\" >0.423898</td>\n",
       "      <td id=\"T_1942f_row11_col14\" class=\"data row11 col14\" >0.023285</td>\n",
       "      <td id=\"T_1942f_row11_col15\" class=\"data row11 col15\" >-0.261190</td>\n",
       "      <td id=\"T_1942f_row11_col16\" class=\"data row11 col16\" >-0.000816</td>\n",
       "      <td id=\"T_1942f_row11_col17\" class=\"data row11 col17\" >0.343803</td>\n",
       "      <td id=\"T_1942f_row11_col18\" class=\"data row11 col18\" >0.731870</td>\n",
       "      <td id=\"T_1942f_row11_col19\" class=\"data row11 col19\" >0.194050</td>\n",
       "      <td id=\"T_1942f_row11_col20\" class=\"data row11 col20\" >0.600244</td>\n",
       "      <td id=\"T_1942f_row11_col21\" class=\"data row11 col21\" >0.832293</td>\n",
       "    </tr>\n",
       "    <tr>\n",
       "      <th id=\"T_1942f_level0_row12\" class=\"row_heading level0 row12\" >sqft_basement</th>\n",
       "      <td id=\"T_1942f_row12_col0\" class=\"data row12 col0\" >-0.005151</td>\n",
       "      <td id=\"T_1942f_row12_col1\" class=\"data row12 col1\" >0.323816</td>\n",
       "      <td id=\"T_1942f_row12_col2\" class=\"data row12 col2\" >0.303093</td>\n",
       "      <td id=\"T_1942f_row12_col3\" class=\"data row12 col3\" >0.283770</td>\n",
       "      <td id=\"T_1942f_row12_col4\" class=\"data row12 col4\" >0.435043</td>\n",
       "      <td id=\"T_1942f_row12_col5\" class=\"data row12 col5\" >0.015286</td>\n",
       "      <td id=\"T_1942f_row12_col6\" class=\"data row12 col6\" >-0.245705</td>\n",
       "      <td id=\"T_1942f_row12_col7\" class=\"data row12 col7\" >0.080588</td>\n",
       "      <td id=\"T_1942f_row12_col8\" class=\"data row12 col8\" >0.276947</td>\n",
       "      <td id=\"T_1942f_row12_col9\" class=\"data row12 col9\" >0.174105</td>\n",
       "      <td id=\"T_1942f_row12_col10\" class=\"data row12 col10\" >0.168392</td>\n",
       "      <td id=\"T_1942f_row12_col11\" class=\"data row12 col11\" >-0.051943</td>\n",
       "      <td id=\"T_1942f_row12_col12\" class=\"data row12 col12\" >1.000000</td>\n",
       "      <td id=\"T_1942f_row12_col13\" class=\"data row12 col13\" >-0.133124</td>\n",
       "      <td id=\"T_1942f_row12_col14\" class=\"data row12 col14\" >0.071323</td>\n",
       "      <td id=\"T_1942f_row12_col15\" class=\"data row12 col15\" >0.074845</td>\n",
       "      <td id=\"T_1942f_row12_col16\" class=\"data row12 col16\" >0.110538</td>\n",
       "      <td id=\"T_1942f_row12_col17\" class=\"data row12 col17\" >-0.144765</td>\n",
       "      <td id=\"T_1942f_row12_col18\" class=\"data row12 col18\" >0.200355</td>\n",
       "      <td id=\"T_1942f_row12_col19\" class=\"data row12 col19\" >0.017276</td>\n",
       "      <td id=\"T_1942f_row12_col20\" class=\"data row12 col20\" >0.319694</td>\n",
       "      <td id=\"T_1942f_row12_col21\" class=\"data row12 col21\" >0.423147</td>\n",
       "    </tr>\n",
       "    <tr>\n",
       "      <th id=\"T_1942f_level0_row13\" class=\"row_heading level0 row13\" >yr_built</th>\n",
       "      <td id=\"T_1942f_row13_col0\" class=\"data row13 col0\" >0.021380</td>\n",
       "      <td id=\"T_1942f_row13_col1\" class=\"data row13 col1\" >0.054012</td>\n",
       "      <td id=\"T_1942f_row13_col2\" class=\"data row13 col2\" >0.154178</td>\n",
       "      <td id=\"T_1942f_row13_col3\" class=\"data row13 col3\" >0.506019</td>\n",
       "      <td id=\"T_1942f_row13_col4\" class=\"data row13 col4\" >0.318049</td>\n",
       "      <td id=\"T_1942f_row13_col5\" class=\"data row13 col5\" >0.053080</td>\n",
       "      <td id=\"T_1942f_row13_col6\" class=\"data row13 col6\" >0.489319</td>\n",
       "      <td id=\"T_1942f_row13_col7\" class=\"data row13 col7\" >-0.026161</td>\n",
       "      <td id=\"T_1942f_row13_col8\" class=\"data row13 col8\" >-0.053440</td>\n",
       "      <td id=\"T_1942f_row13_col9\" class=\"data row13 col9\" >-0.361417</td>\n",
       "      <td id=\"T_1942f_row13_col10\" class=\"data row13 col10\" >0.446963</td>\n",
       "      <td id=\"T_1942f_row13_col11\" class=\"data row13 col11\" >0.423898</td>\n",
       "      <td id=\"T_1942f_row13_col12\" class=\"data row13 col12\" >-0.133124</td>\n",
       "      <td id=\"T_1942f_row13_col13\" class=\"data row13 col13\" >1.000000</td>\n",
       "      <td id=\"T_1942f_row13_col14\" class=\"data row13 col14\" >-0.224874</td>\n",
       "      <td id=\"T_1942f_row13_col15\" class=\"data row13 col15\" >-0.346869</td>\n",
       "      <td id=\"T_1942f_row13_col16\" class=\"data row13 col16\" >-0.148122</td>\n",
       "      <td id=\"T_1942f_row13_col17\" class=\"data row13 col17\" >0.409356</td>\n",
       "      <td id=\"T_1942f_row13_col18\" class=\"data row13 col18\" >0.326229</td>\n",
       "      <td id=\"T_1942f_row13_col19\" class=\"data row13 col19\" >0.070958</td>\n",
       "      <td id=\"T_1942f_row13_col20\" class=\"data row13 col20\" >0.080164</td>\n",
       "      <td id=\"T_1942f_row13_col21\" class=\"data row13 col21\" >0.349296</td>\n",
       "    </tr>\n",
       "    <tr>\n",
       "      <th id=\"T_1942f_level0_row14\" class=\"row_heading level0 row14\" >yr_renovated</th>\n",
       "      <td id=\"T_1942f_row14_col0\" class=\"data row14 col0\" >-0.016907</td>\n",
       "      <td id=\"T_1942f_row14_col1\" class=\"data row14 col1\" >0.126434</td>\n",
       "      <td id=\"T_1942f_row14_col2\" class=\"data row14 col2\" >0.018841</td>\n",
       "      <td id=\"T_1942f_row14_col3\" class=\"data row14 col3\" >0.050739</td>\n",
       "      <td id=\"T_1942f_row14_col4\" class=\"data row14 col4\" >0.055363</td>\n",
       "      <td id=\"T_1942f_row14_col5\" class=\"data row14 col5\" >0.007644</td>\n",
       "      <td id=\"T_1942f_row14_col6\" class=\"data row14 col6\" >0.006338</td>\n",
       "      <td id=\"T_1942f_row14_col7\" class=\"data row14 col7\" >0.092885</td>\n",
       "      <td id=\"T_1942f_row14_col8\" class=\"data row14 col8\" >0.103917</td>\n",
       "      <td id=\"T_1942f_row14_col9\" class=\"data row14 col9\" >-0.060618</td>\n",
       "      <td id=\"T_1942f_row14_col10\" class=\"data row14 col10\" >0.014414</td>\n",
       "      <td id=\"T_1942f_row14_col11\" class=\"data row14 col11\" >0.023285</td>\n",
       "      <td id=\"T_1942f_row14_col12\" class=\"data row14 col12\" >0.071323</td>\n",
       "      <td id=\"T_1942f_row14_col13\" class=\"data row14 col13\" >-0.224874</td>\n",
       "      <td id=\"T_1942f_row14_col14\" class=\"data row14 col14\" >1.000000</td>\n",
       "      <td id=\"T_1942f_row14_col15\" class=\"data row14 col15\" >0.064357</td>\n",
       "      <td id=\"T_1942f_row14_col16\" class=\"data row14 col16\" >0.029398</td>\n",
       "      <td id=\"T_1942f_row14_col17\" class=\"data row14 col17\" >-0.068372</td>\n",
       "      <td id=\"T_1942f_row14_col18\" class=\"data row14 col18\" >-0.002673</td>\n",
       "      <td id=\"T_1942f_row14_col19\" class=\"data row14 col19\" >0.007854</td>\n",
       "      <td id=\"T_1942f_row14_col20\" class=\"data row14 col20\" >0.112886</td>\n",
       "      <td id=\"T_1942f_row14_col21\" class=\"data row14 col21\" >0.051089</td>\n",
       "    </tr>\n",
       "    <tr>\n",
       "      <th id=\"T_1942f_level0_row15\" class=\"row_heading level0 row15\" >zipcode</th>\n",
       "      <td id=\"T_1942f_row15_col0\" class=\"data row15 col0\" >-0.008224</td>\n",
       "      <td id=\"T_1942f_row15_col1\" class=\"data row15 col1\" >-0.053203</td>\n",
       "      <td id=\"T_1942f_row15_col2\" class=\"data row15 col2\" >-0.152668</td>\n",
       "      <td id=\"T_1942f_row15_col3\" class=\"data row15 col3\" >-0.203866</td>\n",
       "      <td id=\"T_1942f_row15_col4\" class=\"data row15 col4\" >-0.199430</td>\n",
       "      <td id=\"T_1942f_row15_col5\" class=\"data row15 col5\" >-0.129574</td>\n",
       "      <td id=\"T_1942f_row15_col6\" class=\"data row15 col6\" >-0.059121</td>\n",
       "      <td id=\"T_1942f_row15_col7\" class=\"data row15 col7\" >0.030285</td>\n",
       "      <td id=\"T_1942f_row15_col8\" class=\"data row15 col8\" >0.084827</td>\n",
       "      <td id=\"T_1942f_row15_col9\" class=\"data row15 col9\" >0.003026</td>\n",
       "      <td id=\"T_1942f_row15_col10\" class=\"data row15 col10\" >-0.184862</td>\n",
       "      <td id=\"T_1942f_row15_col11\" class=\"data row15 col11\" >-0.261190</td>\n",
       "      <td id=\"T_1942f_row15_col12\" class=\"data row15 col12\" >0.074845</td>\n",
       "      <td id=\"T_1942f_row15_col13\" class=\"data row15 col13\" >-0.346869</td>\n",
       "      <td id=\"T_1942f_row15_col14\" class=\"data row15 col14\" >0.064357</td>\n",
       "      <td id=\"T_1942f_row15_col15\" class=\"data row15 col15\" >1.000000</td>\n",
       "      <td id=\"T_1942f_row15_col16\" class=\"data row15 col16\" >0.267048</td>\n",
       "      <td id=\"T_1942f_row15_col17\" class=\"data row15 col17\" >-0.564072</td>\n",
       "      <td id=\"T_1942f_row15_col18\" class=\"data row15 col18\" >-0.279033</td>\n",
       "      <td id=\"T_1942f_row15_col19\" class=\"data row15 col19\" >-0.147221</td>\n",
       "      <td id=\"T_1942f_row15_col20\" class=\"data row15 col20\" >-0.031555</td>\n",
       "      <td id=\"T_1942f_row15_col21\" class=\"data row15 col21\" >-0.221298</td>\n",
       "    </tr>\n",
       "    <tr>\n",
       "      <th id=\"T_1942f_level0_row16\" class=\"row_heading level0 row16\" >lat</th>\n",
       "      <td id=\"T_1942f_row16_col0\" class=\"data row16 col0\" >-0.001891</td>\n",
       "      <td id=\"T_1942f_row16_col1\" class=\"data row16 col1\" >0.307003</td>\n",
       "      <td id=\"T_1942f_row16_col2\" class=\"data row16 col2\" >-0.008931</td>\n",
       "      <td id=\"T_1942f_row16_col3\" class=\"data row16 col3\" >0.024573</td>\n",
       "      <td id=\"T_1942f_row16_col4\" class=\"data row16 col4\" >0.052529</td>\n",
       "      <td id=\"T_1942f_row16_col5\" class=\"data row16 col5\" >-0.085683</td>\n",
       "      <td id=\"T_1942f_row16_col6\" class=\"data row16 col6\" >0.049614</td>\n",
       "      <td id=\"T_1942f_row16_col7\" class=\"data row16 col7\" >-0.014274</td>\n",
       "      <td id=\"T_1942f_row16_col8\" class=\"data row16 col8\" >0.006157</td>\n",
       "      <td id=\"T_1942f_row16_col9\" class=\"data row16 col9\" >-0.014941</td>\n",
       "      <td id=\"T_1942f_row16_col10\" class=\"data row16 col10\" >0.114084</td>\n",
       "      <td id=\"T_1942f_row16_col11\" class=\"data row16 col11\" >-0.000816</td>\n",
       "      <td id=\"T_1942f_row16_col12\" class=\"data row16 col12\" >0.110538</td>\n",
       "      <td id=\"T_1942f_row16_col13\" class=\"data row16 col13\" >-0.148122</td>\n",
       "      <td id=\"T_1942f_row16_col14\" class=\"data row16 col14\" >0.029398</td>\n",
       "      <td id=\"T_1942f_row16_col15\" class=\"data row16 col15\" >0.267048</td>\n",
       "      <td id=\"T_1942f_row16_col16\" class=\"data row16 col16\" >1.000000</td>\n",
       "      <td id=\"T_1942f_row16_col17\" class=\"data row16 col17\" >-0.135512</td>\n",
       "      <td id=\"T_1942f_row16_col18\" class=\"data row16 col18\" >0.048858</td>\n",
       "      <td id=\"T_1942f_row16_col19\" class=\"data row16 col19\" >-0.086419</td>\n",
       "      <td id=\"T_1942f_row16_col20\" class=\"data row16 col20\" >0.446489</td>\n",
       "      <td id=\"T_1942f_row16_col21\" class=\"data row16 col21\" >0.039376</td>\n",
       "    </tr>\n",
       "    <tr>\n",
       "      <th id=\"T_1942f_level0_row17\" class=\"row_heading level0 row17\" >long</th>\n",
       "      <td id=\"T_1942f_row17_col0\" class=\"data row17 col0\" >0.020799</td>\n",
       "      <td id=\"T_1942f_row17_col1\" class=\"data row17 col1\" >0.021626</td>\n",
       "      <td id=\"T_1942f_row17_col2\" class=\"data row17 col2\" >0.129473</td>\n",
       "      <td id=\"T_1942f_row17_col3\" class=\"data row17 col3\" >0.223042</td>\n",
       "      <td id=\"T_1942f_row17_col4\" class=\"data row17 col4\" >0.240223</td>\n",
       "      <td id=\"T_1942f_row17_col5\" class=\"data row17 col5\" >0.229521</td>\n",
       "      <td id=\"T_1942f_row17_col6\" class=\"data row17 col6\" >0.125419</td>\n",
       "      <td id=\"T_1942f_row17_col7\" class=\"data row17 col7\" >-0.041910</td>\n",
       "      <td id=\"T_1942f_row17_col8\" class=\"data row17 col8\" >-0.078400</td>\n",
       "      <td id=\"T_1942f_row17_col9\" class=\"data row17 col9\" >-0.106500</td>\n",
       "      <td id=\"T_1942f_row17_col10\" class=\"data row17 col10\" >0.198372</td>\n",
       "      <td id=\"T_1942f_row17_col11\" class=\"data row17 col11\" >0.343803</td>\n",
       "      <td id=\"T_1942f_row17_col12\" class=\"data row17 col12\" >-0.144765</td>\n",
       "      <td id=\"T_1942f_row17_col13\" class=\"data row17 col13\" >0.409356</td>\n",
       "      <td id=\"T_1942f_row17_col14\" class=\"data row17 col14\" >-0.068372</td>\n",
       "      <td id=\"T_1942f_row17_col15\" class=\"data row17 col15\" >-0.564072</td>\n",
       "      <td id=\"T_1942f_row17_col16\" class=\"data row17 col16\" >-0.135512</td>\n",
       "      <td id=\"T_1942f_row17_col17\" class=\"data row17 col17\" >1.000000</td>\n",
       "      <td id=\"T_1942f_row17_col18\" class=\"data row17 col18\" >0.334605</td>\n",
       "      <td id=\"T_1942f_row17_col19\" class=\"data row17 col19\" >0.254451</td>\n",
       "      <td id=\"T_1942f_row17_col20\" class=\"data row17 col20\" >0.050202</td>\n",
       "      <td id=\"T_1942f_row17_col21\" class=\"data row17 col21\" >0.255496</td>\n",
       "    </tr>\n",
       "    <tr>\n",
       "      <th id=\"T_1942f_level0_row18\" class=\"row_heading level0 row18\" >sqft_living15</th>\n",
       "      <td id=\"T_1942f_row18_col0\" class=\"data row18 col0\" >-0.002901</td>\n",
       "      <td id=\"T_1942f_row18_col1\" class=\"data row18 col1\" >0.585379</td>\n",
       "      <td id=\"T_1942f_row18_col2\" class=\"data row18 col2\" >0.391638</td>\n",
       "      <td id=\"T_1942f_row18_col3\" class=\"data row18 col3\" >0.568634</td>\n",
       "      <td id=\"T_1942f_row18_col4\" class=\"data row18 col4\" >0.756420</td>\n",
       "      <td id=\"T_1942f_row18_col5\" class=\"data row18 col5\" >0.144608</td>\n",
       "      <td id=\"T_1942f_row18_col6\" class=\"data row18 col6\" >0.279885</td>\n",
       "      <td id=\"T_1942f_row18_col7\" class=\"data row18 col7\" >0.086463</td>\n",
       "      <td id=\"T_1942f_row18_col8\" class=\"data row18 col8\" >0.280439</td>\n",
       "      <td id=\"T_1942f_row18_col9\" class=\"data row18 col9\" >-0.092824</td>\n",
       "      <td id=\"T_1942f_row18_col10\" class=\"data row18 col10\" >0.713202</td>\n",
       "      <td id=\"T_1942f_row18_col11\" class=\"data row18 col11\" >0.731870</td>\n",
       "      <td id=\"T_1942f_row18_col12\" class=\"data row18 col12\" >0.200355</td>\n",
       "      <td id=\"T_1942f_row18_col13\" class=\"data row18 col13\" >0.326229</td>\n",
       "      <td id=\"T_1942f_row18_col14\" class=\"data row18 col14\" >-0.002673</td>\n",
       "      <td id=\"T_1942f_row18_col15\" class=\"data row18 col15\" >-0.279033</td>\n",
       "      <td id=\"T_1942f_row18_col16\" class=\"data row18 col16\" >0.048858</td>\n",
       "      <td id=\"T_1942f_row18_col17\" class=\"data row18 col17\" >0.334605</td>\n",
       "      <td id=\"T_1942f_row18_col18\" class=\"data row18 col18\" >1.000000</td>\n",
       "      <td id=\"T_1942f_row18_col19\" class=\"data row18 col19\" >0.183192</td>\n",
       "      <td id=\"T_1942f_row18_col20\" class=\"data row18 col20\" >0.617884</td>\n",
       "      <td id=\"T_1942f_row18_col21\" class=\"data row18 col21\" >0.736531</td>\n",
       "    </tr>\n",
       "    <tr>\n",
       "      <th id=\"T_1942f_level0_row19\" class=\"row_heading level0 row19\" >sqft_lot15</th>\n",
       "      <td id=\"T_1942f_row19_col0\" class=\"data row19 col0\" >-0.138798</td>\n",
       "      <td id=\"T_1942f_row19_col1\" class=\"data row19 col1\" >0.082447</td>\n",
       "      <td id=\"T_1942f_row19_col2\" class=\"data row19 col2\" >0.029244</td>\n",
       "      <td id=\"T_1942f_row19_col3\" class=\"data row19 col3\" >0.087175</td>\n",
       "      <td id=\"T_1942f_row19_col4\" class=\"data row19 col4\" >0.183286</td>\n",
       "      <td id=\"T_1942f_row19_col5\" class=\"data row19 col5\" >0.718557</td>\n",
       "      <td id=\"T_1942f_row19_col6\" class=\"data row19 col6\" >-0.011269</td>\n",
       "      <td id=\"T_1942f_row19_col7\" class=\"data row19 col7\" >0.030703</td>\n",
       "      <td id=\"T_1942f_row19_col8\" class=\"data row19 col8\" >0.072575</td>\n",
       "      <td id=\"T_1942f_row19_col9\" class=\"data row19 col9\" >-0.003406</td>\n",
       "      <td id=\"T_1942f_row19_col10\" class=\"data row19 col10\" >0.119248</td>\n",
       "      <td id=\"T_1942f_row19_col11\" class=\"data row19 col11\" >0.194050</td>\n",
       "      <td id=\"T_1942f_row19_col12\" class=\"data row19 col12\" >0.017276</td>\n",
       "      <td id=\"T_1942f_row19_col13\" class=\"data row19 col13\" >0.070958</td>\n",
       "      <td id=\"T_1942f_row19_col14\" class=\"data row19 col14\" >0.007854</td>\n",
       "      <td id=\"T_1942f_row19_col15\" class=\"data row19 col15\" >-0.147221</td>\n",
       "      <td id=\"T_1942f_row19_col16\" class=\"data row19 col16\" >-0.086419</td>\n",
       "      <td id=\"T_1942f_row19_col17\" class=\"data row19 col17\" >0.254451</td>\n",
       "      <td id=\"T_1942f_row19_col18\" class=\"data row19 col18\" >0.183192</td>\n",
       "      <td id=\"T_1942f_row19_col19\" class=\"data row19 col19\" >1.000000</td>\n",
       "      <td id=\"T_1942f_row19_col20\" class=\"data row19 col20\" >0.092413</td>\n",
       "      <td id=\"T_1942f_row19_col21\" class=\"data row19 col21\" >0.160884</td>\n",
       "    </tr>\n",
       "    <tr>\n",
       "      <th id=\"T_1942f_level0_row20\" class=\"row_heading level0 row20\" >logged price</th>\n",
       "      <td id=\"T_1942f_row20_col0\" class=\"data row20 col0\" >-0.005564</td>\n",
       "      <td id=\"T_1942f_row20_col1\" class=\"data row20 col1\" >0.894627</td>\n",
       "      <td id=\"T_1942f_row20_col2\" class=\"data row20 col2\" >0.349680</td>\n",
       "      <td id=\"T_1942f_row20_col3\" class=\"data row20 col3\" >0.549958</td>\n",
       "      <td id=\"T_1942f_row20_col4\" class=\"data row20 col4\" >0.694044</td>\n",
       "      <td id=\"T_1942f_row20_col5\" class=\"data row20 col5\" >0.104082</td>\n",
       "      <td id=\"T_1942f_row20_col6\" class=\"data row20 col6\" >0.309431</td>\n",
       "      <td id=\"T_1942f_row20_col7\" class=\"data row20 col7\" >0.183876</td>\n",
       "      <td id=\"T_1942f_row20_col8\" class=\"data row20 col8\" >0.350607</td>\n",
       "      <td id=\"T_1942f_row20_col9\" class=\"data row20 col9\" >0.046330</td>\n",
       "      <td id=\"T_1942f_row20_col10\" class=\"data row20 col10\" >0.700612</td>\n",
       "      <td id=\"T_1942f_row20_col11\" class=\"data row20 col11\" >0.600244</td>\n",
       "      <td id=\"T_1942f_row20_col12\" class=\"data row20 col12\" >0.319694</td>\n",
       "      <td id=\"T_1942f_row20_col13\" class=\"data row20 col13\" >0.080164</td>\n",
       "      <td id=\"T_1942f_row20_col14\" class=\"data row20 col14\" >0.112886</td>\n",
       "      <td id=\"T_1942f_row20_col15\" class=\"data row20 col15\" >-0.031555</td>\n",
       "      <td id=\"T_1942f_row20_col16\" class=\"data row20 col16\" >0.446489</td>\n",
       "      <td id=\"T_1942f_row20_col17\" class=\"data row20 col17\" >0.050202</td>\n",
       "      <td id=\"T_1942f_row20_col18\" class=\"data row20 col18\" >0.617884</td>\n",
       "      <td id=\"T_1942f_row20_col19\" class=\"data row20 col19\" >0.092413</td>\n",
       "      <td id=\"T_1942f_row20_col20\" class=\"data row20 col20\" >1.000000</td>\n",
       "      <td id=\"T_1942f_row20_col21\" class=\"data row20 col21\" >0.673939</td>\n",
       "    </tr>\n",
       "    <tr>\n",
       "      <th id=\"T_1942f_level0_row21\" class=\"row_heading level0 row21\" >logged sqft_living</th>\n",
       "      <td id=\"T_1942f_row21_col0\" class=\"data row21 col0\" >-0.001810</td>\n",
       "      <td id=\"T_1942f_row21_col1\" class=\"data row21 col1\" >0.611704</td>\n",
       "      <td id=\"T_1942f_row21_col2\" class=\"data row21 col2\" >0.620864</td>\n",
       "      <td id=\"T_1942f_row21_col3\" class=\"data row21 col3\" >0.761304</td>\n",
       "      <td id=\"T_1942f_row21_col4\" class=\"data row21 col4\" >0.954322</td>\n",
       "      <td id=\"T_1942f_row21_col5\" class=\"data row21 col5\" >0.148859</td>\n",
       "      <td id=\"T_1942f_row21_col6\" class=\"data row21 col6\" >0.367569</td>\n",
       "      <td id=\"T_1942f_row21_col7\" class=\"data row21 col7\" >0.079306</td>\n",
       "      <td id=\"T_1942f_row21_col8\" class=\"data row21 col8\" >0.246712</td>\n",
       "      <td id=\"T_1942f_row21_col9\" class=\"data row21 col9\" >-0.048143</td>\n",
       "      <td id=\"T_1942f_row21_col10\" class=\"data row21 col10\" >0.743686</td>\n",
       "      <td id=\"T_1942f_row21_col11\" class=\"data row21 col11\" >0.832293</td>\n",
       "      <td id=\"T_1942f_row21_col12\" class=\"data row21 col12\" >0.423147</td>\n",
       "      <td id=\"T_1942f_row21_col13\" class=\"data row21 col13\" >0.349296</td>\n",
       "      <td id=\"T_1942f_row21_col14\" class=\"data row21 col14\" >0.051089</td>\n",
       "      <td id=\"T_1942f_row21_col15\" class=\"data row21 col15\" >-0.221298</td>\n",
       "      <td id=\"T_1942f_row21_col16\" class=\"data row21 col16\" >0.039376</td>\n",
       "      <td id=\"T_1942f_row21_col17\" class=\"data row21 col17\" >0.255496</td>\n",
       "      <td id=\"T_1942f_row21_col18\" class=\"data row21 col18\" >0.736531</td>\n",
       "      <td id=\"T_1942f_row21_col19\" class=\"data row21 col19\" >0.160884</td>\n",
       "      <td id=\"T_1942f_row21_col20\" class=\"data row21 col20\" >0.673939</td>\n",
       "      <td id=\"T_1942f_row21_col21\" class=\"data row21 col21\" >1.000000</td>\n",
       "    </tr>\n",
       "  </tbody>\n",
       "</table>\n"
      ],
      "text/plain": [
       "<pandas.io.formats.style.Styler at 0x1f7092346a0>"
      ]
     },
     "execution_count": 85,
     "metadata": {},
     "output_type": "execute_result"
    }
   ],
   "source": [
    "corr_matrix = dataset.corr()\n",
    "print(corr_matrix)\n",
    "corr_matrix.style.background_gradient(cmap= 'RdYlGn')"
   ]
  },
  {
   "cell_type": "markdown",
   "id": "7b25bf61",
   "metadata": {},
   "source": [
    "**By observing the plots and correlation matrix, we found that our initial hypothesis is faulty. From our hypothesis, only 'sqft_living', and 'grade' have significant correlation with the target variable 'price**\n"
   ]
  },
  {
   "cell_type": "markdown",
   "id": "b5f87687",
   "metadata": {},
   "source": [
    "**-Other hypothesis variables are useless to define the correlation with the target variable 'price'. S they have no predictive power for the Machine Learning Model and therefore are meaningless**\n"
   ]
  },
  {
   "cell_type": "markdown",
   "id": "04a15fc6",
   "metadata": {},
   "source": [
    "# ------------------------------------------------------------------"
   ]
  },
  {
   "cell_type": "markdown",
   "id": "2d27a47e",
   "metadata": {},
   "source": [
    "**However other features like 'bathrooms', 'sqft_above''sqft_living15', and'view' are found to have significant correlation with target variable 'price' as clearly seen in correlation matrix, therefore, it is indispensable to include them in training the model as they wiall play  significant role in predicting the value for the targer variable 'price'**"
   ]
  },
  {
   "cell_type": "code",
   "execution_count": 86,
   "id": "ad77b170",
   "metadata": {},
   "outputs": [
    {
     "data": {
      "image/png": "[encoded data removed]",
      "text/plain": [
       "<Figure size 432x288 with 1 Axes>"
      ]
     },
     "metadata": {
      "needs_background": "light"
     },
     "output_type": "display_data"
    }
   ],
   "source": [
    "plt.scatter(dataset['sqft_above'], dataset['price'])\n",
    "plt.xlabel('sqft_above', fontsize=14)\n",
    "plt.ylabel('Price', fontsize=14)\n",
    "plt.show()"
   ]
  },
  {
   "cell_type": "code",
   "execution_count": 87,
   "id": "876e465b",
   "metadata": {},
   "outputs": [
    {
     "data": {
      "image/png": "[encoded data removed]",
      "text/plain": [
       "<Figure size 432x288 with 1 Axes>"
      ]
     },
     "metadata": {
      "needs_background": "light"
     },
     "output_type": "display_data"
    }
   ],
   "source": [
    "plt.scatter(dataset['sqft_living15'], dataset['price'])\n",
    "plt.xlabel('sqft_living15', fontsize=14)\n",
    "plt.ylabel('Price', fontsize=14)\n",
    "plt.show()"
   ]
  },
  {
   "cell_type": "code",
   "execution_count": 88,
   "id": "e674a232",
   "metadata": {},
   "outputs": [
    {
     "data": {
      "image/png": "[encoded data removed]",
      "text/plain": [
       "<Figure size 432x288 with 1 Axes>"
      ]
     },
     "metadata": {
      "needs_background": "light"
     },
     "output_type": "display_data"
    }
   ],
   "source": [
    "plt.bar(dataset['bathrooms'], dataset['price'])\n",
    "plt.xlabel('No: of Bathrooms', fontsize=14)\n",
    "plt.ylabel('Price', fontsize=14)\n",
    "plt.show()"
   ]
  },
  {
   "cell_type": "code",
   "execution_count": 89,
   "id": "c59875dc",
   "metadata": {
    "scrolled": true
   },
   "outputs": [
    {
     "data": {
      "image/png": "[encoded data removed]",
      "text/plain": [
       "<Figure size 432x288 with 1 Axes>"
      ]
     },
     "metadata": {
      "needs_background": "light"
     },
     "output_type": "display_data"
    }
   ],
   "source": [
    "plt.bar(dataset['view'], dataset['price'])\n",
    "plt.xlabel('View', fontsize=14)\n",
    "plt.ylabel('Price', fontsize=14)\n",
    "plt.show()"
   ]
  },
  {
   "cell_type": "markdown",
   "id": "2282c64c",
   "metadata": {},
   "source": [
    "**X (Independent variables, features)**"
   ]
  },
  {
   "cell_type": "code",
   "execution_count": 90,
   "id": "fd21bbad",
   "metadata": {
    "scrolled": true
   },
   "outputs": [
    {
     "data": {
      "text/html": [
       "<div>\n",
       "<style scoped>\n",
       "    .dataframe tbody tr th:only-of-type {\n",
       "        vertical-align: middle;\n",
       "    }\n",
       "\n",
       "    .dataframe tbody tr th {\n",
       "        vertical-align: top;\n",
       "    }\n",
       "\n",
       "    .dataframe thead th {\n",
       "        text-align: right;\n",
       "    }\n",
       "</style>\n",
       "<table border=\"1\" class=\"dataframe\">\n",
       "  <thead>\n",
       "    <tr style=\"text-align: right;\">\n",
       "      <th></th>\n",
       "      <th>bedrooms</th>\n",
       "      <th>bathrooms</th>\n",
       "      <th>sqft_living</th>\n",
       "      <th>sqft_lot</th>\n",
       "      <th>floors</th>\n",
       "      <th>waterfront</th>\n",
       "      <th>view</th>\n",
       "      <th>condition</th>\n",
       "      <th>grade</th>\n",
       "      <th>sqft_above</th>\n",
       "      <th>...</th>\n",
       "      <th>yr_built</th>\n",
       "      <th>yr_renovated</th>\n",
       "      <th>zipcode</th>\n",
       "      <th>lat</th>\n",
       "      <th>long</th>\n",
       "      <th>sqft_living15</th>\n",
       "      <th>sqft_lot15</th>\n",
       "      <th>logged price</th>\n",
       "      <th>logged sqft_living</th>\n",
       "      <th>date</th>\n",
       "    </tr>\n",
       "  </thead>\n",
       "  <tbody>\n",
       "    <tr>\n",
       "      <th>0</th>\n",
       "      <td>3</td>\n",
       "      <td>1.00</td>\n",
       "      <td>1180</td>\n",
       "      <td>5650</td>\n",
       "      <td>1.0</td>\n",
       "      <td>0</td>\n",
       "      <td>0</td>\n",
       "      <td>3</td>\n",
       "      <td>7</td>\n",
       "      <td>1180</td>\n",
       "      <td>...</td>\n",
       "      <td>1955</td>\n",
       "      <td>0</td>\n",
       "      <td>98178</td>\n",
       "      <td>47.5112</td>\n",
       "      <td>-122.257</td>\n",
       "      <td>1340</td>\n",
       "      <td>5650</td>\n",
       "      <td>12.309982</td>\n",
       "      <td>7.073270</td>\n",
       "      <td>20141013T000000</td>\n",
       "    </tr>\n",
       "    <tr>\n",
       "      <th>1</th>\n",
       "      <td>3</td>\n",
       "      <td>2.25</td>\n",
       "      <td>2570</td>\n",
       "      <td>7242</td>\n",
       "      <td>2.0</td>\n",
       "      <td>0</td>\n",
       "      <td>0</td>\n",
       "      <td>3</td>\n",
       "      <td>7</td>\n",
       "      <td>2170</td>\n",
       "      <td>...</td>\n",
       "      <td>1951</td>\n",
       "      <td>1991</td>\n",
       "      <td>98125</td>\n",
       "      <td>47.7210</td>\n",
       "      <td>-122.319</td>\n",
       "      <td>1690</td>\n",
       "      <td>7639</td>\n",
       "      <td>NaN</td>\n",
       "      <td>7.851661</td>\n",
       "      <td>20141209T000000</td>\n",
       "    </tr>\n",
       "    <tr>\n",
       "      <th>2</th>\n",
       "      <td>2</td>\n",
       "      <td>1.00</td>\n",
       "      <td>770</td>\n",
       "      <td>10000</td>\n",
       "      <td>1.0</td>\n",
       "      <td>0</td>\n",
       "      <td>0</td>\n",
       "      <td>3</td>\n",
       "      <td>6</td>\n",
       "      <td>770</td>\n",
       "      <td>...</td>\n",
       "      <td>1933</td>\n",
       "      <td>0</td>\n",
       "      <td>98028</td>\n",
       "      <td>47.7379</td>\n",
       "      <td>-122.233</td>\n",
       "      <td>2720</td>\n",
       "      <td>8062</td>\n",
       "      <td>12.100712</td>\n",
       "      <td>6.646391</td>\n",
       "      <td>20150225T000000</td>\n",
       "    </tr>\n",
       "    <tr>\n",
       "      <th>3</th>\n",
       "      <td>4</td>\n",
       "      <td>3.00</td>\n",
       "      <td>1960</td>\n",
       "      <td>5000</td>\n",
       "      <td>1.0</td>\n",
       "      <td>0</td>\n",
       "      <td>0</td>\n",
       "      <td>5</td>\n",
       "      <td>7</td>\n",
       "      <td>1050</td>\n",
       "      <td>...</td>\n",
       "      <td>1965</td>\n",
       "      <td>0</td>\n",
       "      <td>98136</td>\n",
       "      <td>47.5208</td>\n",
       "      <td>-122.393</td>\n",
       "      <td>1360</td>\n",
       "      <td>5000</td>\n",
       "      <td>13.311329</td>\n",
       "      <td>7.580700</td>\n",
       "      <td>20141209T000000</td>\n",
       "    </tr>\n",
       "    <tr>\n",
       "      <th>4</th>\n",
       "      <td>3</td>\n",
       "      <td>2.00</td>\n",
       "      <td>1680</td>\n",
       "      <td>8080</td>\n",
       "      <td>1.0</td>\n",
       "      <td>0</td>\n",
       "      <td>0</td>\n",
       "      <td>3</td>\n",
       "      <td>8</td>\n",
       "      <td>1680</td>\n",
       "      <td>...</td>\n",
       "      <td>1987</td>\n",
       "      <td>0</td>\n",
       "      <td>98074</td>\n",
       "      <td>47.6168</td>\n",
       "      <td>-122.045</td>\n",
       "      <td>1800</td>\n",
       "      <td>7503</td>\n",
       "      <td>13.142166</td>\n",
       "      <td>7.426549</td>\n",
       "      <td>20150218T000000</td>\n",
       "    </tr>\n",
       "    <tr>\n",
       "      <th>...</th>\n",
       "      <td>...</td>\n",
       "      <td>...</td>\n",
       "      <td>...</td>\n",
       "      <td>...</td>\n",
       "      <td>...</td>\n",
       "      <td>...</td>\n",
       "      <td>...</td>\n",
       "      <td>...</td>\n",
       "      <td>...</td>\n",
       "      <td>...</td>\n",
       "      <td>...</td>\n",
       "      <td>...</td>\n",
       "      <td>...</td>\n",
       "      <td>...</td>\n",
       "      <td>...</td>\n",
       "      <td>...</td>\n",
       "      <td>...</td>\n",
       "      <td>...</td>\n",
       "      <td>...</td>\n",
       "      <td>...</td>\n",
       "      <td>...</td>\n",
       "    </tr>\n",
       "    <tr>\n",
       "      <th>21608</th>\n",
       "      <td>3</td>\n",
       "      <td>2.50</td>\n",
       "      <td>1530</td>\n",
       "      <td>1131</td>\n",
       "      <td>3.0</td>\n",
       "      <td>0</td>\n",
       "      <td>0</td>\n",
       "      <td>3</td>\n",
       "      <td>8</td>\n",
       "      <td>1530</td>\n",
       "      <td>...</td>\n",
       "      <td>2009</td>\n",
       "      <td>0</td>\n",
       "      <td>98103</td>\n",
       "      <td>47.6993</td>\n",
       "      <td>-122.346</td>\n",
       "      <td>1530</td>\n",
       "      <td>1509</td>\n",
       "      <td>12.793859</td>\n",
       "      <td>7.333023</td>\n",
       "      <td>20140521T000000</td>\n",
       "    </tr>\n",
       "    <tr>\n",
       "      <th>21609</th>\n",
       "      <td>4</td>\n",
       "      <td>2.50</td>\n",
       "      <td>2310</td>\n",
       "      <td>5813</td>\n",
       "      <td>2.0</td>\n",
       "      <td>0</td>\n",
       "      <td>0</td>\n",
       "      <td>3</td>\n",
       "      <td>8</td>\n",
       "      <td>2310</td>\n",
       "      <td>...</td>\n",
       "      <td>2014</td>\n",
       "      <td>0</td>\n",
       "      <td>98146</td>\n",
       "      <td>47.5107</td>\n",
       "      <td>-122.362</td>\n",
       "      <td>1830</td>\n",
       "      <td>7200</td>\n",
       "      <td>NaN</td>\n",
       "      <td>7.745003</td>\n",
       "      <td>20150223T000000</td>\n",
       "    </tr>\n",
       "    <tr>\n",
       "      <th>21610</th>\n",
       "      <td>2</td>\n",
       "      <td>0.75</td>\n",
       "      <td>1020</td>\n",
       "      <td>1350</td>\n",
       "      <td>2.0</td>\n",
       "      <td>0</td>\n",
       "      <td>0</td>\n",
       "      <td>3</td>\n",
       "      <td>7</td>\n",
       "      <td>1020</td>\n",
       "      <td>...</td>\n",
       "      <td>2009</td>\n",
       "      <td>0</td>\n",
       "      <td>98144</td>\n",
       "      <td>47.5944</td>\n",
       "      <td>-122.299</td>\n",
       "      <td>1020</td>\n",
       "      <td>2007</td>\n",
       "      <td>NaN</td>\n",
       "      <td>6.927558</td>\n",
       "      <td>20140623T000000</td>\n",
       "    </tr>\n",
       "    <tr>\n",
       "      <th>21611</th>\n",
       "      <td>3</td>\n",
       "      <td>2.50</td>\n",
       "      <td>1600</td>\n",
       "      <td>2388</td>\n",
       "      <td>2.0</td>\n",
       "      <td>0</td>\n",
       "      <td>0</td>\n",
       "      <td>3</td>\n",
       "      <td>8</td>\n",
       "      <td>1600</td>\n",
       "      <td>...</td>\n",
       "      <td>2004</td>\n",
       "      <td>0</td>\n",
       "      <td>98027</td>\n",
       "      <td>47.5345</td>\n",
       "      <td>-122.069</td>\n",
       "      <td>1410</td>\n",
       "      <td>1287</td>\n",
       "      <td>NaN</td>\n",
       "      <td>7.377759</td>\n",
       "      <td>20150116T000000</td>\n",
       "    </tr>\n",
       "    <tr>\n",
       "      <th>21612</th>\n",
       "      <td>2</td>\n",
       "      <td>0.75</td>\n",
       "      <td>1020</td>\n",
       "      <td>1076</td>\n",
       "      <td>2.0</td>\n",
       "      <td>0</td>\n",
       "      <td>0</td>\n",
       "      <td>3</td>\n",
       "      <td>7</td>\n",
       "      <td>1020</td>\n",
       "      <td>...</td>\n",
       "      <td>2008</td>\n",
       "      <td>0</td>\n",
       "      <td>98144</td>\n",
       "      <td>47.5941</td>\n",
       "      <td>-122.299</td>\n",
       "      <td>1020</td>\n",
       "      <td>1357</td>\n",
       "      <td>12.691580</td>\n",
       "      <td>6.927558</td>\n",
       "      <td>20141015T000000</td>\n",
       "    </tr>\n",
       "  </tbody>\n",
       "</table>\n",
       "<p>21613 rows × 21 columns</p>\n",
       "</div>"
      ],
      "text/plain": [
       "       bedrooms  bathrooms  sqft_living  sqft_lot  floors  waterfront  view  \\\n",
       "0             3       1.00         1180      5650     1.0           0     0   \n",
       "1             3       2.25         2570      7242     2.0           0     0   \n",
       "2             2       1.00          770     10000     1.0           0     0   \n",
       "3             4       3.00         1960      5000     1.0           0     0   \n",
       "4             3       2.00         1680      8080     1.0           0     0   \n",
       "...         ...        ...          ...       ...     ...         ...   ...   \n",
       "21608         3       2.50         1530      1131     3.0           0     0   \n",
       "21609         4       2.50         2310      5813     2.0           0     0   \n",
       "21610         2       0.75         1020      1350     2.0           0     0   \n",
       "21611         3       2.50         1600      2388     2.0           0     0   \n",
       "21612         2       0.75         1020      1076     2.0           0     0   \n",
       "\n",
       "       condition  grade  sqft_above  ...  yr_built  yr_renovated  zipcode  \\\n",
       "0              3      7        1180  ...      1955             0    98178   \n",
       "1              3      7        2170  ...      1951          1991    98125   \n",
       "2              3      6         770  ...      1933             0    98028   \n",
       "3              5      7        1050  ...      1965             0    98136   \n",
       "4              3      8        1680  ...      1987             0    98074   \n",
       "...          ...    ...         ...  ...       ...           ...      ...   \n",
       "21608          3      8        1530  ...      2009             0    98103   \n",
       "21609          3      8        2310  ...      2014             0    98146   \n",
       "21610          3      7        1020  ...      2009             0    98144   \n",
       "21611          3      8        1600  ...      2004             0    98027   \n",
       "21612          3      7        1020  ...      2008             0    98144   \n",
       "\n",
       "           lat     long  sqft_living15  sqft_lot15  logged price  \\\n",
       "0      47.5112 -122.257           1340        5650     12.309982   \n",
       "1      47.7210 -122.319           1690        7639           NaN   \n",
       "2      47.7379 -122.233           2720        8062     12.100712   \n",
       "3      47.5208 -122.393           1360        5000     13.311329   \n",
       "4      47.6168 -122.045           1800        7503     13.142166   \n",
       "...        ...      ...            ...         ...           ...   \n",
       "21608  47.6993 -122.346           1530        1509     12.793859   \n",
       "21609  47.5107 -122.362           1830        7200           NaN   \n",
       "21610  47.5944 -122.299           1020        2007           NaN   \n",
       "21611  47.5345 -122.069           1410        1287           NaN   \n",
       "21612  47.5941 -122.299           1020        1357     12.691580   \n",
       "\n",
       "       logged sqft_living             date  \n",
       "0                7.073270  20141013T000000  \n",
       "1                7.851661  20141209T000000  \n",
       "2                6.646391  20150225T000000  \n",
       "3                7.580700  20141209T000000  \n",
       "4                7.426549  20150218T000000  \n",
       "...                   ...              ...  \n",
       "21608            7.333023  20140521T000000  \n",
       "21609            7.745003  20150223T000000  \n",
       "21610            6.927558  20140623T000000  \n",
       "21611            7.377759  20150116T000000  \n",
       "21612            6.927558  20141015T000000  \n",
       "\n",
       "[21613 rows x 21 columns]"
      ]
     },
     "execution_count": 90,
     "metadata": {},
     "output_type": "execute_result"
    }
   ],
   "source": [
    "X\n"
   ]
  },
  {
   "cell_type": "markdown",
   "id": "021b24d0",
   "metadata": {},
   "source": [
    "**y (target variables 'Price')**"
   ]
  },
  {
   "cell_type": "code",
   "execution_count": 91,
   "id": "36c310d3",
   "metadata": {},
   "outputs": [
    {
     "data": {
      "text/plain": [
       "0        221900.0\n",
       "1        538000.0\n",
       "2        180000.0\n",
       "3        604000.0\n",
       "4        510000.0\n",
       "           ...   \n",
       "21608    360000.0\n",
       "21609    400000.0\n",
       "21610    402101.0\n",
       "21611    400000.0\n",
       "21612    325000.0\n",
       "Name: price, Length: 21613, dtype: float64"
      ]
     },
     "execution_count": 91,
     "metadata": {},
     "output_type": "execute_result"
    }
   ],
   "source": [
    "y"
   ]
  },
  {
   "cell_type": "code",
   "execution_count": 451,
   "id": "30a39032",
   "metadata": {},
   "outputs": [],
   "source": [
    "#Splitting the data into train,test data \n",
    "X_train,X_test,y_train,y_test = train_test_split(X,y,test_size=0.3,random_state=0)"
   ]
  },
  {
   "cell_type": "code",
   "execution_count": 452,
   "id": "a0bc7082",
   "metadata": {
    "scrolled": true
   },
   "outputs": [
    {
     "data": {
      "text/html": [
       "<div>\n",
       "<style scoped>\n",
       "    .dataframe tbody tr th:only-of-type {\n",
       "        vertical-align: middle;\n",
       "    }\n",
       "\n",
       "    .dataframe tbody tr th {\n",
       "        vertical-align: top;\n",
       "    }\n",
       "\n",
       "    .dataframe thead th {\n",
       "        text-align: right;\n",
       "    }\n",
       "</style>\n",
       "<table border=\"1\" class=\"dataframe\">\n",
       "  <thead>\n",
       "    <tr style=\"text-align: right;\">\n",
       "      <th></th>\n",
       "      <th>bedrooms</th>\n",
       "      <th>bathrooms</th>\n",
       "      <th>sqft_living</th>\n",
       "      <th>sqft_lot</th>\n",
       "      <th>floors</th>\n",
       "      <th>waterfront</th>\n",
       "      <th>view</th>\n",
       "      <th>condition</th>\n",
       "      <th>grade</th>\n",
       "      <th>sqft_above</th>\n",
       "      <th>...</th>\n",
       "      <th>yr_built</th>\n",
       "      <th>yr_renovated</th>\n",
       "      <th>zipcode</th>\n",
       "      <th>lat</th>\n",
       "      <th>long</th>\n",
       "      <th>sqft_living15</th>\n",
       "      <th>sqft_lot15</th>\n",
       "      <th>logged price</th>\n",
       "      <th>logged sqft_living</th>\n",
       "      <th>date</th>\n",
       "    </tr>\n",
       "  </thead>\n",
       "  <tbody>\n",
       "    <tr>\n",
       "      <th>1468</th>\n",
       "      <td>4</td>\n",
       "      <td>1.50</td>\n",
       "      <td>1390</td>\n",
       "      <td>7200</td>\n",
       "      <td>1.0</td>\n",
       "      <td>0</td>\n",
       "      <td>0</td>\n",
       "      <td>3</td>\n",
       "      <td>7</td>\n",
       "      <td>1140</td>\n",
       "      <td>...</td>\n",
       "      <td>1965</td>\n",
       "      <td>0</td>\n",
       "      <td>98133</td>\n",
       "      <td>47.7224</td>\n",
       "      <td>-122.332</td>\n",
       "      <td>1630</td>\n",
       "      <td>7702</td>\n",
       "      <td>12.899220</td>\n",
       "      <td>7.237059</td>\n",
       "      <td>20140529T000000</td>\n",
       "    </tr>\n",
       "    <tr>\n",
       "      <th>15590</th>\n",
       "      <td>3</td>\n",
       "      <td>1.50</td>\n",
       "      <td>1450</td>\n",
       "      <td>7316</td>\n",
       "      <td>1.0</td>\n",
       "      <td>0</td>\n",
       "      <td>0</td>\n",
       "      <td>3</td>\n",
       "      <td>7</td>\n",
       "      <td>1450</td>\n",
       "      <td>...</td>\n",
       "      <td>1961</td>\n",
       "      <td>0</td>\n",
       "      <td>98133</td>\n",
       "      <td>47.7725</td>\n",
       "      <td>-122.349</td>\n",
       "      <td>1440</td>\n",
       "      <td>7316</td>\n",
       "      <td>12.971540</td>\n",
       "      <td>7.279319</td>\n",
       "      <td>20150317T000000</td>\n",
       "    </tr>\n",
       "    <tr>\n",
       "      <th>18552</th>\n",
       "      <td>5</td>\n",
       "      <td>2.75</td>\n",
       "      <td>2860</td>\n",
       "      <td>5379</td>\n",
       "      <td>2.0</td>\n",
       "      <td>0</td>\n",
       "      <td>0</td>\n",
       "      <td>3</td>\n",
       "      <td>9</td>\n",
       "      <td>2860</td>\n",
       "      <td>...</td>\n",
       "      <td>2005</td>\n",
       "      <td>0</td>\n",
       "      <td>98052</td>\n",
       "      <td>47.7082</td>\n",
       "      <td>-122.104</td>\n",
       "      <td>2980</td>\n",
       "      <td>6018</td>\n",
       "      <td>13.487006</td>\n",
       "      <td>7.958577</td>\n",
       "      <td>20140811T000000</td>\n",
       "    </tr>\n",
       "    <tr>\n",
       "      <th>10535</th>\n",
       "      <td>2</td>\n",
       "      <td>1.00</td>\n",
       "      <td>1050</td>\n",
       "      <td>4125</td>\n",
       "      <td>1.0</td>\n",
       "      <td>0</td>\n",
       "      <td>0</td>\n",
       "      <td>4</td>\n",
       "      <td>7</td>\n",
       "      <td>1050</td>\n",
       "      <td>...</td>\n",
       "      <td>1909</td>\n",
       "      <td>0</td>\n",
       "      <td>98144</td>\n",
       "      <td>47.5736</td>\n",
       "      <td>-122.307</td>\n",
       "      <td>1650</td>\n",
       "      <td>4125</td>\n",
       "      <td>12.880292</td>\n",
       "      <td>6.956545</td>\n",
       "      <td>20140926T000000</td>\n",
       "    </tr>\n",
       "    <tr>\n",
       "      <th>1069</th>\n",
       "      <td>2</td>\n",
       "      <td>1.00</td>\n",
       "      <td>1240</td>\n",
       "      <td>57000</td>\n",
       "      <td>1.0</td>\n",
       "      <td>0</td>\n",
       "      <td>0</td>\n",
       "      <td>3</td>\n",
       "      <td>7</td>\n",
       "      <td>1240</td>\n",
       "      <td>...</td>\n",
       "      <td>1962</td>\n",
       "      <td>0</td>\n",
       "      <td>98075</td>\n",
       "      <td>47.5970</td>\n",
       "      <td>-122.059</td>\n",
       "      <td>3050</td>\n",
       "      <td>25545</td>\n",
       "      <td>13.132314</td>\n",
       "      <td>7.122867</td>\n",
       "      <td>20140710T000000</td>\n",
       "    </tr>\n",
       "    <tr>\n",
       "      <th>...</th>\n",
       "      <td>...</td>\n",
       "      <td>...</td>\n",
       "      <td>...</td>\n",
       "      <td>...</td>\n",
       "      <td>...</td>\n",
       "      <td>...</td>\n",
       "      <td>...</td>\n",
       "      <td>...</td>\n",
       "      <td>...</td>\n",
       "      <td>...</td>\n",
       "      <td>...</td>\n",
       "      <td>...</td>\n",
       "      <td>...</td>\n",
       "      <td>...</td>\n",
       "      <td>...</td>\n",
       "      <td>...</td>\n",
       "      <td>...</td>\n",
       "      <td>...</td>\n",
       "      <td>...</td>\n",
       "      <td>...</td>\n",
       "      <td>...</td>\n",
       "    </tr>\n",
       "    <tr>\n",
       "      <th>13123</th>\n",
       "      <td>5</td>\n",
       "      <td>5.00</td>\n",
       "      <td>3960</td>\n",
       "      <td>94089</td>\n",
       "      <td>2.0</td>\n",
       "      <td>0</td>\n",
       "      <td>0</td>\n",
       "      <td>3</td>\n",
       "      <td>10</td>\n",
       "      <td>3960</td>\n",
       "      <td>...</td>\n",
       "      <td>1998</td>\n",
       "      <td>0</td>\n",
       "      <td>98038</td>\n",
       "      <td>47.3800</td>\n",
       "      <td>-122.011</td>\n",
       "      <td>2240</td>\n",
       "      <td>64468</td>\n",
       "      <td>13.981025</td>\n",
       "      <td>8.283999</td>\n",
       "      <td>20141007T000000</td>\n",
       "    </tr>\n",
       "    <tr>\n",
       "      <th>19648</th>\n",
       "      <td>2</td>\n",
       "      <td>2.50</td>\n",
       "      <td>1400</td>\n",
       "      <td>1262</td>\n",
       "      <td>2.0</td>\n",
       "      <td>0</td>\n",
       "      <td>0</td>\n",
       "      <td>3</td>\n",
       "      <td>8</td>\n",
       "      <td>1160</td>\n",
       "      <td>...</td>\n",
       "      <td>2008</td>\n",
       "      <td>0</td>\n",
       "      <td>98106</td>\n",
       "      <td>47.5342</td>\n",
       "      <td>-122.349</td>\n",
       "      <td>1060</td>\n",
       "      <td>1524</td>\n",
       "      <td>12.608199</td>\n",
       "      <td>7.244228</td>\n",
       "      <td>20141118T000000</td>\n",
       "    </tr>\n",
       "    <tr>\n",
       "      <th>9845</th>\n",
       "      <td>3</td>\n",
       "      <td>2.25</td>\n",
       "      <td>2360</td>\n",
       "      <td>14950</td>\n",
       "      <td>1.0</td>\n",
       "      <td>0</td>\n",
       "      <td>0</td>\n",
       "      <td>4</td>\n",
       "      <td>9</td>\n",
       "      <td>2360</td>\n",
       "      <td>...</td>\n",
       "      <td>1978</td>\n",
       "      <td>0</td>\n",
       "      <td>98042</td>\n",
       "      <td>47.3856</td>\n",
       "      <td>-122.158</td>\n",
       "      <td>2720</td>\n",
       "      <td>14388</td>\n",
       "      <td>12.973863</td>\n",
       "      <td>7.766417</td>\n",
       "      <td>20140820T000000</td>\n",
       "    </tr>\n",
       "    <tr>\n",
       "      <th>10799</th>\n",
       "      <td>4</td>\n",
       "      <td>2.00</td>\n",
       "      <td>2370</td>\n",
       "      <td>76665</td>\n",
       "      <td>2.0</td>\n",
       "      <td>0</td>\n",
       "      <td>0</td>\n",
       "      <td>4</td>\n",
       "      <td>8</td>\n",
       "      <td>2370</td>\n",
       "      <td>...</td>\n",
       "      <td>1978</td>\n",
       "      <td>0</td>\n",
       "      <td>98001</td>\n",
       "      <td>47.2831</td>\n",
       "      <td>-122.279</td>\n",
       "      <td>2110</td>\n",
       "      <td>19334</td>\n",
       "      <td>12.926348</td>\n",
       "      <td>7.770645</td>\n",
       "      <td>20140702T000000</td>\n",
       "    </tr>\n",
       "    <tr>\n",
       "      <th>2732</th>\n",
       "      <td>4</td>\n",
       "      <td>2.25</td>\n",
       "      <td>2380</td>\n",
       "      <td>16236</td>\n",
       "      <td>1.0</td>\n",
       "      <td>0</td>\n",
       "      <td>0</td>\n",
       "      <td>3</td>\n",
       "      <td>7</td>\n",
       "      <td>1540</td>\n",
       "      <td>...</td>\n",
       "      <td>1961</td>\n",
       "      <td>0</td>\n",
       "      <td>98008</td>\n",
       "      <td>47.6126</td>\n",
       "      <td>-122.120</td>\n",
       "      <td>2230</td>\n",
       "      <td>8925</td>\n",
       "      <td>13.458693</td>\n",
       "      <td>7.774856</td>\n",
       "      <td>20140922T000000</td>\n",
       "    </tr>\n",
       "  </tbody>\n",
       "</table>\n",
       "<p>15129 rows × 21 columns</p>\n",
       "</div>"
      ],
      "text/plain": [
       "       bedrooms  bathrooms  sqft_living  sqft_lot  floors  waterfront  view  \\\n",
       "1468          4       1.50         1390      7200     1.0           0     0   \n",
       "15590         3       1.50         1450      7316     1.0           0     0   \n",
       "18552         5       2.75         2860      5379     2.0           0     0   \n",
       "10535         2       1.00         1050      4125     1.0           0     0   \n",
       "1069          2       1.00         1240     57000     1.0           0     0   \n",
       "...         ...        ...          ...       ...     ...         ...   ...   \n",
       "13123         5       5.00         3960     94089     2.0           0     0   \n",
       "19648         2       2.50         1400      1262     2.0           0     0   \n",
       "9845          3       2.25         2360     14950     1.0           0     0   \n",
       "10799         4       2.00         2370     76665     2.0           0     0   \n",
       "2732          4       2.25         2380     16236     1.0           0     0   \n",
       "\n",
       "       condition  grade  sqft_above  ...  yr_built  yr_renovated  zipcode  \\\n",
       "1468           3      7        1140  ...      1965             0    98133   \n",
       "15590          3      7        1450  ...      1961             0    98133   \n",
       "18552          3      9        2860  ...      2005             0    98052   \n",
       "10535          4      7        1050  ...      1909             0    98144   \n",
       "1069           3      7        1240  ...      1962             0    98075   \n",
       "...          ...    ...         ...  ...       ...           ...      ...   \n",
       "13123          3     10        3960  ...      1998             0    98038   \n",
       "19648          3      8        1160  ...      2008             0    98106   \n",
       "9845           4      9        2360  ...      1978             0    98042   \n",
       "10799          4      8        2370  ...      1978             0    98001   \n",
       "2732           3      7        1540  ...      1961             0    98008   \n",
       "\n",
       "           lat     long  sqft_living15  sqft_lot15  logged price  \\\n",
       "1468   47.7224 -122.332           1630        7702     12.899220   \n",
       "15590  47.7725 -122.349           1440        7316     12.971540   \n",
       "18552  47.7082 -122.104           2980        6018     13.487006   \n",
       "10535  47.5736 -122.307           1650        4125     12.880292   \n",
       "1069   47.5970 -122.059           3050       25545     13.132314   \n",
       "...        ...      ...            ...         ...           ...   \n",
       "13123  47.3800 -122.011           2240       64468     13.981025   \n",
       "19648  47.5342 -122.349           1060        1524     12.608199   \n",
       "9845   47.3856 -122.158           2720       14388     12.973863   \n",
       "10799  47.2831 -122.279           2110       19334     12.926348   \n",
       "2732   47.6126 -122.120           2230        8925     13.458693   \n",
       "\n",
       "       logged sqft_living             date  \n",
       "1468             7.237059  20140529T000000  \n",
       "15590            7.279319  20150317T000000  \n",
       "18552            7.958577  20140811T000000  \n",
       "10535            6.956545  20140926T000000  \n",
       "1069             7.122867  20140710T000000  \n",
       "...                   ...              ...  \n",
       "13123            8.283999  20141007T000000  \n",
       "19648            7.244228  20141118T000000  \n",
       "9845             7.766417  20140820T000000  \n",
       "10799            7.770645  20140702T000000  \n",
       "2732             7.774856  20140922T000000  \n",
       "\n",
       "[15129 rows x 21 columns]"
      ]
     },
     "execution_count": 452,
     "metadata": {},
     "output_type": "execute_result"
    }
   ],
   "source": [
    "X_train\n"
   ]
  },
  {
   "cell_type": "code",
   "execution_count": 453,
   "id": "156c3b96",
   "metadata": {
    "scrolled": true
   },
   "outputs": [
    {
     "data": {
      "text/plain": [
       "(15129, 21)"
      ]
     },
     "execution_count": 453,
     "metadata": {},
     "output_type": "execute_result"
    }
   ],
   "source": [
    "X_train.shape"
   ]
  },
  {
   "cell_type": "code",
   "execution_count": 454,
   "id": "1bf0c117",
   "metadata": {},
   "outputs": [
    {
     "data": {
      "text/plain": [
       "(6484, 21)"
      ]
     },
     "execution_count": 454,
     "metadata": {},
     "output_type": "execute_result"
    }
   ],
   "source": [
    "X_test.shape"
   ]
  },
  {
   "cell_type": "code",
   "execution_count": 455,
   "id": "f4dacef9",
   "metadata": {
    "scrolled": true
   },
   "outputs": [
    {
     "data": {
      "text/plain": [
       "1468      400000.0\n",
       "15590     430000.0\n",
       "18552     720000.0\n",
       "10535     392500.0\n",
       "1069      505000.0\n",
       "           ...    \n",
       "13123    1180000.0\n",
       "19648     299000.0\n",
       "9845      431000.0\n",
       "10799     411000.0\n",
       "2732      699900.0\n",
       "Name: price, Length: 15129, dtype: float64"
      ]
     },
     "execution_count": 455,
     "metadata": {},
     "output_type": "execute_result"
    }
   ],
   "source": [
    "y_train"
   ]
  },
  {
   "cell_type": "code",
   "execution_count": 97,
   "id": "091607ec",
   "metadata": {
    "scrolled": true
   },
   "outputs": [
    {
     "data": {
      "text/plain": [
       "(15129,)"
      ]
     },
     "execution_count": 97,
     "metadata": {},
     "output_type": "execute_result"
    }
   ],
   "source": [
    "y_train.shape"
   ]
  },
  {
   "cell_type": "code",
   "execution_count": 98,
   "id": "aebaca2f",
   "metadata": {
    "scrolled": true
   },
   "outputs": [
    {
     "data": {
      "text/plain": [
       "(6484,)"
      ]
     },
     "execution_count": 98,
     "metadata": {},
     "output_type": "execute_result"
    }
   ],
   "source": [
    "y_test.shape"
   ]
  },
  {
   "cell_type": "markdown",
   "id": "b2deea98",
   "metadata": {},
   "source": [
    "# Model Fitting :--"
   ]
  },
  {
   "cell_type": "markdown",
   "id": "d6eb13db",
   "metadata": {},
   "source": [
    "# Multiple Linear Regression:\n",
    " Fitting the *trainset* to **Multiple Linear Regression** and getting the score of the model\n",
    "\n"
   ]
  },
  {
   "cell_type": "markdown",
   "id": "92f575c9",
   "metadata": {},
   "source": [
    "**By doing EDA, we have got the variables(significant predictors) having significant correlation with taget variable. Hence, it is time to use these \n",
    "predictors to train different linear regression models and evaluate the performance of each model based on R square value and RMSE values, and select the best model**"
   ]
  },
  {
   "cell_type": "markdown",
   "id": "4af92d1f",
   "metadata": {},
   "source": [
    "**To avoid the Problem of Multicollinearity, it is imperative to find out which features (independent variables) have high correlation with each other, and thus, select only one of them to train the model.\n",
    "From correlation matrix it is clear that features such as 'sqft_living', 'sqft_above', 'sqft_living15' are correlated with each other so can cause problem of multicollinearity. To avoid this problem, it is \n",
    "necessary to select only one of them which has high correlation with target variable (in this case 'sqft_living') to train the model**"
   ]
  },
  {
   "cell_type": "markdown",
   "id": "f57b9a4e",
   "metadata": {},
   "source": [
    "# Model 1"
   ]
  },
  {
   "cell_type": "code",
   "execution_count": 99,
   "id": "09cfbeba",
   "metadata": {},
   "outputs": [
    {
     "name": "stdout",
     "output_type": "stream",
     "text": [
      "The rms value is 237461.4526934823\n",
      "The r square value is 0.5745991261766992\n"
     ]
    }
   ],
   "source": [
    "x_train1 = X_train[['sqft_living', 'grade', 'bathrooms', 'view']]\n",
    "y_train\n",
    "\n",
    "model1 = LinearRegression()\n",
    "score1 = cross_val_score(model1, x_train1, y_train, cv = 10, scoring = 'r2')\n",
    "score2 = cross_val_score(model1, x_train1, y_train, cv = 10, scoring = 'neg_root_mean_squared_error')\n",
    "print('The rms value is', np.abs(score2.mean()))\n",
    "print('The r square value is', score1.mean())"
   ]
  },
  {
   "cell_type": "markdown",
   "id": "42c0e292",
   "metadata": {},
   "source": [
    "# Model 2\n",
    " \n",
    "**To improve accuracy of the model, it is necessary to add further significant predictors(variables), adding 'bedrooms' and 'waterfront'**\n"
   ]
  },
  {
   "cell_type": "code",
   "execution_count": 100,
   "id": "549afbbf",
   "metadata": {},
   "outputs": [
    {
     "name": "stdout",
     "output_type": "stream",
     "text": [
      "The rms value is 232085.94487873628\n",
      "The r square value is 0.593502620112951\n"
     ]
    }
   ],
   "source": [
    "x_train2 = X_train[['sqft_living', 'bedrooms','grade', 'bathrooms', 'view', 'waterfront']]\n",
    "y_train  \n",
    "model2 = LinearRegression()\n",
    "score1 = cross_val_score(model2, x_train2, y_train, cv = 10, scoring = 'r2')\n",
    "score2 = cross_val_score(model2, x_train2, y_train, cv = 10, scoring = 'neg_root_mean_squared_error')\n",
    "print('The rms value is', np.abs(score2.mean()))\n",
    "print('The r square value is', score1.mean())"
   ]
  },
  {
   "cell_type": "markdown",
   "id": "2b3ff027",
   "metadata": {},
   "source": [
    "# Model 3\n",
    "**TO further improve the accuracy of the model, it is time to add some other significant predictors (features) such as 'lat', and 'yr_built'** "
   ]
  },
  {
   "cell_type": "code",
   "execution_count": 101,
   "id": "d89bf7cd",
   "metadata": {},
   "outputs": [
    {
     "name": "stdout",
     "output_type": "stream",
     "text": [
      "The rms value is 201884.13722875388\n",
      "The r square value is 0.6926383567285447\n"
     ]
    }
   ],
   "source": [
    "x_train3 = X_train[['sqft_living', 'bedrooms','grade', 'bathrooms', 'view', 'waterfront', 'lat', 'yr_built']]\n",
    "y_train\n",
    "\n",
    "model3 = LinearRegression()\n",
    "score1 = cross_val_score(model3, x_train3, y_train, cv = 10, scoring = 'r2')\n",
    "score2 = cross_val_score(model3, x_train3, y_train, cv = 10, scoring = 'neg_root_mean_squared_error')\n",
    "print('The rms value is', np.abs(score2.mean()))\n",
    "print('The r square value is', score1.mean())"
   ]
  },
  {
   "cell_type": "markdown",
   "id": "2e2fb08a",
   "metadata": {},
   "source": [
    "**Note: - After adding other variables, there is no significant improvement in accuracy observed. There fore, the model 3 is the best model for performance**"
   ]
  },
  {
   "cell_type": "markdown",
   "id": "24509fcc",
   "metadata": {},
   "source": [
    "# Feature Engineering:--\n",
    "**To furhter improve the accuracy, it is time to improve some variables by applying transformation on them and to add other variables to see \n",
    "whethere they are significant in improving accuracy of the model or not**"
   ]
  },
  {
   "cell_type": "markdown",
   "id": "4447175b",
   "metadata": {},
   "source": [
    "# 1. Log Transformation\n",
    "**-Applying Log Tranformation on some variables ('price', 'sqft_living') having skewed distribution to make their distribution normal and to scale them in logarithm scale.**\n"
   ]
  },
  {
   "cell_type": "markdown",
   "id": "73df800b",
   "metadata": {},
   "source": [
    "**Looking for skewed variables:--**"
   ]
  },
  {
   "cell_type": "code",
   "execution_count": 456,
   "id": "904fab6c",
   "metadata": {},
   "outputs": [
    {
     "data": {
      "text/plain": [
       "<seaborn.axisgrid.PairGrid at 0x1f713499f70>"
      ]
     },
     "execution_count": 456,
     "metadata": {},
     "output_type": "execute_result"
    },
    {
     "data": {
      "text/plain": [
       "<Figure size 720x432 with 0 Axes>"
      ]
     },
     "metadata": {},
     "output_type": "display_data"
    },
    {
     "data": {
      "image/png": "[encoded data removed]",
      "text/plain": [
       "<Figure size 921.5x864 with 42 Axes>"
      ]
     },
     "metadata": {
      "needs_background": "light"
     },
     "output_type": "display_data"
    }
   ],
   "source": [
    "plt.figure(figsize=(10,6))\n",
    "sns.plotting_context('notebook',font_scale=1.2)\n",
    "g = sns.pairplot(X_train[['sqft_lot','sqft_above','sqft_living','bedrooms','grade','yr_built','yr_renovated']]\n",
    "                 ,hue='bedrooms',height=2)\n",
    "\n",
    "g.set(xticklabels=[])\n"
   ]
  },
  {
   "cell_type": "code",
   "execution_count": 457,
   "id": "0cff4e18",
   "metadata": {},
   "outputs": [
    {
     "data": {
      "text/plain": [
       "<seaborn.axisgrid.FacetGrid at 0x1f71a861a00>"
      ]
     },
     "execution_count": 457,
     "metadata": {},
     "output_type": "execute_result"
    },
    {
     "data": {
      "image/png": "[encoded data removed]",
      "text/plain": [
       "<Figure size 360x360 with 1 Axes>"
      ]
     },
     "metadata": {
      "needs_background": "light"
     },
     "output_type": "display_data"
    }
   ],
   "source": [
    "sns.displot(y_train)"
   ]
  },
  {
   "cell_type": "markdown",
   "id": "bd1ccd8d",
   "metadata": {},
   "source": [
    "**it has been observed that price (y_train) and sqft_living are positively skewed** "
   ]
  },
  {
   "cell_type": "markdown",
   "id": "6ea0fb8c",
   "metadata": {},
   "source": [
    "# Log Transformation of price\n",
    "**Log transformation of positively skewed target variable (price) or y_train**"
   ]
  },
  {
   "cell_type": "code",
   "execution_count": 486,
   "id": "09f4d92d",
   "metadata": {
    "scrolled": true
   },
   "outputs": [
    {
     "data": {
      "text/html": [
       "<div>\n",
       "<style scoped>\n",
       "    .dataframe tbody tr th:only-of-type {\n",
       "        vertical-align: middle;\n",
       "    }\n",
       "\n",
       "    .dataframe tbody tr th {\n",
       "        vertical-align: top;\n",
       "    }\n",
       "\n",
       "    .dataframe thead th {\n",
       "        text-align: right;\n",
       "    }\n",
       "</style>\n",
       "<table border=\"1\" class=\"dataframe\">\n",
       "  <thead>\n",
       "    <tr style=\"text-align: right;\">\n",
       "      <th></th>\n",
       "      <th>bedrooms</th>\n",
       "      <th>bathrooms</th>\n",
       "      <th>sqft_living</th>\n",
       "      <th>sqft_lot</th>\n",
       "      <th>floors</th>\n",
       "      <th>waterfront</th>\n",
       "      <th>view</th>\n",
       "      <th>condition</th>\n",
       "      <th>grade</th>\n",
       "      <th>sqft_above</th>\n",
       "      <th>...</th>\n",
       "      <th>zipcode</th>\n",
       "      <th>lat</th>\n",
       "      <th>long</th>\n",
       "      <th>sqft_living15</th>\n",
       "      <th>sqft_lot15</th>\n",
       "      <th>logged price</th>\n",
       "      <th>logged sqft_living</th>\n",
       "      <th>date</th>\n",
       "      <th>year of selling</th>\n",
       "      <th>age</th>\n",
       "    </tr>\n",
       "  </thead>\n",
       "  <tbody>\n",
       "    <tr>\n",
       "      <th>1468</th>\n",
       "      <td>4</td>\n",
       "      <td>1.50</td>\n",
       "      <td>1390</td>\n",
       "      <td>7200</td>\n",
       "      <td>1.0</td>\n",
       "      <td>0</td>\n",
       "      <td>0</td>\n",
       "      <td>3</td>\n",
       "      <td>7</td>\n",
       "      <td>1140</td>\n",
       "      <td>...</td>\n",
       "      <td>98133</td>\n",
       "      <td>47.7224</td>\n",
       "      <td>-122.332</td>\n",
       "      <td>1630</td>\n",
       "      <td>7702</td>\n",
       "      <td>12.899220</td>\n",
       "      <td>7.237059</td>\n",
       "      <td>20140529T000000</td>\n",
       "      <td>2014</td>\n",
       "      <td>49.0</td>\n",
       "    </tr>\n",
       "    <tr>\n",
       "      <th>15590</th>\n",
       "      <td>3</td>\n",
       "      <td>1.50</td>\n",
       "      <td>1450</td>\n",
       "      <td>7316</td>\n",
       "      <td>1.0</td>\n",
       "      <td>0</td>\n",
       "      <td>0</td>\n",
       "      <td>3</td>\n",
       "      <td>7</td>\n",
       "      <td>1450</td>\n",
       "      <td>...</td>\n",
       "      <td>98133</td>\n",
       "      <td>47.7725</td>\n",
       "      <td>-122.349</td>\n",
       "      <td>1440</td>\n",
       "      <td>7316</td>\n",
       "      <td>12.971540</td>\n",
       "      <td>7.279319</td>\n",
       "      <td>20150317T000000</td>\n",
       "      <td>2015</td>\n",
       "      <td>54.0</td>\n",
       "    </tr>\n",
       "    <tr>\n",
       "      <th>18552</th>\n",
       "      <td>5</td>\n",
       "      <td>2.75</td>\n",
       "      <td>2860</td>\n",
       "      <td>5379</td>\n",
       "      <td>2.0</td>\n",
       "      <td>0</td>\n",
       "      <td>0</td>\n",
       "      <td>3</td>\n",
       "      <td>9</td>\n",
       "      <td>2860</td>\n",
       "      <td>...</td>\n",
       "      <td>98052</td>\n",
       "      <td>47.7082</td>\n",
       "      <td>-122.104</td>\n",
       "      <td>2980</td>\n",
       "      <td>6018</td>\n",
       "      <td>13.487006</td>\n",
       "      <td>7.958577</td>\n",
       "      <td>20140811T000000</td>\n",
       "      <td>2014</td>\n",
       "      <td>9.0</td>\n",
       "    </tr>\n",
       "    <tr>\n",
       "      <th>10535</th>\n",
       "      <td>2</td>\n",
       "      <td>1.00</td>\n",
       "      <td>1050</td>\n",
       "      <td>4125</td>\n",
       "      <td>1.0</td>\n",
       "      <td>0</td>\n",
       "      <td>0</td>\n",
       "      <td>4</td>\n",
       "      <td>7</td>\n",
       "      <td>1050</td>\n",
       "      <td>...</td>\n",
       "      <td>98144</td>\n",
       "      <td>47.5736</td>\n",
       "      <td>-122.307</td>\n",
       "      <td>1650</td>\n",
       "      <td>4125</td>\n",
       "      <td>12.880292</td>\n",
       "      <td>6.956545</td>\n",
       "      <td>20140926T000000</td>\n",
       "      <td>2014</td>\n",
       "      <td>105.0</td>\n",
       "    </tr>\n",
       "    <tr>\n",
       "      <th>1069</th>\n",
       "      <td>2</td>\n",
       "      <td>1.00</td>\n",
       "      <td>1240</td>\n",
       "      <td>57000</td>\n",
       "      <td>1.0</td>\n",
       "      <td>0</td>\n",
       "      <td>0</td>\n",
       "      <td>3</td>\n",
       "      <td>7</td>\n",
       "      <td>1240</td>\n",
       "      <td>...</td>\n",
       "      <td>98075</td>\n",
       "      <td>47.5970</td>\n",
       "      <td>-122.059</td>\n",
       "      <td>3050</td>\n",
       "      <td>25545</td>\n",
       "      <td>13.132314</td>\n",
       "      <td>7.122867</td>\n",
       "      <td>20140710T000000</td>\n",
       "      <td>2014</td>\n",
       "      <td>52.0</td>\n",
       "    </tr>\n",
       "  </tbody>\n",
       "</table>\n",
       "<p>5 rows × 23 columns</p>\n",
       "</div>"
      ],
      "text/plain": [
       "       bedrooms  bathrooms  sqft_living  sqft_lot  floors  waterfront  view  \\\n",
       "1468          4       1.50         1390      7200     1.0           0     0   \n",
       "15590         3       1.50         1450      7316     1.0           0     0   \n",
       "18552         5       2.75         2860      5379     2.0           0     0   \n",
       "10535         2       1.00         1050      4125     1.0           0     0   \n",
       "1069          2       1.00         1240     57000     1.0           0     0   \n",
       "\n",
       "       condition  grade  sqft_above  ...  zipcode      lat     long  \\\n",
       "1468           3      7        1140  ...    98133  47.7224 -122.332   \n",
       "15590          3      7        1450  ...    98133  47.7725 -122.349   \n",
       "18552          3      9        2860  ...    98052  47.7082 -122.104   \n",
       "10535          4      7        1050  ...    98144  47.5736 -122.307   \n",
       "1069           3      7        1240  ...    98075  47.5970 -122.059   \n",
       "\n",
       "       sqft_living15  sqft_lot15  logged price  logged sqft_living  \\\n",
       "1468            1630        7702     12.899220            7.237059   \n",
       "15590           1440        7316     12.971540            7.279319   \n",
       "18552           2980        6018     13.487006            7.958577   \n",
       "10535           1650        4125     12.880292            6.956545   \n",
       "1069            3050       25545     13.132314            7.122867   \n",
       "\n",
       "                  date  year of selling    age  \n",
       "1468   20140529T000000             2014   49.0  \n",
       "15590  20150317T000000             2015   54.0  \n",
       "18552  20140811T000000             2014    9.0  \n",
       "10535  20140926T000000             2014  105.0  \n",
       "1069   20140710T000000             2014   52.0  \n",
       "\n",
       "[5 rows x 23 columns]"
      ]
     },
     "execution_count": 486,
     "metadata": {},
     "output_type": "execute_result"
    }
   ],
   "source": [
    "X_train['logged price']= np.log(y_train)\n",
    "X_train.head()"
   ]
  },
  {
   "cell_type": "markdown",
   "id": "f721efb0",
   "metadata": {},
   "source": [
    "**Price after log transformation**"
   ]
  },
  {
   "cell_type": "code",
   "execution_count": 459,
   "id": "4ee662ff",
   "metadata": {},
   "outputs": [
    {
     "data": {
      "text/plain": [
       "array([[<AxesSubplot:title={'center':'logged price'}>]], dtype=object)"
      ]
     },
     "execution_count": 459,
     "metadata": {},
     "output_type": "execute_result"
    },
    {
     "data": {
      "image/png": "[encoded data removed]",
      "text/plain": [
       "<Figure size 432x288 with 1 Axes>"
      ]
     },
     "metadata": {
      "needs_background": "light"
     },
     "output_type": "display_data"
    }
   ],
   "source": [
    "\n",
    "X_train.hist(column= 'logged price')"
   ]
  },
  {
   "cell_type": "markdown",
   "id": "5594c8fe",
   "metadata": {},
   "source": [
    "# Log Transformation of Feature sqft_living \n",
    "**It is also a positively skewed**"
   ]
  },
  {
   "cell_type": "code",
   "execution_count": 460,
   "id": "72fec15e",
   "metadata": {},
   "outputs": [
    {
     "data": {
      "text/plain": [
       "<seaborn.axisgrid.FacetGrid at 0x1f71b20c6a0>"
      ]
     },
     "execution_count": 460,
     "metadata": {},
     "output_type": "execute_result"
    },
    {
     "data": {
      "image/png": "[encoded data removed]",
      "text/plain": [
       "<Figure size 360x360 with 1 Axes>"
      ]
     },
     "metadata": {
      "needs_background": "light"
     },
     "output_type": "display_data"
    }
   ],
   "source": [
    "sns.displot(X_train['sqft_living'])"
   ]
  },
  {
   "cell_type": "code",
   "execution_count": 461,
   "id": "e4570661",
   "metadata": {},
   "outputs": [
    {
     "data": {
      "text/html": [
       "<div>\n",
       "<style scoped>\n",
       "    .dataframe tbody tr th:only-of-type {\n",
       "        vertical-align: middle;\n",
       "    }\n",
       "\n",
       "    .dataframe tbody tr th {\n",
       "        vertical-align: top;\n",
       "    }\n",
       "\n",
       "    .dataframe thead th {\n",
       "        text-align: right;\n",
       "    }\n",
       "</style>\n",
       "<table border=\"1\" class=\"dataframe\">\n",
       "  <thead>\n",
       "    <tr style=\"text-align: right;\">\n",
       "      <th></th>\n",
       "      <th>bedrooms</th>\n",
       "      <th>bathrooms</th>\n",
       "      <th>sqft_living</th>\n",
       "      <th>sqft_lot</th>\n",
       "      <th>floors</th>\n",
       "      <th>waterfront</th>\n",
       "      <th>view</th>\n",
       "      <th>condition</th>\n",
       "      <th>grade</th>\n",
       "      <th>sqft_above</th>\n",
       "      <th>...</th>\n",
       "      <th>yr_built</th>\n",
       "      <th>yr_renovated</th>\n",
       "      <th>zipcode</th>\n",
       "      <th>lat</th>\n",
       "      <th>long</th>\n",
       "      <th>sqft_living15</th>\n",
       "      <th>sqft_lot15</th>\n",
       "      <th>logged price</th>\n",
       "      <th>logged sqft_living</th>\n",
       "      <th>date</th>\n",
       "    </tr>\n",
       "  </thead>\n",
       "  <tbody>\n",
       "    <tr>\n",
       "      <th>1468</th>\n",
       "      <td>4</td>\n",
       "      <td>1.50</td>\n",
       "      <td>1390</td>\n",
       "      <td>7200</td>\n",
       "      <td>1.0</td>\n",
       "      <td>0</td>\n",
       "      <td>0</td>\n",
       "      <td>3</td>\n",
       "      <td>7</td>\n",
       "      <td>1140</td>\n",
       "      <td>...</td>\n",
       "      <td>1965</td>\n",
       "      <td>0</td>\n",
       "      <td>98133</td>\n",
       "      <td>47.7224</td>\n",
       "      <td>-122.332</td>\n",
       "      <td>1630</td>\n",
       "      <td>7702</td>\n",
       "      <td>12.899220</td>\n",
       "      <td>7.237059</td>\n",
       "      <td>20140529T000000</td>\n",
       "    </tr>\n",
       "    <tr>\n",
       "      <th>15590</th>\n",
       "      <td>3</td>\n",
       "      <td>1.50</td>\n",
       "      <td>1450</td>\n",
       "      <td>7316</td>\n",
       "      <td>1.0</td>\n",
       "      <td>0</td>\n",
       "      <td>0</td>\n",
       "      <td>3</td>\n",
       "      <td>7</td>\n",
       "      <td>1450</td>\n",
       "      <td>...</td>\n",
       "      <td>1961</td>\n",
       "      <td>0</td>\n",
       "      <td>98133</td>\n",
       "      <td>47.7725</td>\n",
       "      <td>-122.349</td>\n",
       "      <td>1440</td>\n",
       "      <td>7316</td>\n",
       "      <td>12.971540</td>\n",
       "      <td>7.279319</td>\n",
       "      <td>20150317T000000</td>\n",
       "    </tr>\n",
       "    <tr>\n",
       "      <th>18552</th>\n",
       "      <td>5</td>\n",
       "      <td>2.75</td>\n",
       "      <td>2860</td>\n",
       "      <td>5379</td>\n",
       "      <td>2.0</td>\n",
       "      <td>0</td>\n",
       "      <td>0</td>\n",
       "      <td>3</td>\n",
       "      <td>9</td>\n",
       "      <td>2860</td>\n",
       "      <td>...</td>\n",
       "      <td>2005</td>\n",
       "      <td>0</td>\n",
       "      <td>98052</td>\n",
       "      <td>47.7082</td>\n",
       "      <td>-122.104</td>\n",
       "      <td>2980</td>\n",
       "      <td>6018</td>\n",
       "      <td>13.487006</td>\n",
       "      <td>7.958577</td>\n",
       "      <td>20140811T000000</td>\n",
       "    </tr>\n",
       "    <tr>\n",
       "      <th>10535</th>\n",
       "      <td>2</td>\n",
       "      <td>1.00</td>\n",
       "      <td>1050</td>\n",
       "      <td>4125</td>\n",
       "      <td>1.0</td>\n",
       "      <td>0</td>\n",
       "      <td>0</td>\n",
       "      <td>4</td>\n",
       "      <td>7</td>\n",
       "      <td>1050</td>\n",
       "      <td>...</td>\n",
       "      <td>1909</td>\n",
       "      <td>0</td>\n",
       "      <td>98144</td>\n",
       "      <td>47.5736</td>\n",
       "      <td>-122.307</td>\n",
       "      <td>1650</td>\n",
       "      <td>4125</td>\n",
       "      <td>12.880292</td>\n",
       "      <td>6.956545</td>\n",
       "      <td>20140926T000000</td>\n",
       "    </tr>\n",
       "    <tr>\n",
       "      <th>1069</th>\n",
       "      <td>2</td>\n",
       "      <td>1.00</td>\n",
       "      <td>1240</td>\n",
       "      <td>57000</td>\n",
       "      <td>1.0</td>\n",
       "      <td>0</td>\n",
       "      <td>0</td>\n",
       "      <td>3</td>\n",
       "      <td>7</td>\n",
       "      <td>1240</td>\n",
       "      <td>...</td>\n",
       "      <td>1962</td>\n",
       "      <td>0</td>\n",
       "      <td>98075</td>\n",
       "      <td>47.5970</td>\n",
       "      <td>-122.059</td>\n",
       "      <td>3050</td>\n",
       "      <td>25545</td>\n",
       "      <td>13.132314</td>\n",
       "      <td>7.122867</td>\n",
       "      <td>20140710T000000</td>\n",
       "    </tr>\n",
       "  </tbody>\n",
       "</table>\n",
       "<p>5 rows × 21 columns</p>\n",
       "</div>"
      ],
      "text/plain": [
       "       bedrooms  bathrooms  sqft_living  sqft_lot  floors  waterfront  view  \\\n",
       "1468          4       1.50         1390      7200     1.0           0     0   \n",
       "15590         3       1.50         1450      7316     1.0           0     0   \n",
       "18552         5       2.75         2860      5379     2.0           0     0   \n",
       "10535         2       1.00         1050      4125     1.0           0     0   \n",
       "1069          2       1.00         1240     57000     1.0           0     0   \n",
       "\n",
       "       condition  grade  sqft_above  ...  yr_built  yr_renovated  zipcode  \\\n",
       "1468           3      7        1140  ...      1965             0    98133   \n",
       "15590          3      7        1450  ...      1961             0    98133   \n",
       "18552          3      9        2860  ...      2005             0    98052   \n",
       "10535          4      7        1050  ...      1909             0    98144   \n",
       "1069           3      7        1240  ...      1962             0    98075   \n",
       "\n",
       "           lat     long  sqft_living15  sqft_lot15  logged price  \\\n",
       "1468   47.7224 -122.332           1630        7702     12.899220   \n",
       "15590  47.7725 -122.349           1440        7316     12.971540   \n",
       "18552  47.7082 -122.104           2980        6018     13.487006   \n",
       "10535  47.5736 -122.307           1650        4125     12.880292   \n",
       "1069   47.5970 -122.059           3050       25545     13.132314   \n",
       "\n",
       "       logged sqft_living             date  \n",
       "1468             7.237059  20140529T000000  \n",
       "15590            7.279319  20150317T000000  \n",
       "18552            7.958577  20140811T000000  \n",
       "10535            6.956545  20140926T000000  \n",
       "1069             7.122867  20140710T000000  \n",
       "\n",
       "[5 rows x 21 columns]"
      ]
     },
     "execution_count": 461,
     "metadata": {},
     "output_type": "execute_result"
    }
   ],
   "source": [
    "X_train['logged sqft_living'] = np.log(X_train.sqft_living)\n",
    "X_train.head()"
   ]
  },
  {
   "cell_type": "markdown",
   "id": "f1ed12f1",
   "metadata": {},
   "source": [
    "**Feature sqft_living after log transformation**"
   ]
  },
  {
   "cell_type": "code",
   "execution_count": 462,
   "id": "22ac0279",
   "metadata": {},
   "outputs": [
    {
     "data": {
      "text/plain": [
       "<seaborn.axisgrid.FacetGrid at 0x1f71b29c5e0>"
      ]
     },
     "execution_count": 462,
     "metadata": {},
     "output_type": "execute_result"
    },
    {
     "data": {
      "image/png": "[encoded data removed]",
      "text/plain": [
       "<Figure size 360x360 with 1 Axes>"
      ]
     },
     "metadata": {
      "needs_background": "light"
     },
     "output_type": "display_data"
    }
   ],
   "source": [
    "sns.displot(X_train['logged sqft_living'])"
   ]
  },
  {
   "cell_type": "markdown",
   "id": "71ba94ab",
   "metadata": {},
   "source": [
    "# Model 4\n",
    "**After rescaling the coeeficient of price and sqft_living into normal distribution, thereby changing the range of data into a natural logarithm, it is time to retrain model on new logarithm transformed variables to see the improvement in accuracy of the model**"
   ]
  },
  {
   "cell_type": "code",
   "execution_count": 109,
   "id": "5e48db86",
   "metadata": {},
   "outputs": [
    {
     "name": "stdout",
     "output_type": "stream",
     "text": [
      "The rms value is 0.26124143795692883\n",
      "The r square value is 0.7538844062684961\n"
     ]
    }
   ],
   "source": [
    "x_train4 = X_train[['logged sqft_living', 'bedrooms','grade', 'bathrooms', 'view', 'waterfront', 'lat', 'yr_built']]\n",
    "y_train4 = X_train['logged price']\n",
    "\n",
    "model4 = LinearRegression()\n",
    "score1 = cross_val_score(model4, x_train4, y_train4, cv = 10, scoring = 'r2')\n",
    "score2 = cross_val_score(model4, x_train4, y_train4, cv = 10, scoring = 'neg_root_mean_squared_error')\n",
    "print('The rms value is', np.abs(score2.mean()))\n",
    "print('The r square value is', score1.mean())"
   ]
  },
  {
   "cell_type": "markdown",
   "id": "803743c7",
   "metadata": {},
   "source": [
    "**It is clear that r squared significantly improved from  r square value 0.6866307854330157 in Model 3 to 0.7535128493075364 in Model 4 with transformed variables('logged sqft_living', 'logged price').**\n",
    "**Hence performance improved after log transformation, feature engineering transformation**"
   ]
  },
  {
   "cell_type": "markdown",
   "id": "89add293",
   "metadata": {},
   "source": [
    "# 2. Creating a New Variable\n",
    "# Model 5\n",
    "\n",
    "**=> Creating two variables from Data:- year of selling and Months of selling to see whether they can improve performance of model or not**"
   ]
  },
  {
   "cell_type": "code",
   "execution_count": 468,
   "id": "bacb4cf1",
   "metadata": {
    "scrolled": true
   },
   "outputs": [
    {
     "data": {
      "text/html": [
       "<div>\n",
       "<style scoped>\n",
       "    .dataframe tbody tr th:only-of-type {\n",
       "        vertical-align: middle;\n",
       "    }\n",
       "\n",
       "    .dataframe tbody tr th {\n",
       "        vertical-align: top;\n",
       "    }\n",
       "\n",
       "    .dataframe thead th {\n",
       "        text-align: right;\n",
       "    }\n",
       "</style>\n",
       "<table border=\"1\" class=\"dataframe\">\n",
       "  <thead>\n",
       "    <tr style=\"text-align: right;\">\n",
       "      <th></th>\n",
       "      <th>bedrooms</th>\n",
       "      <th>bathrooms</th>\n",
       "      <th>sqft_living</th>\n",
       "      <th>sqft_lot</th>\n",
       "      <th>floors</th>\n",
       "      <th>waterfront</th>\n",
       "      <th>view</th>\n",
       "      <th>condition</th>\n",
       "      <th>grade</th>\n",
       "      <th>sqft_above</th>\n",
       "      <th>...</th>\n",
       "      <th>yr_built</th>\n",
       "      <th>yr_renovated</th>\n",
       "      <th>zipcode</th>\n",
       "      <th>lat</th>\n",
       "      <th>long</th>\n",
       "      <th>sqft_living15</th>\n",
       "      <th>sqft_lot15</th>\n",
       "      <th>logged price</th>\n",
       "      <th>logged sqft_living</th>\n",
       "      <th>date</th>\n",
       "    </tr>\n",
       "  </thead>\n",
       "  <tbody>\n",
       "    <tr>\n",
       "      <th>1468</th>\n",
       "      <td>4</td>\n",
       "      <td>1.50</td>\n",
       "      <td>1390</td>\n",
       "      <td>7200</td>\n",
       "      <td>1.0</td>\n",
       "      <td>0</td>\n",
       "      <td>0</td>\n",
       "      <td>3</td>\n",
       "      <td>7</td>\n",
       "      <td>1140</td>\n",
       "      <td>...</td>\n",
       "      <td>1965</td>\n",
       "      <td>0</td>\n",
       "      <td>98133</td>\n",
       "      <td>47.7224</td>\n",
       "      <td>-122.332</td>\n",
       "      <td>1630</td>\n",
       "      <td>7702</td>\n",
       "      <td>12.899220</td>\n",
       "      <td>7.237059</td>\n",
       "      <td>20140529T000000</td>\n",
       "    </tr>\n",
       "    <tr>\n",
       "      <th>15590</th>\n",
       "      <td>3</td>\n",
       "      <td>1.50</td>\n",
       "      <td>1450</td>\n",
       "      <td>7316</td>\n",
       "      <td>1.0</td>\n",
       "      <td>0</td>\n",
       "      <td>0</td>\n",
       "      <td>3</td>\n",
       "      <td>7</td>\n",
       "      <td>1450</td>\n",
       "      <td>...</td>\n",
       "      <td>1961</td>\n",
       "      <td>0</td>\n",
       "      <td>98133</td>\n",
       "      <td>47.7725</td>\n",
       "      <td>-122.349</td>\n",
       "      <td>1440</td>\n",
       "      <td>7316</td>\n",
       "      <td>12.971540</td>\n",
       "      <td>7.279319</td>\n",
       "      <td>20150317T000000</td>\n",
       "    </tr>\n",
       "    <tr>\n",
       "      <th>18552</th>\n",
       "      <td>5</td>\n",
       "      <td>2.75</td>\n",
       "      <td>2860</td>\n",
       "      <td>5379</td>\n",
       "      <td>2.0</td>\n",
       "      <td>0</td>\n",
       "      <td>0</td>\n",
       "      <td>3</td>\n",
       "      <td>9</td>\n",
       "      <td>2860</td>\n",
       "      <td>...</td>\n",
       "      <td>2005</td>\n",
       "      <td>0</td>\n",
       "      <td>98052</td>\n",
       "      <td>47.7082</td>\n",
       "      <td>-122.104</td>\n",
       "      <td>2980</td>\n",
       "      <td>6018</td>\n",
       "      <td>13.487006</td>\n",
       "      <td>7.958577</td>\n",
       "      <td>20140811T000000</td>\n",
       "    </tr>\n",
       "    <tr>\n",
       "      <th>10535</th>\n",
       "      <td>2</td>\n",
       "      <td>1.00</td>\n",
       "      <td>1050</td>\n",
       "      <td>4125</td>\n",
       "      <td>1.0</td>\n",
       "      <td>0</td>\n",
       "      <td>0</td>\n",
       "      <td>4</td>\n",
       "      <td>7</td>\n",
       "      <td>1050</td>\n",
       "      <td>...</td>\n",
       "      <td>1909</td>\n",
       "      <td>0</td>\n",
       "      <td>98144</td>\n",
       "      <td>47.5736</td>\n",
       "      <td>-122.307</td>\n",
       "      <td>1650</td>\n",
       "      <td>4125</td>\n",
       "      <td>12.880292</td>\n",
       "      <td>6.956545</td>\n",
       "      <td>20140926T000000</td>\n",
       "    </tr>\n",
       "    <tr>\n",
       "      <th>1069</th>\n",
       "      <td>2</td>\n",
       "      <td>1.00</td>\n",
       "      <td>1240</td>\n",
       "      <td>57000</td>\n",
       "      <td>1.0</td>\n",
       "      <td>0</td>\n",
       "      <td>0</td>\n",
       "      <td>3</td>\n",
       "      <td>7</td>\n",
       "      <td>1240</td>\n",
       "      <td>...</td>\n",
       "      <td>1962</td>\n",
       "      <td>0</td>\n",
       "      <td>98075</td>\n",
       "      <td>47.5970</td>\n",
       "      <td>-122.059</td>\n",
       "      <td>3050</td>\n",
       "      <td>25545</td>\n",
       "      <td>13.132314</td>\n",
       "      <td>7.122867</td>\n",
       "      <td>20140710T000000</td>\n",
       "    </tr>\n",
       "  </tbody>\n",
       "</table>\n",
       "<p>5 rows × 21 columns</p>\n",
       "</div>"
      ],
      "text/plain": [
       "       bedrooms  bathrooms  sqft_living  sqft_lot  floors  waterfront  view  \\\n",
       "1468          4       1.50         1390      7200     1.0           0     0   \n",
       "15590         3       1.50         1450      7316     1.0           0     0   \n",
       "18552         5       2.75         2860      5379     2.0           0     0   \n",
       "10535         2       1.00         1050      4125     1.0           0     0   \n",
       "1069          2       1.00         1240     57000     1.0           0     0   \n",
       "\n",
       "       condition  grade  sqft_above  ...  yr_built  yr_renovated  zipcode  \\\n",
       "1468           3      7        1140  ...      1965             0    98133   \n",
       "15590          3      7        1450  ...      1961             0    98133   \n",
       "18552          3      9        2860  ...      2005             0    98052   \n",
       "10535          4      7        1050  ...      1909             0    98144   \n",
       "1069           3      7        1240  ...      1962             0    98075   \n",
       "\n",
       "           lat     long  sqft_living15  sqft_lot15  logged price  \\\n",
       "1468   47.7224 -122.332           1630        7702     12.899220   \n",
       "15590  47.7725 -122.349           1440        7316     12.971540   \n",
       "18552  47.7082 -122.104           2980        6018     13.487006   \n",
       "10535  47.5736 -122.307           1650        4125     12.880292   \n",
       "1069   47.5970 -122.059           3050       25545     13.132314   \n",
       "\n",
       "       logged sqft_living             date  \n",
       "1468             7.237059  20140529T000000  \n",
       "15590            7.279319  20150317T000000  \n",
       "18552            7.958577  20140811T000000  \n",
       "10535            6.956545  20140926T000000  \n",
       "1069             7.122867  20140710T000000  \n",
       "\n",
       "[5 rows x 21 columns]"
      ]
     },
     "execution_count": 468,
     "metadata": {},
     "output_type": "execute_result"
    }
   ],
   "source": [
    "X_train.head()"
   ]
  },
  {
   "cell_type": "code",
   "execution_count": 469,
   "id": "715685b2",
   "metadata": {},
   "outputs": [
    {
     "data": {
      "text/html": [
       "<div>\n",
       "<style scoped>\n",
       "    .dataframe tbody tr th:only-of-type {\n",
       "        vertical-align: middle;\n",
       "    }\n",
       "\n",
       "    .dataframe tbody tr th {\n",
       "        vertical-align: top;\n",
       "    }\n",
       "\n",
       "    .dataframe thead th {\n",
       "        text-align: right;\n",
       "    }\n",
       "</style>\n",
       "<table border=\"1\" class=\"dataframe\">\n",
       "  <thead>\n",
       "    <tr style=\"text-align: right;\">\n",
       "      <th></th>\n",
       "      <th>year of selling</th>\n",
       "    </tr>\n",
       "  </thead>\n",
       "  <tbody>\n",
       "    <tr>\n",
       "      <th>1468</th>\n",
       "      <td>2014</td>\n",
       "    </tr>\n",
       "    <tr>\n",
       "      <th>15590</th>\n",
       "      <td>2015</td>\n",
       "    </tr>\n",
       "    <tr>\n",
       "      <th>18552</th>\n",
       "      <td>2014</td>\n",
       "    </tr>\n",
       "    <tr>\n",
       "      <th>10535</th>\n",
       "      <td>2014</td>\n",
       "    </tr>\n",
       "    <tr>\n",
       "      <th>1069</th>\n",
       "      <td>2014</td>\n",
       "    </tr>\n",
       "    <tr>\n",
       "      <th>...</th>\n",
       "      <td>...</td>\n",
       "    </tr>\n",
       "    <tr>\n",
       "      <th>13123</th>\n",
       "      <td>2014</td>\n",
       "    </tr>\n",
       "    <tr>\n",
       "      <th>19648</th>\n",
       "      <td>2014</td>\n",
       "    </tr>\n",
       "    <tr>\n",
       "      <th>9845</th>\n",
       "      <td>2014</td>\n",
       "    </tr>\n",
       "    <tr>\n",
       "      <th>10799</th>\n",
       "      <td>2014</td>\n",
       "    </tr>\n",
       "    <tr>\n",
       "      <th>2732</th>\n",
       "      <td>2014</td>\n",
       "    </tr>\n",
       "  </tbody>\n",
       "</table>\n",
       "<p>15129 rows × 1 columns</p>\n",
       "</div>"
      ],
      "text/plain": [
       "       year of selling\n",
       "1468              2014\n",
       "15590             2015\n",
       "18552             2014\n",
       "10535             2014\n",
       "1069              2014\n",
       "...                ...\n",
       "13123             2014\n",
       "19648             2014\n",
       "9845              2014\n",
       "10799             2014\n",
       "2732              2014\n",
       "\n",
       "[15129 rows x 1 columns]"
      ]
     },
     "execution_count": 469,
     "metadata": {},
     "output_type": "execute_result"
    }
   ],
   "source": [
    "X_train['year of selling'] = pd.DatetimeIndex(X_train['date']).year\n",
    "X_train[['year of selling']]"
   ]
  },
  {
   "cell_type": "markdown",
   "id": "8190ece0",
   "metadata": {},
   "source": [
    "**Training the model by adding year of selling feature**"
   ]
  },
  {
   "cell_type": "code",
   "execution_count": 470,
   "id": "a9167987",
   "metadata": {},
   "outputs": [
    {
     "name": "stdout",
     "output_type": "stream",
     "text": [
      "The rms value is 0.26039402819170143\n",
      "The r square value is 0.7554552300995516\n"
     ]
    }
   ],
   "source": [
    "x_train5 = X_train[['logged sqft_living', 'bedrooms','grade', 'bathrooms', 'view', 'waterfront', 'lat', 'yr_built', 'year of selling']]\n",
    "y_train5 = X_train['logged price']\n",
    "\n",
    "model5 = LinearRegression()\n",
    "score1 = cross_val_score(model5, x_train5, y_train5, cv = 10, scoring = 'r2')\n",
    "score2 = cross_val_score(model5, x_train5, y_train5, cv = 10, scoring = 'neg_root_mean_squared_error')\n",
    "print('The rms value is', np.abs(score2.mean()))\n",
    "print('The r square value is', score1.mean())"
   ]
  },
  {
   "cell_type": "markdown",
   "id": "504bf468",
   "metadata": {},
   "source": [
    "**It is clear that r 2 valued does not improved to any significant value as compared to model 4**"
   ]
  },
  {
   "cell_type": "markdown",
   "id": "2068f3c0",
   "metadata": {},
   "source": [
    "# Model 6\n",
    "**=> Creating a new variable age of the house**"
   ]
  },
  {
   "cell_type": "code",
   "execution_count": 475,
   "id": "08e4062d",
   "metadata": {
    "scrolled": true
   },
   "outputs": [
    {
     "data": {
      "text/html": [
       "<div>\n",
       "<style scoped>\n",
       "    .dataframe tbody tr th:only-of-type {\n",
       "        vertical-align: middle;\n",
       "    }\n",
       "\n",
       "    .dataframe tbody tr th {\n",
       "        vertical-align: top;\n",
       "    }\n",
       "\n",
       "    .dataframe thead th {\n",
       "        text-align: right;\n",
       "    }\n",
       "</style>\n",
       "<table border=\"1\" class=\"dataframe\">\n",
       "  <thead>\n",
       "    <tr style=\"text-align: right;\">\n",
       "      <th></th>\n",
       "      <th>bedrooms</th>\n",
       "      <th>bathrooms</th>\n",
       "      <th>sqft_living</th>\n",
       "      <th>sqft_lot</th>\n",
       "      <th>floors</th>\n",
       "      <th>waterfront</th>\n",
       "      <th>view</th>\n",
       "      <th>condition</th>\n",
       "      <th>grade</th>\n",
       "      <th>sqft_above</th>\n",
       "      <th>...</th>\n",
       "      <th>zipcode</th>\n",
       "      <th>lat</th>\n",
       "      <th>long</th>\n",
       "      <th>sqft_living15</th>\n",
       "      <th>sqft_lot15</th>\n",
       "      <th>logged price</th>\n",
       "      <th>logged sqft_living</th>\n",
       "      <th>date</th>\n",
       "      <th>year of selling</th>\n",
       "      <th>age</th>\n",
       "    </tr>\n",
       "  </thead>\n",
       "  <tbody>\n",
       "    <tr>\n",
       "      <th>1468</th>\n",
       "      <td>4</td>\n",
       "      <td>1.50</td>\n",
       "      <td>1390</td>\n",
       "      <td>7200</td>\n",
       "      <td>1.0</td>\n",
       "      <td>0</td>\n",
       "      <td>0</td>\n",
       "      <td>3</td>\n",
       "      <td>7</td>\n",
       "      <td>1140</td>\n",
       "      <td>...</td>\n",
       "      <td>98133</td>\n",
       "      <td>47.7224</td>\n",
       "      <td>-122.332</td>\n",
       "      <td>1630</td>\n",
       "      <td>7702</td>\n",
       "      <td>12.899220</td>\n",
       "      <td>7.237059</td>\n",
       "      <td>20140529T000000</td>\n",
       "      <td>2014</td>\n",
       "      <td>49.0</td>\n",
       "    </tr>\n",
       "    <tr>\n",
       "      <th>15590</th>\n",
       "      <td>3</td>\n",
       "      <td>1.50</td>\n",
       "      <td>1450</td>\n",
       "      <td>7316</td>\n",
       "      <td>1.0</td>\n",
       "      <td>0</td>\n",
       "      <td>0</td>\n",
       "      <td>3</td>\n",
       "      <td>7</td>\n",
       "      <td>1450</td>\n",
       "      <td>...</td>\n",
       "      <td>98133</td>\n",
       "      <td>47.7725</td>\n",
       "      <td>-122.349</td>\n",
       "      <td>1440</td>\n",
       "      <td>7316</td>\n",
       "      <td>12.971540</td>\n",
       "      <td>7.279319</td>\n",
       "      <td>20150317T000000</td>\n",
       "      <td>2015</td>\n",
       "      <td>54.0</td>\n",
       "    </tr>\n",
       "    <tr>\n",
       "      <th>18552</th>\n",
       "      <td>5</td>\n",
       "      <td>2.75</td>\n",
       "      <td>2860</td>\n",
       "      <td>5379</td>\n",
       "      <td>2.0</td>\n",
       "      <td>0</td>\n",
       "      <td>0</td>\n",
       "      <td>3</td>\n",
       "      <td>9</td>\n",
       "      <td>2860</td>\n",
       "      <td>...</td>\n",
       "      <td>98052</td>\n",
       "      <td>47.7082</td>\n",
       "      <td>-122.104</td>\n",
       "      <td>2980</td>\n",
       "      <td>6018</td>\n",
       "      <td>13.487006</td>\n",
       "      <td>7.958577</td>\n",
       "      <td>20140811T000000</td>\n",
       "      <td>2014</td>\n",
       "      <td>9.0</td>\n",
       "    </tr>\n",
       "    <tr>\n",
       "      <th>10535</th>\n",
       "      <td>2</td>\n",
       "      <td>1.00</td>\n",
       "      <td>1050</td>\n",
       "      <td>4125</td>\n",
       "      <td>1.0</td>\n",
       "      <td>0</td>\n",
       "      <td>0</td>\n",
       "      <td>4</td>\n",
       "      <td>7</td>\n",
       "      <td>1050</td>\n",
       "      <td>...</td>\n",
       "      <td>98144</td>\n",
       "      <td>47.5736</td>\n",
       "      <td>-122.307</td>\n",
       "      <td>1650</td>\n",
       "      <td>4125</td>\n",
       "      <td>12.880292</td>\n",
       "      <td>6.956545</td>\n",
       "      <td>20140926T000000</td>\n",
       "      <td>2014</td>\n",
       "      <td>105.0</td>\n",
       "    </tr>\n",
       "    <tr>\n",
       "      <th>1069</th>\n",
       "      <td>2</td>\n",
       "      <td>1.00</td>\n",
       "      <td>1240</td>\n",
       "      <td>57000</td>\n",
       "      <td>1.0</td>\n",
       "      <td>0</td>\n",
       "      <td>0</td>\n",
       "      <td>3</td>\n",
       "      <td>7</td>\n",
       "      <td>1240</td>\n",
       "      <td>...</td>\n",
       "      <td>98075</td>\n",
       "      <td>47.5970</td>\n",
       "      <td>-122.059</td>\n",
       "      <td>3050</td>\n",
       "      <td>25545</td>\n",
       "      <td>13.132314</td>\n",
       "      <td>7.122867</td>\n",
       "      <td>20140710T000000</td>\n",
       "      <td>2014</td>\n",
       "      <td>52.0</td>\n",
       "    </tr>\n",
       "  </tbody>\n",
       "</table>\n",
       "<p>5 rows × 23 columns</p>\n",
       "</div>"
      ],
      "text/plain": [
       "       bedrooms  bathrooms  sqft_living  sqft_lot  floors  waterfront  view  \\\n",
       "1468          4       1.50         1390      7200     1.0           0     0   \n",
       "15590         3       1.50         1450      7316     1.0           0     0   \n",
       "18552         5       2.75         2860      5379     2.0           0     0   \n",
       "10535         2       1.00         1050      4125     1.0           0     0   \n",
       "1069          2       1.00         1240     57000     1.0           0     0   \n",
       "\n",
       "       condition  grade  sqft_above  ...  zipcode      lat     long  \\\n",
       "1468           3      7        1140  ...    98133  47.7224 -122.332   \n",
       "15590          3      7        1450  ...    98133  47.7725 -122.349   \n",
       "18552          3      9        2860  ...    98052  47.7082 -122.104   \n",
       "10535          4      7        1050  ...    98144  47.5736 -122.307   \n",
       "1069           3      7        1240  ...    98075  47.5970 -122.059   \n",
       "\n",
       "       sqft_living15  sqft_lot15  logged price  logged sqft_living  \\\n",
       "1468            1630        7702     12.899220            7.237059   \n",
       "15590           1440        7316     12.971540            7.279319   \n",
       "18552           2980        6018     13.487006            7.958577   \n",
       "10535           1650        4125     12.880292            6.956545   \n",
       "1069            3050       25545     13.132314            7.122867   \n",
       "\n",
       "                  date  year of selling    age  \n",
       "1468   20140529T000000             2014   49.0  \n",
       "15590  20150317T000000             2015   54.0  \n",
       "18552  20140811T000000             2014    9.0  \n",
       "10535  20140926T000000             2014  105.0  \n",
       "1069   20140710T000000             2014   52.0  \n",
       "\n",
       "[5 rows x 23 columns]"
      ]
     },
     "execution_count": 475,
     "metadata": {},
     "output_type": "execute_result"
    }
   ],
   "source": [
    "X_train['age'] = X_train['year of selling'] - dataset.yr_built\n",
    "X_train.head()"
   ]
  },
  {
   "cell_type": "markdown",
   "id": "e2ec21a6",
   "metadata": {},
   "source": [
    "**Adding feature age to the above model**"
   ]
  },
  {
   "cell_type": "code",
   "execution_count": 472,
   "id": "08574750",
   "metadata": {},
   "outputs": [
    {
     "name": "stdout",
     "output_type": "stream",
     "text": [
      "The rms value is 0.2606993206053413\n",
      "The r square value is 0.7548897777370902\n"
     ]
    }
   ],
   "source": [
    "x_train6 = X_train[['logged sqft_living', 'bedrooms','grade', 'bathrooms', 'view', 'waterfront', 'lat', 'yr_built', 'year of selling', 'age']]\n",
    "y_train6 = X_train['logged price']\n",
    "\n",
    "model6 = LinearRegression()\n",
    "score1 = cross_val_score(model6, x_train6, y_train6, cv = 10, scoring = 'r2')\n",
    "score2 = cross_val_score(model6, x_train6, y_train6, cv = 10, scoring = 'neg_root_mean_squared_error')\n",
    "print('The rms value is', np.abs(score2.mean()))\n",
    "print('The r square value is', score1.mean())"
   ]
  },
  {
   "cell_type": "markdown",
   "id": "500d953e",
   "metadata": {},
   "source": [
    "**It is again clear that r 2 valued does not improved to any significant value as compared to model 4**"
   ]
  },
  {
   "cell_type": "markdown",
   "id": "f52add64",
   "metadata": {},
   "source": [
    "# Forward Selection\n",
    "# Model 7\n",
    "**Selecting significant features for model training keeping in view the trade-off between accuracy and complexity**"
   ]
  },
  {
   "cell_type": "code",
   "execution_count": 121,
   "id": "04efbea1",
   "metadata": {
    "scrolled": true
   },
   "outputs": [],
   "source": [
    "from mlxtend.feature_selection import SequentialFeatureSelector as sfs"
   ]
  },
  {
   "cell_type": "code",
   "execution_count": 125,
   "id": "0678bc8a",
   "metadata": {
    "scrolled": true
   },
   "outputs": [
    {
     "name": "stderr",
     "output_type": "stream",
     "text": [
      "[Parallel(n_jobs=1)]: Using backend SequentialBackend with 1 concurrent workers.\n",
      "[Parallel(n_jobs=1)]: Done   1 out of   1 | elapsed:    0.0s remaining:    0.0s\n",
      "[Parallel(n_jobs=1)]: Done  21 out of  21 | elapsed:    0.2s finished\n",
      "\n",
      "[2022-07-20 18:41:28] Features: 1/21 -- score: 0.4903801707591606[Parallel(n_jobs=1)]: Using backend SequentialBackend with 1 concurrent workers.\n",
      "[Parallel(n_jobs=1)]: Done   1 out of   1 | elapsed:    0.0s remaining:    0.0s\n",
      "[Parallel(n_jobs=1)]: Done  20 out of  20 | elapsed:    0.2s finished\n",
      "\n",
      "[2022-07-20 18:41:29] Features: 2/21 -- score: 0.6276860732579472[Parallel(n_jobs=1)]: Using backend SequentialBackend with 1 concurrent workers.\n",
      "[Parallel(n_jobs=1)]: Done   1 out of   1 | elapsed:    0.0s remaining:    0.0s\n",
      "[Parallel(n_jobs=1)]: Done  19 out of  19 | elapsed:    0.3s finished\n",
      "\n",
      "[2022-07-20 18:41:29] Features: 3/21 -- score: 0.7002874914897174[Parallel(n_jobs=1)]: Using backend SequentialBackend with 1 concurrent workers.\n",
      "[Parallel(n_jobs=1)]: Done   1 out of   1 | elapsed:    0.0s remaining:    0.0s\n",
      "[Parallel(n_jobs=1)]: Done  18 out of  18 | elapsed:    0.3s finished\n",
      "\n",
      "[2022-07-20 18:41:29] Features: 4/21 -- score: 0.7291995939758759[Parallel(n_jobs=1)]: Using backend SequentialBackend with 1 concurrent workers.\n",
      "[Parallel(n_jobs=1)]: Done   1 out of   1 | elapsed:    0.0s remaining:    0.0s\n",
      "[Parallel(n_jobs=1)]: Done  17 out of  17 | elapsed:    0.3s finished\n",
      "\n",
      "[2022-07-20 18:41:30] Features: 5/21 -- score: 0.7421353321493946[Parallel(n_jobs=1)]: Using backend SequentialBackend with 1 concurrent workers.\n",
      "[Parallel(n_jobs=1)]: Done   1 out of   1 | elapsed:    0.0s remaining:    0.0s\n",
      "[Parallel(n_jobs=1)]: Done  16 out of  16 | elapsed:    0.3s finished\n",
      "\n",
      "[2022-07-20 18:41:30] Features: 6/21 -- score: 0.7473479549293118[Parallel(n_jobs=1)]: Using backend SequentialBackend with 1 concurrent workers.\n",
      "[Parallel(n_jobs=1)]: Done   1 out of   1 | elapsed:    0.0s remaining:    0.0s\n",
      "[Parallel(n_jobs=1)]: Done  15 out of  15 | elapsed:    0.3s finished\n",
      "\n",
      "[2022-07-20 18:41:30] Features: 7/21 -- score: 0.7529512955458052[Parallel(n_jobs=1)]: Using backend SequentialBackend with 1 concurrent workers.\n",
      "[Parallel(n_jobs=1)]: Done   1 out of   1 | elapsed:    0.0s remaining:    0.0s\n",
      "[Parallel(n_jobs=1)]: Done  14 out of  14 | elapsed:    0.3s finished\n",
      "\n",
      "[2022-07-20 18:41:31] Features: 8/21 -- score: 0.757083924998451[Parallel(n_jobs=1)]: Using backend SequentialBackend with 1 concurrent workers.\n",
      "[Parallel(n_jobs=1)]: Done   1 out of   1 | elapsed:    0.0s remaining:    0.0s\n",
      "[Parallel(n_jobs=1)]: Done  13 out of  13 | elapsed:    0.3s finished\n",
      "\n",
      "[2022-07-20 18:41:31] Features: 9/21 -- score: 0.7611025258420417[Parallel(n_jobs=1)]: Using backend SequentialBackend with 1 concurrent workers.\n",
      "[Parallel(n_jobs=1)]: Done   1 out of   1 | elapsed:    0.0s remaining:    0.0s\n",
      "[Parallel(n_jobs=1)]: Done  12 out of  12 | elapsed:    0.2s finished\n",
      "\n",
      "[2022-07-20 18:41:31] Features: 10/21 -- score: 0.76405750938063[Parallel(n_jobs=1)]: Using backend SequentialBackend with 1 concurrent workers.\n",
      "[Parallel(n_jobs=1)]: Done   1 out of   1 | elapsed:    0.0s remaining:    0.0s\n",
      "[Parallel(n_jobs=1)]: Done  11 out of  11 | elapsed:    0.3s finished\n",
      "\n",
      "[2022-07-20 18:41:32] Features: 11/21 -- score: 0.7664552908817909[Parallel(n_jobs=1)]: Using backend SequentialBackend with 1 concurrent workers.\n",
      "[Parallel(n_jobs=1)]: Done   1 out of   1 | elapsed:    0.0s remaining:    0.0s\n",
      "[Parallel(n_jobs=1)]: Done  10 out of  10 | elapsed:    0.4s finished\n",
      "\n",
      "[2022-07-20 18:41:32] Features: 12/21 -- score: 0.7680864471963234[Parallel(n_jobs=1)]: Using backend SequentialBackend with 1 concurrent workers.\n",
      "[Parallel(n_jobs=1)]: Done   1 out of   1 | elapsed:    0.0s remaining:    0.0s\n",
      "[Parallel(n_jobs=1)]: Done   9 out of   9 | elapsed:    0.4s finished\n",
      "\n",
      "[2022-07-20 18:41:33] Features: 13/21 -- score: 0.7693073929761911[Parallel(n_jobs=1)]: Using backend SequentialBackend with 1 concurrent workers.\n",
      "[Parallel(n_jobs=1)]: Done   1 out of   1 | elapsed:    0.0s remaining:    0.0s\n",
      "[Parallel(n_jobs=1)]: Done   8 out of   8 | elapsed:    0.3s finished\n",
      "\n",
      "[2022-07-20 18:41:33] Features: 14/21 -- score: 0.7701527094383377[Parallel(n_jobs=1)]: Using backend SequentialBackend with 1 concurrent workers.\n",
      "[Parallel(n_jobs=1)]: Done   1 out of   1 | elapsed:    0.0s remaining:    0.0s\n",
      "[Parallel(n_jobs=1)]: Done   7 out of   7 | elapsed:    0.3s finished\n",
      "\n",
      "[2022-07-20 18:41:34] Features: 15/21 -- score: 0.7712756445487925[Parallel(n_jobs=1)]: Using backend SequentialBackend with 1 concurrent workers.\n",
      "[Parallel(n_jobs=1)]: Done   1 out of   1 | elapsed:    0.0s remaining:    0.0s\n",
      "[Parallel(n_jobs=1)]: Done   6 out of   6 | elapsed:    0.3s finished\n",
      "\n",
      "[2022-07-20 18:41:34] Features: 16/21 -- score: 0.7717906204630577[Parallel(n_jobs=1)]: Using backend SequentialBackend with 1 concurrent workers.\n",
      "[Parallel(n_jobs=1)]: Done   1 out of   1 | elapsed:    0.0s remaining:    0.0s\n",
      "[Parallel(n_jobs=1)]: Done   5 out of   5 | elapsed:    0.3s finished\n",
      "\n",
      "[2022-07-20 18:41:34] Features: 17/21 -- score: 0.7722289456963295[Parallel(n_jobs=1)]: Using backend SequentialBackend with 1 concurrent workers.\n",
      "[Parallel(n_jobs=1)]: Done   1 out of   1 | elapsed:    0.1s remaining:    0.0s\n",
      "[Parallel(n_jobs=1)]: Done   4 out of   4 | elapsed:    0.3s finished\n",
      "\n",
      "[2022-07-20 18:41:35] Features: 18/21 -- score: 0.7723810466122313[Parallel(n_jobs=1)]: Using backend SequentialBackend with 1 concurrent workers.\n",
      "[Parallel(n_jobs=1)]: Done   1 out of   1 | elapsed:    0.0s remaining:    0.0s\n",
      "[Parallel(n_jobs=1)]: Done   3 out of   3 | elapsed:    0.1s finished\n",
      "\n",
      "[2022-07-20 18:41:35] Features: 19/21 -- score: 0.772381046612257[Parallel(n_jobs=1)]: Using backend SequentialBackend with 1 concurrent workers.\n",
      "[Parallel(n_jobs=1)]: Done   1 out of   1 | elapsed:    0.0s remaining:    0.0s\n",
      "[Parallel(n_jobs=1)]: Done   2 out of   2 | elapsed:    0.0s finished\n",
      "\n",
      "[2022-07-20 18:41:35] Features: 20/21 -- score: 0.7722431640557028[Parallel(n_jobs=1)]: Using backend SequentialBackend with 1 concurrent workers.\n",
      "[Parallel(n_jobs=1)]: Done   1 out of   1 | elapsed:    0.0s remaining:    0.0s\n",
      "[Parallel(n_jobs=1)]: Done   1 out of   1 | elapsed:    0.0s finished\n",
      "\n",
      "[2022-07-20 18:41:35] Features: 21/21 -- score: 0.7722431640557136"
     ]
    }
   ],
   "source": [
    "x_train6 = X_train.drop(['date','logged price'], axis= 'columns') = X_train['logged price']\n",
    "\n",
    "forward_feature_selection = sfs(model6,\n",
    "                                k_features = 21,\n",
    "                                  forward = True,\n",
    "                                verbose = 2,\n",
    "                                cv = 5).fit(x_train6, y_train6)"
   ]
  },
  {
   "cell_type": "markdown",
   "id": "3265256c",
   "metadata": {},
   "source": [
    "**It is clear that at features = 11 we have optimal result for accuracy and complexity trade-off** "
   ]
  },
  {
   "cell_type": "code",
   "execution_count": 126,
   "id": "844283dd",
   "metadata": {},
   "outputs": [
    {
     "data": {
      "text/plain": [
       "(15129, 21)"
      ]
     },
     "execution_count": 126,
     "metadata": {},
     "output_type": "execute_result"
    }
   ],
   "source": [
    "x_train6.shape"
   ]
  },
  {
   "cell_type": "code",
   "execution_count": 127,
   "id": "e9fa277e",
   "metadata": {
    "scrolled": true
   },
   "outputs": [
    {
     "data": {
      "text/html": [
       "<div>\n",
       "<style scoped>\n",
       "    .dataframe tbody tr th:only-of-type {\n",
       "        vertical-align: middle;\n",
       "    }\n",
       "\n",
       "    .dataframe tbody tr th {\n",
       "        vertical-align: top;\n",
       "    }\n",
       "\n",
       "    .dataframe thead th {\n",
       "        text-align: right;\n",
       "    }\n",
       "</style>\n",
       "<table border=\"1\" class=\"dataframe\">\n",
       "  <thead>\n",
       "    <tr style=\"text-align: right;\">\n",
       "      <th></th>\n",
       "      <th>feature_idx</th>\n",
       "      <th>cv_scores</th>\n",
       "      <th>avg_score</th>\n",
       "      <th>feature_names</th>\n",
       "      <th>ci_bound</th>\n",
       "      <th>std_dev</th>\n",
       "      <th>std_err</th>\n",
       "    </tr>\n",
       "  </thead>\n",
       "  <tbody>\n",
       "    <tr>\n",
       "      <th>1</th>\n",
       "      <td>(8,)</td>\n",
       "      <td>[0.49976609732186084, 0.48432935034811975, 0.4...</td>\n",
       "      <td>0.49038</td>\n",
       "      <td>(grade,)</td>\n",
       "      <td>0.017949</td>\n",
       "      <td>0.013965</td>\n",
       "      <td>0.006982</td>\n",
       "    </tr>\n",
       "    <tr>\n",
       "      <th>2</th>\n",
       "      <td>(8, 14)</td>\n",
       "      <td>[0.6344477428531825, 0.6164335722822357, 0.621...</td>\n",
       "      <td>0.627686</td>\n",
       "      <td>(grade, lat)</td>\n",
       "      <td>0.01884</td>\n",
       "      <td>0.014658</td>\n",
       "      <td>0.007329</td>\n",
       "    </tr>\n",
       "    <tr>\n",
       "      <th>3</th>\n",
       "      <td>(2, 8, 14)</td>\n",
       "      <td>[0.709780871916907, 0.6836588057139061, 0.6977...</td>\n",
       "      <td>0.700287</td>\n",
       "      <td>(sqft_living, grade, lat)</td>\n",
       "      <td>0.015167</td>\n",
       "      <td>0.0118</td>\n",
       "      <td>0.0059</td>\n",
       "    </tr>\n",
       "    <tr>\n",
       "      <th>4</th>\n",
       "      <td>(2, 8, 14, 20)</td>\n",
       "      <td>[0.7328804160112703, 0.7118298261487801, 0.732...</td>\n",
       "      <td>0.7292</td>\n",
       "      <td>(sqft_living, grade, lat, age)</td>\n",
       "      <td>0.014725</td>\n",
       "      <td>0.011457</td>\n",
       "      <td>0.005728</td>\n",
       "    </tr>\n",
       "    <tr>\n",
       "      <th>5</th>\n",
       "      <td>(2, 6, 8, 14, 20)</td>\n",
       "      <td>[0.7443841244442038, 0.7245612918812006, 0.747...</td>\n",
       "      <td>0.742135</td>\n",
       "      <td>(sqft_living, view, grade, lat, age)</td>\n",
       "      <td>0.015185</td>\n",
       "      <td>0.011815</td>\n",
       "      <td>0.005907</td>\n",
       "    </tr>\n",
       "    <tr>\n",
       "      <th>6</th>\n",
       "      <td>(1, 2, 6, 8, 14, 20)</td>\n",
       "      <td>[0.7488413208853311, 0.7314445176909814, 0.751...</td>\n",
       "      <td>0.747348</td>\n",
       "      <td>(bathrooms, sqft_living, view, grade, lat, age)</td>\n",
       "      <td>0.013979</td>\n",
       "      <td>0.010876</td>\n",
       "      <td>0.005438</td>\n",
       "    </tr>\n",
       "    <tr>\n",
       "      <th>7</th>\n",
       "      <td>(1, 2, 6, 8, 14, 16, 20)</td>\n",
       "      <td>[0.7532088236489441, 0.737268255815322, 0.7595...</td>\n",
       "      <td>0.752951</td>\n",
       "      <td>(bathrooms, sqft_living, view, grade, lat, sqf...</td>\n",
       "      <td>0.013971</td>\n",
       "      <td>0.01087</td>\n",
       "      <td>0.005435</td>\n",
       "    </tr>\n",
       "    <tr>\n",
       "      <th>8</th>\n",
       "      <td>(1, 2, 6, 7, 8, 14, 16, 20)</td>\n",
       "      <td>[0.7572707176366638, 0.7437339034789768, 0.762...</td>\n",
       "      <td>0.757084</td>\n",
       "      <td>(bathrooms, sqft_living, view, condition, grad...</td>\n",
       "      <td>0.013011</td>\n",
       "      <td>0.010123</td>\n",
       "      <td>0.005062</td>\n",
       "    </tr>\n",
       "    <tr>\n",
       "      <th>9</th>\n",
       "      <td>(1, 2, 5, 6, 7, 8, 14, 16, 20)</td>\n",
       "      <td>[0.7601121542926719, 0.7482486947550344, 0.768...</td>\n",
       "      <td>0.761103</td>\n",
       "      <td>(bathrooms, sqft_living, waterfront, view, con...</td>\n",
       "      <td>0.013178</td>\n",
       "      <td>0.010253</td>\n",
       "      <td>0.005126</td>\n",
       "    </tr>\n",
       "    <tr>\n",
       "      <th>10</th>\n",
       "      <td>(1, 2, 4, 5, 6, 7, 8, 14, 16, 20)</td>\n",
       "      <td>[0.761865026145097, 0.7499248396383144, 0.7729...</td>\n",
       "      <td>0.764058</td>\n",
       "      <td>(bathrooms, sqft_living, floors, waterfront, v...</td>\n",
       "      <td>0.013372</td>\n",
       "      <td>0.010404</td>\n",
       "      <td>0.005202</td>\n",
       "    </tr>\n",
       "    <tr>\n",
       "      <th>11</th>\n",
       "      <td>(1, 2, 4, 5, 6, 7, 8, 14, 16, 18, 20)</td>\n",
       "      <td>[0.7643764425386353, 0.7519986381264621, 0.775...</td>\n",
       "      <td>0.766455</td>\n",
       "      <td>(bathrooms, sqft_living, floors, waterfront, v...</td>\n",
       "      <td>0.013568</td>\n",
       "      <td>0.010556</td>\n",
       "      <td>0.005278</td>\n",
       "    </tr>\n",
       "    <tr>\n",
       "      <th>12</th>\n",
       "      <td>(1, 2, 4, 5, 6, 7, 8, 14, 16, 18, 19, 20)</td>\n",
       "      <td>[0.7665839157396263, 0.7534339122543772, 0.777...</td>\n",
       "      <td>0.768086</td>\n",
       "      <td>(bathrooms, sqft_living, floors, waterfront, v...</td>\n",
       "      <td>0.013875</td>\n",
       "      <td>0.010795</td>\n",
       "      <td>0.005398</td>\n",
       "    </tr>\n",
       "    <tr>\n",
       "      <th>13</th>\n",
       "      <td>(1, 2, 4, 5, 6, 7, 8, 13, 14, 16, 18, 19, 20)</td>\n",
       "      <td>[0.7687850451788851, 0.7552721922244804, 0.778...</td>\n",
       "      <td>0.769307</td>\n",
       "      <td>(bathrooms, sqft_living, floors, waterfront, v...</td>\n",
       "      <td>0.012901</td>\n",
       "      <td>0.010038</td>\n",
       "      <td>0.005019</td>\n",
       "    </tr>\n",
       "    <tr>\n",
       "      <th>14</th>\n",
       "      <td>(1, 2, 3, 4, 5, 6, 7, 8, 13, 14, 16, 18, 19, 20)</td>\n",
       "      <td>[0.7695073712353009, 0.7569158701316495, 0.778...</td>\n",
       "      <td>0.770153</td>\n",
       "      <td>(bathrooms, sqft_living, sqft_lot, floors, wat...</td>\n",
       "      <td>0.012593</td>\n",
       "      <td>0.009798</td>\n",
       "      <td>0.004899</td>\n",
       "    </tr>\n",
       "    <tr>\n",
       "      <th>15</th>\n",
       "      <td>(1, 2, 3, 4, 5, 6, 7, 8, 13, 14, 15, 16, 18, 1...</td>\n",
       "      <td>[0.7707010358594477, 0.758173756746157, 0.7791...</td>\n",
       "      <td>0.771276</td>\n",
       "      <td>(bathrooms, sqft_living, sqft_lot, floors, wat...</td>\n",
       "      <td>0.012505</td>\n",
       "      <td>0.009729</td>\n",
       "      <td>0.004865</td>\n",
       "    </tr>\n",
       "    <tr>\n",
       "      <th>16</th>\n",
       "      <td>(0, 1, 2, 3, 4, 5, 6, 7, 8, 13, 14, 15, 16, 18...</td>\n",
       "      <td>[0.7720542840015007, 0.7589261664135211, 0.780...</td>\n",
       "      <td>0.771791</td>\n",
       "      <td>(bedrooms, bathrooms, sqft_living, sqft_lot, f...</td>\n",
       "      <td>0.012138</td>\n",
       "      <td>0.009444</td>\n",
       "      <td>0.004722</td>\n",
       "    </tr>\n",
       "    <tr>\n",
       "      <th>17</th>\n",
       "      <td>(0, 1, 2, 3, 4, 5, 6, 7, 8, 12, 13, 14, 15, 16...</td>\n",
       "      <td>[0.7727440590215421, 0.7586397863276413, 0.780...</td>\n",
       "      <td>0.772229</td>\n",
       "      <td>(bedrooms, bathrooms, sqft_living, sqft_lot, f...</td>\n",
       "      <td>0.012288</td>\n",
       "      <td>0.00956</td>\n",
       "      <td>0.00478</td>\n",
       "    </tr>\n",
       "    <tr>\n",
       "      <th>18</th>\n",
       "      <td>(0, 1, 2, 3, 4, 5, 6, 7, 8, 12, 13, 14, 15, 16...</td>\n",
       "      <td>[0.7726956489878063, 0.7589645084954875, 0.780...</td>\n",
       "      <td>0.772381</td>\n",
       "      <td>(bedrooms, bathrooms, sqft_living, sqft_lot, f...</td>\n",
       "      <td>0.012042</td>\n",
       "      <td>0.009369</td>\n",
       "      <td>0.004685</td>\n",
       "    </tr>\n",
       "    <tr>\n",
       "      <th>19</th>\n",
       "      <td>(0, 1, 2, 3, 4, 5, 6, 7, 8, 11, 12, 13, 14, 15...</td>\n",
       "      <td>[0.7726956489878223, 0.7589645084954928, 0.780...</td>\n",
       "      <td>0.772381</td>\n",
       "      <td>(bedrooms, bathrooms, sqft_living, sqft_lot, f...</td>\n",
       "      <td>0.012042</td>\n",
       "      <td>0.009369</td>\n",
       "      <td>0.004685</td>\n",
       "    </tr>\n",
       "    <tr>\n",
       "      <th>20</th>\n",
       "      <td>(0, 1, 2, 3, 4, 5, 6, 7, 8, 10, 11, 12, 13, 14...</td>\n",
       "      <td>[0.7726695165842856, 0.759000216697783, 0.7796...</td>\n",
       "      <td>0.772243</td>\n",
       "      <td>(bedrooms, bathrooms, sqft_living, sqft_lot, f...</td>\n",
       "      <td>0.011924</td>\n",
       "      <td>0.009277</td>\n",
       "      <td>0.004639</td>\n",
       "    </tr>\n",
       "    <tr>\n",
       "      <th>21</th>\n",
       "      <td>(0, 1, 2, 3, 4, 5, 6, 7, 8, 9, 10, 11, 12, 13,...</td>\n",
       "      <td>[0.7726695165842659, 0.7590002166978151, 0.779...</td>\n",
       "      <td>0.772243</td>\n",
       "      <td>(bedrooms, bathrooms, sqft_living, sqft_lot, f...</td>\n",
       "      <td>0.011924</td>\n",
       "      <td>0.009277</td>\n",
       "      <td>0.004639</td>\n",
       "    </tr>\n",
       "  </tbody>\n",
       "</table>\n",
       "</div>"
      ],
      "text/plain": [
       "                                          feature_idx  \\\n",
       "1                                                (8,)   \n",
       "2                                             (8, 14)   \n",
       "3                                          (2, 8, 14)   \n",
       "4                                      (2, 8, 14, 20)   \n",
       "5                                   (2, 6, 8, 14, 20)   \n",
       "6                                (1, 2, 6, 8, 14, 20)   \n",
       "7                            (1, 2, 6, 8, 14, 16, 20)   \n",
       "8                         (1, 2, 6, 7, 8, 14, 16, 20)   \n",
       "9                      (1, 2, 5, 6, 7, 8, 14, 16, 20)   \n",
       "10                  (1, 2, 4, 5, 6, 7, 8, 14, 16, 20)   \n",
       "11              (1, 2, 4, 5, 6, 7, 8, 14, 16, 18, 20)   \n",
       "12          (1, 2, 4, 5, 6, 7, 8, 14, 16, 18, 19, 20)   \n",
       "13      (1, 2, 4, 5, 6, 7, 8, 13, 14, 16, 18, 19, 20)   \n",
       "14   (1, 2, 3, 4, 5, 6, 7, 8, 13, 14, 16, 18, 19, 20)   \n",
       "15  (1, 2, 3, 4, 5, 6, 7, 8, 13, 14, 15, 16, 18, 1...   \n",
       "16  (0, 1, 2, 3, 4, 5, 6, 7, 8, 13, 14, 15, 16, 18...   \n",
       "17  (0, 1, 2, 3, 4, 5, 6, 7, 8, 12, 13, 14, 15, 16...   \n",
       "18  (0, 1, 2, 3, 4, 5, 6, 7, 8, 12, 13, 14, 15, 16...   \n",
       "19  (0, 1, 2, 3, 4, 5, 6, 7, 8, 11, 12, 13, 14, 15...   \n",
       "20  (0, 1, 2, 3, 4, 5, 6, 7, 8, 10, 11, 12, 13, 14...   \n",
       "21  (0, 1, 2, 3, 4, 5, 6, 7, 8, 9, 10, 11, 12, 13,...   \n",
       "\n",
       "                                            cv_scores avg_score  \\\n",
       "1   [0.49976609732186084, 0.48432935034811975, 0.4...   0.49038   \n",
       "2   [0.6344477428531825, 0.6164335722822357, 0.621...  0.627686   \n",
       "3   [0.709780871916907, 0.6836588057139061, 0.6977...  0.700287   \n",
       "4   [0.7328804160112703, 0.7118298261487801, 0.732...    0.7292   \n",
       "5   [0.7443841244442038, 0.7245612918812006, 0.747...  0.742135   \n",
       "6   [0.7488413208853311, 0.7314445176909814, 0.751...  0.747348   \n",
       "7   [0.7532088236489441, 0.737268255815322, 0.7595...  0.752951   \n",
       "8   [0.7572707176366638, 0.7437339034789768, 0.762...  0.757084   \n",
       "9   [0.7601121542926719, 0.7482486947550344, 0.768...  0.761103   \n",
       "10  [0.761865026145097, 0.7499248396383144, 0.7729...  0.764058   \n",
       "11  [0.7643764425386353, 0.7519986381264621, 0.775...  0.766455   \n",
       "12  [0.7665839157396263, 0.7534339122543772, 0.777...  0.768086   \n",
       "13  [0.7687850451788851, 0.7552721922244804, 0.778...  0.769307   \n",
       "14  [0.7695073712353009, 0.7569158701316495, 0.778...  0.770153   \n",
       "15  [0.7707010358594477, 0.758173756746157, 0.7791...  0.771276   \n",
       "16  [0.7720542840015007, 0.7589261664135211, 0.780...  0.771791   \n",
       "17  [0.7727440590215421, 0.7586397863276413, 0.780...  0.772229   \n",
       "18  [0.7726956489878063, 0.7589645084954875, 0.780...  0.772381   \n",
       "19  [0.7726956489878223, 0.7589645084954928, 0.780...  0.772381   \n",
       "20  [0.7726695165842856, 0.759000216697783, 0.7796...  0.772243   \n",
       "21  [0.7726695165842659, 0.7590002166978151, 0.779...  0.772243   \n",
       "\n",
       "                                        feature_names  ci_bound   std_dev  \\\n",
       "1                                            (grade,)  0.017949  0.013965   \n",
       "2                                        (grade, lat)   0.01884  0.014658   \n",
       "3                           (sqft_living, grade, lat)  0.015167    0.0118   \n",
       "4                      (sqft_living, grade, lat, age)  0.014725  0.011457   \n",
       "5                (sqft_living, view, grade, lat, age)  0.015185  0.011815   \n",
       "6     (bathrooms, sqft_living, view, grade, lat, age)  0.013979  0.010876   \n",
       "7   (bathrooms, sqft_living, view, grade, lat, sqf...  0.013971   0.01087   \n",
       "8   (bathrooms, sqft_living, view, condition, grad...  0.013011  0.010123   \n",
       "9   (bathrooms, sqft_living, waterfront, view, con...  0.013178  0.010253   \n",
       "10  (bathrooms, sqft_living, floors, waterfront, v...  0.013372  0.010404   \n",
       "11  (bathrooms, sqft_living, floors, waterfront, v...  0.013568  0.010556   \n",
       "12  (bathrooms, sqft_living, floors, waterfront, v...  0.013875  0.010795   \n",
       "13  (bathrooms, sqft_living, floors, waterfront, v...  0.012901  0.010038   \n",
       "14  (bathrooms, sqft_living, sqft_lot, floors, wat...  0.012593  0.009798   \n",
       "15  (bathrooms, sqft_living, sqft_lot, floors, wat...  0.012505  0.009729   \n",
       "16  (bedrooms, bathrooms, sqft_living, sqft_lot, f...  0.012138  0.009444   \n",
       "17  (bedrooms, bathrooms, sqft_living, sqft_lot, f...  0.012288   0.00956   \n",
       "18  (bedrooms, bathrooms, sqft_living, sqft_lot, f...  0.012042  0.009369   \n",
       "19  (bedrooms, bathrooms, sqft_living, sqft_lot, f...  0.012042  0.009369   \n",
       "20  (bedrooms, bathrooms, sqft_living, sqft_lot, f...  0.011924  0.009277   \n",
       "21  (bedrooms, bathrooms, sqft_living, sqft_lot, f...  0.011924  0.009277   \n",
       "\n",
       "     std_err  \n",
       "1   0.006982  \n",
       "2   0.007329  \n",
       "3     0.0059  \n",
       "4   0.005728  \n",
       "5   0.005907  \n",
       "6   0.005438  \n",
       "7   0.005435  \n",
       "8   0.005062  \n",
       "9   0.005126  \n",
       "10  0.005202  \n",
       "11  0.005278  \n",
       "12  0.005398  \n",
       "13  0.005019  \n",
       "14  0.004899  \n",
       "15  0.004865  \n",
       "16  0.004722  \n",
       "17   0.00478  \n",
       "18  0.004685  \n",
       "19  0.004685  \n",
       "20  0.004639  \n",
       "21  0.004639  "
      ]
     },
     "execution_count": 127,
     "metadata": {},
     "output_type": "execute_result"
    }
   ],
   "source": [
    "dataset_a =pd.DataFrame.from_dict(forward_feature_selection.get_metric_dict()).T\n",
    "dataset_a"
   ]
  },
  {
   "cell_type": "markdown",
   "id": "e5e6ede6",
   "metadata": {},
   "source": [
    "**At features = 11 , significant features are:-**"
   ]
  },
  {
   "cell_type": "code",
   "execution_count": 128,
   "id": "6d415a69",
   "metadata": {
    "scrolled": true
   },
   "outputs": [
    {
     "data": {
      "text/plain": [
       "(1, 2, 4, 5, 6, 7, 8, 14, 16, 18, 20)"
      ]
     },
     "execution_count": 128,
     "metadata": {},
     "output_type": "execute_result"
    }
   ],
   "source": [
    "dataset_a['feature_idx'][11]"
   ]
  },
  {
   "cell_type": "code",
   "execution_count": 129,
   "id": "cb8fd9f4",
   "metadata": {},
   "outputs": [
    {
     "data": {
      "text/plain": [
       "('bathrooms',\n",
       " 'sqft_living',\n",
       " 'floors',\n",
       " 'waterfront',\n",
       " 'view',\n",
       " 'condition',\n",
       " 'grade',\n",
       " 'lat',\n",
       " 'sqft_living15',\n",
       " 'logged sqft_living',\n",
       " 'age')"
      ]
     },
     "execution_count": 129,
     "metadata": {},
     "output_type": "execute_result"
    }
   ],
   "source": [
    "dataset_a['feature_names'][11]"
   ]
  },
  {
   "cell_type": "markdown",
   "id": "8619f389",
   "metadata": {},
   "source": [
    "\n",
    "**Adjusting these significant features into model to train it**"
   ]
  },
  {
   "cell_type": "code",
   "execution_count": 491,
   "id": "83edecec",
   "metadata": {},
   "outputs": [
    {
     "name": "stdout",
     "output_type": "stream",
     "text": [
      "The rms value is 0.2541047414554259\n",
      "The r square value is 0.7671554928600293\n"
     ]
    }
   ],
   "source": [
    "#x_train = dataset[['logged sqft_living', 'bedrooms','grade', 'bathrooms', 'view', 'waterfront', 'lat', 'yr_built', 'year of selling', 'age','condition', 'floors']]\n",
    "x_train7 = X_train[['bathrooms',\n",
    " 'logged sqft_living',\n",
    " 'floors',\n",
    " 'waterfront',\n",
    " 'view',\n",
    " 'condition',\n",
    " 'grade',\n",
    " 'lat',\n",
    " 'sqft_living15',\n",
    " 'year of selling',\n",
    " 'age']]\n",
    "y_train7 = X_train['logged price']\n",
    "\n",
    "model7 = LinearRegression()\n",
    "score1 = cross_val_score(model7, x_train7, y_train7, cv = 10, scoring = 'r2')\n",
    "score2 = cross_val_score(model7, x_train7, y_train7, cv = 10, scoring = 'neg_root_mean_squared_error')\n",
    "print('The rms value is', np.abs(score2.mean()))\n",
    "print('The r square value is', score1.mean())"
   ]
  },
  {
   "cell_type": "markdown",
   "id": "50a87ff7",
   "metadata": {},
   "source": [
    "# Result:-- \n",
    "**Linear Regression Model 7 is the best mode so far**"
   ]
  },
  {
   "cell_type": "markdown",
   "id": "f568458d",
   "metadata": {},
   "source": [
    "# Decision Tree Models"
   ]
  },
  {
   "cell_type": "markdown",
   "id": "7e8b893e",
   "metadata": {},
   "source": [
    "# Model 1"
   ]
  },
  {
   "cell_type": "code",
   "execution_count": null,
   "id": "79106fb5",
   "metadata": {},
   "outputs": [],
   "source": [
    "x_train1 = X_train[['sqft_living', 'grade', 'bathrooms', 'view']]\n",
    "y_train"
   ]
  },
  {
   "cell_type": "code",
   "execution_count": 148,
   "id": "6ff7ba35",
   "metadata": {},
   "outputs": [
    {
     "data": {
      "text/plain": [
       "(15129, 4)"
      ]
     },
     "execution_count": 148,
     "metadata": {},
     "output_type": "execute_result"
    }
   ],
   "source": [
    "x_train1.shape"
   ]
  },
  {
   "cell_type": "code",
   "execution_count": 149,
   "id": "b7c80c10",
   "metadata": {
    "scrolled": true
   },
   "outputs": [
    {
     "data": {
      "text/plain": [
       "(15129,)"
      ]
     },
     "execution_count": 149,
     "metadata": {},
     "output_type": "execute_result"
    }
   ],
   "source": [
    "y_train.shape"
   ]
  },
  {
   "cell_type": "code",
   "execution_count": 160,
   "id": "f019a25d",
   "metadata": {
    "scrolled": true
   },
   "outputs": [
    {
     "name": "stdout",
     "output_type": "stream",
     "text": [
      "<class 'pandas.core.frame.DataFrame'>\n",
      "Int64Index: 15129 entries, 1468 to 2732\n",
      "Data columns (total 4 columns):\n",
      " #   Column       Non-Null Count  Dtype  \n",
      "---  ------       --------------  -----  \n",
      " 0   sqft_living  15129 non-null  int64  \n",
      " 1   grade        15129 non-null  int64  \n",
      " 2   bathrooms    15129 non-null  float64\n",
      " 3   view         15129 non-null  int64  \n",
      "dtypes: float64(1), int64(3)\n",
      "memory usage: 1.1 MB\n",
      "None\n"
     ]
    }
   ],
   "source": [
    "print(x_train1.info())\n"
   ]
  },
  {
   "cell_type": "code",
   "execution_count": 208,
   "id": "51ac0780",
   "metadata": {},
   "outputs": [],
   "source": [
    " dtr = DecisionTreeRegressor()"
   ]
  },
  {
   "cell_type": "code",
   "execution_count": 209,
   "id": "6cf2e63e",
   "metadata": {
    "scrolled": false
   },
   "outputs": [
    {
     "data": {
      "text/plain": [
       "DecisionTreeRegressor()"
      ]
     },
     "execution_count": 209,
     "metadata": {},
     "output_type": "execute_result"
    }
   ],
   "source": [
    "dtr"
   ]
  },
  {
   "cell_type": "code",
   "execution_count": 265,
   "id": "84bb1067",
   "metadata": {},
   "outputs": [],
   "source": [
    "DTR_Model = DecisionTreeRegressor().fit(x_train1, y_train)"
   ]
  },
  {
   "cell_type": "code",
   "execution_count": 314,
   "id": "94c29aff",
   "metadata": {},
   "outputs": [
    {
     "name": "stdout",
     "output_type": "stream",
     "text": [
      "Train Accuracy - : 0.897\n"
     ]
    }
   ],
   "source": [
    "print(f'Train Accuracy - : {DTR_Model.score(x_train1,y_train):.3f}')\n",
    "#print(f'Test Accuracy - : {DTR_Model1.score(x_test,y_test):.3f}')"
   ]
  },
  {
   "cell_type": "markdown",
   "id": "fc2340b0",
   "metadata": {},
   "source": [
    "**Above result clearly shows that without Hyper Parameter Tuning the model has issue of overfitting**"
   ]
  },
  {
   "cell_type": "markdown",
   "id": "7e81535c",
   "metadata": {},
   "source": [
    "# Hyperparameter Tunning with GridSearchCV and RandomizedSearchCV \n",
    "**To find optimal hyperparameters to train the model**"
   ]
  },
  {
   "cell_type": "code",
   "execution_count": 214,
   "id": "740b2dec",
   "metadata": {
    "scrolled": true
   },
   "outputs": [
    {
     "data": {
      "text/plain": [
       "dict_keys(['ccp_alpha', 'criterion', 'max_depth', 'max_features', 'max_leaf_nodes', 'min_impurity_decrease', 'min_impurity_split', 'min_samples_leaf', 'min_samples_split', 'min_weight_fraction_leaf', 'random_state', 'splitter'])"
      ]
     },
     "execution_count": 214,
     "metadata": {},
     "output_type": "execute_result"
    }
   ],
   "source": [
    "dtr.get_params().keys()"
   ]
  },
  {
   "cell_type": "code",
   "execution_count": 218,
   "id": "c4793505",
   "metadata": {},
   "outputs": [],
   "source": [
    "from sklearn.model_selection import RandomizedSearchCV\n",
    "import warnings\n",
    "warnings.filterwarnings(\"ignore\")\n",
    "from sklearn.exceptions import FitFailedWarning \n",
    "from sklearn.model_selection import GridSearchCV"
   ]
  },
  {
   "cell_type": "code",
   "execution_count": 315,
   "id": "1ca95ee5",
   "metadata": {},
   "outputs": [],
   "source": [
    "parameters = {'max_depth' : [5,11,18,20],\n",
    "              'min_samples_leaf' : [1,2,3,4,5],\n",
    "              'min_samples_split' : [2,3,4,5,10,12,1],\n",
    "              'max_features': ['auto','sqrt','log2'],\n",
    "               'criterion' : ['squared_error', 'friedman_mse', 'absolute_error']\n",
    "              } \n"
   ]
  },
  {
   "cell_type": "markdown",
   "id": "95abef75",
   "metadata": {},
   "source": [
    "# Finding Best Estimators with GridSearchCV"
   ]
  },
  {
   "cell_type": "code",
   "execution_count": 259,
   "id": "227b963c",
   "metadata": {},
   "outputs": [],
   "source": [
    "best_dtr_grid = GridSearchCV(dtr, parameters, cv = 5, verbose = True)"
   ]
  },
  {
   "cell_type": "code",
   "execution_count": 260,
   "id": "94352c2e",
   "metadata": {
    "scrolled": true
   },
   "outputs": [
    {
     "name": "stdout",
     "output_type": "stream",
     "text": [
      "Fitting 5 folds for each of 1260 candidates, totalling 6300 fits\n"
     ]
    },
    {
     "data": {
      "text/plain": [
       "GridSearchCV(cv=5, estimator=DecisionTreeRegressor(),\n",
       "             param_grid={'criterion': ['squared_error', 'friedman_mse',\n",
       "                                       'absolute_error'],\n",
       "                         'max_depth': [5, 11, 18, 20],\n",
       "                         'max_features': ['auto', 'sqrt', 'log2'],\n",
       "                         'min_samples_leaf': [1, 2, 3, 4, 5],\n",
       "                         'min_samples_split': [2, 3, 4, 5, 10, 12, 1]},\n",
       "             verbose=True)"
      ]
     },
     "execution_count": 260,
     "metadata": {},
     "output_type": "execute_result"
    }
   ],
   "source": [
    "best_dtr_grid.fit(x_train1, y_train)"
   ]
  },
  {
   "cell_type": "code",
   "execution_count": 261,
   "id": "73e6b9e9",
   "metadata": {},
   "outputs": [
    {
     "data": {
      "text/plain": [
       "DecisionTreeRegressor(criterion='friedman_mse', max_depth=5,\n",
       "                      max_features='auto', min_samples_leaf=4)"
      ]
     },
     "execution_count": 261,
     "metadata": {},
     "output_type": "execute_result"
    }
   ],
   "source": [
    "best_dtr_grid.best_estimator_"
   ]
  },
  {
   "cell_type": "code",
   "execution_count": 318,
   "id": "cef1a924",
   "metadata": {},
   "outputs": [],
   "source": [
    "# Model with best estimators as per GridSearchCV\n",
    "DTR_Model1GS = DecisionTreeRegressor(criterion='friedman_mse', max_depth=5,\n",
    "                      max_features='auto', min_samples_leaf=4)"
   ]
  },
  {
   "cell_type": "code",
   "execution_count": 319,
   "id": "3cd2a58b",
   "metadata": {},
   "outputs": [
    {
     "data": {
      "text/plain": [
       "DecisionTreeRegressor(criterion='friedman_mse', max_depth=5,\n",
       "                      max_features='auto', min_samples_leaf=4)"
      ]
     },
     "execution_count": 319,
     "metadata": {},
     "output_type": "execute_result"
    }
   ],
   "source": [
    "DTR_Model1GS.fit(x_train1, y_train) # Training the model with hyperparameters as per GridSearchCV"
   ]
  },
  {
   "cell_type": "code",
   "execution_count": 320,
   "id": "7c985202",
   "metadata": {
    "scrolled": true
   },
   "outputs": [
    {
     "name": "stdout",
     "output_type": "stream",
     "text": [
      "Train Accuracy - : 0.628\n"
     ]
    }
   ],
   "source": [
    "print(f'Train Accuracy - : {DTR_Model1GS.score(x_train1,y_train):.3f}')\n",
    "#print(f'Test Accuracy - : {DTR_Model1.score(x_test,y_test):.3f}')"
   ]
  },
  {
   "cell_type": "markdown",
   "id": "9354cef5",
   "metadata": {},
   "source": [
    "**Above result shows error of overfiting is reduced**"
   ]
  },
  {
   "cell_type": "code",
   "execution_count": 323,
   "id": "bb563228",
   "metadata": {},
   "outputs": [],
   "source": [
    "score1 = cross_val_score(DTR_Model1GS,x_train1, y_train, cv =10, scoring ='neg_root_mean_squared_error')\n",
    "score2 = cross_val_score(DTR_Model1GS,x_train1, y_train, cv =10, scoring ='r2')"
   ]
  },
  {
   "cell_type": "code",
   "execution_count": 324,
   "id": "fdadaa38",
   "metadata": {
    "scrolled": true
   },
   "outputs": [],
   "source": [
    "rmsescore= np.abs(score1).mean\n",
    "r2score =score2.mean\n",
    "\n"
   ]
  },
  {
   "cell_type": "markdown",
   "id": "11f5af6c",
   "metadata": {},
   "source": [
    "**Gauging the performance of model**"
   ]
  },
  {
   "cell_type": "code",
   "execution_count": 325,
   "id": "37027f20",
   "metadata": {},
   "outputs": [
    {
     "name": "stdout",
     "output_type": "stream",
     "text": [
      "The rmse score is 235630.57153187125\n",
      "The R square value is 0.5792013906114735\n"
     ]
    }
   ],
   "source": [
    "print(\"The rmse score is\", rmsescore().min())\n",
    "print(\"The R square value is\", r2score().max())"
   ]
  },
  {
   "cell_type": "code",
   "execution_count": null,
   "id": "41b72b8f",
   "metadata": {},
   "outputs": [],
   "source": []
  },
  {
   "cell_type": "markdown",
   "id": "675a904b",
   "metadata": {},
   "source": [
    "# Finding Best estimators with RandomSearch CV "
   ]
  },
  {
   "cell_type": "code",
   "execution_count": 309,
   "id": "93071cb4",
   "metadata": {},
   "outputs": [],
   "source": [
    "best_dtr_random = RandomizedSearchCV(dtr,  parameters, cv = 5, verbose = True)"
   ]
  },
  {
   "cell_type": "code",
   "execution_count": 310,
   "id": "8da604ec",
   "metadata": {},
   "outputs": [
    {
     "name": "stdout",
     "output_type": "stream",
     "text": [
      "Fitting 5 folds for each of 10 candidates, totalling 50 fits\n"
     ]
    },
    {
     "data": {
      "text/plain": [
       "RandomizedSearchCV(cv=5, estimator=DecisionTreeRegressor(),\n",
       "                   param_distributions={'criterion': ['squared_error',\n",
       "                                                      'friedman_mse',\n",
       "                                                      'absolute_error'],\n",
       "                                        'max_depth': [5, 11, 18, 20],\n",
       "                                        'max_features': ['auto', 'sqrt',\n",
       "                                                         'log2'],\n",
       "                                        'min_samples_leaf': [1, 2, 3, 4, 5],\n",
       "                                        'min_samples_split': [2, 3, 4, 5, 10,\n",
       "                                                              12, 1]},\n",
       "                   verbose=True)"
      ]
     },
     "execution_count": 310,
     "metadata": {},
     "output_type": "execute_result"
    }
   ],
   "source": [
    "best_dtr_random.fit(x_train1, y_train)"
   ]
  },
  {
   "cell_type": "code",
   "execution_count": 312,
   "id": "0215ab09",
   "metadata": {},
   "outputs": [
    {
     "data": {
      "text/plain": [
       "DecisionTreeRegressor(criterion='friedman_mse', max_depth=11,\n",
       "                      max_features='auto', min_samples_leaf=5)"
      ]
     },
     "execution_count": 312,
     "metadata": {},
     "output_type": "execute_result"
    }
   ],
   "source": [
    "best_dtr_random.best_estimator_"
   ]
  },
  {
   "cell_type": "code",
   "execution_count": 326,
   "id": "3e906d93",
   "metadata": {},
   "outputs": [],
   "source": [
    "#Building model with best estimator as per RandomizedSearchCV\n",
    "DTR_Model1RS = DecisionTreeRegressor(criterion='friedman_mse', max_depth=11,\n",
    "                      max_features='auto', min_samples_leaf=5)"
   ]
  },
  {
   "cell_type": "code",
   "execution_count": 327,
   "id": "0f085e1b",
   "metadata": {},
   "outputs": [
    {
     "data": {
      "text/plain": [
       "DecisionTreeRegressor(criterion='friedman_mse', max_depth=11,\n",
       "                      max_features='auto', min_samples_leaf=5)"
      ]
     },
     "execution_count": 327,
     "metadata": {},
     "output_type": "execute_result"
    }
   ],
   "source": [
    "DTR_Model1RS.fit(x_train1, y_train) # Training the model with hyperparameters as per RandomizedSearchCV"
   ]
  },
  {
   "cell_type": "code",
   "execution_count": 328,
   "id": "bd1bb140",
   "metadata": {},
   "outputs": [
    {
     "name": "stdout",
     "output_type": "stream",
     "text": [
      "Train Accuracy - : 0.707\n"
     ]
    }
   ],
   "source": [
    "print(f'Train Accuracy - : {DTR_Model1RS.score(x_train1,y_train):.3f}')\n",
    "#print(f'Test Accuracy - : {DTR_Model1RS.score(x_test,y_test):.3f}')"
   ]
  },
  {
   "cell_type": "markdown",
   "id": "d0a8c0f9",
   "metadata": {},
   "source": [
    "**Above result shows error of overfiting is reduced**"
   ]
  },
  {
   "cell_type": "code",
   "execution_count": 342,
   "id": "bb9aca96",
   "metadata": {},
   "outputs": [],
   "source": [
    "score1a = cross_val_score(DTR_Model1RS,x_train1, y_train, cv =10, scoring ='neg_root_mean_squared_error')\n",
    "score2a = cross_val_score(DTR_Model1RS,x_train1, y_train, cv =10, scoring ='r2')"
   ]
  },
  {
   "cell_type": "code",
   "execution_count": 343,
   "id": "4f9d054c",
   "metadata": {},
   "outputs": [],
   "source": [
    "rmsescorea= np.abs(score1).mean\n",
    "r2scorea =score2.mean\n"
   ]
  },
  {
   "cell_type": "markdown",
   "id": "3902b1fd",
   "metadata": {},
   "source": [
    "**Gauging the performance of the model**"
   ]
  },
  {
   "cell_type": "code",
   "execution_count": 345,
   "id": "03f8f1d8",
   "metadata": {},
   "outputs": [
    {
     "name": "stdout",
     "output_type": "stream",
     "text": [
      "The rmse score is 240753.5382270257\n",
      "The R square value is 0.5602266082122327\n"
     ]
    }
   ],
   "source": [
    "print(\"The rmse score is\", rmsescorea().min())\n",
    "print(\"The R square value is\", r2scorea().max())"
   ]
  },
  {
   "cell_type": "markdown",
   "id": "777ba6a2",
   "metadata": {},
   "source": [
    "***From now on we will follow RandomizedSearchCV (Train Accuracy - : 0.707) as above results shows, its Train accuracy is more than GridSearchCV(Train Accuracy - : 0.628)**"
   ]
  },
  {
   "cell_type": "markdown",
   "id": "2fdc2ac4",
   "metadata": {},
   "source": [
    "# Model 2"
   ]
  },
  {
   "cell_type": "code",
   "execution_count": 362,
   "id": "8279c4c4",
   "metadata": {},
   "outputs": [
    {
     "name": "stdout",
     "output_type": "stream",
     "text": [
      "Fitting 5 folds for each of 10 candidates, totalling 50 fits\n"
     ]
    },
    {
     "data": {
      "text/plain": [
       "RandomizedSearchCV(cv=5, estimator=DecisionTreeRegressor(),\n",
       "                   param_distributions={'criterion': ['squared_error',\n",
       "                                                      'friedman_mse',\n",
       "                                                      'absolute_error'],\n",
       "                                        'max_depth': [5, 11, 18, 20],\n",
       "                                        'max_features': ['auto', 'sqrt',\n",
       "                                                         'log2'],\n",
       "                                        'min_samples_leaf': [1, 2, 3, 4, 5],\n",
       "                                        'min_samples_split': [2, 3, 4, 5, 10,\n",
       "                                                              12]},\n",
       "                   verbose=True)"
      ]
     },
     "execution_count": 362,
     "metadata": {},
     "output_type": "execute_result"
    }
   ],
   "source": [
    "x_train2 = X_train[['sqft_living', 'bedrooms','grade', 'bathrooms', 'view', 'waterfront']]\n",
    "y_train  \n",
    "parameters = {'max_depth' : [5,11,18,20],\n",
    "              'min_samples_leaf' : [1,2,3,4,5],\n",
    "              'min_samples_split' : [2,3,4,5,10,12],\n",
    "              'max_features': ['auto','sqrt','log2'],\n",
    "               'criterion' : ['squared_error', 'friedman_mse', 'absolute_error']\n",
    "              } \n",
    "best_dtr_random2 = RandomizedSearchCV(dtr,  parameters, cv = 5, verbose = True)\n",
    "best_dtr_random2.fit(x_train2, y_train)"
   ]
  },
  {
   "cell_type": "code",
   "execution_count": 363,
   "id": "02b798a1",
   "metadata": {},
   "outputs": [
    {
     "data": {
      "text/plain": [
       "DecisionTreeRegressor(criterion='friedman_mse', max_depth=11,\n",
       "                      max_features='auto', min_samples_leaf=5)"
      ]
     },
     "execution_count": 363,
     "metadata": {},
     "output_type": "execute_result"
    }
   ],
   "source": [
    "best_dtr_random.best_estimator_"
   ]
  },
  {
   "cell_type": "code",
   "execution_count": 364,
   "id": "14420d5f",
   "metadata": {},
   "outputs": [],
   "source": [
    "DTR_Model2RS = DecisionTreeRegressor(criterion='friedman_mse', max_depth=11,\n",
    "                      max_features='auto', min_samples_leaf=5)"
   ]
  },
  {
   "cell_type": "code",
   "execution_count": 365,
   "id": "8fa02773",
   "metadata": {},
   "outputs": [
    {
     "data": {
      "text/plain": [
       "DecisionTreeRegressor(criterion='friedman_mse', max_depth=11,\n",
       "                      max_features='auto', min_samples_leaf=5)"
      ]
     },
     "execution_count": 365,
     "metadata": {},
     "output_type": "execute_result"
    }
   ],
   "source": [
    "DTR_Model2RS.fit(x_train2, y_train) # Training the model with hyperparameters as per RandomizedSearchCV"
   ]
  },
  {
   "cell_type": "code",
   "execution_count": 366,
   "id": "128f7559",
   "metadata": {},
   "outputs": [
    {
     "name": "stdout",
     "output_type": "stream",
     "text": [
      "Train Accuracy - : 0.714\n"
     ]
    }
   ],
   "source": [
    "print(f'Train Accuracy - : {DTR_Model2RS.score(x_train2,y_train):.3f}')"
   ]
  },
  {
   "cell_type": "code",
   "execution_count": 367,
   "id": "e08279ff",
   "metadata": {},
   "outputs": [
    {
     "name": "stdout",
     "output_type": "stream",
     "text": [
      "The rmse score is 237199.98456905285\n",
      "The R square value is 0.5737929984930688\n"
     ]
    }
   ],
   "source": [
    "score1 = cross_val_score(DTR_Model2RS,x_train2, y_train, cv =10, scoring ='neg_root_mean_squared_error')\n",
    "score2 = cross_val_score(DTR_Model2RS,x_train2, y_train, cv =10, scoring ='r2')\n",
    "rmsescorea= np.abs(score1).mean\n",
    "r2scorea =score2.mean\n",
    "print(\"The rmse score is\", rmsescorea().min())\n",
    "print(\"The R square value is\", r2scorea().max())"
   ]
  },
  {
   "cell_type": "markdown",
   "id": "21a80851",
   "metadata": {},
   "source": [
    "# Model 3"
   ]
  },
  {
   "cell_type": "code",
   "execution_count": 368,
   "id": "0ba166fe",
   "metadata": {},
   "outputs": [
    {
     "name": "stdout",
     "output_type": "stream",
     "text": [
      "Fitting 5 folds for each of 10 candidates, totalling 50 fits\n"
     ]
    },
    {
     "data": {
      "text/plain": [
       "RandomizedSearchCV(cv=5, estimator=DecisionTreeRegressor(),\n",
       "                   param_distributions={'criterion': ['squared_error',\n",
       "                                                      'friedman_mse',\n",
       "                                                      'absolute_error'],\n",
       "                                        'max_depth': [5, 11, 18, 20],\n",
       "                                        'max_features': ['auto', 'sqrt',\n",
       "                                                         'log2'],\n",
       "                                        'min_samples_leaf': [1, 2, 3, 4, 5],\n",
       "                                        'min_samples_split': [2, 3, 4, 5, 10,\n",
       "                                                              12]},\n",
       "                   verbose=True)"
      ]
     },
     "execution_count": 368,
     "metadata": {},
     "output_type": "execute_result"
    }
   ],
   "source": [
    "x_train3 = X_train[['sqft_living', 'bedrooms','grade', 'bathrooms', 'view', 'waterfront', 'lat', 'yr_built']]\n",
    "y_train\n",
    "parameters = {'max_depth' : [5,11,18,20],\n",
    "              'min_samples_leaf' : [1,2,3,4,5],\n",
    "              'min_samples_split' : [2,3,4,5,10,12],\n",
    "              'max_features': ['auto','sqrt','log2'],\n",
    "               'criterion' : ['squared_error', 'friedman_mse', 'absolute_error']\n",
    "              } \n",
    "best_dtr_random3 = RandomizedSearchCV(dtr,  parameters, cv = 5, verbose = True)\n",
    "best_dtr_random3.fit(x_train3, y_train)\n"
   ]
  },
  {
   "cell_type": "code",
   "execution_count": 369,
   "id": "57295908",
   "metadata": {},
   "outputs": [
    {
     "data": {
      "text/plain": [
       "DecisionTreeRegressor(criterion='friedman_mse', max_depth=11,\n",
       "                      max_features='auto', min_samples_leaf=5)"
      ]
     },
     "execution_count": 369,
     "metadata": {},
     "output_type": "execute_result"
    }
   ],
   "source": [
    "best_dtr_random.best_estimator_"
   ]
  },
  {
   "cell_type": "code",
   "execution_count": 370,
   "id": "8fedbfa0",
   "metadata": {},
   "outputs": [],
   "source": [
    "DTR_Model3RS = DecisionTreeRegressor(criterion='friedman_mse', max_depth=11,\n",
    "                      max_features='auto', min_samples_leaf=5)"
   ]
  },
  {
   "cell_type": "code",
   "execution_count": 371,
   "id": "7d312f18",
   "metadata": {},
   "outputs": [
    {
     "data": {
      "text/plain": [
       "DecisionTreeRegressor(criterion='friedman_mse', max_depth=11,\n",
       "                      max_features='auto', min_samples_leaf=5)"
      ]
     },
     "execution_count": 371,
     "metadata": {},
     "output_type": "execute_result"
    }
   ],
   "source": [
    "DTR_Model3RS.fit(x_train3, y_train)"
   ]
  },
  {
   "cell_type": "code",
   "execution_count": 372,
   "id": "f606246a",
   "metadata": {},
   "outputs": [
    {
     "name": "stdout",
     "output_type": "stream",
     "text": [
      "Train Accuracy - : 0.861\n"
     ]
    }
   ],
   "source": [
    "print(f'Train Accuracy - : {DTR_Model3RS.score(x_train3,y_train):.3f}')"
   ]
  },
  {
   "cell_type": "code",
   "execution_count": 373,
   "id": "7b17c0d1",
   "metadata": {},
   "outputs": [
    {
     "name": "stdout",
     "output_type": "stream",
     "text": [
      "The rmse score is 187708.35982861414\n",
      "The R square value is 0.732720686690209\n"
     ]
    }
   ],
   "source": [
    "score1 = cross_val_score(DTR_Model3RS,x_train3, y_train, cv =10, scoring ='neg_root_mean_squared_error')\n",
    "score2 = cross_val_score(DTR_Model3RS,x_train3, y_train, cv =10, scoring ='r2')\n",
    "rmsescorea= np.abs(score1).mean\n",
    "r2scorea =score2.mean\n",
    "print(\"The rmse score is\", rmsescorea().min())\n",
    "print(\"The R square value is\", r2scorea().max())"
   ]
  },
  {
   "cell_type": "markdown",
   "id": "df8c373c",
   "metadata": {},
   "source": [
    "# Model 4"
   ]
  },
  {
   "cell_type": "code",
   "execution_count": 374,
   "id": "1c5778b7",
   "metadata": {},
   "outputs": [
    {
     "name": "stdout",
     "output_type": "stream",
     "text": [
      "Fitting 5 folds for each of 10 candidates, totalling 50 fits\n"
     ]
    },
    {
     "data": {
      "text/plain": [
       "RandomizedSearchCV(cv=5, estimator=DecisionTreeRegressor(),\n",
       "                   param_distributions={'criterion': ['squared_error',\n",
       "                                                      'friedman_mse',\n",
       "                                                      'absolute_error'],\n",
       "                                        'max_depth': [5, 11, 18, 20],\n",
       "                                        'max_features': ['auto', 'sqrt',\n",
       "                                                         'log2'],\n",
       "                                        'min_samples_leaf': [1, 2, 3, 4, 5],\n",
       "                                        'min_samples_split': [2, 3, 4, 5, 10,\n",
       "                                                              12]},\n",
       "                   verbose=True)"
      ]
     },
     "execution_count": 374,
     "metadata": {},
     "output_type": "execute_result"
    }
   ],
   "source": [
    "x_train4 = X_train[['logged sqft_living', 'bedrooms','grade', 'bathrooms', 'view', 'waterfront', 'lat', 'yr_built']]\n",
    "y_train4 = X_train['logged price']\n",
    "\n",
    "parameters = {'max_depth' : [5,11,18,20],\n",
    "              'min_samples_leaf' : [1,2,3,4,5],\n",
    "              'min_samples_split' : [2,3,4,5,10,12],\n",
    "              'max_features': ['auto','sqrt','log2'],\n",
    "               'criterion' : ['squared_error', 'friedman_mse', 'absolute_error']\n",
    "              } \n",
    "best_dtr_random4 = RandomizedSearchCV(dtr,  parameters, cv = 5, verbose = True)\n",
    "best_dtr_random4.fit(x_train4, y_train4)\n"
   ]
  },
  {
   "cell_type": "code",
   "execution_count": 375,
   "id": "19d44231",
   "metadata": {},
   "outputs": [
    {
     "data": {
      "text/plain": [
       "DecisionTreeRegressor(criterion='friedman_mse', max_depth=11,\n",
       "                      max_features='auto', min_samples_leaf=5)"
      ]
     },
     "execution_count": 375,
     "metadata": {},
     "output_type": "execute_result"
    }
   ],
   "source": [
    "best_dtr_random.best_estimator_"
   ]
  },
  {
   "cell_type": "code",
   "execution_count": 377,
   "id": "aa5bf764",
   "metadata": {},
   "outputs": [],
   "source": [
    "DTR_Model4RS = DecisionTreeRegressor(criterion='friedman_mse', max_depth=11,\n",
    "                      max_features='auto', min_samples_leaf=5)"
   ]
  },
  {
   "cell_type": "code",
   "execution_count": 378,
   "id": "49949821",
   "metadata": {},
   "outputs": [
    {
     "data": {
      "text/plain": [
       "DecisionTreeRegressor(criterion='friedman_mse', max_depth=11,\n",
       "                      max_features='auto', min_samples_leaf=5)"
      ]
     },
     "execution_count": 378,
     "metadata": {},
     "output_type": "execute_result"
    }
   ],
   "source": [
    "DTR_Model4RS.fit(x_train4, y_train4)"
   ]
  },
  {
   "cell_type": "code",
   "execution_count": 380,
   "id": "0cc3415c",
   "metadata": {},
   "outputs": [
    {
     "name": "stdout",
     "output_type": "stream",
     "text": [
      "Train Accuracy - : 0.874\n"
     ]
    }
   ],
   "source": [
    "print(f'Train Accuracy - : {DTR_Model4RS.score(x_train4,y_train4):.3f}')"
   ]
  },
  {
   "cell_type": "code",
   "execution_count": 383,
   "id": "e6a9fbd2",
   "metadata": {},
   "outputs": [
    {
     "name": "stdout",
     "output_type": "stream",
     "text": [
      "The rmse score is 0.23596958646352212\n",
      "The R square value is 0.7992705252865584\n"
     ]
    }
   ],
   "source": [
    "score1 = cross_val_score(DTR_Model4RS,x_train4, y_train4, cv =10, scoring ='neg_root_mean_squared_error')\n",
    "score2 = cross_val_score(DTR_Model4RS,x_train4, y_train4, cv =10, scoring ='r2')\n",
    "rmsescorea= np.abs(score1).mean\n",
    "r2scorea =score2.mean\n",
    "print(\"The rmse score is\", rmsescorea().min())\n",
    "print(\"The R square value is\", r2scorea().max())"
   ]
  },
  {
   "cell_type": "markdown",
   "id": "6a790c09",
   "metadata": {},
   "source": [
    "# Model 5"
   ]
  },
  {
   "cell_type": "code",
   "execution_count": 415,
   "id": "5d8c1856",
   "metadata": {},
   "outputs": [
    {
     "name": "stdout",
     "output_type": "stream",
     "text": [
      "Fitting 5 folds for each of 10 candidates, totalling 50 fits\n"
     ]
    },
    {
     "data": {
      "text/plain": [
       "RandomizedSearchCV(cv=5, estimator=DecisionTreeRegressor(),\n",
       "                   param_distributions={'criterion': ['squared_error',\n",
       "                                                      'friedman_mse',\n",
       "                                                      'absolute_error'],\n",
       "                                        'max_depth': [5, 11, 18, 20],\n",
       "                                        'max_features': ['auto', 'sqrt',\n",
       "                                                         'log2'],\n",
       "                                        'min_samples_leaf': [1, 2, 3, 4, 5],\n",
       "                                        'min_samples_split': [2, 3, 4, 5, 10,\n",
       "                                                              12]},\n",
       "                   verbose=True)"
      ]
     },
     "execution_count": 415,
     "metadata": {},
     "output_type": "execute_result"
    }
   ],
   "source": [
    "x_train5 = X_train[['logged sqft_living', 'bedrooms','grade', 'bathrooms', 'view', 'waterfront', 'lat', 'yr_built', 'year of selling']]\n",
    "y_train5 = X_train['logged price']\n",
    "\n",
    "\n",
    "parameters = {'max_depth' : [5,11,18,20],\n",
    "              'min_samples_leaf' : [1,2,3,4,5],\n",
    "              'min_samples_split' : [2,3,4,5,10,12],\n",
    "              'max_features': ['auto','sqrt','log2'],\n",
    "               'criterion' : ['squared_error', 'friedman_mse', 'absolute_error']\n",
    "              } \n",
    "best_dtr_random5 = RandomizedSearchCV(dtr,  parameters, cv = 5, verbose = True)\n",
    "best_dtr_random5.fit(x_train5, y_train5)"
   ]
  },
  {
   "cell_type": "code",
   "execution_count": 416,
   "id": "83dc665d",
   "metadata": {},
   "outputs": [
    {
     "data": {
      "text/plain": [
       "DecisionTreeRegressor(criterion='friedman_mse', max_depth=11,\n",
       "                      max_features='auto', min_samples_leaf=5)"
      ]
     },
     "execution_count": 416,
     "metadata": {},
     "output_type": "execute_result"
    }
   ],
   "source": [
    "best_dtr_random.best_estimator_"
   ]
  },
  {
   "cell_type": "code",
   "execution_count": 417,
   "id": "a7fbfacb",
   "metadata": {},
   "outputs": [],
   "source": [
    "DTR_Model5RS = DecisionTreeRegressor(criterion='friedman_mse', max_depth=11,\n",
    "                      max_features='auto', min_samples_leaf=5)"
   ]
  },
  {
   "cell_type": "code",
   "execution_count": 418,
   "id": "db337f62",
   "metadata": {},
   "outputs": [
    {
     "data": {
      "text/plain": [
       "DecisionTreeRegressor(criterion='friedman_mse', max_depth=11,\n",
       "                      max_features='auto', min_samples_leaf=5)"
      ]
     },
     "execution_count": 418,
     "metadata": {},
     "output_type": "execute_result"
    }
   ],
   "source": [
    "DTR_Model5RS.fit(x_train5, y_train5)"
   ]
  },
  {
   "cell_type": "code",
   "execution_count": 419,
   "id": "c2692661",
   "metadata": {},
   "outputs": [
    {
     "name": "stdout",
     "output_type": "stream",
     "text": [
      "Train Accuracy - : 0.875\n"
     ]
    }
   ],
   "source": [
    "print(f'Train Accuracy - : {DTR_Model5RS.score(x_train5,y_train5):.3f}')"
   ]
  },
  {
   "cell_type": "code",
   "execution_count": 420,
   "id": "5fc1ab1f",
   "metadata": {},
   "outputs": [
    {
     "name": "stdout",
     "output_type": "stream",
     "text": [
      "The rmse score is 0.23567986701494967\n",
      "The R square value is 0.7997592459833078\n"
     ]
    }
   ],
   "source": [
    "score1 = cross_val_score(DTR_Model5RS,x_train5, y_train5, cv =10, scoring ='neg_root_mean_squared_error')\n",
    "score2 = cross_val_score(DTR_Model5RS,x_train5, y_train5, cv =10, scoring ='r2')\n",
    "rmsescorea= np.abs(score1).mean\n",
    "r2scorea =score2.mean\n",
    "print(\"The rmse score is\", rmsescorea().min())\n",
    "print(\"The R square value is\", r2scorea().max())"
   ]
  },
  {
   "cell_type": "markdown",
   "id": "919f21ca",
   "metadata": {},
   "source": [
    "# Model 6"
   ]
  },
  {
   "cell_type": "code",
   "execution_count": 421,
   "id": "7d3e96d0",
   "metadata": {},
   "outputs": [
    {
     "name": "stdout",
     "output_type": "stream",
     "text": [
      "Fitting 5 folds for each of 10 candidates, totalling 50 fits\n"
     ]
    },
    {
     "data": {
      "text/plain": [
       "RandomizedSearchCV(cv=5, estimator=DecisionTreeRegressor(),\n",
       "                   param_distributions={'criterion': ['squared_error',\n",
       "                                                      'friedman_mse',\n",
       "                                                      'absolute_error'],\n",
       "                                        'max_depth': [5, 11, 18, 20],\n",
       "                                        'max_features': ['auto', 'sqrt',\n",
       "                                                         'log2'],\n",
       "                                        'min_samples_leaf': [1, 2, 3, 4, 5],\n",
       "                                        'min_samples_split': [2, 3, 4, 5, 10,\n",
       "                                                              12]},\n",
       "                   verbose=True)"
      ]
     },
     "execution_count": 421,
     "metadata": {},
     "output_type": "execute_result"
    }
   ],
   "source": [
    "x_train6 = X_train[['logged sqft_living', 'bedrooms','grade', 'bathrooms', 'view', 'waterfront', 'lat', 'yr_built', 'year of selling', 'age']]\n",
    "y_train6 = X_train['logged price']\n",
    "\n",
    "\n",
    "parameters = {'max_depth' : [5,11,18,20],\n",
    "              'min_samples_leaf' : [1,2,3,4,5],\n",
    "              'min_samples_split' : [2,3,4,5,10,12],\n",
    "              'max_features': ['auto','sqrt','log2'],\n",
    "               'criterion' : ['squared_error', 'friedman_mse', 'absolute_error']\n",
    "              } \n",
    "best_dtr_random6 = RandomizedSearchCV(dtr,  parameters, cv = 5, verbose = True)\n",
    "best_dtr_random6.fit(x_train6, y_train6)\n"
   ]
  },
  {
   "cell_type": "code",
   "execution_count": 422,
   "id": "60de0ede",
   "metadata": {},
   "outputs": [
    {
     "data": {
      "text/plain": [
       "DecisionTreeRegressor(criterion='friedman_mse', max_depth=11,\n",
       "                      max_features='auto', min_samples_leaf=5)"
      ]
     },
     "execution_count": 422,
     "metadata": {},
     "output_type": "execute_result"
    }
   ],
   "source": [
    "best_dtr_random.best_estimator_"
   ]
  },
  {
   "cell_type": "code",
   "execution_count": 423,
   "id": "8b6dc1f7",
   "metadata": {},
   "outputs": [],
   "source": [
    "DTR_Model6RS = DecisionTreeRegressor(criterion='friedman_mse', max_depth=11,\n",
    "                      max_features='auto', min_samples_leaf=5)"
   ]
  },
  {
   "cell_type": "code",
   "execution_count": 424,
   "id": "ad13ffd2",
   "metadata": {},
   "outputs": [
    {
     "data": {
      "text/plain": [
       "DecisionTreeRegressor(criterion='friedman_mse', max_depth=11,\n",
       "                      max_features='auto', min_samples_leaf=5)"
      ]
     },
     "execution_count": 424,
     "metadata": {},
     "output_type": "execute_result"
    }
   ],
   "source": [
    "DTR_Model6RS.fit(x_train6, y_train6)"
   ]
  },
  {
   "cell_type": "code",
   "execution_count": 425,
   "id": "2a3e0096",
   "metadata": {
    "scrolled": true
   },
   "outputs": [
    {
     "name": "stdout",
     "output_type": "stream",
     "text": [
      "Train Accuracy - : 0.876\n"
     ]
    }
   ],
   "source": [
    "print(f'Train Accuracy - : {DTR_Model6RS.score(x_train6,y_train6):.3f}')"
   ]
  },
  {
   "cell_type": "code",
   "execution_count": 426,
   "id": "622fa1b9",
   "metadata": {
    "scrolled": true
   },
   "outputs": [
    {
     "name": "stdout",
     "output_type": "stream",
     "text": [
      "The rmse score is 0.23582411858929864\n",
      "The R square value is 0.7996601976898424\n"
     ]
    }
   ],
   "source": [
    "score1 = cross_val_score(DTR_Model6RS,x_train6, y_train6, cv =10, scoring ='neg_root_mean_squared_error')\n",
    "score2 = cross_val_score(DTR_Model6RS,x_train6, y_train6, cv =10, scoring ='r2')\n",
    "rmsescorea= np.abs(score1).mean\n",
    "r2scorea =score2.mean\n",
    "print(\"The rmse score is\", rmsescorea().min())\n",
    "print(\"The R square value is\", r2scorea().max())"
   ]
  },
  {
   "cell_type": "markdown",
   "id": "e51ec150",
   "metadata": {},
   "source": [
    "# Model 7"
   ]
  },
  {
   "cell_type": "code",
   "execution_count": 427,
   "id": "3e3f4397",
   "metadata": {},
   "outputs": [
    {
     "name": "stdout",
     "output_type": "stream",
     "text": [
      "Fitting 5 folds for each of 10 candidates, totalling 50 fits\n"
     ]
    },
    {
     "data": {
      "text/plain": [
       "RandomizedSearchCV(cv=5, estimator=DecisionTreeRegressor(),\n",
       "                   param_distributions={'criterion': ['squared_error',\n",
       "                                                      'friedman_mse',\n",
       "                                                      'absolute_error'],\n",
       "                                        'max_depth': [5, 11, 18, 20],\n",
       "                                        'max_features': ['auto', 'sqrt',\n",
       "                                                         'log2'],\n",
       "                                        'min_samples_leaf': [1, 2, 3, 4, 5],\n",
       "                                        'min_samples_split': [2, 3, 4, 5, 10,\n",
       "                                                              12]},\n",
       "                   verbose=True)"
      ]
     },
     "execution_count": 427,
     "metadata": {},
     "output_type": "execute_result"
    }
   ],
   "source": [
    "x_train7 = X_train[['bathrooms',\n",
    " 'logged sqft_living',\n",
    " 'floors',\n",
    " 'waterfront',\n",
    " 'view',\n",
    " 'condition',\n",
    " 'grade',\n",
    " 'lat',\n",
    " 'sqft_living15',\n",
    " 'year of selling',\n",
    " 'age']]\n",
    "y_train7 = X_train['logged price']\n",
    "\n",
    "parameters = {'max_depth' : [5,11,18,20],\n",
    "              'min_samples_leaf' : [1,2,3,4,5],\n",
    "              'min_samples_split' : [2,3,4,5,10,12],\n",
    "              'max_features': ['auto','sqrt','log2'],\n",
    "               'criterion' : ['squared_error', 'friedman_mse', 'absolute_error']\n",
    "              } \n",
    "best_dtr_random7 = RandomizedSearchCV(dtr,  parameters, cv = 5, verbose = True)\n",
    "best_dtr_random7.fit(x_train7, y_train7)"
   ]
  },
  {
   "cell_type": "code",
   "execution_count": 428,
   "id": "63d2e181",
   "metadata": {},
   "outputs": [
    {
     "data": {
      "text/plain": [
       "DecisionTreeRegressor(criterion='friedman_mse', max_depth=11,\n",
       "                      max_features='auto', min_samples_leaf=5)"
      ]
     },
     "execution_count": 428,
     "metadata": {},
     "output_type": "execute_result"
    }
   ],
   "source": [
    "best_dtr_random.best_estimator_"
   ]
  },
  {
   "cell_type": "code",
   "execution_count": 429,
   "id": "93433472",
   "metadata": {},
   "outputs": [],
   "source": [
    "DTR_Model7RS = DecisionTreeRegressor(criterion='friedman_mse', max_depth=11,\n",
    "                      max_features='auto', min_samples_leaf=5)"
   ]
  },
  {
   "cell_type": "code",
   "execution_count": 431,
   "id": "9495c031",
   "metadata": {},
   "outputs": [
    {
     "data": {
      "text/plain": [
       "DecisionTreeRegressor(criterion='friedman_mse', max_depth=11,\n",
       "                      max_features='auto', min_samples_leaf=5)"
      ]
     },
     "execution_count": 431,
     "metadata": {},
     "output_type": "execute_result"
    }
   ],
   "source": [
    "DTR_Model7RS.fit(x_train7, y_train7)"
   ]
  },
  {
   "cell_type": "code",
   "execution_count": 434,
   "id": "f4db7c95",
   "metadata": {},
   "outputs": [
    {
     "name": "stdout",
     "output_type": "stream",
     "text": [
      "Train Accuracy - : 0.883\n"
     ]
    }
   ],
   "source": [
    "print(f'Train Accuracy - : {DTR_Model7RS.score(x_train7,y_train7):.3f}')"
   ]
  },
  {
   "cell_type": "code",
   "execution_count": 435,
   "id": "abb90030",
   "metadata": {},
   "outputs": [
    {
     "name": "stdout",
     "output_type": "stream",
     "text": [
      "The rmse score is 0.2334070723407923\n",
      "The R square value is 0.8037466817203317\n"
     ]
    }
   ],
   "source": [
    "score1 = cross_val_score(DTR_Model7RS,x_train7, y_train7, cv =10, scoring ='neg_root_mean_squared_error')\n",
    "score2 = cross_val_score(DTR_Model7RS,x_train7, y_train7, cv =10, scoring ='r2')\n",
    "rmsescorea= np.abs(score1).mean\n",
    "r2scorea =score2.mean\n",
    "print(\"The rmse score is\", rmsescorea().min())\n",
    "print(\"The R square value is\", r2scorea().max())"
   ]
  },
  {
   "cell_type": "markdown",
   "id": "9fc507bb",
   "metadata": {},
   "source": [
    "**It is clear from the R square value that model 7 is the best model among Decision Tree Regressor Models**"
   ]
  },
  {
   "cell_type": "markdown",
   "id": "ad4e1b48",
   "metadata": {},
   "source": [
    "# Testing: --"
   ]
  },
  {
   "cell_type": "markdown",
   "id": "c16a87b0",
   "metadata": {},
   "source": [
    "**After fitting all the model, it is time to take the best performance model and evaluate their performance on the test dataset.\n",
    " (Evaluating their performance on the basis of mean absolute error (mas))**\n",
    "                                                            \n",
    "-  The best performance model in case of Linear Regression is Model 7\n",
    "-  The best performance model in case of Decision Tree Regressor is Model 7"
   ]
  },
  {
   "cell_type": "code",
   "execution_count": 436,
   "id": "9724ebd2",
   "metadata": {},
   "outputs": [
    {
     "data": {
      "text/html": [
       "<div>\n",
       "<style scoped>\n",
       "    .dataframe tbody tr th:only-of-type {\n",
       "        vertical-align: middle;\n",
       "    }\n",
       "\n",
       "    .dataframe tbody tr th {\n",
       "        vertical-align: top;\n",
       "    }\n",
       "\n",
       "    .dataframe thead th {\n",
       "        text-align: right;\n",
       "    }\n",
       "</style>\n",
       "<table border=\"1\" class=\"dataframe\">\n",
       "  <thead>\n",
       "    <tr style=\"text-align: right;\">\n",
       "      <th></th>\n",
       "      <th>bedrooms</th>\n",
       "      <th>bathrooms</th>\n",
       "      <th>sqft_living</th>\n",
       "      <th>sqft_lot</th>\n",
       "      <th>floors</th>\n",
       "      <th>waterfront</th>\n",
       "      <th>view</th>\n",
       "      <th>condition</th>\n",
       "      <th>grade</th>\n",
       "      <th>sqft_above</th>\n",
       "      <th>...</th>\n",
       "      <th>yr_built</th>\n",
       "      <th>yr_renovated</th>\n",
       "      <th>zipcode</th>\n",
       "      <th>lat</th>\n",
       "      <th>long</th>\n",
       "      <th>sqft_living15</th>\n",
       "      <th>sqft_lot15</th>\n",
       "      <th>logged price</th>\n",
       "      <th>logged sqft_living</th>\n",
       "      <th>date</th>\n",
       "    </tr>\n",
       "  </thead>\n",
       "  <tbody>\n",
       "    <tr>\n",
       "      <th>17384</th>\n",
       "      <td>2</td>\n",
       "      <td>1.50</td>\n",
       "      <td>1430</td>\n",
       "      <td>1650</td>\n",
       "      <td>3.0</td>\n",
       "      <td>0</td>\n",
       "      <td>0</td>\n",
       "      <td>3</td>\n",
       "      <td>7</td>\n",
       "      <td>1430</td>\n",
       "      <td>...</td>\n",
       "      <td>1999</td>\n",
       "      <td>0</td>\n",
       "      <td>98125</td>\n",
       "      <td>47.7222</td>\n",
       "      <td>-122.290</td>\n",
       "      <td>1430</td>\n",
       "      <td>1650</td>\n",
       "      <td>NaN</td>\n",
       "      <td>7.265430</td>\n",
       "      <td>20141029T000000</td>\n",
       "    </tr>\n",
       "    <tr>\n",
       "      <th>722</th>\n",
       "      <td>4</td>\n",
       "      <td>3.25</td>\n",
       "      <td>4670</td>\n",
       "      <td>51836</td>\n",
       "      <td>2.0</td>\n",
       "      <td>0</td>\n",
       "      <td>0</td>\n",
       "      <td>4</td>\n",
       "      <td>12</td>\n",
       "      <td>4670</td>\n",
       "      <td>...</td>\n",
       "      <td>1988</td>\n",
       "      <td>0</td>\n",
       "      <td>98005</td>\n",
       "      <td>47.6350</td>\n",
       "      <td>-122.164</td>\n",
       "      <td>4230</td>\n",
       "      <td>41075</td>\n",
       "      <td>NaN</td>\n",
       "      <td>8.448914</td>\n",
       "      <td>20140808T000000</td>\n",
       "    </tr>\n",
       "    <tr>\n",
       "      <th>2680</th>\n",
       "      <td>2</td>\n",
       "      <td>0.75</td>\n",
       "      <td>1440</td>\n",
       "      <td>3700</td>\n",
       "      <td>1.0</td>\n",
       "      <td>0</td>\n",
       "      <td>0</td>\n",
       "      <td>3</td>\n",
       "      <td>7</td>\n",
       "      <td>1200</td>\n",
       "      <td>...</td>\n",
       "      <td>1914</td>\n",
       "      <td>0</td>\n",
       "      <td>98107</td>\n",
       "      <td>47.6707</td>\n",
       "      <td>-122.364</td>\n",
       "      <td>1440</td>\n",
       "      <td>4300</td>\n",
       "      <td>NaN</td>\n",
       "      <td>7.272398</td>\n",
       "      <td>20140625T000000</td>\n",
       "    </tr>\n",
       "    <tr>\n",
       "      <th>18754</th>\n",
       "      <td>2</td>\n",
       "      <td>1.00</td>\n",
       "      <td>1130</td>\n",
       "      <td>2640</td>\n",
       "      <td>1.0</td>\n",
       "      <td>0</td>\n",
       "      <td>0</td>\n",
       "      <td>4</td>\n",
       "      <td>8</td>\n",
       "      <td>1130</td>\n",
       "      <td>...</td>\n",
       "      <td>1927</td>\n",
       "      <td>0</td>\n",
       "      <td>98109</td>\n",
       "      <td>47.6438</td>\n",
       "      <td>-122.357</td>\n",
       "      <td>1680</td>\n",
       "      <td>3200</td>\n",
       "      <td>NaN</td>\n",
       "      <td>7.029973</td>\n",
       "      <td>20140624T000000</td>\n",
       "    </tr>\n",
       "    <tr>\n",
       "      <th>14554</th>\n",
       "      <td>4</td>\n",
       "      <td>2.50</td>\n",
       "      <td>3180</td>\n",
       "      <td>9603</td>\n",
       "      <td>2.0</td>\n",
       "      <td>0</td>\n",
       "      <td>2</td>\n",
       "      <td>3</td>\n",
       "      <td>9</td>\n",
       "      <td>3180</td>\n",
       "      <td>...</td>\n",
       "      <td>2002</td>\n",
       "      <td>0</td>\n",
       "      <td>98155</td>\n",
       "      <td>47.7717</td>\n",
       "      <td>-122.277</td>\n",
       "      <td>2440</td>\n",
       "      <td>15261</td>\n",
       "      <td>NaN</td>\n",
       "      <td>8.064636</td>\n",
       "      <td>20150426T000000</td>\n",
       "    </tr>\n",
       "  </tbody>\n",
       "</table>\n",
       "<p>5 rows × 21 columns</p>\n",
       "</div>"
      ],
      "text/plain": [
       "       bedrooms  bathrooms  sqft_living  sqft_lot  floors  waterfront  view  \\\n",
       "17384         2       1.50         1430      1650     3.0           0     0   \n",
       "722           4       3.25         4670     51836     2.0           0     0   \n",
       "2680          2       0.75         1440      3700     1.0           0     0   \n",
       "18754         2       1.00         1130      2640     1.0           0     0   \n",
       "14554         4       2.50         3180      9603     2.0           0     2   \n",
       "\n",
       "       condition  grade  sqft_above  ...  yr_built  yr_renovated  zipcode  \\\n",
       "17384          3      7        1430  ...      1999             0    98125   \n",
       "722            4     12        4670  ...      1988             0    98005   \n",
       "2680           3      7        1200  ...      1914             0    98107   \n",
       "18754          4      8        1130  ...      1927             0    98109   \n",
       "14554          3      9        3180  ...      2002             0    98155   \n",
       "\n",
       "           lat     long  sqft_living15  sqft_lot15  logged price  \\\n",
       "17384  47.7222 -122.290           1430        1650           NaN   \n",
       "722    47.6350 -122.164           4230       41075           NaN   \n",
       "2680   47.6707 -122.364           1440        4300           NaN   \n",
       "18754  47.6438 -122.357           1680        3200           NaN   \n",
       "14554  47.7717 -122.277           2440       15261           NaN   \n",
       "\n",
       "       logged sqft_living             date  \n",
       "17384            7.265430  20141029T000000  \n",
       "722              8.448914  20140808T000000  \n",
       "2680             7.272398  20140625T000000  \n",
       "18754            7.029973  20140624T000000  \n",
       "14554            8.064636  20150426T000000  \n",
       "\n",
       "[5 rows x 21 columns]"
      ]
     },
     "execution_count": 436,
     "metadata": {},
     "output_type": "execute_result"
    }
   ],
   "source": [
    "X_test.head()"
   ]
  },
  {
   "cell_type": "markdown",
   "id": "026128a7",
   "metadata": {},
   "source": [
    "# Feature Engineering on the Test Data"
   ]
  },
  {
   "cell_type": "code",
   "execution_count": 476,
   "id": "1acaa9df",
   "metadata": {},
   "outputs": [],
   "source": [
    "X_test['logged sqft_living'] = np.log(X_test.sqft_living)\n",
    "X_test['year of selling'] = pd.DatetimeIndex(X_test['date']).year\n",
    "X_test['month of selling'] = pd.DatetimeIndex(X_test['date']).month\n",
    "X_test['age']= X_test['year of selling']- X_test.yr_built"
   ]
  },
  {
   "cell_type": "code",
   "execution_count": 477,
   "id": "8100f4f0",
   "metadata": {},
   "outputs": [],
   "source": [
    "X_test['logged price']= np.log(y_test)\n"
   ]
  },
  {
   "cell_type": "code",
   "execution_count": 478,
   "id": "fa58b34f",
   "metadata": {
    "scrolled": true
   },
   "outputs": [
    {
     "data": {
      "text/html": [
       "<div>\n",
       "<style scoped>\n",
       "    .dataframe tbody tr th:only-of-type {\n",
       "        vertical-align: middle;\n",
       "    }\n",
       "\n",
       "    .dataframe tbody tr th {\n",
       "        vertical-align: top;\n",
       "    }\n",
       "\n",
       "    .dataframe thead th {\n",
       "        text-align: right;\n",
       "    }\n",
       "</style>\n",
       "<table border=\"1\" class=\"dataframe\">\n",
       "  <thead>\n",
       "    <tr style=\"text-align: right;\">\n",
       "      <th></th>\n",
       "      <th>bedrooms</th>\n",
       "      <th>bathrooms</th>\n",
       "      <th>sqft_living</th>\n",
       "      <th>sqft_lot</th>\n",
       "      <th>floors</th>\n",
       "      <th>waterfront</th>\n",
       "      <th>view</th>\n",
       "      <th>condition</th>\n",
       "      <th>grade</th>\n",
       "      <th>sqft_above</th>\n",
       "      <th>...</th>\n",
       "      <th>lat</th>\n",
       "      <th>long</th>\n",
       "      <th>sqft_living15</th>\n",
       "      <th>sqft_lot15</th>\n",
       "      <th>logged price</th>\n",
       "      <th>logged sqft_living</th>\n",
       "      <th>date</th>\n",
       "      <th>year of selling</th>\n",
       "      <th>month of selling</th>\n",
       "      <th>age</th>\n",
       "    </tr>\n",
       "  </thead>\n",
       "  <tbody>\n",
       "    <tr>\n",
       "      <th>17384</th>\n",
       "      <td>2</td>\n",
       "      <td>1.50</td>\n",
       "      <td>1430</td>\n",
       "      <td>1650</td>\n",
       "      <td>3.0</td>\n",
       "      <td>0</td>\n",
       "      <td>0</td>\n",
       "      <td>3</td>\n",
       "      <td>7</td>\n",
       "      <td>1430</td>\n",
       "      <td>...</td>\n",
       "      <td>47.7222</td>\n",
       "      <td>-122.290</td>\n",
       "      <td>1430</td>\n",
       "      <td>1650</td>\n",
       "      <td>12.601487</td>\n",
       "      <td>7.265430</td>\n",
       "      <td>20141029T000000</td>\n",
       "      <td>2014</td>\n",
       "      <td>10</td>\n",
       "      <td>15</td>\n",
       "    </tr>\n",
       "    <tr>\n",
       "      <th>722</th>\n",
       "      <td>4</td>\n",
       "      <td>3.25</td>\n",
       "      <td>4670</td>\n",
       "      <td>51836</td>\n",
       "      <td>2.0</td>\n",
       "      <td>0</td>\n",
       "      <td>0</td>\n",
       "      <td>4</td>\n",
       "      <td>12</td>\n",
       "      <td>4670</td>\n",
       "      <td>...</td>\n",
       "      <td>47.6350</td>\n",
       "      <td>-122.164</td>\n",
       "      <td>4230</td>\n",
       "      <td>41075</td>\n",
       "      <td>14.271669</td>\n",
       "      <td>8.448914</td>\n",
       "      <td>20140808T000000</td>\n",
       "      <td>2014</td>\n",
       "      <td>8</td>\n",
       "      <td>26</td>\n",
       "    </tr>\n",
       "    <tr>\n",
       "      <th>2680</th>\n",
       "      <td>2</td>\n",
       "      <td>0.75</td>\n",
       "      <td>1440</td>\n",
       "      <td>3700</td>\n",
       "      <td>1.0</td>\n",
       "      <td>0</td>\n",
       "      <td>0</td>\n",
       "      <td>3</td>\n",
       "      <td>7</td>\n",
       "      <td>1200</td>\n",
       "      <td>...</td>\n",
       "      <td>47.6707</td>\n",
       "      <td>-122.364</td>\n",
       "      <td>1440</td>\n",
       "      <td>4300</td>\n",
       "      <td>13.239435</td>\n",
       "      <td>7.272398</td>\n",
       "      <td>20140625T000000</td>\n",
       "      <td>2014</td>\n",
       "      <td>6</td>\n",
       "      <td>100</td>\n",
       "    </tr>\n",
       "    <tr>\n",
       "      <th>18754</th>\n",
       "      <td>2</td>\n",
       "      <td>1.00</td>\n",
       "      <td>1130</td>\n",
       "      <td>2640</td>\n",
       "      <td>1.0</td>\n",
       "      <td>0</td>\n",
       "      <td>0</td>\n",
       "      <td>4</td>\n",
       "      <td>8</td>\n",
       "      <td>1130</td>\n",
       "      <td>...</td>\n",
       "      <td>47.6438</td>\n",
       "      <td>-122.357</td>\n",
       "      <td>1680</td>\n",
       "      <td>3200</td>\n",
       "      <td>13.355853</td>\n",
       "      <td>7.029973</td>\n",
       "      <td>20140624T000000</td>\n",
       "      <td>2014</td>\n",
       "      <td>6</td>\n",
       "      <td>87</td>\n",
       "    </tr>\n",
       "    <tr>\n",
       "      <th>14554</th>\n",
       "      <td>4</td>\n",
       "      <td>2.50</td>\n",
       "      <td>3180</td>\n",
       "      <td>9603</td>\n",
       "      <td>2.0</td>\n",
       "      <td>0</td>\n",
       "      <td>2</td>\n",
       "      <td>3</td>\n",
       "      <td>9</td>\n",
       "      <td>3180</td>\n",
       "      <td>...</td>\n",
       "      <td>47.7717</td>\n",
       "      <td>-122.277</td>\n",
       "      <td>2440</td>\n",
       "      <td>15261</td>\n",
       "      <td>13.567049</td>\n",
       "      <td>8.064636</td>\n",
       "      <td>20150426T000000</td>\n",
       "      <td>2015</td>\n",
       "      <td>4</td>\n",
       "      <td>13</td>\n",
       "    </tr>\n",
       "  </tbody>\n",
       "</table>\n",
       "<p>5 rows × 24 columns</p>\n",
       "</div>"
      ],
      "text/plain": [
       "       bedrooms  bathrooms  sqft_living  sqft_lot  floors  waterfront  view  \\\n",
       "17384         2       1.50         1430      1650     3.0           0     0   \n",
       "722           4       3.25         4670     51836     2.0           0     0   \n",
       "2680          2       0.75         1440      3700     1.0           0     0   \n",
       "18754         2       1.00         1130      2640     1.0           0     0   \n",
       "14554         4       2.50         3180      9603     2.0           0     2   \n",
       "\n",
       "       condition  grade  sqft_above  ...      lat     long  sqft_living15  \\\n",
       "17384          3      7        1430  ...  47.7222 -122.290           1430   \n",
       "722            4     12        4670  ...  47.6350 -122.164           4230   \n",
       "2680           3      7        1200  ...  47.6707 -122.364           1440   \n",
       "18754          4      8        1130  ...  47.6438 -122.357           1680   \n",
       "14554          3      9        3180  ...  47.7717 -122.277           2440   \n",
       "\n",
       "       sqft_lot15  logged price  logged sqft_living             date  \\\n",
       "17384        1650     12.601487            7.265430  20141029T000000   \n",
       "722         41075     14.271669            8.448914  20140808T000000   \n",
       "2680         4300     13.239435            7.272398  20140625T000000   \n",
       "18754        3200     13.355853            7.029973  20140624T000000   \n",
       "14554       15261     13.567049            8.064636  20150426T000000   \n",
       "\n",
       "       year of selling  month of selling  age  \n",
       "17384             2014                10   15  \n",
       "722               2014                 8   26  \n",
       "2680              2014                 6  100  \n",
       "18754             2014                 6   87  \n",
       "14554             2015                 4   13  \n",
       "\n",
       "[5 rows x 24 columns]"
      ]
     },
     "execution_count": 478,
     "metadata": {},
     "output_type": "execute_result"
    }
   ],
   "source": [
    "X_test.head()\n"
   ]
  },
  {
   "cell_type": "code",
   "execution_count": 484,
   "id": "9054be50",
   "metadata": {},
   "outputs": [
    {
     "data": {
      "text/html": [
       "<div>\n",
       "<style scoped>\n",
       "    .dataframe tbody tr th:only-of-type {\n",
       "        vertical-align: middle;\n",
       "    }\n",
       "\n",
       "    .dataframe tbody tr th {\n",
       "        vertical-align: top;\n",
       "    }\n",
       "\n",
       "    .dataframe thead th {\n",
       "        text-align: right;\n",
       "    }\n",
       "</style>\n",
       "<table border=\"1\" class=\"dataframe\">\n",
       "  <thead>\n",
       "    <tr style=\"text-align: right;\">\n",
       "      <th></th>\n",
       "      <th>bedrooms</th>\n",
       "      <th>bathrooms</th>\n",
       "      <th>sqft_living</th>\n",
       "      <th>sqft_lot</th>\n",
       "      <th>floors</th>\n",
       "      <th>waterfront</th>\n",
       "      <th>view</th>\n",
       "      <th>condition</th>\n",
       "      <th>grade</th>\n",
       "      <th>sqft_above</th>\n",
       "      <th>...</th>\n",
       "      <th>zipcode</th>\n",
       "      <th>lat</th>\n",
       "      <th>long</th>\n",
       "      <th>sqft_living15</th>\n",
       "      <th>sqft_lot15</th>\n",
       "      <th>logged price</th>\n",
       "      <th>logged sqft_living</th>\n",
       "      <th>date</th>\n",
       "      <th>year of selling</th>\n",
       "      <th>age</th>\n",
       "    </tr>\n",
       "  </thead>\n",
       "  <tbody>\n",
       "    <tr>\n",
       "      <th>1468</th>\n",
       "      <td>4</td>\n",
       "      <td>1.50</td>\n",
       "      <td>1390</td>\n",
       "      <td>7200</td>\n",
       "      <td>1.0</td>\n",
       "      <td>0</td>\n",
       "      <td>0</td>\n",
       "      <td>3</td>\n",
       "      <td>7</td>\n",
       "      <td>1140</td>\n",
       "      <td>...</td>\n",
       "      <td>98133</td>\n",
       "      <td>47.7224</td>\n",
       "      <td>-122.332</td>\n",
       "      <td>1630</td>\n",
       "      <td>7702</td>\n",
       "      <td>12.899220</td>\n",
       "      <td>7.237059</td>\n",
       "      <td>20140529T000000</td>\n",
       "      <td>2014</td>\n",
       "      <td>49.0</td>\n",
       "    </tr>\n",
       "    <tr>\n",
       "      <th>15590</th>\n",
       "      <td>3</td>\n",
       "      <td>1.50</td>\n",
       "      <td>1450</td>\n",
       "      <td>7316</td>\n",
       "      <td>1.0</td>\n",
       "      <td>0</td>\n",
       "      <td>0</td>\n",
       "      <td>3</td>\n",
       "      <td>7</td>\n",
       "      <td>1450</td>\n",
       "      <td>...</td>\n",
       "      <td>98133</td>\n",
       "      <td>47.7725</td>\n",
       "      <td>-122.349</td>\n",
       "      <td>1440</td>\n",
       "      <td>7316</td>\n",
       "      <td>12.971540</td>\n",
       "      <td>7.279319</td>\n",
       "      <td>20150317T000000</td>\n",
       "      <td>2015</td>\n",
       "      <td>54.0</td>\n",
       "    </tr>\n",
       "    <tr>\n",
       "      <th>18552</th>\n",
       "      <td>5</td>\n",
       "      <td>2.75</td>\n",
       "      <td>2860</td>\n",
       "      <td>5379</td>\n",
       "      <td>2.0</td>\n",
       "      <td>0</td>\n",
       "      <td>0</td>\n",
       "      <td>3</td>\n",
       "      <td>9</td>\n",
       "      <td>2860</td>\n",
       "      <td>...</td>\n",
       "      <td>98052</td>\n",
       "      <td>47.7082</td>\n",
       "      <td>-122.104</td>\n",
       "      <td>2980</td>\n",
       "      <td>6018</td>\n",
       "      <td>13.487006</td>\n",
       "      <td>7.958577</td>\n",
       "      <td>20140811T000000</td>\n",
       "      <td>2014</td>\n",
       "      <td>9.0</td>\n",
       "    </tr>\n",
       "    <tr>\n",
       "      <th>10535</th>\n",
       "      <td>2</td>\n",
       "      <td>1.00</td>\n",
       "      <td>1050</td>\n",
       "      <td>4125</td>\n",
       "      <td>1.0</td>\n",
       "      <td>0</td>\n",
       "      <td>0</td>\n",
       "      <td>4</td>\n",
       "      <td>7</td>\n",
       "      <td>1050</td>\n",
       "      <td>...</td>\n",
       "      <td>98144</td>\n",
       "      <td>47.5736</td>\n",
       "      <td>-122.307</td>\n",
       "      <td>1650</td>\n",
       "      <td>4125</td>\n",
       "      <td>12.880292</td>\n",
       "      <td>6.956545</td>\n",
       "      <td>20140926T000000</td>\n",
       "      <td>2014</td>\n",
       "      <td>105.0</td>\n",
       "    </tr>\n",
       "    <tr>\n",
       "      <th>1069</th>\n",
       "      <td>2</td>\n",
       "      <td>1.00</td>\n",
       "      <td>1240</td>\n",
       "      <td>57000</td>\n",
       "      <td>1.0</td>\n",
       "      <td>0</td>\n",
       "      <td>0</td>\n",
       "      <td>3</td>\n",
       "      <td>7</td>\n",
       "      <td>1240</td>\n",
       "      <td>...</td>\n",
       "      <td>98075</td>\n",
       "      <td>47.5970</td>\n",
       "      <td>-122.059</td>\n",
       "      <td>3050</td>\n",
       "      <td>25545</td>\n",
       "      <td>13.132314</td>\n",
       "      <td>7.122867</td>\n",
       "      <td>20140710T000000</td>\n",
       "      <td>2014</td>\n",
       "      <td>52.0</td>\n",
       "    </tr>\n",
       "  </tbody>\n",
       "</table>\n",
       "<p>5 rows × 23 columns</p>\n",
       "</div>"
      ],
      "text/plain": [
       "       bedrooms  bathrooms  sqft_living  sqft_lot  floors  waterfront  view  \\\n",
       "1468          4       1.50         1390      7200     1.0           0     0   \n",
       "15590         3       1.50         1450      7316     1.0           0     0   \n",
       "18552         5       2.75         2860      5379     2.0           0     0   \n",
       "10535         2       1.00         1050      4125     1.0           0     0   \n",
       "1069          2       1.00         1240     57000     1.0           0     0   \n",
       "\n",
       "       condition  grade  sqft_above  ...  zipcode      lat     long  \\\n",
       "1468           3      7        1140  ...    98133  47.7224 -122.332   \n",
       "15590          3      7        1450  ...    98133  47.7725 -122.349   \n",
       "18552          3      9        2860  ...    98052  47.7082 -122.104   \n",
       "10535          4      7        1050  ...    98144  47.5736 -122.307   \n",
       "1069           3      7        1240  ...    98075  47.5970 -122.059   \n",
       "\n",
       "       sqft_living15  sqft_lot15  logged price  logged sqft_living  \\\n",
       "1468            1630        7702     12.899220            7.237059   \n",
       "15590           1440        7316     12.971540            7.279319   \n",
       "18552           2980        6018     13.487006            7.958577   \n",
       "10535           1650        4125     12.880292            6.956545   \n",
       "1069            3050       25545     13.132314            7.122867   \n",
       "\n",
       "                  date  year of selling    age  \n",
       "1468   20140529T000000             2014   49.0  \n",
       "15590  20150317T000000             2015   54.0  \n",
       "18552  20140811T000000             2014    9.0  \n",
       "10535  20140926T000000             2014  105.0  \n",
       "1069   20140710T000000             2014   52.0  \n",
       "\n",
       "[5 rows x 23 columns]"
      ]
     },
     "execution_count": 484,
     "metadata": {},
     "output_type": "execute_result"
    }
   ],
   "source": [
    " X_train.head()"
   ]
  },
  {
   "cell_type": "markdown",
   "id": "85ab3553",
   "metadata": {},
   "source": [
    "# 1. Testing with Decision Tree Model :-07"
   ]
  },
  {
   "cell_type": "code",
   "execution_count": 487,
   "id": "d4229906",
   "metadata": {
    "scrolled": true
   },
   "outputs": [],
   "source": [
    "x_train7 = X_train[['bathrooms',\n",
    " 'logged sqft_living',\n",
    " 'floors',\n",
    " 'waterfront',\n",
    " 'view',\n",
    " 'condition',\n",
    " 'grade',\n",
    " 'lat',\n",
    " 'sqft_living15',\n",
    " 'year of selling',\n",
    " 'age']]\n",
    "y_train7 = X_train['logged price']\n",
    "\n",
    "\n",
    "x_test = X_test [['bathrooms',\n",
    " 'logged sqft_living',\n",
    " 'floors',\n",
    " 'waterfront',\n",
    " 'view',\n",
    " 'condition',\n",
    " 'grade',\n",
    " 'lat',\n",
    " 'sqft_living15',\n",
    " 'year of selling',\n",
    " 'age']]\n",
    "\n"
   ]
  },
  {
   "cell_type": "code",
   "execution_count": 488,
   "id": "b4249389",
   "metadata": {},
   "outputs": [
    {
     "data": {
      "text/plain": [
       "array([ 314908.33333333, 1396420.        ,  548554.39465875, ...,\n",
       "        327225.80645161,  237307.31446541,  202364.30769231])"
      ]
     },
     "execution_count": 488,
     "metadata": {},
     "output_type": "execute_result"
    }
   ],
   "source": [
    "DTR_Model7RS.fit(x_train7, y_train)\n",
    "pre=DTR_Model7RS.predict(x_test)\n",
    "pre"
   ]
  },
  {
   "cell_type": "code",
   "execution_count": 494,
   "id": "e91ffde8",
   "metadata": {},
   "outputs": [
    {
     "data": {
      "text/plain": [
       "97026.42704149307"
      ]
     },
     "execution_count": 494,
     "metadata": {},
     "output_type": "execute_result"
    }
   ],
   "source": [
    "error = y_test-pre     # y_test are expected values nad pre are predicted values\n",
    "mae1= np.sum(np.abs(error))\n",
    "mae1= mae1/len(y_test)\n",
    "mae1"
   ]
  },
  {
   "cell_type": "code",
   "execution_count": 503,
   "id": "a878422e",
   "metadata": {},
   "outputs": [
    {
     "data": {
      "image/png": "[encoded data removed]",
      "text/plain": [
       "<Figure size 720x720 with 1 Axes>"
      ]
     },
     "metadata": {
      "needs_background": "light"
     },
     "output_type": "display_data"
    }
   ],
   "source": [
    "plt.figure(figsize=(10,10))\n",
    "plt.scatter(y_test, pre, c='crimson')\n",
    "plt.yscale('log')\n",
    "plt.xscale('log')\n",
    "\n",
    "p1 = max(max(pre), max(y_test))\n",
    "p2 = min(min(pre), min(y_test))\n",
    "plt.plot([p1, p2], [p1, p2], 'b-')\n",
    "plt.xlabel('True Values', fontsize=15)\n",
    "plt.ylabel('Predictions', fontsize=15)\n",
    "plt.title('Decision Tree Regression Model', fontsize=15, weight = 'bold')\n",
    "plt.axis('equal')\n",
    "plt.show()"
   ]
  },
  {
   "cell_type": "markdown",
   "id": "ccd9c478",
   "metadata": {},
   "source": [
    "# Testing with Linear Regression Model 7"
   ]
  },
  {
   "cell_type": "code",
   "execution_count": 493,
   "id": "fd0f3676",
   "metadata": {},
   "outputs": [
    {
     "data": {
      "text/plain": [
       "array([ 322592.46991765, 1433353.33923529,  475517.17987944, ...,\n",
       "        254468.10509928,  205967.1133523 ,  163097.14538617])"
      ]
     },
     "execution_count": 493,
     "metadata": {},
     "output_type": "execute_result"
    }
   ],
   "source": [
    "model7.fit(x_train7, y_train) # y_test are expected values nad pre are predicted values\n",
    "pre2=model7.predict(x_test)\n",
    "pre2"
   ]
  },
  {
   "cell_type": "code",
   "execution_count": 495,
   "id": "07e34952",
   "metadata": {},
   "outputs": [
    {
     "data": {
      "text/plain": [
       "128330.03958637653"
      ]
     },
     "execution_count": 495,
     "metadata": {},
     "output_type": "execute_result"
    }
   ],
   "source": [
    "error2 = y_test-pre2\n",
    "mae2= np.sum(np.abs(error2))\n",
    "mae2= mae2/len(y_test)\n",
    "mae2"
   ]
  },
  {
   "cell_type": "code",
   "execution_count": 504,
   "id": "22d006fb",
   "metadata": {
    "scrolled": false
   },
   "outputs": [
    {
     "data": {
      "image/png": "[encoded data removed]",
      "text/plain": [
       "<Figure size 720x720 with 1 Axes>"
      ]
     },
     "metadata": {
      "needs_background": "light"
     },
     "output_type": "display_data"
    }
   ],
   "source": [
    "plt.figure(figsize=(10,10))\n",
    "plt.scatter(y_test, pre2, c='crimson')\n",
    "plt.yscale('log')\n",
    "plt.xscale('log')\n",
    "\n",
    "p1 = max(max(pre2), max(y_test))\n",
    "p2 = min(min(pre2), min(y_test))\n",
    "plt.plot([p1, p2], [p1, p2], 'b-')\n",
    "plt.xlabel('True Values', fontsize=15)\n",
    "plt.ylabel('Predictions', fontsize=15)\n",
    "plt.title('Linear Regression Model', fontsize=15,weight = 'bold')\n",
    "plt.axis('equal')\n",
    "plt.show()"
   ]
  },
  {
   "cell_type": "markdown",
   "id": "1ce6ceb0",
   "metadata": {},
   "source": [
    "**Result**"
   ]
  },
  {
   "cell_type": "code",
   "execution_count": 538,
   "id": "e161930c",
   "metadata": {},
   "outputs": [
    {
     "data": {
      "image/png": "[encoded data removed]",
      "text/plain": [
       "<Figure size 720x720 with 1 Axes>"
      ]
     },
     "metadata": {
      "needs_background": "light"
     },
     "output_type": "display_data"
    },
    {
     "data": {
      "image/png": "[encoded data removed]",
      "text/plain": [
       "<Figure size 720x720 with 1 Axes>"
      ]
     },
     "metadata": {
      "needs_background": "light"
     },
     "output_type": "display_data"
    }
   ],
   "source": [
    "\n",
    "\n",
    "plt.subplot\n",
    "plt.figure(figsize=(10,10))\n",
    "plt.scatter(y_test, pre, c='crimson')\n",
    "plt.yscale('log')\n",
    "plt.xscale('log')\n",
    "\n",
    "p1 = max(max(pre), max(y_test))\n",
    "p2 = min(min(pre), min(y_test))\n",
    "plt.plot([p1, p2], [p1, p2], 'b-')\n",
    "plt.xlabel('True Values', fontsize=15)\n",
    "plt.ylabel('Predictions', fontsize=15)\n",
    "plt.title('Decision Tree Regression Model', fontsize=15, weight = 'bold')\n",
    "plt.axis('equal')\n",
    "plt.show()\n",
    "\n",
    "\n",
    "#-----------------------\n",
    "plt.subplot\n",
    "plt.figure(figsize=(10,10))\n",
    "plt.scatter(y_test, pre2, c='crimson')\n",
    "plt.yscale('log')\n",
    "plt.xscale('log')\n",
    "\n",
    "p1 = max(max(pre2), max(y_test))\n",
    "p2 = min(min(pre2), min(y_test))\n",
    "plt.plot([p1, p2], [p1, p2], 'b-')\n",
    "plt.xlabel('True Values', fontsize=15)\n",
    "plt.ylabel('Predictions', fontsize=15)\n",
    "plt.title('Linear Regression Model', fontsize=15,weight = 'bold')\n",
    "plt.axis('equal')\n",
    "plt.show()"
   ]
  },
  {
   "cell_type": "markdown",
   "id": "29bf7ce5",
   "metadata": {},
   "source": [
    "# Conclusion\n",
    "**So comparing the mean absolute error between Linear Regression Model 7 and Decision Tree Regressor model 7, it is clear that the best performing model is Decision Tree model number 7**"
   ]
  }
 ],
 "metadata": {
  "kernelspec": {
   "display_name": "Python 3 (ipykernel)",
   "language": "python",
   "name": "python3"
  },
  "language_info": {
   "codemirror_mode": {
    "name": "ipython",
    "version": 3
   },
   "file_extension": ".py",
   "mimetype": "text/x-python",
   "name": "python",
   "nbconvert_exporter": "python",
   "pygments_lexer": "ipython3",
   "version": "3.9.7"
  }
 },
 "nbformat": 4,
 "nbformat_minor": 5
}
