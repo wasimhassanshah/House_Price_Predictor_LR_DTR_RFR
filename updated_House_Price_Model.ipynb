{
 "cells": [
  {
   "cell_type": "markdown",
   "id": "f4200889",
   "metadata": {},
   "source": [
    "# House price prediction model using Linear Regression, Decision Tree and Random Forest Algorithms and finding the best model "
   ]
  },
  {
   "cell_type": "code",
   "execution_count": 1,
   "id": "7f8b8e7d",
   "metadata": {
    "scrolled": true
   },
   "outputs": [],
   "source": [
    "# importing all the important libraries\n",
    "\n",
    "import numpy as np\n",
    "import pandas as pd\n",
    "import matplotlib.pyplot as plt\n",
    "import seaborn as sns\n",
    "from sklearn.model_selection import train_test_split\n",
    "from sklearn.linear_model import LinearRegression    # for linear regression model\n",
    "from sklearn.tree import DecisionTreeRegressor       # for decision tree regressor problem\n",
    "from sklearn.ensemble import RandomForestRegressor\n",
    "from sklearn.model_selection import cross_val_score   # for cross validation\n",
    "from sklearn.metrics import mean_squared_error, mean_absolute_error\n",
    "sns.set()\n"
   ]
  },
  {
   "cell_type": "markdown",
   "id": "faf6b6bf",
   "metadata": {},
   "source": [
    "# About the Data\n",
    "**The dataset used for this project is ibtained from Kaggle**"
   ]
  },
  {
   "cell_type": "code",
   "execution_count": 2,
   "id": "2fe7a784",
   "metadata": {},
   "outputs": [],
   "source": [
    "dataset = pd.read_csv(r\"C:\\Users\\HP\\Downloads\\py\\House price Prediction final\\kc_house_data.csv\")\n"
   ]
  },
  {
   "cell_type": "code",
   "execution_count": 3,
   "id": "e6c8b607",
   "metadata": {},
   "outputs": [
    {
     "data": {
      "text/html": [
       "<div>\n",
       "<style scoped>\n",
       "    .dataframe tbody tr th:only-of-type {\n",
       "        vertical-align: middle;\n",
       "    }\n",
       "\n",
       "    .dataframe tbody tr th {\n",
       "        vertical-align: top;\n",
       "    }\n",
       "\n",
       "    .dataframe thead th {\n",
       "        text-align: right;\n",
       "    }\n",
       "</style>\n",
       "<table border=\"1\" class=\"dataframe\">\n",
       "  <thead>\n",
       "    <tr style=\"text-align: right;\">\n",
       "      <th></th>\n",
       "      <th>id</th>\n",
       "      <th>date</th>\n",
       "      <th>price</th>\n",
       "      <th>bedrooms</th>\n",
       "      <th>bathrooms</th>\n",
       "      <th>sqft_living</th>\n",
       "      <th>sqft_lot</th>\n",
       "      <th>floors</th>\n",
       "      <th>waterfront</th>\n",
       "      <th>view</th>\n",
       "      <th>...</th>\n",
       "      <th>grade</th>\n",
       "      <th>sqft_above</th>\n",
       "      <th>sqft_basement</th>\n",
       "      <th>yr_built</th>\n",
       "      <th>yr_renovated</th>\n",
       "      <th>zipcode</th>\n",
       "      <th>lat</th>\n",
       "      <th>long</th>\n",
       "      <th>sqft_living15</th>\n",
       "      <th>sqft_lot15</th>\n",
       "    </tr>\n",
       "  </thead>\n",
       "  <tbody>\n",
       "    <tr>\n",
       "      <th>0</th>\n",
       "      <td>7129300520</td>\n",
       "      <td>20141013T000000</td>\n",
       "      <td>221900.0</td>\n",
       "      <td>3</td>\n",
       "      <td>1.00</td>\n",
       "      <td>1180</td>\n",
       "      <td>5650</td>\n",
       "      <td>1.0</td>\n",
       "      <td>0</td>\n",
       "      <td>0</td>\n",
       "      <td>...</td>\n",
       "      <td>7</td>\n",
       "      <td>1180</td>\n",
       "      <td>0</td>\n",
       "      <td>1955</td>\n",
       "      <td>0</td>\n",
       "      <td>98178</td>\n",
       "      <td>47.5112</td>\n",
       "      <td>-122.257</td>\n",
       "      <td>1340</td>\n",
       "      <td>5650</td>\n",
       "    </tr>\n",
       "    <tr>\n",
       "      <th>1</th>\n",
       "      <td>6414100192</td>\n",
       "      <td>20141209T000000</td>\n",
       "      <td>538000.0</td>\n",
       "      <td>3</td>\n",
       "      <td>2.25</td>\n",
       "      <td>2570</td>\n",
       "      <td>7242</td>\n",
       "      <td>2.0</td>\n",
       "      <td>0</td>\n",
       "      <td>0</td>\n",
       "      <td>...</td>\n",
       "      <td>7</td>\n",
       "      <td>2170</td>\n",
       "      <td>400</td>\n",
       "      <td>1951</td>\n",
       "      <td>1991</td>\n",
       "      <td>98125</td>\n",
       "      <td>47.7210</td>\n",
       "      <td>-122.319</td>\n",
       "      <td>1690</td>\n",
       "      <td>7639</td>\n",
       "    </tr>\n",
       "    <tr>\n",
       "      <th>2</th>\n",
       "      <td>5631500400</td>\n",
       "      <td>20150225T000000</td>\n",
       "      <td>180000.0</td>\n",
       "      <td>2</td>\n",
       "      <td>1.00</td>\n",
       "      <td>770</td>\n",
       "      <td>10000</td>\n",
       "      <td>1.0</td>\n",
       "      <td>0</td>\n",
       "      <td>0</td>\n",
       "      <td>...</td>\n",
       "      <td>6</td>\n",
       "      <td>770</td>\n",
       "      <td>0</td>\n",
       "      <td>1933</td>\n",
       "      <td>0</td>\n",
       "      <td>98028</td>\n",
       "      <td>47.7379</td>\n",
       "      <td>-122.233</td>\n",
       "      <td>2720</td>\n",
       "      <td>8062</td>\n",
       "    </tr>\n",
       "    <tr>\n",
       "      <th>3</th>\n",
       "      <td>2487200875</td>\n",
       "      <td>20141209T000000</td>\n",
       "      <td>604000.0</td>\n",
       "      <td>4</td>\n",
       "      <td>3.00</td>\n",
       "      <td>1960</td>\n",
       "      <td>5000</td>\n",
       "      <td>1.0</td>\n",
       "      <td>0</td>\n",
       "      <td>0</td>\n",
       "      <td>...</td>\n",
       "      <td>7</td>\n",
       "      <td>1050</td>\n",
       "      <td>910</td>\n",
       "      <td>1965</td>\n",
       "      <td>0</td>\n",
       "      <td>98136</td>\n",
       "      <td>47.5208</td>\n",
       "      <td>-122.393</td>\n",
       "      <td>1360</td>\n",
       "      <td>5000</td>\n",
       "    </tr>\n",
       "    <tr>\n",
       "      <th>4</th>\n",
       "      <td>1954400510</td>\n",
       "      <td>20150218T000000</td>\n",
       "      <td>510000.0</td>\n",
       "      <td>3</td>\n",
       "      <td>2.00</td>\n",
       "      <td>1680</td>\n",
       "      <td>8080</td>\n",
       "      <td>1.0</td>\n",
       "      <td>0</td>\n",
       "      <td>0</td>\n",
       "      <td>...</td>\n",
       "      <td>8</td>\n",
       "      <td>1680</td>\n",
       "      <td>0</td>\n",
       "      <td>1987</td>\n",
       "      <td>0</td>\n",
       "      <td>98074</td>\n",
       "      <td>47.6168</td>\n",
       "      <td>-122.045</td>\n",
       "      <td>1800</td>\n",
       "      <td>7503</td>\n",
       "    </tr>\n",
       "  </tbody>\n",
       "</table>\n",
       "<p>5 rows × 21 columns</p>\n",
       "</div>"
      ],
      "text/plain": [
       "           id             date     price  bedrooms  bathrooms  sqft_living  \\\n",
       "0  7129300520  20141013T000000  221900.0         3       1.00         1180   \n",
       "1  6414100192  20141209T000000  538000.0         3       2.25         2570   \n",
       "2  5631500400  20150225T000000  180000.0         2       1.00          770   \n",
       "3  2487200875  20141209T000000  604000.0         4       3.00         1960   \n",
       "4  1954400510  20150218T000000  510000.0         3       2.00         1680   \n",
       "\n",
       "   sqft_lot  floors  waterfront  view  ...  grade  sqft_above  sqft_basement  \\\n",
       "0      5650     1.0           0     0  ...      7        1180              0   \n",
       "1      7242     2.0           0     0  ...      7        2170            400   \n",
       "2     10000     1.0           0     0  ...      6         770              0   \n",
       "3      5000     1.0           0     0  ...      7        1050            910   \n",
       "4      8080     1.0           0     0  ...      8        1680              0   \n",
       "\n",
       "   yr_built  yr_renovated  zipcode      lat     long  sqft_living15  \\\n",
       "0      1955             0    98178  47.5112 -122.257           1340   \n",
       "1      1951          1991    98125  47.7210 -122.319           1690   \n",
       "2      1933             0    98028  47.7379 -122.233           2720   \n",
       "3      1965             0    98136  47.5208 -122.393           1360   \n",
       "4      1987             0    98074  47.6168 -122.045           1800   \n",
       "\n",
       "   sqft_lot15  \n",
       "0        5650  \n",
       "1        7639  \n",
       "2        8062  \n",
       "3        5000  \n",
       "4        7503  \n",
       "\n",
       "[5 rows x 21 columns]"
      ]
     },
     "execution_count": 3,
     "metadata": {},
     "output_type": "execute_result"
    }
   ],
   "source": [
    "dataset.head()"
   ]
  },
  {
   "cell_type": "code",
   "execution_count": 4,
   "id": "bdd598c0",
   "metadata": {},
   "outputs": [
    {
     "data": {
      "text/plain": [
       "Index(['id', 'date', 'price', 'bedrooms', 'bathrooms', 'sqft_living',\n",
       "       'sqft_lot', 'floors', 'waterfront', 'view', 'condition', 'grade',\n",
       "       'sqft_above', 'sqft_basement', 'yr_built', 'yr_renovated', 'zipcode',\n",
       "       'lat', 'long', 'sqft_living15', 'sqft_lot15'],\n",
       "      dtype='object')"
      ]
     },
     "execution_count": 4,
     "metadata": {},
     "output_type": "execute_result"
    }
   ],
   "source": [
    "dataset.columns"
   ]
  },
  {
   "cell_type": "markdown",
   "id": "a92eb8fd",
   "metadata": {},
   "source": [
    "# Hypothesis : -"
   ]
  },
  {
   "cell_type": "markdown",
   "id": "61d7fea5",
   "metadata": {},
   "source": [
    "**After reading the dataset it seems that the target variable (price) is dependent on features ('bedrooms', 'bathrooms', 'sqft_living','floors', 'condition', 'grade', )**"
   ]
  },
  {
   "cell_type": "markdown",
   "id": "58bf9cc3",
   "metadata": {},
   "source": [
    " # Exploratory Data Analyst :-"
   ]
  },
  {
   "cell_type": "code",
   "execution_count": 5,
   "id": "5e366995",
   "metadata": {},
   "outputs": [
    {
     "data": {
      "text/plain": [
       "id                 int64\n",
       "date              object\n",
       "price            float64\n",
       "bedrooms           int64\n",
       "bathrooms        float64\n",
       "sqft_living        int64\n",
       "sqft_lot           int64\n",
       "floors           float64\n",
       "waterfront         int64\n",
       "view               int64\n",
       "condition          int64\n",
       "grade              int64\n",
       "sqft_above         int64\n",
       "sqft_basement      int64\n",
       "yr_built           int64\n",
       "yr_renovated       int64\n",
       "zipcode            int64\n",
       "lat              float64\n",
       "long             float64\n",
       "sqft_living15      int64\n",
       "sqft_lot15         int64\n",
       "dtype: object"
      ]
     },
     "execution_count": 5,
     "metadata": {},
     "output_type": "execute_result"
    }
   ],
   "source": [
    "dataset.dtypes"
   ]
  },
  {
   "cell_type": "code",
   "execution_count": 6,
   "id": "52498337",
   "metadata": {},
   "outputs": [
    {
     "data": {
      "text/plain": [
       "id               0\n",
       "date             0\n",
       "price            0\n",
       "bedrooms         0\n",
       "bathrooms        0\n",
       "sqft_living      0\n",
       "sqft_lot         0\n",
       "floors           0\n",
       "waterfront       0\n",
       "view             0\n",
       "condition        0\n",
       "grade            0\n",
       "sqft_above       0\n",
       "sqft_basement    0\n",
       "yr_built         0\n",
       "yr_renovated     0\n",
       "zipcode          0\n",
       "lat              0\n",
       "long             0\n",
       "sqft_living15    0\n",
       "sqft_lot15       0\n",
       "dtype: int64"
      ]
     },
     "execution_count": 6,
     "metadata": {},
     "output_type": "execute_result"
    }
   ],
   "source": [
    "dataset.isnull().sum()"
   ]
  },
  {
   "cell_type": "code",
   "execution_count": 7,
   "id": "49e7f31e",
   "metadata": {},
   "outputs": [
    {
     "data": {
      "text/html": [
       "<div>\n",
       "<style scoped>\n",
       "    .dataframe tbody tr th:only-of-type {\n",
       "        vertical-align: middle;\n",
       "    }\n",
       "\n",
       "    .dataframe tbody tr th {\n",
       "        vertical-align: top;\n",
       "    }\n",
       "\n",
       "    .dataframe thead th {\n",
       "        text-align: right;\n",
       "    }\n",
       "</style>\n",
       "<table border=\"1\" class=\"dataframe\">\n",
       "  <thead>\n",
       "    <tr style=\"text-align: right;\">\n",
       "      <th></th>\n",
       "      <th>id</th>\n",
       "      <th>price</th>\n",
       "      <th>bedrooms</th>\n",
       "      <th>bathrooms</th>\n",
       "      <th>sqft_living</th>\n",
       "      <th>sqft_lot</th>\n",
       "      <th>floors</th>\n",
       "      <th>waterfront</th>\n",
       "      <th>view</th>\n",
       "      <th>condition</th>\n",
       "      <th>grade</th>\n",
       "      <th>sqft_above</th>\n",
       "      <th>sqft_basement</th>\n",
       "      <th>yr_built</th>\n",
       "      <th>yr_renovated</th>\n",
       "      <th>zipcode</th>\n",
       "      <th>lat</th>\n",
       "      <th>long</th>\n",
       "      <th>sqft_living15</th>\n",
       "      <th>sqft_lot15</th>\n",
       "    </tr>\n",
       "  </thead>\n",
       "  <tbody>\n",
       "    <tr>\n",
       "      <th>count</th>\n",
       "      <td>2.161300e+04</td>\n",
       "      <td>2.161300e+04</td>\n",
       "      <td>21613.000000</td>\n",
       "      <td>21613.000000</td>\n",
       "      <td>21613.000000</td>\n",
       "      <td>2.161300e+04</td>\n",
       "      <td>21613.000000</td>\n",
       "      <td>21613.000000</td>\n",
       "      <td>21613.000000</td>\n",
       "      <td>21613.000000</td>\n",
       "      <td>21613.000000</td>\n",
       "      <td>21613.000000</td>\n",
       "      <td>21613.000000</td>\n",
       "      <td>21613.000000</td>\n",
       "      <td>21613.000000</td>\n",
       "      <td>21613.000000</td>\n",
       "      <td>21613.000000</td>\n",
       "      <td>21613.000000</td>\n",
       "      <td>21613.000000</td>\n",
       "      <td>21613.000000</td>\n",
       "    </tr>\n",
       "    <tr>\n",
       "      <th>mean</th>\n",
       "      <td>4.580302e+09</td>\n",
       "      <td>5.400881e+05</td>\n",
       "      <td>3.370842</td>\n",
       "      <td>2.114757</td>\n",
       "      <td>2079.899736</td>\n",
       "      <td>1.510697e+04</td>\n",
       "      <td>1.494309</td>\n",
       "      <td>0.007542</td>\n",
       "      <td>0.234303</td>\n",
       "      <td>3.409430</td>\n",
       "      <td>7.656873</td>\n",
       "      <td>1788.390691</td>\n",
       "      <td>291.509045</td>\n",
       "      <td>1971.005136</td>\n",
       "      <td>84.402258</td>\n",
       "      <td>98077.939805</td>\n",
       "      <td>47.560053</td>\n",
       "      <td>-122.213896</td>\n",
       "      <td>1986.552492</td>\n",
       "      <td>12768.455652</td>\n",
       "    </tr>\n",
       "    <tr>\n",
       "      <th>std</th>\n",
       "      <td>2.876566e+09</td>\n",
       "      <td>3.671272e+05</td>\n",
       "      <td>0.930062</td>\n",
       "      <td>0.770163</td>\n",
       "      <td>918.440897</td>\n",
       "      <td>4.142051e+04</td>\n",
       "      <td>0.539989</td>\n",
       "      <td>0.086517</td>\n",
       "      <td>0.766318</td>\n",
       "      <td>0.650743</td>\n",
       "      <td>1.175459</td>\n",
       "      <td>828.090978</td>\n",
       "      <td>442.575043</td>\n",
       "      <td>29.373411</td>\n",
       "      <td>401.679240</td>\n",
       "      <td>53.505026</td>\n",
       "      <td>0.138564</td>\n",
       "      <td>0.140828</td>\n",
       "      <td>685.391304</td>\n",
       "      <td>27304.179631</td>\n",
       "    </tr>\n",
       "    <tr>\n",
       "      <th>min</th>\n",
       "      <td>1.000102e+06</td>\n",
       "      <td>7.500000e+04</td>\n",
       "      <td>0.000000</td>\n",
       "      <td>0.000000</td>\n",
       "      <td>290.000000</td>\n",
       "      <td>5.200000e+02</td>\n",
       "      <td>1.000000</td>\n",
       "      <td>0.000000</td>\n",
       "      <td>0.000000</td>\n",
       "      <td>1.000000</td>\n",
       "      <td>1.000000</td>\n",
       "      <td>290.000000</td>\n",
       "      <td>0.000000</td>\n",
       "      <td>1900.000000</td>\n",
       "      <td>0.000000</td>\n",
       "      <td>98001.000000</td>\n",
       "      <td>47.155900</td>\n",
       "      <td>-122.519000</td>\n",
       "      <td>399.000000</td>\n",
       "      <td>651.000000</td>\n",
       "    </tr>\n",
       "    <tr>\n",
       "      <th>25%</th>\n",
       "      <td>2.123049e+09</td>\n",
       "      <td>3.219500e+05</td>\n",
       "      <td>3.000000</td>\n",
       "      <td>1.750000</td>\n",
       "      <td>1427.000000</td>\n",
       "      <td>5.040000e+03</td>\n",
       "      <td>1.000000</td>\n",
       "      <td>0.000000</td>\n",
       "      <td>0.000000</td>\n",
       "      <td>3.000000</td>\n",
       "      <td>7.000000</td>\n",
       "      <td>1190.000000</td>\n",
       "      <td>0.000000</td>\n",
       "      <td>1951.000000</td>\n",
       "      <td>0.000000</td>\n",
       "      <td>98033.000000</td>\n",
       "      <td>47.471000</td>\n",
       "      <td>-122.328000</td>\n",
       "      <td>1490.000000</td>\n",
       "      <td>5100.000000</td>\n",
       "    </tr>\n",
       "    <tr>\n",
       "      <th>50%</th>\n",
       "      <td>3.904930e+09</td>\n",
       "      <td>4.500000e+05</td>\n",
       "      <td>3.000000</td>\n",
       "      <td>2.250000</td>\n",
       "      <td>1910.000000</td>\n",
       "      <td>7.618000e+03</td>\n",
       "      <td>1.500000</td>\n",
       "      <td>0.000000</td>\n",
       "      <td>0.000000</td>\n",
       "      <td>3.000000</td>\n",
       "      <td>7.000000</td>\n",
       "      <td>1560.000000</td>\n",
       "      <td>0.000000</td>\n",
       "      <td>1975.000000</td>\n",
       "      <td>0.000000</td>\n",
       "      <td>98065.000000</td>\n",
       "      <td>47.571800</td>\n",
       "      <td>-122.230000</td>\n",
       "      <td>1840.000000</td>\n",
       "      <td>7620.000000</td>\n",
       "    </tr>\n",
       "    <tr>\n",
       "      <th>75%</th>\n",
       "      <td>7.308900e+09</td>\n",
       "      <td>6.450000e+05</td>\n",
       "      <td>4.000000</td>\n",
       "      <td>2.500000</td>\n",
       "      <td>2550.000000</td>\n",
       "      <td>1.068800e+04</td>\n",
       "      <td>2.000000</td>\n",
       "      <td>0.000000</td>\n",
       "      <td>0.000000</td>\n",
       "      <td>4.000000</td>\n",
       "      <td>8.000000</td>\n",
       "      <td>2210.000000</td>\n",
       "      <td>560.000000</td>\n",
       "      <td>1997.000000</td>\n",
       "      <td>0.000000</td>\n",
       "      <td>98118.000000</td>\n",
       "      <td>47.678000</td>\n",
       "      <td>-122.125000</td>\n",
       "      <td>2360.000000</td>\n",
       "      <td>10083.000000</td>\n",
       "    </tr>\n",
       "    <tr>\n",
       "      <th>max</th>\n",
       "      <td>9.900000e+09</td>\n",
       "      <td>7.700000e+06</td>\n",
       "      <td>33.000000</td>\n",
       "      <td>8.000000</td>\n",
       "      <td>13540.000000</td>\n",
       "      <td>1.651359e+06</td>\n",
       "      <td>3.500000</td>\n",
       "      <td>1.000000</td>\n",
       "      <td>4.000000</td>\n",
       "      <td>5.000000</td>\n",
       "      <td>13.000000</td>\n",
       "      <td>9410.000000</td>\n",
       "      <td>4820.000000</td>\n",
       "      <td>2015.000000</td>\n",
       "      <td>2015.000000</td>\n",
       "      <td>98199.000000</td>\n",
       "      <td>47.777600</td>\n",
       "      <td>-121.315000</td>\n",
       "      <td>6210.000000</td>\n",
       "      <td>871200.000000</td>\n",
       "    </tr>\n",
       "  </tbody>\n",
       "</table>\n",
       "</div>"
      ],
      "text/plain": [
       "                 id         price      bedrooms     bathrooms   sqft_living  \\\n",
       "count  2.161300e+04  2.161300e+04  21613.000000  21613.000000  21613.000000   \n",
       "mean   4.580302e+09  5.400881e+05      3.370842      2.114757   2079.899736   \n",
       "std    2.876566e+09  3.671272e+05      0.930062      0.770163    918.440897   \n",
       "min    1.000102e+06  7.500000e+04      0.000000      0.000000    290.000000   \n",
       "25%    2.123049e+09  3.219500e+05      3.000000      1.750000   1427.000000   \n",
       "50%    3.904930e+09  4.500000e+05      3.000000      2.250000   1910.000000   \n",
       "75%    7.308900e+09  6.450000e+05      4.000000      2.500000   2550.000000   \n",
       "max    9.900000e+09  7.700000e+06     33.000000      8.000000  13540.000000   \n",
       "\n",
       "           sqft_lot        floors    waterfront          view     condition  \\\n",
       "count  2.161300e+04  21613.000000  21613.000000  21613.000000  21613.000000   \n",
       "mean   1.510697e+04      1.494309      0.007542      0.234303      3.409430   \n",
       "std    4.142051e+04      0.539989      0.086517      0.766318      0.650743   \n",
       "min    5.200000e+02      1.000000      0.000000      0.000000      1.000000   \n",
       "25%    5.040000e+03      1.000000      0.000000      0.000000      3.000000   \n",
       "50%    7.618000e+03      1.500000      0.000000      0.000000      3.000000   \n",
       "75%    1.068800e+04      2.000000      0.000000      0.000000      4.000000   \n",
       "max    1.651359e+06      3.500000      1.000000      4.000000      5.000000   \n",
       "\n",
       "              grade    sqft_above  sqft_basement      yr_built  yr_renovated  \\\n",
       "count  21613.000000  21613.000000   21613.000000  21613.000000  21613.000000   \n",
       "mean       7.656873   1788.390691     291.509045   1971.005136     84.402258   \n",
       "std        1.175459    828.090978     442.575043     29.373411    401.679240   \n",
       "min        1.000000    290.000000       0.000000   1900.000000      0.000000   \n",
       "25%        7.000000   1190.000000       0.000000   1951.000000      0.000000   \n",
       "50%        7.000000   1560.000000       0.000000   1975.000000      0.000000   \n",
       "75%        8.000000   2210.000000     560.000000   1997.000000      0.000000   \n",
       "max       13.000000   9410.000000    4820.000000   2015.000000   2015.000000   \n",
       "\n",
       "            zipcode           lat          long  sqft_living15     sqft_lot15  \n",
       "count  21613.000000  21613.000000  21613.000000   21613.000000   21613.000000  \n",
       "mean   98077.939805     47.560053   -122.213896    1986.552492   12768.455652  \n",
       "std       53.505026      0.138564      0.140828     685.391304   27304.179631  \n",
       "min    98001.000000     47.155900   -122.519000     399.000000     651.000000  \n",
       "25%    98033.000000     47.471000   -122.328000    1490.000000    5100.000000  \n",
       "50%    98065.000000     47.571800   -122.230000    1840.000000    7620.000000  \n",
       "75%    98118.000000     47.678000   -122.125000    2360.000000   10083.000000  \n",
       "max    98199.000000     47.777600   -121.315000    6210.000000  871200.000000  "
      ]
     },
     "execution_count": 7,
     "metadata": {},
     "output_type": "execute_result"
    }
   ],
   "source": [
    "dataset.describe()"
   ]
  },
  {
   "cell_type": "markdown",
   "id": "06986a08",
   "metadata": {},
   "source": [
    "# => Creating plots for our hypothesis variables :-"
   ]
  },
  {
   "cell_type": "markdown",
   "id": "dfac2746",
   "metadata": {},
   "source": [
    "**Checking wheteher target variable (price) is dependent on features ('bedrooms', 'bathrooms', 'sqft_living','floors', 'condition', 'grade', 'yr_renovated') or not**\n"
   ]
  },
  {
   "cell_type": "code",
   "execution_count": 8,
   "id": "a04c0dcd",
   "metadata": {},
   "outputs": [
    {
     "data": {
      "image/png": "[encoded data removed]",
      "text/plain": [
       "<Figure size 432x288 with 1 Axes>"
      ]
     },
     "metadata": {},
     "output_type": "display_data"
    }
   ],
   "source": [
    "\n",
    "\n",
    "plt.scatter(dataset['sqft_living'], dataset['price'])\n",
    "plt.xlabel('sqft_living', fontsize=14)\n",
    "plt.ylabel('Price', fontsize=14)\n",
    "plt.show()"
   ]
  },
  {
   "cell_type": "code",
   "execution_count": 9,
   "id": "4322bf00",
   "metadata": {},
   "outputs": [
    {
     "data": {
      "image/png": "[encoded data removed]",
      "text/plain": [
       "<Figure size 432x288 with 1 Axes>"
      ]
     },
     "metadata": {},
     "output_type": "display_data"
    }
   ],
   "source": [
    "\n",
    "plt.bar(dataset['floors'], dataset['price'])\n",
    "plt.xlabel('Floors', fontsize=14)\n",
    "plt.ylabel('Price', fontsize=14)\n",
    "plt.show()"
   ]
  },
  {
   "cell_type": "code",
   "execution_count": 10,
   "id": "e6ff1bb7",
   "metadata": {},
   "outputs": [
    {
     "data": {
      "image/png": "[encoded data removed]",
      "text/plain": [
       "<Figure size 432x288 with 1 Axes>"
      ]
     },
     "metadata": {},
     "output_type": "display_data"
    }
   ],
   "source": [
    "plt.bar(dataset['bedrooms'], dataset['price'])\n",
    "plt.xlabel('Bedrooms', fontsize=14)\n",
    "plt.ylabel('Price', fontsize=14)\n",
    "plt.show()"
   ]
  },
  {
   "cell_type": "code",
   "execution_count": 11,
   "id": "56efffb2",
   "metadata": {},
   "outputs": [
    {
     "data": {
      "image/png": "[encoded data removed]",
      "text/plain": [
       "<Figure size 432x288 with 1 Axes>"
      ]
     },
     "metadata": {},
     "output_type": "display_data"
    }
   ],
   "source": [
    "plt.bar(dataset['condition'], dataset['price'])\n",
    "plt.xlabel('Condition', fontsize=14)\n",
    "plt.ylabel('Price', fontsize=14)\n",
    "plt.show()"
   ]
  },
  {
   "cell_type": "code",
   "execution_count": 12,
   "id": "46fe4d1a",
   "metadata": {},
   "outputs": [
    {
     "data": {
      "image/png": "[encoded data removed]",
      "text/plain": [
       "<Figure size 432x288 with 1 Axes>"
      ]
     },
     "metadata": {},
     "output_type": "display_data"
    }
   ],
   "source": [
    "plt.bar(dataset['grade'], dataset['price'])\n",
    "plt.xlabel('Grade', fontsize=14)\n",
    "plt.ylabel('Price', fontsize=14)\n",
    "plt.show()"
   ]
  },
  {
   "cell_type": "markdown",
   "id": "5151d6ca",
   "metadata": {},
   "source": [
    "# => Creating Correlation Matrix :-\n"
   ]
  },
  {
   "cell_type": "markdown",
   "id": "88f9ad2f",
   "metadata": {},
   "source": [
    "It will give us the better understanding of how each feature is related to target variable"
   ]
  },
  {
   "cell_type": "code",
   "execution_count": 13,
   "id": "0db18f1e",
   "metadata": {
    "scrolled": false
   },
   "outputs": [
    {
     "name": "stdout",
     "output_type": "stream",
     "text": [
      "                     id     price  bedrooms  bathrooms  sqft_living  sqft_lot  \\\n",
      "id             1.000000 -0.016762  0.001286   0.005160    -0.012258 -0.132109   \n",
      "price         -0.016762  1.000000  0.308350   0.525138     0.702035  0.089661   \n",
      "bedrooms       0.001286  0.308350  1.000000   0.515884     0.576671  0.031703   \n",
      "bathrooms      0.005160  0.525138  0.515884   1.000000     0.754665  0.087740   \n",
      "sqft_living   -0.012258  0.702035  0.576671   0.754665     1.000000  0.172826   \n",
      "sqft_lot      -0.132109  0.089661  0.031703   0.087740     0.172826  1.000000   \n",
      "floors         0.018525  0.256794  0.175429   0.500653     0.353949 -0.005201   \n",
      "waterfront    -0.002721  0.266369 -0.006582   0.063744     0.103818  0.021604   \n",
      "view           0.011592  0.397293  0.079532   0.187737     0.284611  0.074710   \n",
      "condition     -0.023783  0.036362  0.028472  -0.124982    -0.058753 -0.008958   \n",
      "grade          0.008130  0.667434  0.356967   0.664983     0.762704  0.113621   \n",
      "sqft_above    -0.010842  0.605567  0.477600   0.685342     0.876597  0.183512   \n",
      "sqft_basement -0.005151  0.323816  0.303093   0.283770     0.435043  0.015286   \n",
      "yr_built       0.021380  0.054012  0.154178   0.506019     0.318049  0.053080   \n",
      "yr_renovated  -0.016907  0.126434  0.018841   0.050739     0.055363  0.007644   \n",
      "zipcode       -0.008224 -0.053203 -0.152668  -0.203866    -0.199430 -0.129574   \n",
      "lat           -0.001891  0.307003 -0.008931   0.024573     0.052529 -0.085683   \n",
      "long           0.020799  0.021626  0.129473   0.223042     0.240223  0.229521   \n",
      "sqft_living15 -0.002901  0.585379  0.391638   0.568634     0.756420  0.144608   \n",
      "sqft_lot15    -0.138798  0.082447  0.029244   0.087175     0.183286  0.718557   \n",
      "\n",
      "                 floors  waterfront      view  condition     grade  \\\n",
      "id             0.018525   -0.002721  0.011592  -0.023783  0.008130   \n",
      "price          0.256794    0.266369  0.397293   0.036362  0.667434   \n",
      "bedrooms       0.175429   -0.006582  0.079532   0.028472  0.356967   \n",
      "bathrooms      0.500653    0.063744  0.187737  -0.124982  0.664983   \n",
      "sqft_living    0.353949    0.103818  0.284611  -0.058753  0.762704   \n",
      "sqft_lot      -0.005201    0.021604  0.074710  -0.008958  0.113621   \n",
      "floors         1.000000    0.023698  0.029444  -0.263768  0.458183   \n",
      "waterfront     0.023698    1.000000  0.401857   0.016653  0.082775   \n",
      "view           0.029444    0.401857  1.000000   0.045990  0.251321   \n",
      "condition     -0.263768    0.016653  0.045990   1.000000 -0.144674   \n",
      "grade          0.458183    0.082775  0.251321  -0.144674  1.000000   \n",
      "sqft_above     0.523885    0.072075  0.167649  -0.158214  0.755923   \n",
      "sqft_basement -0.245705    0.080588  0.276947   0.174105  0.168392   \n",
      "yr_built       0.489319   -0.026161 -0.053440  -0.361417  0.446963   \n",
      "yr_renovated   0.006338    0.092885  0.103917  -0.060618  0.014414   \n",
      "zipcode       -0.059121    0.030285  0.084827   0.003026 -0.184862   \n",
      "lat            0.049614   -0.014274  0.006157  -0.014941  0.114084   \n",
      "long           0.125419   -0.041910 -0.078400  -0.106500  0.198372   \n",
      "sqft_living15  0.279885    0.086463  0.280439  -0.092824  0.713202   \n",
      "sqft_lot15    -0.011269    0.030703  0.072575  -0.003406  0.119248   \n",
      "\n",
      "               sqft_above  sqft_basement  yr_built  yr_renovated   zipcode  \\\n",
      "id              -0.010842      -0.005151  0.021380     -0.016907 -0.008224   \n",
      "price            0.605567       0.323816  0.054012      0.126434 -0.053203   \n",
      "bedrooms         0.477600       0.303093  0.154178      0.018841 -0.152668   \n",
      "bathrooms        0.685342       0.283770  0.506019      0.050739 -0.203866   \n",
      "sqft_living      0.876597       0.435043  0.318049      0.055363 -0.199430   \n",
      "sqft_lot         0.183512       0.015286  0.053080      0.007644 -0.129574   \n",
      "floors           0.523885      -0.245705  0.489319      0.006338 -0.059121   \n",
      "waterfront       0.072075       0.080588 -0.026161      0.092885  0.030285   \n",
      "view             0.167649       0.276947 -0.053440      0.103917  0.084827   \n",
      "condition       -0.158214       0.174105 -0.361417     -0.060618  0.003026   \n",
      "grade            0.755923       0.168392  0.446963      0.014414 -0.184862   \n",
      "sqft_above       1.000000      -0.051943  0.423898      0.023285 -0.261190   \n",
      "sqft_basement   -0.051943       1.000000 -0.133124      0.071323  0.074845   \n",
      "yr_built         0.423898      -0.133124  1.000000     -0.224874 -0.346869   \n",
      "yr_renovated     0.023285       0.071323 -0.224874      1.000000  0.064357   \n",
      "zipcode         -0.261190       0.074845 -0.346869      0.064357  1.000000   \n",
      "lat             -0.000816       0.110538 -0.148122      0.029398  0.267048   \n",
      "long             0.343803      -0.144765  0.409356     -0.068372 -0.564072   \n",
      "sqft_living15    0.731870       0.200355  0.326229     -0.002673 -0.279033   \n",
      "sqft_lot15       0.194050       0.017276  0.070958      0.007854 -0.147221   \n",
      "\n",
      "                    lat      long  sqft_living15  sqft_lot15  \n",
      "id            -0.001891  0.020799      -0.002901   -0.138798  \n",
      "price          0.307003  0.021626       0.585379    0.082447  \n",
      "bedrooms      -0.008931  0.129473       0.391638    0.029244  \n",
      "bathrooms      0.024573  0.223042       0.568634    0.087175  \n",
      "sqft_living    0.052529  0.240223       0.756420    0.183286  \n",
      "sqft_lot      -0.085683  0.229521       0.144608    0.718557  \n",
      "floors         0.049614  0.125419       0.279885   -0.011269  \n",
      "waterfront    -0.014274 -0.041910       0.086463    0.030703  \n",
      "view           0.006157 -0.078400       0.280439    0.072575  \n",
      "condition     -0.014941 -0.106500      -0.092824   -0.003406  \n",
      "grade          0.114084  0.198372       0.713202    0.119248  \n",
      "sqft_above    -0.000816  0.343803       0.731870    0.194050  \n",
      "sqft_basement  0.110538 -0.144765       0.200355    0.017276  \n",
      "yr_built      -0.148122  0.409356       0.326229    0.070958  \n",
      "yr_renovated   0.029398 -0.068372      -0.002673    0.007854  \n",
      "zipcode        0.267048 -0.564072      -0.279033   -0.147221  \n",
      "lat            1.000000 -0.135512       0.048858   -0.086419  \n",
      "long          -0.135512  1.000000       0.334605    0.254451  \n",
      "sqft_living15  0.048858  0.334605       1.000000    0.183192  \n",
      "sqft_lot15    -0.086419  0.254451       0.183192    1.000000  \n"
     ]
    },
    {
     "data": {
      "text/html": [
       "<style type=\"text/css\">\n",
       "#T_c2285_row0_col0, #T_c2285_row1_col1, #T_c2285_row2_col2, #T_c2285_row3_col3, #T_c2285_row4_col4, #T_c2285_row5_col5, #T_c2285_row6_col6, #T_c2285_row7_col7, #T_c2285_row8_col8, #T_c2285_row9_col9, #T_c2285_row10_col10, #T_c2285_row11_col11, #T_c2285_row12_col12, #T_c2285_row13_col13, #T_c2285_row14_col14, #T_c2285_row15_col15, #T_c2285_row16_col16, #T_c2285_row17_col17, #T_c2285_row18_col18, #T_c2285_row19_col19 {\n",
       "  background-color: #006837;\n",
       "  color: #f1f1f1;\n",
       "}\n",
       "#T_c2285_row0_col1, #T_c2285_row2_col7, #T_c2285_row9_col10 {\n",
       "  background-color: #b50f26;\n",
       "  color: #f1f1f1;\n",
       "}\n",
       "#T_c2285_row0_col2, #T_c2285_row5_col1, #T_c2285_row7_col5, #T_c2285_row8_col16, #T_c2285_row9_col14, #T_c2285_row14_col19 {\n",
       "  background-color: #e14430;\n",
       "  color: #f1f1f1;\n",
       "}\n",
       "#T_c2285_row0_col3, #T_c2285_row3_col9, #T_c2285_row4_col16, #T_c2285_row6_col16 {\n",
       "  background-color: #ec5c3b;\n",
       "  color: #f1f1f1;\n",
       "}\n",
       "#T_c2285_row0_col4, #T_c2285_row2_col19, #T_c2285_row7_col19, #T_c2285_row11_col12, #T_c2285_row14_col16 {\n",
       "  background-color: #e65036;\n",
       "  color: #f1f1f1;\n",
       "}\n",
       "#T_c2285_row0_col5, #T_c2285_row6_col12, #T_c2285_row9_col6, #T_c2285_row9_col13, #T_c2285_row13_col9, #T_c2285_row13_col14, #T_c2285_row13_col16, #T_c2285_row15_col1, #T_c2285_row15_col2, #T_c2285_row15_col3, #T_c2285_row15_col4, #T_c2285_row15_col5, #T_c2285_row15_col10, #T_c2285_row15_col11, #T_c2285_row15_col17, #T_c2285_row15_col18, #T_c2285_row15_col19, #T_c2285_row17_col7, #T_c2285_row17_col8, #T_c2285_row17_col15, #T_c2285_row19_col0 {\n",
       "  background-color: #a50026;\n",
       "  color: #f1f1f1;\n",
       "}\n",
       "#T_c2285_row0_col6, #T_c2285_row3_col14, #T_c2285_row7_col10, #T_c2285_row8_col13, #T_c2285_row12_col16, #T_c2285_row14_col11 {\n",
       "  background-color: #f67c4a;\n",
       "  color: #f1f1f1;\n",
       "}\n",
       "#T_c2285_row0_col7 {\n",
       "  background-color: #b71126;\n",
       "  color: #f1f1f1;\n",
       "}\n",
       "#T_c2285_row0_col8, #T_c2285_row9_col1 {\n",
       "  background-color: #ce2827;\n",
       "  color: #f1f1f1;\n",
       "}\n",
       "#T_c2285_row0_col9, #T_c2285_row3_col8, #T_c2285_row7_col13, #T_c2285_row16_col6 {\n",
       "  background-color: #f88c51;\n",
       "  color: #f1f1f1;\n",
       "}\n",
       "#T_c2285_row0_col10, #T_c2285_row13_col5, #T_c2285_row15_col6 {\n",
       "  background-color: #e95538;\n",
       "  color: #f1f1f1;\n",
       "}\n",
       "#T_c2285_row0_col11, #T_c2285_row1_col5, #T_c2285_row2_col14, #T_c2285_row10_col14, #T_c2285_row18_col9 {\n",
       "  background-color: #f36b42;\n",
       "  color: #f1f1f1;\n",
       "}\n",
       "#T_c2285_row0_col12, #T_c2285_row3_col5, #T_c2285_row8_col19, #T_c2285_row11_col15 {\n",
       "  background-color: #f26841;\n",
       "  color: #f1f1f1;\n",
       "}\n",
       "#T_c2285_row0_col13, #T_c2285_row5_col15, #T_c2285_row7_col9, #T_c2285_row11_col5 {\n",
       "  background-color: #fba05b;\n",
       "  color: #000000;\n",
       "}\n",
       "#T_c2285_row0_col14, #T_c2285_row14_col1, #T_c2285_row14_col8, #T_c2285_row14_col10, #T_c2285_row18_col16 {\n",
       "  background-color: #eb5a3a;\n",
       "  color: #f1f1f1;\n",
       "}\n",
       "#T_c2285_row0_col15, #T_c2285_row5_col11, #T_c2285_row17_col3 {\n",
       "  background-color: #fec877;\n",
       "  color: #000000;\n",
       "}\n",
       "#T_c2285_row0_col16, #T_c2285_row3_col0, #T_c2285_row7_col2, #T_c2285_row9_col19, #T_c2285_row11_col16, #T_c2285_row17_col14, #T_c2285_row19_col1 {\n",
       "  background-color: #de402e;\n",
       "  color: #f1f1f1;\n",
       "}\n",
       "#T_c2285_row0_col17, #T_c2285_row1_col17, #T_c2285_row12_col18 {\n",
       "  background-color: #fed27f;\n",
       "  color: #000000;\n",
       "}\n",
       "#T_c2285_row0_col18, #T_c2285_row10_col5, #T_c2285_row14_col18 {\n",
       "  background-color: #f57748;\n",
       "  color: #f1f1f1;\n",
       "}\n",
       "#T_c2285_row0_col19, #T_c2285_row5_col0 {\n",
       "  background-color: #a70226;\n",
       "  color: #f1f1f1;\n",
       "}\n",
       "#T_c2285_row1_col0, #T_c2285_row9_col5, #T_c2285_row14_col0 {\n",
       "  background-color: #d93429;\n",
       "  color: #f1f1f1;\n",
       "}\n",
       "#T_c2285_row1_col2, #T_c2285_row14_col15 {\n",
       "  background-color: #fee08b;\n",
       "  color: #000000;\n",
       "}\n",
       "#T_c2285_row1_col3, #T_c2285_row18_col1 {\n",
       "  background-color: #d5ed88;\n",
       "  color: #000000;\n",
       "}\n",
       "#T_c2285_row1_col4, #T_c2285_row3_col11, #T_c2285_row19_col5 {\n",
       "  background-color: #84ca66;\n",
       "  color: #000000;\n",
       "}\n",
       "#T_c2285_row1_col6 {\n",
       "  background-color: #fee491;\n",
       "  color: #000000;\n",
       "}\n",
       "#T_c2285_row1_col7, #T_c2285_row6_col1 {\n",
       "  background-color: #fcaa5f;\n",
       "  color: #000000;\n",
       "}\n",
       "#T_c2285_row1_col8, #T_c2285_row2_col12, #T_c2285_row6_col17 {\n",
       "  background-color: #feec9f;\n",
       "  color: #000000;\n",
       "}\n",
       "#T_c2285_row1_col9, #T_c2285_row9_col17 {\n",
       "  background-color: #fca85e;\n",
       "  color: #000000;\n",
       "}\n",
       "#T_c2285_row1_col10, #T_c2285_row10_col3 {\n",
       "  background-color: #98d368;\n",
       "  color: #000000;\n",
       "}\n",
       "#T_c2285_row1_col11, #T_c2285_row10_col1 {\n",
       "  background-color: #addc6f;\n",
       "  color: #000000;\n",
       "}\n",
       "#T_c2285_row1_col12, #T_c2285_row2_col10 {\n",
       "  background-color: #fff2aa;\n",
       "  color: #000000;\n",
       "}\n",
       "#T_c2285_row1_col13, #T_c2285_row10_col8, #T_c2285_row17_col6 {\n",
       "  background-color: #fdb163;\n",
       "  color: #000000;\n",
       "}\n",
       "#T_c2285_row1_col14, #T_c2285_row2_col9, #T_c2285_row4_col19, #T_c2285_row7_col18, #T_c2285_row16_col12, #T_c2285_row18_col19 {\n",
       "  background-color: #fca55d;\n",
       "  color: #000000;\n",
       "}\n",
       "#T_c2285_row1_col15, #T_c2285_row8_col3 {\n",
       "  background-color: #fdbb6c;\n",
       "  color: #000000;\n",
       "}\n",
       "#T_c2285_row1_col16, #T_c2285_row12_col2 {\n",
       "  background-color: #fede89;\n",
       "  color: #000000;\n",
       "}\n",
       "#T_c2285_row1_col18 {\n",
       "  background-color: #b1de71;\n",
       "  color: #000000;\n",
       "}\n",
       "#T_c2285_row1_col19, #T_c2285_row8_col2, #T_c2285_row11_col14, #T_c2285_row19_col6 {\n",
       "  background-color: #f46d43;\n",
       "  color: #f1f1f1;\n",
       "}\n",
       "#T_c2285_row2_col0, #T_c2285_row2_col16, #T_c2285_row14_col5, #T_c2285_row16_col2, #T_c2285_row18_col7 {\n",
       "  background-color: #dd3d2d;\n",
       "  color: #f1f1f1;\n",
       "}\n",
       "#T_c2285_row2_col1, #T_c2285_row8_col11, #T_c2285_row16_col1 {\n",
       "  background-color: #fdc372;\n",
       "  color: #000000;\n",
       "}\n",
       "#T_c2285_row2_col3 {\n",
       "  background-color: #d9ef8b;\n",
       "  color: #000000;\n",
       "}\n",
       "#T_c2285_row2_col4 {\n",
       "  background-color: #c1e57b;\n",
       "  color: #000000;\n",
       "}\n",
       "#T_c2285_row2_col5, #T_c2285_row2_col8, #T_c2285_row9_col18 {\n",
       "  background-color: #e44c34;\n",
       "  color: #f1f1f1;\n",
       "}\n",
       "#T_c2285_row2_col6 {\n",
       "  background-color: #fdc574;\n",
       "  color: #000000;\n",
       "}\n",
       "#T_c2285_row2_col11, #T_c2285_row6_col3 {\n",
       "  background-color: #dff293;\n",
       "  color: #000000;\n",
       "}\n",
       "#T_c2285_row2_col13 {\n",
       "  background-color: #fed481;\n",
       "  color: #000000;\n",
       "}\n",
       "#T_c2285_row2_col15, #T_c2285_row7_col11, #T_c2285_row7_col12, #T_c2285_row19_col9 {\n",
       "  background-color: #fa9656;\n",
       "  color: #000000;\n",
       "}\n",
       "#T_c2285_row2_col17, #T_c2285_row10_col2 {\n",
       "  background-color: #feeda1;\n",
       "  color: #000000;\n",
       "}\n",
       "#T_c2285_row2_col18 {\n",
       "  background-color: #f5fbb2;\n",
       "  color: #000000;\n",
       "}\n",
       "#T_c2285_row3_col1 {\n",
       "  background-color: #ecf7a6;\n",
       "  color: #000000;\n",
       "}\n",
       "#T_c2285_row3_col2, #T_c2285_row11_col17 {\n",
       "  background-color: #e0f295;\n",
       "  color: #000000;\n",
       "}\n",
       "#T_c2285_row3_col4, #T_c2285_row4_col3, #T_c2285_row11_col10 {\n",
       "  background-color: #69be63;\n",
       "  color: #f1f1f1;\n",
       "}\n",
       "#T_c2285_row3_col6 {\n",
       "  background-color: #d7ee8a;\n",
       "  color: #000000;\n",
       "}\n",
       "#T_c2285_row3_col7, #T_c2285_row6_col8, #T_c2285_row9_col0, #T_c2285_row14_col13 {\n",
       "  background-color: #d62f27;\n",
       "  color: #f1f1f1;\n",
       "}\n",
       "#T_c2285_row3_col10, #T_c2285_row4_col1 {\n",
       "  background-color: #9bd469;\n",
       "  color: #000000;\n",
       "}\n",
       "#T_c2285_row3_col12 {\n",
       "  background-color: #fee797;\n",
       "  color: #000000;\n",
       "}\n",
       "#T_c2285_row3_col13 {\n",
       "  background-color: #c5e67e;\n",
       "  color: #000000;\n",
       "}\n",
       "#T_c2285_row3_col15, #T_c2285_row4_col14, #T_c2285_row7_col6, #T_c2285_row10_col16, #T_c2285_row11_col8 {\n",
       "  background-color: #f67f4b;\n",
       "  color: #f1f1f1;\n",
       "}\n",
       "#T_c2285_row3_col16, #T_c2285_row11_col9, #T_c2285_row14_col2, #T_c2285_row15_col8 {\n",
       "  background-color: #e54e35;\n",
       "  color: #f1f1f1;\n",
       "}\n",
       "#T_c2285_row3_col17 {\n",
       "  background-color: #feffbe;\n",
       "  color: #000000;\n",
       "}\n",
       "#T_c2285_row3_col18 {\n",
       "  background-color: #b9e176;\n",
       "  color: #000000;\n",
       "}\n",
       "#T_c2285_row3_col19, #T_c2285_row5_col6, #T_c2285_row16_col11 {\n",
       "  background-color: #f47044;\n",
       "  color: #f1f1f1;\n",
       "}\n",
       "#T_c2285_row4_col0, #T_c2285_row6_col5, #T_c2285_row11_col0, #T_c2285_row11_col7 {\n",
       "  background-color: #da362a;\n",
       "  color: #f1f1f1;\n",
       "}\n",
       "#T_c2285_row4_col2 {\n",
       "  background-color: #c9e881;\n",
       "  color: #000000;\n",
       "}\n",
       "#T_c2285_row4_col5, #T_c2285_row8_col14, #T_c2285_row12_col17, #T_c2285_row13_col2, #T_c2285_row15_col9, #T_c2285_row19_col15 {\n",
       "  background-color: #fa9857;\n",
       "  color: #000000;\n",
       "}\n",
       "#T_c2285_row4_col6 {\n",
       "  background-color: #fffcba;\n",
       "  color: #000000;\n",
       "}\n",
       "#T_c2285_row4_col7, #T_c2285_row6_col0, #T_c2285_row13_col15, #T_c2285_row17_col0, #T_c2285_row19_col8 {\n",
       "  background-color: #e24731;\n",
       "  color: #f1f1f1;\n",
       "}\n",
       "#T_c2285_row4_col8, #T_c2285_row9_col12 {\n",
       "  background-color: #fdc171;\n",
       "  color: #000000;\n",
       "}\n",
       "#T_c2285_row4_col9, #T_c2285_row7_col3, #T_c2285_row14_col9 {\n",
       "  background-color: #f67a49;\n",
       "  color: #f1f1f1;\n",
       "}\n",
       "#T_c2285_row4_col10, #T_c2285_row18_col4 {\n",
       "  background-color: #66bd63;\n",
       "  color: #f1f1f1;\n",
       "}\n",
       "#T_c2285_row4_col11 {\n",
       "  background-color: #199750;\n",
       "  color: #f1f1f1;\n",
       "}\n",
       "#T_c2285_row4_col12, #T_c2285_row11_col2, #T_c2285_row13_col11 {\n",
       "  background-color: #eef8a8;\n",
       "  color: #000000;\n",
       "}\n",
       "#T_c2285_row4_col13 {\n",
       "  background-color: #fffebe;\n",
       "  color: #000000;\n",
       "}\n",
       "#T_c2285_row4_col15, #T_c2285_row8_col6, #T_c2285_row10_col19 {\n",
       "  background-color: #f7814c;\n",
       "  color: #f1f1f1;\n",
       "}\n",
       "#T_c2285_row4_col17 {\n",
       "  background-color: #fafdb8;\n",
       "  color: #000000;\n",
       "}\n",
       "#T_c2285_row4_col18 {\n",
       "  background-color: #5db961;\n",
       "  color: #f1f1f1;\n",
       "}\n",
       "#T_c2285_row5_col2, #T_c2285_row9_col2, #T_c2285_row10_col9, #T_c2285_row16_col13, #T_c2285_row19_col2 {\n",
       "  background-color: #e75337;\n",
       "  color: #f1f1f1;\n",
       "}\n",
       "#T_c2285_row5_col3, #T_c2285_row10_col15, #T_c2285_row17_col2, #T_c2285_row18_col5 {\n",
       "  background-color: #f88950;\n",
       "  color: #f1f1f1;\n",
       "}\n",
       "#T_c2285_row5_col4, #T_c2285_row8_col17 {\n",
       "  background-color: #fdb365;\n",
       "  color: #000000;\n",
       "}\n",
       "#T_c2285_row5_col7 {\n",
       "  background-color: #c21c27;\n",
       "  color: #f1f1f1;\n",
       "}\n",
       "#T_c2285_row5_col8, #T_c2285_row12_col19, #T_c2285_row13_col0 {\n",
       "  background-color: #e34933;\n",
       "  color: #f1f1f1;\n",
       "}\n",
       "#T_c2285_row5_col9, #T_c2285_row7_col14 {\n",
       "  background-color: #f99355;\n",
       "  color: #000000;\n",
       "}\n",
       "#T_c2285_row5_col10, #T_c2285_row7_col4, #T_c2285_row16_col10 {\n",
       "  background-color: #f98e52;\n",
       "  color: #f1f1f1;\n",
       "}\n",
       "#T_c2285_row5_col12, #T_c2285_row16_col4, #T_c2285_row16_col14 {\n",
       "  background-color: #f57245;\n",
       "  color: #f1f1f1;\n",
       "}\n",
       "#T_c2285_row5_col13, #T_c2285_row7_col1 {\n",
       "  background-color: #fdaf62;\n",
       "  color: #000000;\n",
       "}\n",
       "#T_c2285_row5_col14, #T_c2285_row6_col14, #T_c2285_row13_col19, #T_c2285_row16_col3, #T_c2285_row19_col14 {\n",
       "  background-color: #f16640;\n",
       "  color: #f1f1f1;\n",
       "}\n",
       "#T_c2285_row5_col16, #T_c2285_row16_col19, #T_c2285_row19_col16 {\n",
       "  background-color: #be1827;\n",
       "  color: #f1f1f1;\n",
       "}\n",
       "#T_c2285_row5_col17, #T_c2285_row18_col13 {\n",
       "  background-color: #fdfebc;\n",
       "  color: #000000;\n",
       "}\n",
       "#T_c2285_row5_col18, #T_c2285_row12_col8 {\n",
       "  background-color: #fdbd6d;\n",
       "  color: #000000;\n",
       "}\n",
       "#T_c2285_row5_col19 {\n",
       "  background-color: #82c966;\n",
       "  color: #000000;\n",
       "}\n",
       "#T_c2285_row6_col2 {\n",
       "  background-color: #fba35c;\n",
       "  color: #000000;\n",
       "}\n",
       "#T_c2285_row6_col4 {\n",
       "  background-color: #fff3ac;\n",
       "  color: #000000;\n",
       "}\n",
       "#T_c2285_row6_col7, #T_c2285_row9_col3 {\n",
       "  background-color: #c41e27;\n",
       "  color: #f1f1f1;\n",
       "}\n",
       "#T_c2285_row6_col9, #T_c2285_row17_col1 {\n",
       "  background-color: #c82227;\n",
       "  color: #f1f1f1;\n",
       "}\n",
       "#T_c2285_row6_col10 {\n",
       "  background-color: #eff8aa;\n",
       "  color: #000000;\n",
       "}\n",
       "#T_c2285_row6_col11, #T_c2285_row6_col13, #T_c2285_row11_col6, #T_c2285_row13_col17 {\n",
       "  background-color: #cdea83;\n",
       "  color: #000000;\n",
       "}\n",
       "#T_c2285_row6_col15, #T_c2285_row17_col10 {\n",
       "  background-color: #fdb96a;\n",
       "  color: #000000;\n",
       "}\n",
       "#T_c2285_row6_col18, #T_c2285_row8_col18 {\n",
       "  background-color: #feeb9d;\n",
       "  color: #000000;\n",
       "}\n",
       "#T_c2285_row6_col19, #T_c2285_row7_col0, #T_c2285_row9_col4, #T_c2285_row10_col7, #T_c2285_row12_col0, #T_c2285_row12_col7, #T_c2285_row16_col0, #T_c2285_row18_col0 {\n",
       "  background-color: #dc3b2c;\n",
       "  color: #f1f1f1;\n",
       "}\n",
       "#T_c2285_row7_col8 {\n",
       "  background-color: #feefa3;\n",
       "  color: #000000;\n",
       "}\n",
       "#T_c2285_row7_col15 {\n",
       "  background-color: #fed683;\n",
       "  color: #000000;\n",
       "}\n",
       "#T_c2285_row7_col16, #T_c2285_row9_col8, #T_c2285_row9_col16, #T_c2285_row15_col0 {\n",
       "  background-color: #db382b;\n",
       "  color: #f1f1f1;\n",
       "}\n",
       "#T_c2285_row7_col17, #T_c2285_row10_col12, #T_c2285_row18_col8 {\n",
       "  background-color: #fdbf6f;\n",
       "  color: #000000;\n",
       "}\n",
       "#T_c2285_row8_col0, #T_c2285_row10_col0, #T_c2285_row12_col5, #T_c2285_row14_col7 {\n",
       "  background-color: #e0422f;\n",
       "  color: #f1f1f1;\n",
       "}\n",
       "#T_c2285_row8_col1, #T_c2285_row8_col7 {\n",
       "  background-color: #fee999;\n",
       "  color: #000000;\n",
       "}\n",
       "#T_c2285_row8_col4, #T_c2285_row12_col3 {\n",
       "  background-color: #fee18d;\n",
       "  color: #000000;\n",
       "}\n",
       "#T_c2285_row8_col5, #T_c2285_row18_col14, #T_c2285_row18_col15 {\n",
       "  background-color: #ee613e;\n",
       "  color: #f1f1f1;\n",
       "}\n",
       "#T_c2285_row8_col9, #T_c2285_row11_col19, #T_c2285_row12_col10 {\n",
       "  background-color: #fdad60;\n",
       "  color: #000000;\n",
       "}\n",
       "#T_c2285_row8_col10 {\n",
       "  background-color: #fed07e;\n",
       "  color: #000000;\n",
       "}\n",
       "#T_c2285_row8_col12 {\n",
       "  background-color: #fee695;\n",
       "  color: #000000;\n",
       "}\n",
       "#T_c2285_row8_col15 {\n",
       "  background-color: #fee593;\n",
       "  color: #000000;\n",
       "}\n",
       "#T_c2285_row9_col7 {\n",
       "  background-color: #c01a27;\n",
       "  color: #f1f1f1;\n",
       "}\n",
       "#T_c2285_row9_col11, #T_c2285_row16_col8, #T_c2285_row17_col12 {\n",
       "  background-color: #cc2627;\n",
       "  color: #f1f1f1;\n",
       "}\n",
       "#T_c2285_row9_col15, #T_c2285_row15_col16, #T_c2285_row19_col11, #T_c2285_row19_col18 {\n",
       "  background-color: #fecc7b;\n",
       "  color: #000000;\n",
       "}\n",
       "#T_c2285_row10_col4 {\n",
       "  background-color: #63bc62;\n",
       "  color: #f1f1f1;\n",
       "}\n",
       "#T_c2285_row10_col6 {\n",
       "  background-color: #e3f399;\n",
       "  color: #000000;\n",
       "}\n",
       "#T_c2285_row10_col11 {\n",
       "  background-color: #60ba62;\n",
       "  color: #f1f1f1;\n",
       "}\n",
       "#T_c2285_row10_col13, #T_c2285_row13_col6 {\n",
       "  background-color: #daf08d;\n",
       "  color: #000000;\n",
       "}\n",
       "#T_c2285_row10_col17 {\n",
       "  background-color: #fffbb8;\n",
       "  color: #000000;\n",
       "}\n",
       "#T_c2285_row10_col18 {\n",
       "  background-color: #75c465;\n",
       "  color: #000000;\n",
       "}\n",
       "#T_c2285_row11_col1 {\n",
       "  background-color: #cbe982;\n",
       "  color: #000000;\n",
       "}\n",
       "#T_c2285_row11_col3 {\n",
       "  background-color: #8ccd67;\n",
       "  color: #000000;\n",
       "}\n",
       "#T_c2285_row11_col4 {\n",
       "  background-color: #1b9950;\n",
       "  color: #f1f1f1;\n",
       "}\n",
       "#T_c2285_row11_col13, #T_c2285_row18_col17 {\n",
       "  background-color: #e2f397;\n",
       "  color: #000000;\n",
       "}\n",
       "#T_c2285_row11_col18 {\n",
       "  background-color: #6bbf64;\n",
       "  color: #000000;\n",
       "}\n",
       "#T_c2285_row12_col1, #T_c2285_row18_col12 {\n",
       "  background-color: #feca79;\n",
       "  color: #000000;\n",
       "}\n",
       "#T_c2285_row12_col4 {\n",
       "  background-color: #f4fab0;\n",
       "  color: #000000;\n",
       "}\n",
       "#T_c2285_row12_col6, #T_c2285_row13_col7 {\n",
       "  background-color: #ab0626;\n",
       "  color: #f1f1f1;\n",
       "}\n",
       "#T_c2285_row12_col9 {\n",
       "  background-color: #fedc88;\n",
       "  color: #000000;\n",
       "}\n",
       "#T_c2285_row12_col11, #T_c2285_row12_col13 {\n",
       "  background-color: #ea5739;\n",
       "  color: #f1f1f1;\n",
       "}\n",
       "#T_c2285_row12_col14, #T_c2285_row19_col3 {\n",
       "  background-color: #f8864f;\n",
       "  color: #f1f1f1;\n",
       "}\n",
       "#T_c2285_row12_col15 {\n",
       "  background-color: #fee28f;\n",
       "  color: #000000;\n",
       "}\n",
       "#T_c2285_row13_col1 {\n",
       "  background-color: #d83128;\n",
       "  color: #f1f1f1;\n",
       "}\n",
       "#T_c2285_row13_col3 {\n",
       "  background-color: #ddf191;\n",
       "  color: #000000;\n",
       "}\n",
       "#T_c2285_row13_col4, #T_c2285_row18_col6 {\n",
       "  background-color: #feea9b;\n",
       "  color: #000000;\n",
       "}\n",
       "#T_c2285_row13_col8 {\n",
       "  background-color: #af0926;\n",
       "  color: #f1f1f1;\n",
       "}\n",
       "#T_c2285_row13_col10, #T_c2285_row16_col15 {\n",
       "  background-color: #f2faae;\n",
       "  color: #000000;\n",
       "}\n",
       "#T_c2285_row13_col12 {\n",
       "  background-color: #d22b27;\n",
       "  color: #f1f1f1;\n",
       "}\n",
       "#T_c2285_row13_col18 {\n",
       "  background-color: #fff7b2;\n",
       "  color: #000000;\n",
       "}\n",
       "#T_c2285_row14_col3, #T_c2285_row14_col4, #T_c2285_row14_col6, #T_c2285_row19_col12 {\n",
       "  background-color: #f57547;\n",
       "  color: #f1f1f1;\n",
       "}\n",
       "#T_c2285_row14_col12, #T_c2285_row15_col12, #T_c2285_row16_col9, #T_c2285_row16_col18, #T_c2285_row19_col10 {\n",
       "  background-color: #f99153;\n",
       "  color: #000000;\n",
       "}\n",
       "#T_c2285_row14_col17, #T_c2285_row17_col5, #T_c2285_row19_col4, #T_c2285_row19_col13 {\n",
       "  background-color: #fdb768;\n",
       "  color: #000000;\n",
       "}\n",
       "#T_c2285_row15_col7, #T_c2285_row19_col7 {\n",
       "  background-color: #c62027;\n",
       "  color: #f1f1f1;\n",
       "}\n",
       "#T_c2285_row15_col13, #T_c2285_row17_col16 {\n",
       "  background-color: #a90426;\n",
       "  color: #f1f1f1;\n",
       "}\n",
       "#T_c2285_row15_col14 {\n",
       "  background-color: #f7844e;\n",
       "  color: #f1f1f1;\n",
       "}\n",
       "#T_c2285_row16_col5 {\n",
       "  background-color: #b91326;\n",
       "  color: #f1f1f1;\n",
       "}\n",
       "#T_c2285_row16_col7 {\n",
       "  background-color: #b10b26;\n",
       "  color: #f1f1f1;\n",
       "}\n",
       "#T_c2285_row16_col17 {\n",
       "  background-color: #fb9d59;\n",
       "  color: #000000;\n",
       "}\n",
       "#T_c2285_row17_col4 {\n",
       "  background-color: #fece7c;\n",
       "  color: #000000;\n",
       "}\n",
       "#T_c2285_row17_col9 {\n",
       "  background-color: #ef633f;\n",
       "  color: #f1f1f1;\n",
       "}\n",
       "#T_c2285_row17_col11, #T_c2285_row17_col18 {\n",
       "  background-color: #fff8b4;\n",
       "  color: #000000;\n",
       "}\n",
       "#T_c2285_row17_col13 {\n",
       "  background-color: #e6f59d;\n",
       "  color: #000000;\n",
       "}\n",
       "#T_c2285_row17_col19 {\n",
       "  background-color: #fdc776;\n",
       "  color: #000000;\n",
       "}\n",
       "#T_c2285_row18_col2 {\n",
       "  background-color: #fff6b0;\n",
       "  color: #000000;\n",
       "}\n",
       "#T_c2285_row18_col3 {\n",
       "  background-color: #c3e67d;\n",
       "  color: #000000;\n",
       "}\n",
       "#T_c2285_row18_col10 {\n",
       "  background-color: #7fc866;\n",
       "  color: #000000;\n",
       "}\n",
       "#T_c2285_row18_col11 {\n",
       "  background-color: #6ec064;\n",
       "  color: #000000;\n",
       "}\n",
       "#T_c2285_row19_col17 {\n",
       "  background-color: #f7fcb4;\n",
       "  color: #000000;\n",
       "}\n",
       "</style>\n",
       "<table id=\"T_c2285_\">\n",
       "  <thead>\n",
       "    <tr>\n",
       "      <th class=\"blank level0\" >&nbsp;</th>\n",
       "      <th class=\"col_heading level0 col0\" >id</th>\n",
       "      <th class=\"col_heading level0 col1\" >price</th>\n",
       "      <th class=\"col_heading level0 col2\" >bedrooms</th>\n",
       "      <th class=\"col_heading level0 col3\" >bathrooms</th>\n",
       "      <th class=\"col_heading level0 col4\" >sqft_living</th>\n",
       "      <th class=\"col_heading level0 col5\" >sqft_lot</th>\n",
       "      <th class=\"col_heading level0 col6\" >floors</th>\n",
       "      <th class=\"col_heading level0 col7\" >waterfront</th>\n",
       "      <th class=\"col_heading level0 col8\" >view</th>\n",
       "      <th class=\"col_heading level0 col9\" >condition</th>\n",
       "      <th class=\"col_heading level0 col10\" >grade</th>\n",
       "      <th class=\"col_heading level0 col11\" >sqft_above</th>\n",
       "      <th class=\"col_heading level0 col12\" >sqft_basement</th>\n",
       "      <th class=\"col_heading level0 col13\" >yr_built</th>\n",
       "      <th class=\"col_heading level0 col14\" >yr_renovated</th>\n",
       "      <th class=\"col_heading level0 col15\" >zipcode</th>\n",
       "      <th class=\"col_heading level0 col16\" >lat</th>\n",
       "      <th class=\"col_heading level0 col17\" >long</th>\n",
       "      <th class=\"col_heading level0 col18\" >sqft_living15</th>\n",
       "      <th class=\"col_heading level0 col19\" >sqft_lot15</th>\n",
       "    </tr>\n",
       "  </thead>\n",
       "  <tbody>\n",
       "    <tr>\n",
       "      <th id=\"T_c2285_level0_row0\" class=\"row_heading level0 row0\" >id</th>\n",
       "      <td id=\"T_c2285_row0_col0\" class=\"data row0 col0\" >1.000000</td>\n",
       "      <td id=\"T_c2285_row0_col1\" class=\"data row0 col1\" >-0.016762</td>\n",
       "      <td id=\"T_c2285_row0_col2\" class=\"data row0 col2\" >0.001286</td>\n",
       "      <td id=\"T_c2285_row0_col3\" class=\"data row0 col3\" >0.005160</td>\n",
       "      <td id=\"T_c2285_row0_col4\" class=\"data row0 col4\" >-0.012258</td>\n",
       "      <td id=\"T_c2285_row0_col5\" class=\"data row0 col5\" >-0.132109</td>\n",
       "      <td id=\"T_c2285_row0_col6\" class=\"data row0 col6\" >0.018525</td>\n",
       "      <td id=\"T_c2285_row0_col7\" class=\"data row0 col7\" >-0.002721</td>\n",
       "      <td id=\"T_c2285_row0_col8\" class=\"data row0 col8\" >0.011592</td>\n",
       "      <td id=\"T_c2285_row0_col9\" class=\"data row0 col9\" >-0.023783</td>\n",
       "      <td id=\"T_c2285_row0_col10\" class=\"data row0 col10\" >0.008130</td>\n",
       "      <td id=\"T_c2285_row0_col11\" class=\"data row0 col11\" >-0.010842</td>\n",
       "      <td id=\"T_c2285_row0_col12\" class=\"data row0 col12\" >-0.005151</td>\n",
       "      <td id=\"T_c2285_row0_col13\" class=\"data row0 col13\" >0.021380</td>\n",
       "      <td id=\"T_c2285_row0_col14\" class=\"data row0 col14\" >-0.016907</td>\n",
       "      <td id=\"T_c2285_row0_col15\" class=\"data row0 col15\" >-0.008224</td>\n",
       "      <td id=\"T_c2285_row0_col16\" class=\"data row0 col16\" >-0.001891</td>\n",
       "      <td id=\"T_c2285_row0_col17\" class=\"data row0 col17\" >0.020799</td>\n",
       "      <td id=\"T_c2285_row0_col18\" class=\"data row0 col18\" >-0.002901</td>\n",
       "      <td id=\"T_c2285_row0_col19\" class=\"data row0 col19\" >-0.138798</td>\n",
       "    </tr>\n",
       "    <tr>\n",
       "      <th id=\"T_c2285_level0_row1\" class=\"row_heading level0 row1\" >price</th>\n",
       "      <td id=\"T_c2285_row1_col0\" class=\"data row1 col0\" >-0.016762</td>\n",
       "      <td id=\"T_c2285_row1_col1\" class=\"data row1 col1\" >1.000000</td>\n",
       "      <td id=\"T_c2285_row1_col2\" class=\"data row1 col2\" >0.308350</td>\n",
       "      <td id=\"T_c2285_row1_col3\" class=\"data row1 col3\" >0.525138</td>\n",
       "      <td id=\"T_c2285_row1_col4\" class=\"data row1 col4\" >0.702035</td>\n",
       "      <td id=\"T_c2285_row1_col5\" class=\"data row1 col5\" >0.089661</td>\n",
       "      <td id=\"T_c2285_row1_col6\" class=\"data row1 col6\" >0.256794</td>\n",
       "      <td id=\"T_c2285_row1_col7\" class=\"data row1 col7\" >0.266369</td>\n",
       "      <td id=\"T_c2285_row1_col8\" class=\"data row1 col8\" >0.397293</td>\n",
       "      <td id=\"T_c2285_row1_col9\" class=\"data row1 col9\" >0.036362</td>\n",
       "      <td id=\"T_c2285_row1_col10\" class=\"data row1 col10\" >0.667434</td>\n",
       "      <td id=\"T_c2285_row1_col11\" class=\"data row1 col11\" >0.605567</td>\n",
       "      <td id=\"T_c2285_row1_col12\" class=\"data row1 col12\" >0.323816</td>\n",
       "      <td id=\"T_c2285_row1_col13\" class=\"data row1 col13\" >0.054012</td>\n",
       "      <td id=\"T_c2285_row1_col14\" class=\"data row1 col14\" >0.126434</td>\n",
       "      <td id=\"T_c2285_row1_col15\" class=\"data row1 col15\" >-0.053203</td>\n",
       "      <td id=\"T_c2285_row1_col16\" class=\"data row1 col16\" >0.307003</td>\n",
       "      <td id=\"T_c2285_row1_col17\" class=\"data row1 col17\" >0.021626</td>\n",
       "      <td id=\"T_c2285_row1_col18\" class=\"data row1 col18\" >0.585379</td>\n",
       "      <td id=\"T_c2285_row1_col19\" class=\"data row1 col19\" >0.082447</td>\n",
       "    </tr>\n",
       "    <tr>\n",
       "      <th id=\"T_c2285_level0_row2\" class=\"row_heading level0 row2\" >bedrooms</th>\n",
       "      <td id=\"T_c2285_row2_col0\" class=\"data row2 col0\" >0.001286</td>\n",
       "      <td id=\"T_c2285_row2_col1\" class=\"data row2 col1\" >0.308350</td>\n",
       "      <td id=\"T_c2285_row2_col2\" class=\"data row2 col2\" >1.000000</td>\n",
       "      <td id=\"T_c2285_row2_col3\" class=\"data row2 col3\" >0.515884</td>\n",
       "      <td id=\"T_c2285_row2_col4\" class=\"data row2 col4\" >0.576671</td>\n",
       "      <td id=\"T_c2285_row2_col5\" class=\"data row2 col5\" >0.031703</td>\n",
       "      <td id=\"T_c2285_row2_col6\" class=\"data row2 col6\" >0.175429</td>\n",
       "      <td id=\"T_c2285_row2_col7\" class=\"data row2 col7\" >-0.006582</td>\n",
       "      <td id=\"T_c2285_row2_col8\" class=\"data row2 col8\" >0.079532</td>\n",
       "      <td id=\"T_c2285_row2_col9\" class=\"data row2 col9\" >0.028472</td>\n",
       "      <td id=\"T_c2285_row2_col10\" class=\"data row2 col10\" >0.356967</td>\n",
       "      <td id=\"T_c2285_row2_col11\" class=\"data row2 col11\" >0.477600</td>\n",
       "      <td id=\"T_c2285_row2_col12\" class=\"data row2 col12\" >0.303093</td>\n",
       "      <td id=\"T_c2285_row2_col13\" class=\"data row2 col13\" >0.154178</td>\n",
       "      <td id=\"T_c2285_row2_col14\" class=\"data row2 col14\" >0.018841</td>\n",
       "      <td id=\"T_c2285_row2_col15\" class=\"data row2 col15\" >-0.152668</td>\n",
       "      <td id=\"T_c2285_row2_col16\" class=\"data row2 col16\" >-0.008931</td>\n",
       "      <td id=\"T_c2285_row2_col17\" class=\"data row2 col17\" >0.129473</td>\n",
       "      <td id=\"T_c2285_row2_col18\" class=\"data row2 col18\" >0.391638</td>\n",
       "      <td id=\"T_c2285_row2_col19\" class=\"data row2 col19\" >0.029244</td>\n",
       "    </tr>\n",
       "    <tr>\n",
       "      <th id=\"T_c2285_level0_row3\" class=\"row_heading level0 row3\" >bathrooms</th>\n",
       "      <td id=\"T_c2285_row3_col0\" class=\"data row3 col0\" >0.005160</td>\n",
       "      <td id=\"T_c2285_row3_col1\" class=\"data row3 col1\" >0.525138</td>\n",
       "      <td id=\"T_c2285_row3_col2\" class=\"data row3 col2\" >0.515884</td>\n",
       "      <td id=\"T_c2285_row3_col3\" class=\"data row3 col3\" >1.000000</td>\n",
       "      <td id=\"T_c2285_row3_col4\" class=\"data row3 col4\" >0.754665</td>\n",
       "      <td id=\"T_c2285_row3_col5\" class=\"data row3 col5\" >0.087740</td>\n",
       "      <td id=\"T_c2285_row3_col6\" class=\"data row3 col6\" >0.500653</td>\n",
       "      <td id=\"T_c2285_row3_col7\" class=\"data row3 col7\" >0.063744</td>\n",
       "      <td id=\"T_c2285_row3_col8\" class=\"data row3 col8\" >0.187737</td>\n",
       "      <td id=\"T_c2285_row3_col9\" class=\"data row3 col9\" >-0.124982</td>\n",
       "      <td id=\"T_c2285_row3_col10\" class=\"data row3 col10\" >0.664983</td>\n",
       "      <td id=\"T_c2285_row3_col11\" class=\"data row3 col11\" >0.685342</td>\n",
       "      <td id=\"T_c2285_row3_col12\" class=\"data row3 col12\" >0.283770</td>\n",
       "      <td id=\"T_c2285_row3_col13\" class=\"data row3 col13\" >0.506019</td>\n",
       "      <td id=\"T_c2285_row3_col14\" class=\"data row3 col14\" >0.050739</td>\n",
       "      <td id=\"T_c2285_row3_col15\" class=\"data row3 col15\" >-0.203866</td>\n",
       "      <td id=\"T_c2285_row3_col16\" class=\"data row3 col16\" >0.024573</td>\n",
       "      <td id=\"T_c2285_row3_col17\" class=\"data row3 col17\" >0.223042</td>\n",
       "      <td id=\"T_c2285_row3_col18\" class=\"data row3 col18\" >0.568634</td>\n",
       "      <td id=\"T_c2285_row3_col19\" class=\"data row3 col19\" >0.087175</td>\n",
       "    </tr>\n",
       "    <tr>\n",
       "      <th id=\"T_c2285_level0_row4\" class=\"row_heading level0 row4\" >sqft_living</th>\n",
       "      <td id=\"T_c2285_row4_col0\" class=\"data row4 col0\" >-0.012258</td>\n",
       "      <td id=\"T_c2285_row4_col1\" class=\"data row4 col1\" >0.702035</td>\n",
       "      <td id=\"T_c2285_row4_col2\" class=\"data row4 col2\" >0.576671</td>\n",
       "      <td id=\"T_c2285_row4_col3\" class=\"data row4 col3\" >0.754665</td>\n",
       "      <td id=\"T_c2285_row4_col4\" class=\"data row4 col4\" >1.000000</td>\n",
       "      <td id=\"T_c2285_row4_col5\" class=\"data row4 col5\" >0.172826</td>\n",
       "      <td id=\"T_c2285_row4_col6\" class=\"data row4 col6\" >0.353949</td>\n",
       "      <td id=\"T_c2285_row4_col7\" class=\"data row4 col7\" >0.103818</td>\n",
       "      <td id=\"T_c2285_row4_col8\" class=\"data row4 col8\" >0.284611</td>\n",
       "      <td id=\"T_c2285_row4_col9\" class=\"data row4 col9\" >-0.058753</td>\n",
       "      <td id=\"T_c2285_row4_col10\" class=\"data row4 col10\" >0.762704</td>\n",
       "      <td id=\"T_c2285_row4_col11\" class=\"data row4 col11\" >0.876597</td>\n",
       "      <td id=\"T_c2285_row4_col12\" class=\"data row4 col12\" >0.435043</td>\n",
       "      <td id=\"T_c2285_row4_col13\" class=\"data row4 col13\" >0.318049</td>\n",
       "      <td id=\"T_c2285_row4_col14\" class=\"data row4 col14\" >0.055363</td>\n",
       "      <td id=\"T_c2285_row4_col15\" class=\"data row4 col15\" >-0.199430</td>\n",
       "      <td id=\"T_c2285_row4_col16\" class=\"data row4 col16\" >0.052529</td>\n",
       "      <td id=\"T_c2285_row4_col17\" class=\"data row4 col17\" >0.240223</td>\n",
       "      <td id=\"T_c2285_row4_col18\" class=\"data row4 col18\" >0.756420</td>\n",
       "      <td id=\"T_c2285_row4_col19\" class=\"data row4 col19\" >0.183286</td>\n",
       "    </tr>\n",
       "    <tr>\n",
       "      <th id=\"T_c2285_level0_row5\" class=\"row_heading level0 row5\" >sqft_lot</th>\n",
       "      <td id=\"T_c2285_row5_col0\" class=\"data row5 col0\" >-0.132109</td>\n",
       "      <td id=\"T_c2285_row5_col1\" class=\"data row5 col1\" >0.089661</td>\n",
       "      <td id=\"T_c2285_row5_col2\" class=\"data row5 col2\" >0.031703</td>\n",
       "      <td id=\"T_c2285_row5_col3\" class=\"data row5 col3\" >0.087740</td>\n",
       "      <td id=\"T_c2285_row5_col4\" class=\"data row5 col4\" >0.172826</td>\n",
       "      <td id=\"T_c2285_row5_col5\" class=\"data row5 col5\" >1.000000</td>\n",
       "      <td id=\"T_c2285_row5_col6\" class=\"data row5 col6\" >-0.005201</td>\n",
       "      <td id=\"T_c2285_row5_col7\" class=\"data row5 col7\" >0.021604</td>\n",
       "      <td id=\"T_c2285_row5_col8\" class=\"data row5 col8\" >0.074710</td>\n",
       "      <td id=\"T_c2285_row5_col9\" class=\"data row5 col9\" >-0.008958</td>\n",
       "      <td id=\"T_c2285_row5_col10\" class=\"data row5 col10\" >0.113621</td>\n",
       "      <td id=\"T_c2285_row5_col11\" class=\"data row5 col11\" >0.183512</td>\n",
       "      <td id=\"T_c2285_row5_col12\" class=\"data row5 col12\" >0.015286</td>\n",
       "      <td id=\"T_c2285_row5_col13\" class=\"data row5 col13\" >0.053080</td>\n",
       "      <td id=\"T_c2285_row5_col14\" class=\"data row5 col14\" >0.007644</td>\n",
       "      <td id=\"T_c2285_row5_col15\" class=\"data row5 col15\" >-0.129574</td>\n",
       "      <td id=\"T_c2285_row5_col16\" class=\"data row5 col16\" >-0.085683</td>\n",
       "      <td id=\"T_c2285_row5_col17\" class=\"data row5 col17\" >0.229521</td>\n",
       "      <td id=\"T_c2285_row5_col18\" class=\"data row5 col18\" >0.144608</td>\n",
       "      <td id=\"T_c2285_row5_col19\" class=\"data row5 col19\" >0.718557</td>\n",
       "    </tr>\n",
       "    <tr>\n",
       "      <th id=\"T_c2285_level0_row6\" class=\"row_heading level0 row6\" >floors</th>\n",
       "      <td id=\"T_c2285_row6_col0\" class=\"data row6 col0\" >0.018525</td>\n",
       "      <td id=\"T_c2285_row6_col1\" class=\"data row6 col1\" >0.256794</td>\n",
       "      <td id=\"T_c2285_row6_col2\" class=\"data row6 col2\" >0.175429</td>\n",
       "      <td id=\"T_c2285_row6_col3\" class=\"data row6 col3\" >0.500653</td>\n",
       "      <td id=\"T_c2285_row6_col4\" class=\"data row6 col4\" >0.353949</td>\n",
       "      <td id=\"T_c2285_row6_col5\" class=\"data row6 col5\" >-0.005201</td>\n",
       "      <td id=\"T_c2285_row6_col6\" class=\"data row6 col6\" >1.000000</td>\n",
       "      <td id=\"T_c2285_row6_col7\" class=\"data row6 col7\" >0.023698</td>\n",
       "      <td id=\"T_c2285_row6_col8\" class=\"data row6 col8\" >0.029444</td>\n",
       "      <td id=\"T_c2285_row6_col9\" class=\"data row6 col9\" >-0.263768</td>\n",
       "      <td id=\"T_c2285_row6_col10\" class=\"data row6 col10\" >0.458183</td>\n",
       "      <td id=\"T_c2285_row6_col11\" class=\"data row6 col11\" >0.523885</td>\n",
       "      <td id=\"T_c2285_row6_col12\" class=\"data row6 col12\" >-0.245705</td>\n",
       "      <td id=\"T_c2285_row6_col13\" class=\"data row6 col13\" >0.489319</td>\n",
       "      <td id=\"T_c2285_row6_col14\" class=\"data row6 col14\" >0.006338</td>\n",
       "      <td id=\"T_c2285_row6_col15\" class=\"data row6 col15\" >-0.059121</td>\n",
       "      <td id=\"T_c2285_row6_col16\" class=\"data row6 col16\" >0.049614</td>\n",
       "      <td id=\"T_c2285_row6_col17\" class=\"data row6 col17\" >0.125419</td>\n",
       "      <td id=\"T_c2285_row6_col18\" class=\"data row6 col18\" >0.279885</td>\n",
       "      <td id=\"T_c2285_row6_col19\" class=\"data row6 col19\" >-0.011269</td>\n",
       "    </tr>\n",
       "    <tr>\n",
       "      <th id=\"T_c2285_level0_row7\" class=\"row_heading level0 row7\" >waterfront</th>\n",
       "      <td id=\"T_c2285_row7_col0\" class=\"data row7 col0\" >-0.002721</td>\n",
       "      <td id=\"T_c2285_row7_col1\" class=\"data row7 col1\" >0.266369</td>\n",
       "      <td id=\"T_c2285_row7_col2\" class=\"data row7 col2\" >-0.006582</td>\n",
       "      <td id=\"T_c2285_row7_col3\" class=\"data row7 col3\" >0.063744</td>\n",
       "      <td id=\"T_c2285_row7_col4\" class=\"data row7 col4\" >0.103818</td>\n",
       "      <td id=\"T_c2285_row7_col5\" class=\"data row7 col5\" >0.021604</td>\n",
       "      <td id=\"T_c2285_row7_col6\" class=\"data row7 col6\" >0.023698</td>\n",
       "      <td id=\"T_c2285_row7_col7\" class=\"data row7 col7\" >1.000000</td>\n",
       "      <td id=\"T_c2285_row7_col8\" class=\"data row7 col8\" >0.401857</td>\n",
       "      <td id=\"T_c2285_row7_col9\" class=\"data row7 col9\" >0.016653</td>\n",
       "      <td id=\"T_c2285_row7_col10\" class=\"data row7 col10\" >0.082775</td>\n",
       "      <td id=\"T_c2285_row7_col11\" class=\"data row7 col11\" >0.072075</td>\n",
       "      <td id=\"T_c2285_row7_col12\" class=\"data row7 col12\" >0.080588</td>\n",
       "      <td id=\"T_c2285_row7_col13\" class=\"data row7 col13\" >-0.026161</td>\n",
       "      <td id=\"T_c2285_row7_col14\" class=\"data row7 col14\" >0.092885</td>\n",
       "      <td id=\"T_c2285_row7_col15\" class=\"data row7 col15\" >0.030285</td>\n",
       "      <td id=\"T_c2285_row7_col16\" class=\"data row7 col16\" >-0.014274</td>\n",
       "      <td id=\"T_c2285_row7_col17\" class=\"data row7 col17\" >-0.041910</td>\n",
       "      <td id=\"T_c2285_row7_col18\" class=\"data row7 col18\" >0.086463</td>\n",
       "      <td id=\"T_c2285_row7_col19\" class=\"data row7 col19\" >0.030703</td>\n",
       "    </tr>\n",
       "    <tr>\n",
       "      <th id=\"T_c2285_level0_row8\" class=\"row_heading level0 row8\" >view</th>\n",
       "      <td id=\"T_c2285_row8_col0\" class=\"data row8 col0\" >0.011592</td>\n",
       "      <td id=\"T_c2285_row8_col1\" class=\"data row8 col1\" >0.397293</td>\n",
       "      <td id=\"T_c2285_row8_col2\" class=\"data row8 col2\" >0.079532</td>\n",
       "      <td id=\"T_c2285_row8_col3\" class=\"data row8 col3\" >0.187737</td>\n",
       "      <td id=\"T_c2285_row8_col4\" class=\"data row8 col4\" >0.284611</td>\n",
       "      <td id=\"T_c2285_row8_col5\" class=\"data row8 col5\" >0.074710</td>\n",
       "      <td id=\"T_c2285_row8_col6\" class=\"data row8 col6\" >0.029444</td>\n",
       "      <td id=\"T_c2285_row8_col7\" class=\"data row8 col7\" >0.401857</td>\n",
       "      <td id=\"T_c2285_row8_col8\" class=\"data row8 col8\" >1.000000</td>\n",
       "      <td id=\"T_c2285_row8_col9\" class=\"data row8 col9\" >0.045990</td>\n",
       "      <td id=\"T_c2285_row8_col10\" class=\"data row8 col10\" >0.251321</td>\n",
       "      <td id=\"T_c2285_row8_col11\" class=\"data row8 col11\" >0.167649</td>\n",
       "      <td id=\"T_c2285_row8_col12\" class=\"data row8 col12\" >0.276947</td>\n",
       "      <td id=\"T_c2285_row8_col13\" class=\"data row8 col13\" >-0.053440</td>\n",
       "      <td id=\"T_c2285_row8_col14\" class=\"data row8 col14\" >0.103917</td>\n",
       "      <td id=\"T_c2285_row8_col15\" class=\"data row8 col15\" >0.084827</td>\n",
       "      <td id=\"T_c2285_row8_col16\" class=\"data row8 col16\" >0.006157</td>\n",
       "      <td id=\"T_c2285_row8_col17\" class=\"data row8 col17\" >-0.078400</td>\n",
       "      <td id=\"T_c2285_row8_col18\" class=\"data row8 col18\" >0.280439</td>\n",
       "      <td id=\"T_c2285_row8_col19\" class=\"data row8 col19\" >0.072575</td>\n",
       "    </tr>\n",
       "    <tr>\n",
       "      <th id=\"T_c2285_level0_row9\" class=\"row_heading level0 row9\" >condition</th>\n",
       "      <td id=\"T_c2285_row9_col0\" class=\"data row9 col0\" >-0.023783</td>\n",
       "      <td id=\"T_c2285_row9_col1\" class=\"data row9 col1\" >0.036362</td>\n",
       "      <td id=\"T_c2285_row9_col2\" class=\"data row9 col2\" >0.028472</td>\n",
       "      <td id=\"T_c2285_row9_col3\" class=\"data row9 col3\" >-0.124982</td>\n",
       "      <td id=\"T_c2285_row9_col4\" class=\"data row9 col4\" >-0.058753</td>\n",
       "      <td id=\"T_c2285_row9_col5\" class=\"data row9 col5\" >-0.008958</td>\n",
       "      <td id=\"T_c2285_row9_col6\" class=\"data row9 col6\" >-0.263768</td>\n",
       "      <td id=\"T_c2285_row9_col7\" class=\"data row9 col7\" >0.016653</td>\n",
       "      <td id=\"T_c2285_row9_col8\" class=\"data row9 col8\" >0.045990</td>\n",
       "      <td id=\"T_c2285_row9_col9\" class=\"data row9 col9\" >1.000000</td>\n",
       "      <td id=\"T_c2285_row9_col10\" class=\"data row9 col10\" >-0.144674</td>\n",
       "      <td id=\"T_c2285_row9_col11\" class=\"data row9 col11\" >-0.158214</td>\n",
       "      <td id=\"T_c2285_row9_col12\" class=\"data row9 col12\" >0.174105</td>\n",
       "      <td id=\"T_c2285_row9_col13\" class=\"data row9 col13\" >-0.361417</td>\n",
       "      <td id=\"T_c2285_row9_col14\" class=\"data row9 col14\" >-0.060618</td>\n",
       "      <td id=\"T_c2285_row9_col15\" class=\"data row9 col15\" >0.003026</td>\n",
       "      <td id=\"T_c2285_row9_col16\" class=\"data row9 col16\" >-0.014941</td>\n",
       "      <td id=\"T_c2285_row9_col17\" class=\"data row9 col17\" >-0.106500</td>\n",
       "      <td id=\"T_c2285_row9_col18\" class=\"data row9 col18\" >-0.092824</td>\n",
       "      <td id=\"T_c2285_row9_col19\" class=\"data row9 col19\" >-0.003406</td>\n",
       "    </tr>\n",
       "    <tr>\n",
       "      <th id=\"T_c2285_level0_row10\" class=\"row_heading level0 row10\" >grade</th>\n",
       "      <td id=\"T_c2285_row10_col0\" class=\"data row10 col0\" >0.008130</td>\n",
       "      <td id=\"T_c2285_row10_col1\" class=\"data row10 col1\" >0.667434</td>\n",
       "      <td id=\"T_c2285_row10_col2\" class=\"data row10 col2\" >0.356967</td>\n",
       "      <td id=\"T_c2285_row10_col3\" class=\"data row10 col3\" >0.664983</td>\n",
       "      <td id=\"T_c2285_row10_col4\" class=\"data row10 col4\" >0.762704</td>\n",
       "      <td id=\"T_c2285_row10_col5\" class=\"data row10 col5\" >0.113621</td>\n",
       "      <td id=\"T_c2285_row10_col6\" class=\"data row10 col6\" >0.458183</td>\n",
       "      <td id=\"T_c2285_row10_col7\" class=\"data row10 col7\" >0.082775</td>\n",
       "      <td id=\"T_c2285_row10_col8\" class=\"data row10 col8\" >0.251321</td>\n",
       "      <td id=\"T_c2285_row10_col9\" class=\"data row10 col9\" >-0.144674</td>\n",
       "      <td id=\"T_c2285_row10_col10\" class=\"data row10 col10\" >1.000000</td>\n",
       "      <td id=\"T_c2285_row10_col11\" class=\"data row10 col11\" >0.755923</td>\n",
       "      <td id=\"T_c2285_row10_col12\" class=\"data row10 col12\" >0.168392</td>\n",
       "      <td id=\"T_c2285_row10_col13\" class=\"data row10 col13\" >0.446963</td>\n",
       "      <td id=\"T_c2285_row10_col14\" class=\"data row10 col14\" >0.014414</td>\n",
       "      <td id=\"T_c2285_row10_col15\" class=\"data row10 col15\" >-0.184862</td>\n",
       "      <td id=\"T_c2285_row10_col16\" class=\"data row10 col16\" >0.114084</td>\n",
       "      <td id=\"T_c2285_row10_col17\" class=\"data row10 col17\" >0.198372</td>\n",
       "      <td id=\"T_c2285_row10_col18\" class=\"data row10 col18\" >0.713202</td>\n",
       "      <td id=\"T_c2285_row10_col19\" class=\"data row10 col19\" >0.119248</td>\n",
       "    </tr>\n",
       "    <tr>\n",
       "      <th id=\"T_c2285_level0_row11\" class=\"row_heading level0 row11\" >sqft_above</th>\n",
       "      <td id=\"T_c2285_row11_col0\" class=\"data row11 col0\" >-0.010842</td>\n",
       "      <td id=\"T_c2285_row11_col1\" class=\"data row11 col1\" >0.605567</td>\n",
       "      <td id=\"T_c2285_row11_col2\" class=\"data row11 col2\" >0.477600</td>\n",
       "      <td id=\"T_c2285_row11_col3\" class=\"data row11 col3\" >0.685342</td>\n",
       "      <td id=\"T_c2285_row11_col4\" class=\"data row11 col4\" >0.876597</td>\n",
       "      <td id=\"T_c2285_row11_col5\" class=\"data row11 col5\" >0.183512</td>\n",
       "      <td id=\"T_c2285_row11_col6\" class=\"data row11 col6\" >0.523885</td>\n",
       "      <td id=\"T_c2285_row11_col7\" class=\"data row11 col7\" >0.072075</td>\n",
       "      <td id=\"T_c2285_row11_col8\" class=\"data row11 col8\" >0.167649</td>\n",
       "      <td id=\"T_c2285_row11_col9\" class=\"data row11 col9\" >-0.158214</td>\n",
       "      <td id=\"T_c2285_row11_col10\" class=\"data row11 col10\" >0.755923</td>\n",
       "      <td id=\"T_c2285_row11_col11\" class=\"data row11 col11\" >1.000000</td>\n",
       "      <td id=\"T_c2285_row11_col12\" class=\"data row11 col12\" >-0.051943</td>\n",
       "      <td id=\"T_c2285_row11_col13\" class=\"data row11 col13\" >0.423898</td>\n",
       "      <td id=\"T_c2285_row11_col14\" class=\"data row11 col14\" >0.023285</td>\n",
       "      <td id=\"T_c2285_row11_col15\" class=\"data row11 col15\" >-0.261190</td>\n",
       "      <td id=\"T_c2285_row11_col16\" class=\"data row11 col16\" >-0.000816</td>\n",
       "      <td id=\"T_c2285_row11_col17\" class=\"data row11 col17\" >0.343803</td>\n",
       "      <td id=\"T_c2285_row11_col18\" class=\"data row11 col18\" >0.731870</td>\n",
       "      <td id=\"T_c2285_row11_col19\" class=\"data row11 col19\" >0.194050</td>\n",
       "    </tr>\n",
       "    <tr>\n",
       "      <th id=\"T_c2285_level0_row12\" class=\"row_heading level0 row12\" >sqft_basement</th>\n",
       "      <td id=\"T_c2285_row12_col0\" class=\"data row12 col0\" >-0.005151</td>\n",
       "      <td id=\"T_c2285_row12_col1\" class=\"data row12 col1\" >0.323816</td>\n",
       "      <td id=\"T_c2285_row12_col2\" class=\"data row12 col2\" >0.303093</td>\n",
       "      <td id=\"T_c2285_row12_col3\" class=\"data row12 col3\" >0.283770</td>\n",
       "      <td id=\"T_c2285_row12_col4\" class=\"data row12 col4\" >0.435043</td>\n",
       "      <td id=\"T_c2285_row12_col5\" class=\"data row12 col5\" >0.015286</td>\n",
       "      <td id=\"T_c2285_row12_col6\" class=\"data row12 col6\" >-0.245705</td>\n",
       "      <td id=\"T_c2285_row12_col7\" class=\"data row12 col7\" >0.080588</td>\n",
       "      <td id=\"T_c2285_row12_col8\" class=\"data row12 col8\" >0.276947</td>\n",
       "      <td id=\"T_c2285_row12_col9\" class=\"data row12 col9\" >0.174105</td>\n",
       "      <td id=\"T_c2285_row12_col10\" class=\"data row12 col10\" >0.168392</td>\n",
       "      <td id=\"T_c2285_row12_col11\" class=\"data row12 col11\" >-0.051943</td>\n",
       "      <td id=\"T_c2285_row12_col12\" class=\"data row12 col12\" >1.000000</td>\n",
       "      <td id=\"T_c2285_row12_col13\" class=\"data row12 col13\" >-0.133124</td>\n",
       "      <td id=\"T_c2285_row12_col14\" class=\"data row12 col14\" >0.071323</td>\n",
       "      <td id=\"T_c2285_row12_col15\" class=\"data row12 col15\" >0.074845</td>\n",
       "      <td id=\"T_c2285_row12_col16\" class=\"data row12 col16\" >0.110538</td>\n",
       "      <td id=\"T_c2285_row12_col17\" class=\"data row12 col17\" >-0.144765</td>\n",
       "      <td id=\"T_c2285_row12_col18\" class=\"data row12 col18\" >0.200355</td>\n",
       "      <td id=\"T_c2285_row12_col19\" class=\"data row12 col19\" >0.017276</td>\n",
       "    </tr>\n",
       "    <tr>\n",
       "      <th id=\"T_c2285_level0_row13\" class=\"row_heading level0 row13\" >yr_built</th>\n",
       "      <td id=\"T_c2285_row13_col0\" class=\"data row13 col0\" >0.021380</td>\n",
       "      <td id=\"T_c2285_row13_col1\" class=\"data row13 col1\" >0.054012</td>\n",
       "      <td id=\"T_c2285_row13_col2\" class=\"data row13 col2\" >0.154178</td>\n",
       "      <td id=\"T_c2285_row13_col3\" class=\"data row13 col3\" >0.506019</td>\n",
       "      <td id=\"T_c2285_row13_col4\" class=\"data row13 col4\" >0.318049</td>\n",
       "      <td id=\"T_c2285_row13_col5\" class=\"data row13 col5\" >0.053080</td>\n",
       "      <td id=\"T_c2285_row13_col6\" class=\"data row13 col6\" >0.489319</td>\n",
       "      <td id=\"T_c2285_row13_col7\" class=\"data row13 col7\" >-0.026161</td>\n",
       "      <td id=\"T_c2285_row13_col8\" class=\"data row13 col8\" >-0.053440</td>\n",
       "      <td id=\"T_c2285_row13_col9\" class=\"data row13 col9\" >-0.361417</td>\n",
       "      <td id=\"T_c2285_row13_col10\" class=\"data row13 col10\" >0.446963</td>\n",
       "      <td id=\"T_c2285_row13_col11\" class=\"data row13 col11\" >0.423898</td>\n",
       "      <td id=\"T_c2285_row13_col12\" class=\"data row13 col12\" >-0.133124</td>\n",
       "      <td id=\"T_c2285_row13_col13\" class=\"data row13 col13\" >1.000000</td>\n",
       "      <td id=\"T_c2285_row13_col14\" class=\"data row13 col14\" >-0.224874</td>\n",
       "      <td id=\"T_c2285_row13_col15\" class=\"data row13 col15\" >-0.346869</td>\n",
       "      <td id=\"T_c2285_row13_col16\" class=\"data row13 col16\" >-0.148122</td>\n",
       "      <td id=\"T_c2285_row13_col17\" class=\"data row13 col17\" >0.409356</td>\n",
       "      <td id=\"T_c2285_row13_col18\" class=\"data row13 col18\" >0.326229</td>\n",
       "      <td id=\"T_c2285_row13_col19\" class=\"data row13 col19\" >0.070958</td>\n",
       "    </tr>\n",
       "    <tr>\n",
       "      <th id=\"T_c2285_level0_row14\" class=\"row_heading level0 row14\" >yr_renovated</th>\n",
       "      <td id=\"T_c2285_row14_col0\" class=\"data row14 col0\" >-0.016907</td>\n",
       "      <td id=\"T_c2285_row14_col1\" class=\"data row14 col1\" >0.126434</td>\n",
       "      <td id=\"T_c2285_row14_col2\" class=\"data row14 col2\" >0.018841</td>\n",
       "      <td id=\"T_c2285_row14_col3\" class=\"data row14 col3\" >0.050739</td>\n",
       "      <td id=\"T_c2285_row14_col4\" class=\"data row14 col4\" >0.055363</td>\n",
       "      <td id=\"T_c2285_row14_col5\" class=\"data row14 col5\" >0.007644</td>\n",
       "      <td id=\"T_c2285_row14_col6\" class=\"data row14 col6\" >0.006338</td>\n",
       "      <td id=\"T_c2285_row14_col7\" class=\"data row14 col7\" >0.092885</td>\n",
       "      <td id=\"T_c2285_row14_col8\" class=\"data row14 col8\" >0.103917</td>\n",
       "      <td id=\"T_c2285_row14_col9\" class=\"data row14 col9\" >-0.060618</td>\n",
       "      <td id=\"T_c2285_row14_col10\" class=\"data row14 col10\" >0.014414</td>\n",
       "      <td id=\"T_c2285_row14_col11\" class=\"data row14 col11\" >0.023285</td>\n",
       "      <td id=\"T_c2285_row14_col12\" class=\"data row14 col12\" >0.071323</td>\n",
       "      <td id=\"T_c2285_row14_col13\" class=\"data row14 col13\" >-0.224874</td>\n",
       "      <td id=\"T_c2285_row14_col14\" class=\"data row14 col14\" >1.000000</td>\n",
       "      <td id=\"T_c2285_row14_col15\" class=\"data row14 col15\" >0.064357</td>\n",
       "      <td id=\"T_c2285_row14_col16\" class=\"data row14 col16\" >0.029398</td>\n",
       "      <td id=\"T_c2285_row14_col17\" class=\"data row14 col17\" >-0.068372</td>\n",
       "      <td id=\"T_c2285_row14_col18\" class=\"data row14 col18\" >-0.002673</td>\n",
       "      <td id=\"T_c2285_row14_col19\" class=\"data row14 col19\" >0.007854</td>\n",
       "    </tr>\n",
       "    <tr>\n",
       "      <th id=\"T_c2285_level0_row15\" class=\"row_heading level0 row15\" >zipcode</th>\n",
       "      <td id=\"T_c2285_row15_col0\" class=\"data row15 col0\" >-0.008224</td>\n",
       "      <td id=\"T_c2285_row15_col1\" class=\"data row15 col1\" >-0.053203</td>\n",
       "      <td id=\"T_c2285_row15_col2\" class=\"data row15 col2\" >-0.152668</td>\n",
       "      <td id=\"T_c2285_row15_col3\" class=\"data row15 col3\" >-0.203866</td>\n",
       "      <td id=\"T_c2285_row15_col4\" class=\"data row15 col4\" >-0.199430</td>\n",
       "      <td id=\"T_c2285_row15_col5\" class=\"data row15 col5\" >-0.129574</td>\n",
       "      <td id=\"T_c2285_row15_col6\" class=\"data row15 col6\" >-0.059121</td>\n",
       "      <td id=\"T_c2285_row15_col7\" class=\"data row15 col7\" >0.030285</td>\n",
       "      <td id=\"T_c2285_row15_col8\" class=\"data row15 col8\" >0.084827</td>\n",
       "      <td id=\"T_c2285_row15_col9\" class=\"data row15 col9\" >0.003026</td>\n",
       "      <td id=\"T_c2285_row15_col10\" class=\"data row15 col10\" >-0.184862</td>\n",
       "      <td id=\"T_c2285_row15_col11\" class=\"data row15 col11\" >-0.261190</td>\n",
       "      <td id=\"T_c2285_row15_col12\" class=\"data row15 col12\" >0.074845</td>\n",
       "      <td id=\"T_c2285_row15_col13\" class=\"data row15 col13\" >-0.346869</td>\n",
       "      <td id=\"T_c2285_row15_col14\" class=\"data row15 col14\" >0.064357</td>\n",
       "      <td id=\"T_c2285_row15_col15\" class=\"data row15 col15\" >1.000000</td>\n",
       "      <td id=\"T_c2285_row15_col16\" class=\"data row15 col16\" >0.267048</td>\n",
       "      <td id=\"T_c2285_row15_col17\" class=\"data row15 col17\" >-0.564072</td>\n",
       "      <td id=\"T_c2285_row15_col18\" class=\"data row15 col18\" >-0.279033</td>\n",
       "      <td id=\"T_c2285_row15_col19\" class=\"data row15 col19\" >-0.147221</td>\n",
       "    </tr>\n",
       "    <tr>\n",
       "      <th id=\"T_c2285_level0_row16\" class=\"row_heading level0 row16\" >lat</th>\n",
       "      <td id=\"T_c2285_row16_col0\" class=\"data row16 col0\" >-0.001891</td>\n",
       "      <td id=\"T_c2285_row16_col1\" class=\"data row16 col1\" >0.307003</td>\n",
       "      <td id=\"T_c2285_row16_col2\" class=\"data row16 col2\" >-0.008931</td>\n",
       "      <td id=\"T_c2285_row16_col3\" class=\"data row16 col3\" >0.024573</td>\n",
       "      <td id=\"T_c2285_row16_col4\" class=\"data row16 col4\" >0.052529</td>\n",
       "      <td id=\"T_c2285_row16_col5\" class=\"data row16 col5\" >-0.085683</td>\n",
       "      <td id=\"T_c2285_row16_col6\" class=\"data row16 col6\" >0.049614</td>\n",
       "      <td id=\"T_c2285_row16_col7\" class=\"data row16 col7\" >-0.014274</td>\n",
       "      <td id=\"T_c2285_row16_col8\" class=\"data row16 col8\" >0.006157</td>\n",
       "      <td id=\"T_c2285_row16_col9\" class=\"data row16 col9\" >-0.014941</td>\n",
       "      <td id=\"T_c2285_row16_col10\" class=\"data row16 col10\" >0.114084</td>\n",
       "      <td id=\"T_c2285_row16_col11\" class=\"data row16 col11\" >-0.000816</td>\n",
       "      <td id=\"T_c2285_row16_col12\" class=\"data row16 col12\" >0.110538</td>\n",
       "      <td id=\"T_c2285_row16_col13\" class=\"data row16 col13\" >-0.148122</td>\n",
       "      <td id=\"T_c2285_row16_col14\" class=\"data row16 col14\" >0.029398</td>\n",
       "      <td id=\"T_c2285_row16_col15\" class=\"data row16 col15\" >0.267048</td>\n",
       "      <td id=\"T_c2285_row16_col16\" class=\"data row16 col16\" >1.000000</td>\n",
       "      <td id=\"T_c2285_row16_col17\" class=\"data row16 col17\" >-0.135512</td>\n",
       "      <td id=\"T_c2285_row16_col18\" class=\"data row16 col18\" >0.048858</td>\n",
       "      <td id=\"T_c2285_row16_col19\" class=\"data row16 col19\" >-0.086419</td>\n",
       "    </tr>\n",
       "    <tr>\n",
       "      <th id=\"T_c2285_level0_row17\" class=\"row_heading level0 row17\" >long</th>\n",
       "      <td id=\"T_c2285_row17_col0\" class=\"data row17 col0\" >0.020799</td>\n",
       "      <td id=\"T_c2285_row17_col1\" class=\"data row17 col1\" >0.021626</td>\n",
       "      <td id=\"T_c2285_row17_col2\" class=\"data row17 col2\" >0.129473</td>\n",
       "      <td id=\"T_c2285_row17_col3\" class=\"data row17 col3\" >0.223042</td>\n",
       "      <td id=\"T_c2285_row17_col4\" class=\"data row17 col4\" >0.240223</td>\n",
       "      <td id=\"T_c2285_row17_col5\" class=\"data row17 col5\" >0.229521</td>\n",
       "      <td id=\"T_c2285_row17_col6\" class=\"data row17 col6\" >0.125419</td>\n",
       "      <td id=\"T_c2285_row17_col7\" class=\"data row17 col7\" >-0.041910</td>\n",
       "      <td id=\"T_c2285_row17_col8\" class=\"data row17 col8\" >-0.078400</td>\n",
       "      <td id=\"T_c2285_row17_col9\" class=\"data row17 col9\" >-0.106500</td>\n",
       "      <td id=\"T_c2285_row17_col10\" class=\"data row17 col10\" >0.198372</td>\n",
       "      <td id=\"T_c2285_row17_col11\" class=\"data row17 col11\" >0.343803</td>\n",
       "      <td id=\"T_c2285_row17_col12\" class=\"data row17 col12\" >-0.144765</td>\n",
       "      <td id=\"T_c2285_row17_col13\" class=\"data row17 col13\" >0.409356</td>\n",
       "      <td id=\"T_c2285_row17_col14\" class=\"data row17 col14\" >-0.068372</td>\n",
       "      <td id=\"T_c2285_row17_col15\" class=\"data row17 col15\" >-0.564072</td>\n",
       "      <td id=\"T_c2285_row17_col16\" class=\"data row17 col16\" >-0.135512</td>\n",
       "      <td id=\"T_c2285_row17_col17\" class=\"data row17 col17\" >1.000000</td>\n",
       "      <td id=\"T_c2285_row17_col18\" class=\"data row17 col18\" >0.334605</td>\n",
       "      <td id=\"T_c2285_row17_col19\" class=\"data row17 col19\" >0.254451</td>\n",
       "    </tr>\n",
       "    <tr>\n",
       "      <th id=\"T_c2285_level0_row18\" class=\"row_heading level0 row18\" >sqft_living15</th>\n",
       "      <td id=\"T_c2285_row18_col0\" class=\"data row18 col0\" >-0.002901</td>\n",
       "      <td id=\"T_c2285_row18_col1\" class=\"data row18 col1\" >0.585379</td>\n",
       "      <td id=\"T_c2285_row18_col2\" class=\"data row18 col2\" >0.391638</td>\n",
       "      <td id=\"T_c2285_row18_col3\" class=\"data row18 col3\" >0.568634</td>\n",
       "      <td id=\"T_c2285_row18_col4\" class=\"data row18 col4\" >0.756420</td>\n",
       "      <td id=\"T_c2285_row18_col5\" class=\"data row18 col5\" >0.144608</td>\n",
       "      <td id=\"T_c2285_row18_col6\" class=\"data row18 col6\" >0.279885</td>\n",
       "      <td id=\"T_c2285_row18_col7\" class=\"data row18 col7\" >0.086463</td>\n",
       "      <td id=\"T_c2285_row18_col8\" class=\"data row18 col8\" >0.280439</td>\n",
       "      <td id=\"T_c2285_row18_col9\" class=\"data row18 col9\" >-0.092824</td>\n",
       "      <td id=\"T_c2285_row18_col10\" class=\"data row18 col10\" >0.713202</td>\n",
       "      <td id=\"T_c2285_row18_col11\" class=\"data row18 col11\" >0.731870</td>\n",
       "      <td id=\"T_c2285_row18_col12\" class=\"data row18 col12\" >0.200355</td>\n",
       "      <td id=\"T_c2285_row18_col13\" class=\"data row18 col13\" >0.326229</td>\n",
       "      <td id=\"T_c2285_row18_col14\" class=\"data row18 col14\" >-0.002673</td>\n",
       "      <td id=\"T_c2285_row18_col15\" class=\"data row18 col15\" >-0.279033</td>\n",
       "      <td id=\"T_c2285_row18_col16\" class=\"data row18 col16\" >0.048858</td>\n",
       "      <td id=\"T_c2285_row18_col17\" class=\"data row18 col17\" >0.334605</td>\n",
       "      <td id=\"T_c2285_row18_col18\" class=\"data row18 col18\" >1.000000</td>\n",
       "      <td id=\"T_c2285_row18_col19\" class=\"data row18 col19\" >0.183192</td>\n",
       "    </tr>\n",
       "    <tr>\n",
       "      <th id=\"T_c2285_level0_row19\" class=\"row_heading level0 row19\" >sqft_lot15</th>\n",
       "      <td id=\"T_c2285_row19_col0\" class=\"data row19 col0\" >-0.138798</td>\n",
       "      <td id=\"T_c2285_row19_col1\" class=\"data row19 col1\" >0.082447</td>\n",
       "      <td id=\"T_c2285_row19_col2\" class=\"data row19 col2\" >0.029244</td>\n",
       "      <td id=\"T_c2285_row19_col3\" class=\"data row19 col3\" >0.087175</td>\n",
       "      <td id=\"T_c2285_row19_col4\" class=\"data row19 col4\" >0.183286</td>\n",
       "      <td id=\"T_c2285_row19_col5\" class=\"data row19 col5\" >0.718557</td>\n",
       "      <td id=\"T_c2285_row19_col6\" class=\"data row19 col6\" >-0.011269</td>\n",
       "      <td id=\"T_c2285_row19_col7\" class=\"data row19 col7\" >0.030703</td>\n",
       "      <td id=\"T_c2285_row19_col8\" class=\"data row19 col8\" >0.072575</td>\n",
       "      <td id=\"T_c2285_row19_col9\" class=\"data row19 col9\" >-0.003406</td>\n",
       "      <td id=\"T_c2285_row19_col10\" class=\"data row19 col10\" >0.119248</td>\n",
       "      <td id=\"T_c2285_row19_col11\" class=\"data row19 col11\" >0.194050</td>\n",
       "      <td id=\"T_c2285_row19_col12\" class=\"data row19 col12\" >0.017276</td>\n",
       "      <td id=\"T_c2285_row19_col13\" class=\"data row19 col13\" >0.070958</td>\n",
       "      <td id=\"T_c2285_row19_col14\" class=\"data row19 col14\" >0.007854</td>\n",
       "      <td id=\"T_c2285_row19_col15\" class=\"data row19 col15\" >-0.147221</td>\n",
       "      <td id=\"T_c2285_row19_col16\" class=\"data row19 col16\" >-0.086419</td>\n",
       "      <td id=\"T_c2285_row19_col17\" class=\"data row19 col17\" >0.254451</td>\n",
       "      <td id=\"T_c2285_row19_col18\" class=\"data row19 col18\" >0.183192</td>\n",
       "      <td id=\"T_c2285_row19_col19\" class=\"data row19 col19\" >1.000000</td>\n",
       "    </tr>\n",
       "  </tbody>\n",
       "</table>\n"
      ],
      "text/plain": [
       "<pandas.io.formats.style.Styler at 0x213000a8d90>"
      ]
     },
     "execution_count": 13,
     "metadata": {},
     "output_type": "execute_result"
    }
   ],
   "source": [
    "corr_matrix = dataset.corr()\n",
    "print(corr_matrix)\n",
    "corr_matrix.style.background_gradient(cmap= 'RdYlGn')"
   ]
  },
  {
   "cell_type": "markdown",
   "id": "7b25bf61",
   "metadata": {},
   "source": [
    "**By observing the plots and correlation matrix, we found that our initial hypothesis is faulty. From our hypothesis, only 'sqft_living', and 'grade' have significant correlation with the target variable 'price**\n"
   ]
  },
  {
   "cell_type": "markdown",
   "id": "b5f87687",
   "metadata": {},
   "source": [
    "**-Other hypothesis variables are useless to define the correlation with the target variable 'price'. S they have no predictive power for the Machine Learning Model and therefore are meaningless**\n"
   ]
  },
  {
   "cell_type": "markdown",
   "id": "04a15fc6",
   "metadata": {},
   "source": [
    "# ------------------------------------------------------------------"
   ]
  },
  {
   "cell_type": "markdown",
   "id": "2d27a47e",
   "metadata": {},
   "source": [
    "**However other features like 'bathrooms', 'sqft_above''sqft_living15', and'view' are found to have significant correlation with target variable 'price' as clearly seen in correlation matrix, therefore, it is indispensable to include them in training the model as they wiall play  significant role in predicting the value for the targer variable 'price'**"
   ]
  },
  {
   "cell_type": "code",
   "execution_count": 14,
   "id": "ad77b170",
   "metadata": {
    "scrolled": true
   },
   "outputs": [
    {
     "data": {
      "image/png": "[encoded data removed]",
      "text/plain": [
       "<Figure size 432x288 with 1 Axes>"
      ]
     },
     "metadata": {},
     "output_type": "display_data"
    }
   ],
   "source": [
    "plt.scatter(dataset['sqft_above'], dataset['price'])\n",
    "plt.xlabel('sqft_above', fontsize=14)\n",
    "plt.ylabel('Price', fontsize=14)\n",
    "plt.show()"
   ]
  },
  {
   "cell_type": "code",
   "execution_count": 15,
   "id": "876e465b",
   "metadata": {},
   "outputs": [
    {
     "data": {
      "image/png": "[encoded data removed]",
      "text/plain": [
       "<Figure size 432x288 with 1 Axes>"
      ]
     },
     "metadata": {},
     "output_type": "display_data"
    }
   ],
   "source": [
    "plt.scatter(dataset['sqft_living15'], dataset['price'])\n",
    "plt.xlabel('sqft_living15', fontsize=14)\n",
    "plt.ylabel('Price', fontsize=14)\n",
    "plt.show()"
   ]
  },
  {
   "cell_type": "code",
   "execution_count": 16,
   "id": "e674a232",
   "metadata": {},
   "outputs": [
    {
     "data": {
      "image/png": "[encoded data removed]",
      "text/plain": [
       "<Figure size 432x288 with 1 Axes>"
      ]
     },
     "metadata": {},
     "output_type": "display_data"
    }
   ],
   "source": [
    "plt.bar(dataset['bathrooms'], dataset['price'])\n",
    "plt.xlabel('No: of Bathrooms', fontsize=14)\n",
    "plt.ylabel('Price', fontsize=14)\n",
    "plt.show()"
   ]
  },
  {
   "cell_type": "code",
   "execution_count": 17,
   "id": "c59875dc",
   "metadata": {
    "scrolled": false
   },
   "outputs": [
    {
     "data": {
      "image/png": "[encoded data removed]",
      "text/plain": [
       "<Figure size 432x288 with 1 Axes>"
      ]
     },
     "metadata": {},
     "output_type": "display_data"
    }
   ],
   "source": [
    "plt.bar(dataset['view'], dataset['price'])\n",
    "plt.xlabel('View', fontsize=14)\n",
    "plt.ylabel('Price', fontsize=14)\n",
    "plt.show()"
   ]
  },
  {
   "cell_type": "markdown",
   "id": "d19da09c",
   "metadata": {},
   "source": [
    "# Feature Engineering:--\n",
    "**To improve the accuracy, it is important to do feature engineering on some variables by applying transformation on them**"
   ]
  },
  {
   "cell_type": "markdown",
   "id": "4447175b",
   "metadata": {},
   "source": [
    "# 1. Log Transformation\n",
    "**-Applying Log Tranformation on some variables ('price', 'sqft_living') having skewed distribution to make their distribution normal and to scale them in logarithm scale.**\n"
   ]
  },
  {
   "cell_type": "markdown",
   "id": "73df800b",
   "metadata": {},
   "source": [
    "**Looking for skewed variables:--**"
   ]
  },
  {
   "cell_type": "code",
   "execution_count": 19,
   "id": "0cff4e18",
   "metadata": {},
   "outputs": [
    {
     "data": {
      "text/plain": [
       "<seaborn.axisgrid.FacetGrid at 0x2130bc25cd0>"
      ]
     },
     "execution_count": 19,
     "metadata": {},
     "output_type": "execute_result"
    },
    {
     "data": {
      "image/png": "[encoded data removed]",
      "text/plain": [
       "<Figure size 360x360 with 1 Axes>"
      ]
     },
     "metadata": {},
     "output_type": "display_data"
    }
   ],
   "source": [
    "sns.displot(dataset['price'])"
   ]
  },
  {
   "cell_type": "markdown",
   "id": "bd1ccd8d",
   "metadata": {},
   "source": [
    "**it has been observed that price (y_train) and sqft_living are positively skewed** "
   ]
  },
  {
   "cell_type": "markdown",
   "id": "6ea0fb8c",
   "metadata": {},
   "source": [
    "# Log Transformation of price\n",
    "**Log transformation of positively skewed target variable (price) or y_train**"
   ]
  },
  {
   "cell_type": "code",
   "execution_count": 20,
   "id": "09f4d92d",
   "metadata": {
    "scrolled": true
   },
   "outputs": [
    {
     "data": {
      "text/html": [
       "<div>\n",
       "<style scoped>\n",
       "    .dataframe tbody tr th:only-of-type {\n",
       "        vertical-align: middle;\n",
       "    }\n",
       "\n",
       "    .dataframe tbody tr th {\n",
       "        vertical-align: top;\n",
       "    }\n",
       "\n",
       "    .dataframe thead th {\n",
       "        text-align: right;\n",
       "    }\n",
       "</style>\n",
       "<table border=\"1\" class=\"dataframe\">\n",
       "  <thead>\n",
       "    <tr style=\"text-align: right;\">\n",
       "      <th></th>\n",
       "      <th>id</th>\n",
       "      <th>date</th>\n",
       "      <th>price</th>\n",
       "      <th>bedrooms</th>\n",
       "      <th>bathrooms</th>\n",
       "      <th>sqft_living</th>\n",
       "      <th>sqft_lot</th>\n",
       "      <th>floors</th>\n",
       "      <th>waterfront</th>\n",
       "      <th>view</th>\n",
       "      <th>...</th>\n",
       "      <th>sqft_above</th>\n",
       "      <th>sqft_basement</th>\n",
       "      <th>yr_built</th>\n",
       "      <th>yr_renovated</th>\n",
       "      <th>zipcode</th>\n",
       "      <th>lat</th>\n",
       "      <th>long</th>\n",
       "      <th>sqft_living15</th>\n",
       "      <th>sqft_lot15</th>\n",
       "      <th>logged price</th>\n",
       "    </tr>\n",
       "  </thead>\n",
       "  <tbody>\n",
       "    <tr>\n",
       "      <th>0</th>\n",
       "      <td>7129300520</td>\n",
       "      <td>20141013T000000</td>\n",
       "      <td>221900.0</td>\n",
       "      <td>3</td>\n",
       "      <td>1.00</td>\n",
       "      <td>1180</td>\n",
       "      <td>5650</td>\n",
       "      <td>1.0</td>\n",
       "      <td>0</td>\n",
       "      <td>0</td>\n",
       "      <td>...</td>\n",
       "      <td>1180</td>\n",
       "      <td>0</td>\n",
       "      <td>1955</td>\n",
       "      <td>0</td>\n",
       "      <td>98178</td>\n",
       "      <td>47.5112</td>\n",
       "      <td>-122.257</td>\n",
       "      <td>1340</td>\n",
       "      <td>5650</td>\n",
       "      <td>12.309982</td>\n",
       "    </tr>\n",
       "    <tr>\n",
       "      <th>1</th>\n",
       "      <td>6414100192</td>\n",
       "      <td>20141209T000000</td>\n",
       "      <td>538000.0</td>\n",
       "      <td>3</td>\n",
       "      <td>2.25</td>\n",
       "      <td>2570</td>\n",
       "      <td>7242</td>\n",
       "      <td>2.0</td>\n",
       "      <td>0</td>\n",
       "      <td>0</td>\n",
       "      <td>...</td>\n",
       "      <td>2170</td>\n",
       "      <td>400</td>\n",
       "      <td>1951</td>\n",
       "      <td>1991</td>\n",
       "      <td>98125</td>\n",
       "      <td>47.7210</td>\n",
       "      <td>-122.319</td>\n",
       "      <td>1690</td>\n",
       "      <td>7639</td>\n",
       "      <td>13.195614</td>\n",
       "    </tr>\n",
       "    <tr>\n",
       "      <th>2</th>\n",
       "      <td>5631500400</td>\n",
       "      <td>20150225T000000</td>\n",
       "      <td>180000.0</td>\n",
       "      <td>2</td>\n",
       "      <td>1.00</td>\n",
       "      <td>770</td>\n",
       "      <td>10000</td>\n",
       "      <td>1.0</td>\n",
       "      <td>0</td>\n",
       "      <td>0</td>\n",
       "      <td>...</td>\n",
       "      <td>770</td>\n",
       "      <td>0</td>\n",
       "      <td>1933</td>\n",
       "      <td>0</td>\n",
       "      <td>98028</td>\n",
       "      <td>47.7379</td>\n",
       "      <td>-122.233</td>\n",
       "      <td>2720</td>\n",
       "      <td>8062</td>\n",
       "      <td>12.100712</td>\n",
       "    </tr>\n",
       "    <tr>\n",
       "      <th>3</th>\n",
       "      <td>2487200875</td>\n",
       "      <td>20141209T000000</td>\n",
       "      <td>604000.0</td>\n",
       "      <td>4</td>\n",
       "      <td>3.00</td>\n",
       "      <td>1960</td>\n",
       "      <td>5000</td>\n",
       "      <td>1.0</td>\n",
       "      <td>0</td>\n",
       "      <td>0</td>\n",
       "      <td>...</td>\n",
       "      <td>1050</td>\n",
       "      <td>910</td>\n",
       "      <td>1965</td>\n",
       "      <td>0</td>\n",
       "      <td>98136</td>\n",
       "      <td>47.5208</td>\n",
       "      <td>-122.393</td>\n",
       "      <td>1360</td>\n",
       "      <td>5000</td>\n",
       "      <td>13.311329</td>\n",
       "    </tr>\n",
       "    <tr>\n",
       "      <th>4</th>\n",
       "      <td>1954400510</td>\n",
       "      <td>20150218T000000</td>\n",
       "      <td>510000.0</td>\n",
       "      <td>3</td>\n",
       "      <td>2.00</td>\n",
       "      <td>1680</td>\n",
       "      <td>8080</td>\n",
       "      <td>1.0</td>\n",
       "      <td>0</td>\n",
       "      <td>0</td>\n",
       "      <td>...</td>\n",
       "      <td>1680</td>\n",
       "      <td>0</td>\n",
       "      <td>1987</td>\n",
       "      <td>0</td>\n",
       "      <td>98074</td>\n",
       "      <td>47.6168</td>\n",
       "      <td>-122.045</td>\n",
       "      <td>1800</td>\n",
       "      <td>7503</td>\n",
       "      <td>13.142166</td>\n",
       "    </tr>\n",
       "  </tbody>\n",
       "</table>\n",
       "<p>5 rows × 22 columns</p>\n",
       "</div>"
      ],
      "text/plain": [
       "           id             date     price  bedrooms  bathrooms  sqft_living  \\\n",
       "0  7129300520  20141013T000000  221900.0         3       1.00         1180   \n",
       "1  6414100192  20141209T000000  538000.0         3       2.25         2570   \n",
       "2  5631500400  20150225T000000  180000.0         2       1.00          770   \n",
       "3  2487200875  20141209T000000  604000.0         4       3.00         1960   \n",
       "4  1954400510  20150218T000000  510000.0         3       2.00         1680   \n",
       "\n",
       "   sqft_lot  floors  waterfront  view  ...  sqft_above  sqft_basement  \\\n",
       "0      5650     1.0           0     0  ...        1180              0   \n",
       "1      7242     2.0           0     0  ...        2170            400   \n",
       "2     10000     1.0           0     0  ...         770              0   \n",
       "3      5000     1.0           0     0  ...        1050            910   \n",
       "4      8080     1.0           0     0  ...        1680              0   \n",
       "\n",
       "   yr_built  yr_renovated  zipcode      lat     long  sqft_living15  \\\n",
       "0      1955             0    98178  47.5112 -122.257           1340   \n",
       "1      1951          1991    98125  47.7210 -122.319           1690   \n",
       "2      1933             0    98028  47.7379 -122.233           2720   \n",
       "3      1965             0    98136  47.5208 -122.393           1360   \n",
       "4      1987             0    98074  47.6168 -122.045           1800   \n",
       "\n",
       "   sqft_lot15  logged price  \n",
       "0        5650     12.309982  \n",
       "1        7639     13.195614  \n",
       "2        8062     12.100712  \n",
       "3        5000     13.311329  \n",
       "4        7503     13.142166  \n",
       "\n",
       "[5 rows x 22 columns]"
      ]
     },
     "execution_count": 20,
     "metadata": {},
     "output_type": "execute_result"
    }
   ],
   "source": [
    "dataset['logged price']= np.log(dataset['price'])\n",
    "dataset.head()"
   ]
  },
  {
   "cell_type": "markdown",
   "id": "f721efb0",
   "metadata": {},
   "source": [
    "**Price after log transformation**"
   ]
  },
  {
   "cell_type": "code",
   "execution_count": 21,
   "id": "4ee662ff",
   "metadata": {},
   "outputs": [
    {
     "data": {
      "text/plain": [
       "array([[<AxesSubplot:title={'center':'logged price'}>]], dtype=object)"
      ]
     },
     "execution_count": 21,
     "metadata": {},
     "output_type": "execute_result"
    },
    {
     "data": {
      "image/png": "[encoded data removed]",
      "text/plain": [
       "<Figure size 432x288 with 1 Axes>"
      ]
     },
     "metadata": {},
     "output_type": "display_data"
    }
   ],
   "source": [
    "\n",
    "dataset.hist(column= 'logged price')"
   ]
  },
  {
   "cell_type": "markdown",
   "id": "5594c8fe",
   "metadata": {},
   "source": [
    "# Log Transformation of Feature sqft_living \n",
    "**It is also a positively skewed**"
   ]
  },
  {
   "cell_type": "code",
   "execution_count": 22,
   "id": "72fec15e",
   "metadata": {},
   "outputs": [
    {
     "data": {
      "text/plain": [
       "<seaborn.axisgrid.FacetGrid at 0x2130d60c490>"
      ]
     },
     "execution_count": 22,
     "metadata": {},
     "output_type": "execute_result"
    },
    {
     "data": {
      "image/png": "[encoded data removed]",
      "text/plain": [
       "<Figure size 360x360 with 1 Axes>"
      ]
     },
     "metadata": {},
     "output_type": "display_data"
    }
   ],
   "source": [
    "sns.displot(dataset['sqft_living'])"
   ]
  },
  {
   "cell_type": "code",
   "execution_count": 23,
   "id": "e4570661",
   "metadata": {},
   "outputs": [
    {
     "data": {
      "text/html": [
       "<div>\n",
       "<style scoped>\n",
       "    .dataframe tbody tr th:only-of-type {\n",
       "        vertical-align: middle;\n",
       "    }\n",
       "\n",
       "    .dataframe tbody tr th {\n",
       "        vertical-align: top;\n",
       "    }\n",
       "\n",
       "    .dataframe thead th {\n",
       "        text-align: right;\n",
       "    }\n",
       "</style>\n",
       "<table border=\"1\" class=\"dataframe\">\n",
       "  <thead>\n",
       "    <tr style=\"text-align: right;\">\n",
       "      <th></th>\n",
       "      <th>id</th>\n",
       "      <th>date</th>\n",
       "      <th>price</th>\n",
       "      <th>bedrooms</th>\n",
       "      <th>bathrooms</th>\n",
       "      <th>sqft_living</th>\n",
       "      <th>sqft_lot</th>\n",
       "      <th>floors</th>\n",
       "      <th>waterfront</th>\n",
       "      <th>view</th>\n",
       "      <th>...</th>\n",
       "      <th>sqft_basement</th>\n",
       "      <th>yr_built</th>\n",
       "      <th>yr_renovated</th>\n",
       "      <th>zipcode</th>\n",
       "      <th>lat</th>\n",
       "      <th>long</th>\n",
       "      <th>sqft_living15</th>\n",
       "      <th>sqft_lot15</th>\n",
       "      <th>logged price</th>\n",
       "      <th>logged sqft_living</th>\n",
       "    </tr>\n",
       "  </thead>\n",
       "  <tbody>\n",
       "    <tr>\n",
       "      <th>0</th>\n",
       "      <td>7129300520</td>\n",
       "      <td>20141013T000000</td>\n",
       "      <td>221900.0</td>\n",
       "      <td>3</td>\n",
       "      <td>1.00</td>\n",
       "      <td>1180</td>\n",
       "      <td>5650</td>\n",
       "      <td>1.0</td>\n",
       "      <td>0</td>\n",
       "      <td>0</td>\n",
       "      <td>...</td>\n",
       "      <td>0</td>\n",
       "      <td>1955</td>\n",
       "      <td>0</td>\n",
       "      <td>98178</td>\n",
       "      <td>47.5112</td>\n",
       "      <td>-122.257</td>\n",
       "      <td>1340</td>\n",
       "      <td>5650</td>\n",
       "      <td>12.309982</td>\n",
       "      <td>7.073270</td>\n",
       "    </tr>\n",
       "    <tr>\n",
       "      <th>1</th>\n",
       "      <td>6414100192</td>\n",
       "      <td>20141209T000000</td>\n",
       "      <td>538000.0</td>\n",
       "      <td>3</td>\n",
       "      <td>2.25</td>\n",
       "      <td>2570</td>\n",
       "      <td>7242</td>\n",
       "      <td>2.0</td>\n",
       "      <td>0</td>\n",
       "      <td>0</td>\n",
       "      <td>...</td>\n",
       "      <td>400</td>\n",
       "      <td>1951</td>\n",
       "      <td>1991</td>\n",
       "      <td>98125</td>\n",
       "      <td>47.7210</td>\n",
       "      <td>-122.319</td>\n",
       "      <td>1690</td>\n",
       "      <td>7639</td>\n",
       "      <td>13.195614</td>\n",
       "      <td>7.851661</td>\n",
       "    </tr>\n",
       "    <tr>\n",
       "      <th>2</th>\n",
       "      <td>5631500400</td>\n",
       "      <td>20150225T000000</td>\n",
       "      <td>180000.0</td>\n",
       "      <td>2</td>\n",
       "      <td>1.00</td>\n",
       "      <td>770</td>\n",
       "      <td>10000</td>\n",
       "      <td>1.0</td>\n",
       "      <td>0</td>\n",
       "      <td>0</td>\n",
       "      <td>...</td>\n",
       "      <td>0</td>\n",
       "      <td>1933</td>\n",
       "      <td>0</td>\n",
       "      <td>98028</td>\n",
       "      <td>47.7379</td>\n",
       "      <td>-122.233</td>\n",
       "      <td>2720</td>\n",
       "      <td>8062</td>\n",
       "      <td>12.100712</td>\n",
       "      <td>6.646391</td>\n",
       "    </tr>\n",
       "    <tr>\n",
       "      <th>3</th>\n",
       "      <td>2487200875</td>\n",
       "      <td>20141209T000000</td>\n",
       "      <td>604000.0</td>\n",
       "      <td>4</td>\n",
       "      <td>3.00</td>\n",
       "      <td>1960</td>\n",
       "      <td>5000</td>\n",
       "      <td>1.0</td>\n",
       "      <td>0</td>\n",
       "      <td>0</td>\n",
       "      <td>...</td>\n",
       "      <td>910</td>\n",
       "      <td>1965</td>\n",
       "      <td>0</td>\n",
       "      <td>98136</td>\n",
       "      <td>47.5208</td>\n",
       "      <td>-122.393</td>\n",
       "      <td>1360</td>\n",
       "      <td>5000</td>\n",
       "      <td>13.311329</td>\n",
       "      <td>7.580700</td>\n",
       "    </tr>\n",
       "    <tr>\n",
       "      <th>4</th>\n",
       "      <td>1954400510</td>\n",
       "      <td>20150218T000000</td>\n",
       "      <td>510000.0</td>\n",
       "      <td>3</td>\n",
       "      <td>2.00</td>\n",
       "      <td>1680</td>\n",
       "      <td>8080</td>\n",
       "      <td>1.0</td>\n",
       "      <td>0</td>\n",
       "      <td>0</td>\n",
       "      <td>...</td>\n",
       "      <td>0</td>\n",
       "      <td>1987</td>\n",
       "      <td>0</td>\n",
       "      <td>98074</td>\n",
       "      <td>47.6168</td>\n",
       "      <td>-122.045</td>\n",
       "      <td>1800</td>\n",
       "      <td>7503</td>\n",
       "      <td>13.142166</td>\n",
       "      <td>7.426549</td>\n",
       "    </tr>\n",
       "  </tbody>\n",
       "</table>\n",
       "<p>5 rows × 23 columns</p>\n",
       "</div>"
      ],
      "text/plain": [
       "           id             date     price  bedrooms  bathrooms  sqft_living  \\\n",
       "0  7129300520  20141013T000000  221900.0         3       1.00         1180   \n",
       "1  6414100192  20141209T000000  538000.0         3       2.25         2570   \n",
       "2  5631500400  20150225T000000  180000.0         2       1.00          770   \n",
       "3  2487200875  20141209T000000  604000.0         4       3.00         1960   \n",
       "4  1954400510  20150218T000000  510000.0         3       2.00         1680   \n",
       "\n",
       "   sqft_lot  floors  waterfront  view  ...  sqft_basement  yr_built  \\\n",
       "0      5650     1.0           0     0  ...              0      1955   \n",
       "1      7242     2.0           0     0  ...            400      1951   \n",
       "2     10000     1.0           0     0  ...              0      1933   \n",
       "3      5000     1.0           0     0  ...            910      1965   \n",
       "4      8080     1.0           0     0  ...              0      1987   \n",
       "\n",
       "   yr_renovated  zipcode      lat     long  sqft_living15  sqft_lot15  \\\n",
       "0             0    98178  47.5112 -122.257           1340        5650   \n",
       "1          1991    98125  47.7210 -122.319           1690        7639   \n",
       "2             0    98028  47.7379 -122.233           2720        8062   \n",
       "3             0    98136  47.5208 -122.393           1360        5000   \n",
       "4             0    98074  47.6168 -122.045           1800        7503   \n",
       "\n",
       "   logged price  logged sqft_living  \n",
       "0     12.309982            7.073270  \n",
       "1     13.195614            7.851661  \n",
       "2     12.100712            6.646391  \n",
       "3     13.311329            7.580700  \n",
       "4     13.142166            7.426549  \n",
       "\n",
       "[5 rows x 23 columns]"
      ]
     },
     "execution_count": 23,
     "metadata": {},
     "output_type": "execute_result"
    }
   ],
   "source": [
    "dataset['logged sqft_living'] = np.log(dataset.sqft_living)\n",
    "dataset.head()"
   ]
  },
  {
   "cell_type": "markdown",
   "id": "f1ed12f1",
   "metadata": {},
   "source": [
    "**Feature sqft_living after log transformation**"
   ]
  },
  {
   "cell_type": "code",
   "execution_count": 24,
   "id": "22ac0279",
   "metadata": {},
   "outputs": [
    {
     "data": {
      "text/plain": [
       "<seaborn.axisgrid.FacetGrid at 0x2130d5b05e0>"
      ]
     },
     "execution_count": 24,
     "metadata": {},
     "output_type": "execute_result"
    },
    {
     "data": {
      "image/png": "[encoded data removed]",
      "text/plain": [
       "<Figure size 360x360 with 1 Axes>"
      ]
     },
     "metadata": {},
     "output_type": "display_data"
    }
   ],
   "source": [
    "sns.displot(dataset['logged sqft_living'])"
   ]
  },
  {
   "cell_type": "markdown",
   "id": "02b403f6",
   "metadata": {},
   "source": [
    "# 2. Creating a New Variable\n",
    " \n",
    "**=> Creating two variables from Data:- year of selling and Months of selling**"
   ]
  },
  {
   "cell_type": "code",
   "execution_count": 25,
   "id": "715685b2",
   "metadata": {},
   "outputs": [
    {
     "data": {
      "text/html": [
       "<div>\n",
       "<style scoped>\n",
       "    .dataframe tbody tr th:only-of-type {\n",
       "        vertical-align: middle;\n",
       "    }\n",
       "\n",
       "    .dataframe tbody tr th {\n",
       "        vertical-align: top;\n",
       "    }\n",
       "\n",
       "    .dataframe thead th {\n",
       "        text-align: right;\n",
       "    }\n",
       "</style>\n",
       "<table border=\"1\" class=\"dataframe\">\n",
       "  <thead>\n",
       "    <tr style=\"text-align: right;\">\n",
       "      <th></th>\n",
       "      <th>year of selling</th>\n",
       "    </tr>\n",
       "  </thead>\n",
       "  <tbody>\n",
       "    <tr>\n",
       "      <th>0</th>\n",
       "      <td>2014</td>\n",
       "    </tr>\n",
       "    <tr>\n",
       "      <th>1</th>\n",
       "      <td>2014</td>\n",
       "    </tr>\n",
       "    <tr>\n",
       "      <th>2</th>\n",
       "      <td>2015</td>\n",
       "    </tr>\n",
       "    <tr>\n",
       "      <th>3</th>\n",
       "      <td>2014</td>\n",
       "    </tr>\n",
       "    <tr>\n",
       "      <th>4</th>\n",
       "      <td>2015</td>\n",
       "    </tr>\n",
       "    <tr>\n",
       "      <th>...</th>\n",
       "      <td>...</td>\n",
       "    </tr>\n",
       "    <tr>\n",
       "      <th>21608</th>\n",
       "      <td>2014</td>\n",
       "    </tr>\n",
       "    <tr>\n",
       "      <th>21609</th>\n",
       "      <td>2015</td>\n",
       "    </tr>\n",
       "    <tr>\n",
       "      <th>21610</th>\n",
       "      <td>2014</td>\n",
       "    </tr>\n",
       "    <tr>\n",
       "      <th>21611</th>\n",
       "      <td>2015</td>\n",
       "    </tr>\n",
       "    <tr>\n",
       "      <th>21612</th>\n",
       "      <td>2014</td>\n",
       "    </tr>\n",
       "  </tbody>\n",
       "</table>\n",
       "<p>21613 rows × 1 columns</p>\n",
       "</div>"
      ],
      "text/plain": [
       "       year of selling\n",
       "0                 2014\n",
       "1                 2014\n",
       "2                 2015\n",
       "3                 2014\n",
       "4                 2015\n",
       "...                ...\n",
       "21608             2014\n",
       "21609             2015\n",
       "21610             2014\n",
       "21611             2015\n",
       "21612             2014\n",
       "\n",
       "[21613 rows x 1 columns]"
      ]
     },
     "execution_count": 25,
     "metadata": {},
     "output_type": "execute_result"
    }
   ],
   "source": [
    "dataset['year of selling'] = pd.DatetimeIndex(dataset['date']).year\n",
    "dataset[['year of selling']]"
   ]
  },
  {
   "cell_type": "markdown",
   "id": "9cd1781e",
   "metadata": {},
   "source": [
    " \n",
    "**=> Creating a new variable age of the house**"
   ]
  },
  {
   "cell_type": "code",
   "execution_count": 26,
   "id": "8b9c9e55",
   "metadata": {
    "scrolled": true
   },
   "outputs": [
    {
     "data": {
      "text/html": [
       "<div>\n",
       "<style scoped>\n",
       "    .dataframe tbody tr th:only-of-type {\n",
       "        vertical-align: middle;\n",
       "    }\n",
       "\n",
       "    .dataframe tbody tr th {\n",
       "        vertical-align: top;\n",
       "    }\n",
       "\n",
       "    .dataframe thead th {\n",
       "        text-align: right;\n",
       "    }\n",
       "</style>\n",
       "<table border=\"1\" class=\"dataframe\">\n",
       "  <thead>\n",
       "    <tr style=\"text-align: right;\">\n",
       "      <th></th>\n",
       "      <th>id</th>\n",
       "      <th>date</th>\n",
       "      <th>price</th>\n",
       "      <th>bedrooms</th>\n",
       "      <th>bathrooms</th>\n",
       "      <th>sqft_living</th>\n",
       "      <th>sqft_lot</th>\n",
       "      <th>floors</th>\n",
       "      <th>waterfront</th>\n",
       "      <th>view</th>\n",
       "      <th>...</th>\n",
       "      <th>yr_renovated</th>\n",
       "      <th>zipcode</th>\n",
       "      <th>lat</th>\n",
       "      <th>long</th>\n",
       "      <th>sqft_living15</th>\n",
       "      <th>sqft_lot15</th>\n",
       "      <th>logged price</th>\n",
       "      <th>logged sqft_living</th>\n",
       "      <th>year of selling</th>\n",
       "      <th>age</th>\n",
       "    </tr>\n",
       "  </thead>\n",
       "  <tbody>\n",
       "    <tr>\n",
       "      <th>0</th>\n",
       "      <td>7129300520</td>\n",
       "      <td>20141013T000000</td>\n",
       "      <td>221900.0</td>\n",
       "      <td>3</td>\n",
       "      <td>1.00</td>\n",
       "      <td>1180</td>\n",
       "      <td>5650</td>\n",
       "      <td>1.0</td>\n",
       "      <td>0</td>\n",
       "      <td>0</td>\n",
       "      <td>...</td>\n",
       "      <td>0</td>\n",
       "      <td>98178</td>\n",
       "      <td>47.5112</td>\n",
       "      <td>-122.257</td>\n",
       "      <td>1340</td>\n",
       "      <td>5650</td>\n",
       "      <td>12.309982</td>\n",
       "      <td>7.073270</td>\n",
       "      <td>2014</td>\n",
       "      <td>59</td>\n",
       "    </tr>\n",
       "    <tr>\n",
       "      <th>1</th>\n",
       "      <td>6414100192</td>\n",
       "      <td>20141209T000000</td>\n",
       "      <td>538000.0</td>\n",
       "      <td>3</td>\n",
       "      <td>2.25</td>\n",
       "      <td>2570</td>\n",
       "      <td>7242</td>\n",
       "      <td>2.0</td>\n",
       "      <td>0</td>\n",
       "      <td>0</td>\n",
       "      <td>...</td>\n",
       "      <td>1991</td>\n",
       "      <td>98125</td>\n",
       "      <td>47.7210</td>\n",
       "      <td>-122.319</td>\n",
       "      <td>1690</td>\n",
       "      <td>7639</td>\n",
       "      <td>13.195614</td>\n",
       "      <td>7.851661</td>\n",
       "      <td>2014</td>\n",
       "      <td>63</td>\n",
       "    </tr>\n",
       "    <tr>\n",
       "      <th>2</th>\n",
       "      <td>5631500400</td>\n",
       "      <td>20150225T000000</td>\n",
       "      <td>180000.0</td>\n",
       "      <td>2</td>\n",
       "      <td>1.00</td>\n",
       "      <td>770</td>\n",
       "      <td>10000</td>\n",
       "      <td>1.0</td>\n",
       "      <td>0</td>\n",
       "      <td>0</td>\n",
       "      <td>...</td>\n",
       "      <td>0</td>\n",
       "      <td>98028</td>\n",
       "      <td>47.7379</td>\n",
       "      <td>-122.233</td>\n",
       "      <td>2720</td>\n",
       "      <td>8062</td>\n",
       "      <td>12.100712</td>\n",
       "      <td>6.646391</td>\n",
       "      <td>2015</td>\n",
       "      <td>82</td>\n",
       "    </tr>\n",
       "    <tr>\n",
       "      <th>3</th>\n",
       "      <td>2487200875</td>\n",
       "      <td>20141209T000000</td>\n",
       "      <td>604000.0</td>\n",
       "      <td>4</td>\n",
       "      <td>3.00</td>\n",
       "      <td>1960</td>\n",
       "      <td>5000</td>\n",
       "      <td>1.0</td>\n",
       "      <td>0</td>\n",
       "      <td>0</td>\n",
       "      <td>...</td>\n",
       "      <td>0</td>\n",
       "      <td>98136</td>\n",
       "      <td>47.5208</td>\n",
       "      <td>-122.393</td>\n",
       "      <td>1360</td>\n",
       "      <td>5000</td>\n",
       "      <td>13.311329</td>\n",
       "      <td>7.580700</td>\n",
       "      <td>2014</td>\n",
       "      <td>49</td>\n",
       "    </tr>\n",
       "    <tr>\n",
       "      <th>4</th>\n",
       "      <td>1954400510</td>\n",
       "      <td>20150218T000000</td>\n",
       "      <td>510000.0</td>\n",
       "      <td>3</td>\n",
       "      <td>2.00</td>\n",
       "      <td>1680</td>\n",
       "      <td>8080</td>\n",
       "      <td>1.0</td>\n",
       "      <td>0</td>\n",
       "      <td>0</td>\n",
       "      <td>...</td>\n",
       "      <td>0</td>\n",
       "      <td>98074</td>\n",
       "      <td>47.6168</td>\n",
       "      <td>-122.045</td>\n",
       "      <td>1800</td>\n",
       "      <td>7503</td>\n",
       "      <td>13.142166</td>\n",
       "      <td>7.426549</td>\n",
       "      <td>2015</td>\n",
       "      <td>28</td>\n",
       "    </tr>\n",
       "  </tbody>\n",
       "</table>\n",
       "<p>5 rows × 25 columns</p>\n",
       "</div>"
      ],
      "text/plain": [
       "           id             date     price  bedrooms  bathrooms  sqft_living  \\\n",
       "0  7129300520  20141013T000000  221900.0         3       1.00         1180   \n",
       "1  6414100192  20141209T000000  538000.0         3       2.25         2570   \n",
       "2  5631500400  20150225T000000  180000.0         2       1.00          770   \n",
       "3  2487200875  20141209T000000  604000.0         4       3.00         1960   \n",
       "4  1954400510  20150218T000000  510000.0         3       2.00         1680   \n",
       "\n",
       "   sqft_lot  floors  waterfront  view  ...  yr_renovated  zipcode      lat  \\\n",
       "0      5650     1.0           0     0  ...             0    98178  47.5112   \n",
       "1      7242     2.0           0     0  ...          1991    98125  47.7210   \n",
       "2     10000     1.0           0     0  ...             0    98028  47.7379   \n",
       "3      5000     1.0           0     0  ...             0    98136  47.5208   \n",
       "4      8080     1.0           0     0  ...             0    98074  47.6168   \n",
       "\n",
       "      long  sqft_living15  sqft_lot15  logged price  logged sqft_living  \\\n",
       "0 -122.257           1340        5650     12.309982            7.073270   \n",
       "1 -122.319           1690        7639     13.195614            7.851661   \n",
       "2 -122.233           2720        8062     12.100712            6.646391   \n",
       "3 -122.393           1360        5000     13.311329            7.580700   \n",
       "4 -122.045           1800        7503     13.142166            7.426549   \n",
       "\n",
       "   year of selling  age  \n",
       "0             2014   59  \n",
       "1             2014   63  \n",
       "2             2015   82  \n",
       "3             2014   49  \n",
       "4             2015   28  \n",
       "\n",
       "[5 rows x 25 columns]"
      ]
     },
     "execution_count": 26,
     "metadata": {},
     "output_type": "execute_result"
    }
   ],
   "source": [
    "dataset['age'] = dataset['year of selling'] - dataset.yr_built\n",
    "dataset.head()"
   ]
  },
  {
   "cell_type": "markdown",
   "id": "9e827a1b",
   "metadata": {},
   "source": [
    "**Dropping unnecessary columns and target variable loggef price and defining X and y**"
   ]
  },
  {
   "cell_type": "code",
   "execution_count": 27,
   "id": "457a01f8",
   "metadata": {},
   "outputs": [],
   "source": [
    "X= dataset.drop(['date','logged price','sqft_living','id', 'price'], axis= 'columns') "
   ]
  },
  {
   "cell_type": "code",
   "execution_count": 28,
   "id": "97d1a311",
   "metadata": {},
   "outputs": [],
   "source": [
    "y= dataset['logged price']"
   ]
  },
  {
   "cell_type": "code",
   "execution_count": 29,
   "id": "b4e04b45",
   "metadata": {
    "scrolled": true
   },
   "outputs": [
    {
     "data": {
      "text/html": [
       "<div>\n",
       "<style scoped>\n",
       "    .dataframe tbody tr th:only-of-type {\n",
       "        vertical-align: middle;\n",
       "    }\n",
       "\n",
       "    .dataframe tbody tr th {\n",
       "        vertical-align: top;\n",
       "    }\n",
       "\n",
       "    .dataframe thead th {\n",
       "        text-align: right;\n",
       "    }\n",
       "</style>\n",
       "<table border=\"1\" class=\"dataframe\">\n",
       "  <thead>\n",
       "    <tr style=\"text-align: right;\">\n",
       "      <th></th>\n",
       "      <th>bedrooms</th>\n",
       "      <th>bathrooms</th>\n",
       "      <th>sqft_lot</th>\n",
       "      <th>floors</th>\n",
       "      <th>waterfront</th>\n",
       "      <th>view</th>\n",
       "      <th>condition</th>\n",
       "      <th>grade</th>\n",
       "      <th>sqft_above</th>\n",
       "      <th>sqft_basement</th>\n",
       "      <th>yr_built</th>\n",
       "      <th>yr_renovated</th>\n",
       "      <th>zipcode</th>\n",
       "      <th>lat</th>\n",
       "      <th>long</th>\n",
       "      <th>sqft_living15</th>\n",
       "      <th>sqft_lot15</th>\n",
       "      <th>logged sqft_living</th>\n",
       "      <th>year of selling</th>\n",
       "      <th>age</th>\n",
       "    </tr>\n",
       "  </thead>\n",
       "  <tbody>\n",
       "    <tr>\n",
       "      <th>0</th>\n",
       "      <td>3</td>\n",
       "      <td>1.00</td>\n",
       "      <td>5650</td>\n",
       "      <td>1.0</td>\n",
       "      <td>0</td>\n",
       "      <td>0</td>\n",
       "      <td>3</td>\n",
       "      <td>7</td>\n",
       "      <td>1180</td>\n",
       "      <td>0</td>\n",
       "      <td>1955</td>\n",
       "      <td>0</td>\n",
       "      <td>98178</td>\n",
       "      <td>47.5112</td>\n",
       "      <td>-122.257</td>\n",
       "      <td>1340</td>\n",
       "      <td>5650</td>\n",
       "      <td>7.073270</td>\n",
       "      <td>2014</td>\n",
       "      <td>59</td>\n",
       "    </tr>\n",
       "    <tr>\n",
       "      <th>1</th>\n",
       "      <td>3</td>\n",
       "      <td>2.25</td>\n",
       "      <td>7242</td>\n",
       "      <td>2.0</td>\n",
       "      <td>0</td>\n",
       "      <td>0</td>\n",
       "      <td>3</td>\n",
       "      <td>7</td>\n",
       "      <td>2170</td>\n",
       "      <td>400</td>\n",
       "      <td>1951</td>\n",
       "      <td>1991</td>\n",
       "      <td>98125</td>\n",
       "      <td>47.7210</td>\n",
       "      <td>-122.319</td>\n",
       "      <td>1690</td>\n",
       "      <td>7639</td>\n",
       "      <td>7.851661</td>\n",
       "      <td>2014</td>\n",
       "      <td>63</td>\n",
       "    </tr>\n",
       "    <tr>\n",
       "      <th>2</th>\n",
       "      <td>2</td>\n",
       "      <td>1.00</td>\n",
       "      <td>10000</td>\n",
       "      <td>1.0</td>\n",
       "      <td>0</td>\n",
       "      <td>0</td>\n",
       "      <td>3</td>\n",
       "      <td>6</td>\n",
       "      <td>770</td>\n",
       "      <td>0</td>\n",
       "      <td>1933</td>\n",
       "      <td>0</td>\n",
       "      <td>98028</td>\n",
       "      <td>47.7379</td>\n",
       "      <td>-122.233</td>\n",
       "      <td>2720</td>\n",
       "      <td>8062</td>\n",
       "      <td>6.646391</td>\n",
       "      <td>2015</td>\n",
       "      <td>82</td>\n",
       "    </tr>\n",
       "    <tr>\n",
       "      <th>3</th>\n",
       "      <td>4</td>\n",
       "      <td>3.00</td>\n",
       "      <td>5000</td>\n",
       "      <td>1.0</td>\n",
       "      <td>0</td>\n",
       "      <td>0</td>\n",
       "      <td>5</td>\n",
       "      <td>7</td>\n",
       "      <td>1050</td>\n",
       "      <td>910</td>\n",
       "      <td>1965</td>\n",
       "      <td>0</td>\n",
       "      <td>98136</td>\n",
       "      <td>47.5208</td>\n",
       "      <td>-122.393</td>\n",
       "      <td>1360</td>\n",
       "      <td>5000</td>\n",
       "      <td>7.580700</td>\n",
       "      <td>2014</td>\n",
       "      <td>49</td>\n",
       "    </tr>\n",
       "    <tr>\n",
       "      <th>4</th>\n",
       "      <td>3</td>\n",
       "      <td>2.00</td>\n",
       "      <td>8080</td>\n",
       "      <td>1.0</td>\n",
       "      <td>0</td>\n",
       "      <td>0</td>\n",
       "      <td>3</td>\n",
       "      <td>8</td>\n",
       "      <td>1680</td>\n",
       "      <td>0</td>\n",
       "      <td>1987</td>\n",
       "      <td>0</td>\n",
       "      <td>98074</td>\n",
       "      <td>47.6168</td>\n",
       "      <td>-122.045</td>\n",
       "      <td>1800</td>\n",
       "      <td>7503</td>\n",
       "      <td>7.426549</td>\n",
       "      <td>2015</td>\n",
       "      <td>28</td>\n",
       "    </tr>\n",
       "  </tbody>\n",
       "</table>\n",
       "</div>"
      ],
      "text/plain": [
       "   bedrooms  bathrooms  sqft_lot  floors  waterfront  view  condition  grade  \\\n",
       "0         3       1.00      5650     1.0           0     0          3      7   \n",
       "1         3       2.25      7242     2.0           0     0          3      7   \n",
       "2         2       1.00     10000     1.0           0     0          3      6   \n",
       "3         4       3.00      5000     1.0           0     0          5      7   \n",
       "4         3       2.00      8080     1.0           0     0          3      8   \n",
       "\n",
       "   sqft_above  sqft_basement  yr_built  yr_renovated  zipcode      lat  \\\n",
       "0        1180              0      1955             0    98178  47.5112   \n",
       "1        2170            400      1951          1991    98125  47.7210   \n",
       "2         770              0      1933             0    98028  47.7379   \n",
       "3        1050            910      1965             0    98136  47.5208   \n",
       "4        1680              0      1987             0    98074  47.6168   \n",
       "\n",
       "      long  sqft_living15  sqft_lot15  logged sqft_living  year of selling  \\\n",
       "0 -122.257           1340        5650            7.073270             2014   \n",
       "1 -122.319           1690        7639            7.851661             2014   \n",
       "2 -122.233           2720        8062            6.646391             2015   \n",
       "3 -122.393           1360        5000            7.580700             2014   \n",
       "4 -122.045           1800        7503            7.426549             2015   \n",
       "\n",
       "   age  \n",
       "0   59  \n",
       "1   63  \n",
       "2   82  \n",
       "3   49  \n",
       "4   28  "
      ]
     },
     "execution_count": 29,
     "metadata": {},
     "output_type": "execute_result"
    }
   ],
   "source": [
    "X.head()"
   ]
  },
  {
   "cell_type": "code",
   "execution_count": 30,
   "id": "afa512c5",
   "metadata": {
    "scrolled": true
   },
   "outputs": [
    {
     "data": {
      "text/plain": [
       "0        12.309982\n",
       "1        13.195614\n",
       "2        12.100712\n",
       "3        13.311329\n",
       "4        13.142166\n",
       "           ...    \n",
       "21608    12.793859\n",
       "21609    12.899220\n",
       "21610    12.904459\n",
       "21611    12.899220\n",
       "21612    12.691580\n",
       "Name: logged price, Length: 21613, dtype: float64"
      ]
     },
     "execution_count": 30,
     "metadata": {},
     "output_type": "execute_result"
    }
   ],
   "source": [
    "y"
   ]
  },
  {
   "cell_type": "code",
   "execution_count": 31,
   "id": "dedf473d",
   "metadata": {
    "scrolled": true
   },
   "outputs": [
    {
     "data": {
      "text/plain": [
       "(21613, 20)"
      ]
     },
     "execution_count": 31,
     "metadata": {},
     "output_type": "execute_result"
    }
   ],
   "source": [
    "X.shape"
   ]
  },
  {
   "cell_type": "code",
   "execution_count": 32,
   "id": "425d4474",
   "metadata": {
    "scrolled": true
   },
   "outputs": [
    {
     "data": {
      "text/plain": [
       "(21613,)"
      ]
     },
     "execution_count": 32,
     "metadata": {},
     "output_type": "execute_result"
    }
   ],
   "source": [
    "y.shape"
   ]
  },
  {
   "cell_type": "markdown",
   "id": "d64727b6",
   "metadata": {},
   "source": [
    "# Model Building"
   ]
  },
  {
   "cell_type": "markdown",
   "id": "527c22b0",
   "metadata": {},
   "source": [
    "Splitting the data into train,test data "
   ]
  },
  {
   "cell_type": "code",
   "execution_count": 33,
   "id": "3b5e6eb5",
   "metadata": {},
   "outputs": [],
   "source": [
    "\n",
    "X_train,X_test,y_train,y_test = train_test_split(X,y,test_size=0.3,random_state=0)"
   ]
  },
  {
   "cell_type": "code",
   "execution_count": 34,
   "id": "d9390a16",
   "metadata": {
    "scrolled": true
   },
   "outputs": [
    {
     "data": {
      "text/plain": [
       "(15129, 20)"
      ]
     },
     "execution_count": 34,
     "metadata": {},
     "output_type": "execute_result"
    }
   ],
   "source": [
    "X_train.shape"
   ]
  },
  {
   "cell_type": "code",
   "execution_count": 35,
   "id": "db1046ca",
   "metadata": {
    "scrolled": true
   },
   "outputs": [
    {
     "data": {
      "text/plain": [
       "(15129,)"
      ]
     },
     "execution_count": 35,
     "metadata": {},
     "output_type": "execute_result"
    }
   ],
   "source": [
    "y_train.shape"
   ]
  },
  {
   "cell_type": "code",
   "execution_count": 36,
   "id": "24726891",
   "metadata": {
    "scrolled": true
   },
   "outputs": [
    {
     "data": {
      "text/plain": [
       "(6484, 20)"
      ]
     },
     "execution_count": 36,
     "metadata": {},
     "output_type": "execute_result"
    }
   ],
   "source": [
    "X_test.shape"
   ]
  },
  {
   "cell_type": "code",
   "execution_count": 37,
   "id": "818766cb",
   "metadata": {
    "scrolled": true
   },
   "outputs": [
    {
     "data": {
      "text/plain": [
       "(6484,)"
      ]
     },
     "execution_count": 37,
     "metadata": {},
     "output_type": "execute_result"
    }
   ],
   "source": [
    "y_test.shape"
   ]
  },
  {
   "cell_type": "markdown",
   "id": "213208b9",
   "metadata": {},
   "source": [
    "# Forward Selection to select best features\n",
    "Selecting significant features for model training keeping in view the trade-off between accuracy and complexity"
   ]
  },
  {
   "cell_type": "code",
   "execution_count": 38,
   "id": "934a92e5",
   "metadata": {},
   "outputs": [
    {
     "name": "stderr",
     "output_type": "stream",
     "text": [
      "[Parallel(n_jobs=1)]: Using backend SequentialBackend with 1 concurrent workers.\n",
      "[Parallel(n_jobs=1)]: Done   1 out of   1 | elapsed:    0.0s remaining:    0.0s\n",
      "[Parallel(n_jobs=1)]: Done  20 out of  20 | elapsed:    0.4s finished\n",
      "\n",
      "[2022-09-11 14:46:35] Features: 1/20 -- score: 0.4903801707591606[Parallel(n_jobs=1)]: Using backend SequentialBackend with 1 concurrent workers.\n",
      "[Parallel(n_jobs=1)]: Done   1 out of   1 | elapsed:    0.0s remaining:    0.0s\n",
      "[Parallel(n_jobs=1)]: Done  19 out of  19 | elapsed:    0.5s finished\n",
      "\n",
      "[2022-09-11 14:46:35] Features: 2/20 -- score: 0.627686073257947[Parallel(n_jobs=1)]: Using backend SequentialBackend with 1 concurrent workers.\n",
      "[Parallel(n_jobs=1)]: Done   1 out of   1 | elapsed:    0.0s remaining:    0.0s\n",
      "[Parallel(n_jobs=1)]: Done  18 out of  18 | elapsed:    0.5s finished\n",
      "\n",
      "[2022-09-11 14:46:36] Features: 3/20 -- score: 0.6936275009342084[Parallel(n_jobs=1)]: Using backend SequentialBackend with 1 concurrent workers.\n",
      "[Parallel(n_jobs=1)]: Done   1 out of   1 | elapsed:    0.0s remaining:    0.0s\n",
      "[Parallel(n_jobs=1)]: Done  17 out of  17 | elapsed:    0.5s finished\n",
      "\n",
      "[2022-09-11 14:46:37] Features: 4/20 -- score: 0.7291740102967722[Parallel(n_jobs=1)]: Using backend SequentialBackend with 1 concurrent workers.\n",
      "[Parallel(n_jobs=1)]: Done   1 out of   1 | elapsed:    0.0s remaining:    0.0s\n",
      "[Parallel(n_jobs=1)]: Done  16 out of  16 | elapsed:    0.5s finished\n",
      "\n",
      "[2022-09-11 14:46:37] Features: 5/20 -- score: 0.7452126802285672[Parallel(n_jobs=1)]: Using backend SequentialBackend with 1 concurrent workers.\n",
      "[Parallel(n_jobs=1)]: Done   1 out of   1 | elapsed:    0.0s remaining:    0.0s\n",
      "[Parallel(n_jobs=1)]: Done  15 out of  15 | elapsed:    0.5s finished\n",
      "\n",
      "[2022-09-11 14:46:38] Features: 6/20 -- score: 0.75009908417439[Parallel(n_jobs=1)]: Using backend SequentialBackend with 1 concurrent workers.\n",
      "[Parallel(n_jobs=1)]: Done   1 out of   1 | elapsed:    0.0s remaining:    0.0s\n",
      "[Parallel(n_jobs=1)]: Done  14 out of  14 | elapsed:    0.5s finished\n",
      "\n",
      "[2022-09-11 14:46:38] Features: 7/20 -- score: 0.7554514064829329[Parallel(n_jobs=1)]: Using backend SequentialBackend with 1 concurrent workers.\n",
      "[Parallel(n_jobs=1)]: Done   1 out of   1 | elapsed:    0.0s remaining:    0.0s\n",
      "[Parallel(n_jobs=1)]: Done  13 out of  13 | elapsed:    0.5s finished\n",
      "\n",
      "[2022-09-11 14:46:39] Features: 8/20 -- score: 0.7598589732356269[Parallel(n_jobs=1)]: Using backend SequentialBackend with 1 concurrent workers.\n",
      "[Parallel(n_jobs=1)]: Done   1 out of   1 | elapsed:    0.0s remaining:    0.0s\n",
      "[Parallel(n_jobs=1)]: Done  12 out of  12 | elapsed:    0.5s finished\n",
      "\n",
      "[2022-09-11 14:46:40] Features: 9/20 -- score: 0.7631567142401638[Parallel(n_jobs=1)]: Using backend SequentialBackend with 1 concurrent workers.\n",
      "[Parallel(n_jobs=1)]: Done   1 out of   1 | elapsed:    0.0s remaining:    0.0s\n",
      "[Parallel(n_jobs=1)]: Done  11 out of  11 | elapsed:    0.5s finished\n",
      "\n",
      "[2022-09-11 14:46:40] Features: 10/20 -- score: 0.7659356513182493[Parallel(n_jobs=1)]: Using backend SequentialBackend with 1 concurrent workers.\n",
      "[Parallel(n_jobs=1)]: Done   1 out of   1 | elapsed:    0.0s remaining:    0.0s\n",
      "[Parallel(n_jobs=1)]: Done  10 out of  10 | elapsed:    0.5s finished\n",
      "\n",
      "[2022-09-11 14:46:41] Features: 11/20 -- score: 0.7675418784893842[Parallel(n_jobs=1)]: Using backend SequentialBackend with 1 concurrent workers.\n",
      "[Parallel(n_jobs=1)]: Done   1 out of   1 | elapsed:    0.0s remaining:    0.0s\n",
      "[Parallel(n_jobs=1)]: Done   9 out of   9 | elapsed:    0.6s finished\n",
      "\n",
      "[2022-09-11 14:46:42] Features: 12/20 -- score: 0.768711242029947[Parallel(n_jobs=1)]: Using backend SequentialBackend with 1 concurrent workers.\n",
      "[Parallel(n_jobs=1)]: Done   1 out of   1 | elapsed:    0.0s remaining:    0.0s\n",
      "[Parallel(n_jobs=1)]: Done   8 out of   8 | elapsed:    0.5s finished\n",
      "\n",
      "[2022-09-11 14:46:42] Features: 13/20 -- score: 0.769699261018569[Parallel(n_jobs=1)]: Using backend SequentialBackend with 1 concurrent workers.\n",
      "[Parallel(n_jobs=1)]: Done   1 out of   1 | elapsed:    0.0s remaining:    0.0s\n",
      "[Parallel(n_jobs=1)]: Done   7 out of   7 | elapsed:    0.4s finished\n",
      "\n",
      "[2022-09-11 14:46:43] Features: 14/20 -- score: 0.7708085844369104[Parallel(n_jobs=1)]: Using backend SequentialBackend with 1 concurrent workers.\n",
      "[Parallel(n_jobs=1)]: Done   1 out of   1 | elapsed:    0.0s remaining:    0.0s\n",
      "[Parallel(n_jobs=1)]: Done   6 out of   6 | elapsed:    0.4s finished\n",
      "\n",
      "[2022-09-11 14:46:43] Features: 15/20 -- score: 0.7713446113362383[Parallel(n_jobs=1)]: Using backend SequentialBackend with 1 concurrent workers.\n",
      "[Parallel(n_jobs=1)]: Done   1 out of   1 | elapsed:    0.0s remaining:    0.0s\n",
      "[Parallel(n_jobs=1)]: Done   5 out of   5 | elapsed:    0.3s finished\n",
      "\n",
      "[2022-09-11 14:46:43] Features: 16/20 -- score: 0.7717539980559327[Parallel(n_jobs=1)]: Using backend SequentialBackend with 1 concurrent workers.\n",
      "[Parallel(n_jobs=1)]: Done   1 out of   1 | elapsed:    0.0s remaining:    0.0s\n",
      "[Parallel(n_jobs=1)]: Done   4 out of   4 | elapsed:    0.2s finished\n",
      "\n",
      "[2022-09-11 14:46:44] Features: 17/20 -- score: 0.7718942447600489[Parallel(n_jobs=1)]: Using backend SequentialBackend with 1 concurrent workers.\n",
      "[Parallel(n_jobs=1)]: Done   1 out of   1 | elapsed:    0.0s remaining:    0.0s\n",
      "[Parallel(n_jobs=1)]: Done   3 out of   3 | elapsed:    0.2s finished\n",
      "\n",
      "[2022-09-11 14:46:44] Features: 18/20 -- score: 0.7718942447600492[Parallel(n_jobs=1)]: Using backend SequentialBackend with 1 concurrent workers.\n",
      "[Parallel(n_jobs=1)]: Done   1 out of   1 | elapsed:    0.0s remaining:    0.0s\n",
      "[Parallel(n_jobs=1)]: Done   2 out of   2 | elapsed:    0.1s finished\n",
      "\n",
      "[2022-09-11 14:46:44] Features: 19/20 -- score: 0.7718485318830748[Parallel(n_jobs=1)]: Using backend SequentialBackend with 1 concurrent workers.\n",
      "[Parallel(n_jobs=1)]: Done   1 out of   1 | elapsed:    0.0s remaining:    0.0s\n",
      "[Parallel(n_jobs=1)]: Done   1 out of   1 | elapsed:    0.0s finished\n",
      "\n",
      "[2022-09-11 14:46:44] Features: 20/20 -- score: 0.7722431640557039"
     ]
    }
   ],
   "source": [
    "from mlxtend.feature_selection import SequentialFeatureSelector as sfs\n",
    " \n",
    "model = LinearRegression()\n",
    "forward_feature_selection = sfs(model,\n",
    "                                k_features = 20,\n",
    "                                  forward = True,\n",
    "                                verbose = 2,\n",
    "                                cv = 5).fit(X_train, y_train)"
   ]
  },
  {
   "cell_type": "markdown",
   "id": "81ecaa8e",
   "metadata": {},
   "source": [
    "It is clear that at features = 8 we have optimal result for accuracy and complexity trade-off"
   ]
  },
  {
   "cell_type": "code",
   "execution_count": 39,
   "id": "062f4e83",
   "metadata": {},
   "outputs": [
    {
     "data": {
      "text/html": [
       "<div>\n",
       "<style scoped>\n",
       "    .dataframe tbody tr th:only-of-type {\n",
       "        vertical-align: middle;\n",
       "    }\n",
       "\n",
       "    .dataframe tbody tr th {\n",
       "        vertical-align: top;\n",
       "    }\n",
       "\n",
       "    .dataframe thead th {\n",
       "        text-align: right;\n",
       "    }\n",
       "</style>\n",
       "<table border=\"1\" class=\"dataframe\">\n",
       "  <thead>\n",
       "    <tr style=\"text-align: right;\">\n",
       "      <th></th>\n",
       "      <th>feature_idx</th>\n",
       "      <th>cv_scores</th>\n",
       "      <th>avg_score</th>\n",
       "      <th>feature_names</th>\n",
       "      <th>ci_bound</th>\n",
       "      <th>std_dev</th>\n",
       "      <th>std_err</th>\n",
       "    </tr>\n",
       "  </thead>\n",
       "  <tbody>\n",
       "    <tr>\n",
       "      <th>1</th>\n",
       "      <td>(7,)</td>\n",
       "      <td>[0.49976609732186084, 0.48432935034811975, 0.4...</td>\n",
       "      <td>0.49038</td>\n",
       "      <td>(grade,)</td>\n",
       "      <td>0.017949</td>\n",
       "      <td>0.013965</td>\n",
       "      <td>0.006982</td>\n",
       "    </tr>\n",
       "    <tr>\n",
       "      <th>2</th>\n",
       "      <td>(7, 13)</td>\n",
       "      <td>[0.6344477428531824, 0.6164335722822347, 0.621...</td>\n",
       "      <td>0.627686</td>\n",
       "      <td>(grade, lat)</td>\n",
       "      <td>0.01884</td>\n",
       "      <td>0.014658</td>\n",
       "      <td>0.007329</td>\n",
       "    </tr>\n",
       "    <tr>\n",
       "      <th>3</th>\n",
       "      <td>(7, 13, 17)</td>\n",
       "      <td>[0.7015952506673275, 0.6801475147533573, 0.690...</td>\n",
       "      <td>0.693628</td>\n",
       "      <td>(grade, lat, logged sqft_living)</td>\n",
       "      <td>0.014147</td>\n",
       "      <td>0.011007</td>\n",
       "      <td>0.005503</td>\n",
       "    </tr>\n",
       "    <tr>\n",
       "      <th>4</th>\n",
       "      <td>(7, 13, 17, 19)</td>\n",
       "      <td>[0.7330577510541543, 0.7139797438480512, 0.731...</td>\n",
       "      <td>0.729174</td>\n",
       "      <td>(grade, lat, logged sqft_living, age)</td>\n",
       "      <td>0.013544</td>\n",
       "      <td>0.010538</td>\n",
       "      <td>0.005269</td>\n",
       "    </tr>\n",
       "    <tr>\n",
       "      <th>5</th>\n",
       "      <td>(5, 7, 13, 17, 19)</td>\n",
       "      <td>[0.746871800837455, 0.7278009989418114, 0.7511...</td>\n",
       "      <td>0.745213</td>\n",
       "      <td>(view, grade, lat, logged sqft_living, age)</td>\n",
       "      <td>0.014946</td>\n",
       "      <td>0.011628</td>\n",
       "      <td>0.005814</td>\n",
       "    </tr>\n",
       "    <tr>\n",
       "      <th>6</th>\n",
       "      <td>(5, 7, 13, 15, 17, 19)</td>\n",
       "      <td>[0.7507546925040682, 0.7331479527862113, 0.757...</td>\n",
       "      <td>0.750099</td>\n",
       "      <td>(view, grade, lat, sqft_living15, logged sqft_...</td>\n",
       "      <td>0.015017</td>\n",
       "      <td>0.011684</td>\n",
       "      <td>0.005842</td>\n",
       "    </tr>\n",
       "    <tr>\n",
       "      <th>7</th>\n",
       "      <td>(1, 5, 7, 13, 15, 17, 19)</td>\n",
       "      <td>[0.755365947724633, 0.7401409941035282, 0.7621...</td>\n",
       "      <td>0.755451</td>\n",
       "      <td>(bathrooms, view, grade, lat, sqft_living15, l...</td>\n",
       "      <td>0.013965</td>\n",
       "      <td>0.010865</td>\n",
       "      <td>0.005432</td>\n",
       "    </tr>\n",
       "    <tr>\n",
       "      <th>8</th>\n",
       "      <td>(1, 4, 5, 7, 13, 15, 17, 19)</td>\n",
       "      <td>[0.7587201393103744, 0.7447094817704186, 0.768...</td>\n",
       "      <td>0.759859</td>\n",
       "      <td>(bathrooms, waterfront, view, grade, lat, sqft...</td>\n",
       "      <td>0.014037</td>\n",
       "      <td>0.010922</td>\n",
       "      <td>0.005461</td>\n",
       "    </tr>\n",
       "    <tr>\n",
       "      <th>9</th>\n",
       "      <td>(1, 4, 5, 6, 7, 13, 15, 17, 19)</td>\n",
       "      <td>[0.7618692845973242, 0.7502475181259434, 0.770...</td>\n",
       "      <td>0.763157</td>\n",
       "      <td>(bathrooms, waterfront, view, condition, grade...</td>\n",
       "      <td>0.013215</td>\n",
       "      <td>0.010282</td>\n",
       "      <td>0.005141</td>\n",
       "    </tr>\n",
       "    <tr>\n",
       "      <th>10</th>\n",
       "      <td>(1, 3, 4, 5, 6, 7, 13, 15, 17, 19)</td>\n",
       "      <td>[0.7634576891388052, 0.7519664851742267, 0.775...</td>\n",
       "      <td>0.765936</td>\n",
       "      <td>(bathrooms, floors, waterfront, view, conditio...</td>\n",
       "      <td>0.013473</td>\n",
       "      <td>0.010482</td>\n",
       "      <td>0.005241</td>\n",
       "    </tr>\n",
       "    <tr>\n",
       "      <th>11</th>\n",
       "      <td>(1, 3, 4, 5, 6, 7, 10, 13, 15, 17, 19)</td>\n",
       "      <td>[0.7656596931908577, 0.753399500900445, 0.7773...</td>\n",
       "      <td>0.767542</td>\n",
       "      <td>(bathrooms, floors, waterfront, view, conditio...</td>\n",
       "      <td>0.013746</td>\n",
       "      <td>0.010695</td>\n",
       "      <td>0.005348</td>\n",
       "    </tr>\n",
       "    <tr>\n",
       "      <th>12</th>\n",
       "      <td>(1, 3, 4, 5, 6, 7, 10, 12, 13, 15, 17, 19)</td>\n",
       "      <td>[0.767797864500354, 0.75522976940841, 0.777484...</td>\n",
       "      <td>0.768711</td>\n",
       "      <td>(bathrooms, floors, waterfront, view, conditio...</td>\n",
       "      <td>0.012748</td>\n",
       "      <td>0.009918</td>\n",
       "      <td>0.004959</td>\n",
       "    </tr>\n",
       "    <tr>\n",
       "      <th>13</th>\n",
       "      <td>(1, 2, 3, 4, 5, 6, 7, 10, 12, 13, 15, 17, 19)</td>\n",
       "      <td>[0.7686551690495395, 0.7569775094785839, 0.777...</td>\n",
       "      <td>0.769699</td>\n",
       "      <td>(bathrooms, sqft_lot, floors, waterfront, view...</td>\n",
       "      <td>0.012468</td>\n",
       "      <td>0.009701</td>\n",
       "      <td>0.00485</td>\n",
       "    </tr>\n",
       "    <tr>\n",
       "      <th>14</th>\n",
       "      <td>(1, 2, 3, 4, 5, 6, 7, 10, 12, 13, 14, 15, 17, 19)</td>\n",
       "      <td>[0.7698261743017542, 0.7582646455223436, 0.778...</td>\n",
       "      <td>0.770809</td>\n",
       "      <td>(bathrooms, sqft_lot, floors, waterfront, view...</td>\n",
       "      <td>0.012368</td>\n",
       "      <td>0.009623</td>\n",
       "      <td>0.004811</td>\n",
       "    </tr>\n",
       "    <tr>\n",
       "      <th>15</th>\n",
       "      <td>(0, 1, 2, 3, 4, 5, 6, 7, 10, 12, 13, 14, 15, 1...</td>\n",
       "      <td>[0.771211090527236, 0.7590579161474593, 0.7796...</td>\n",
       "      <td>0.771345</td>\n",
       "      <td>(bedrooms, bathrooms, sqft_lot, floors, waterf...</td>\n",
       "      <td>0.011973</td>\n",
       "      <td>0.009315</td>\n",
       "      <td>0.004658</td>\n",
       "    </tr>\n",
       "    <tr>\n",
       "      <th>16</th>\n",
       "      <td>(0, 1, 2, 3, 4, 5, 6, 7, 10, 11, 12, 13, 14, 1...</td>\n",
       "      <td>[0.7718363159375754, 0.7587928814010767, 0.779...</td>\n",
       "      <td>0.771754</td>\n",
       "      <td>(bedrooms, bathrooms, sqft_lot, floors, waterf...</td>\n",
       "      <td>0.012103</td>\n",
       "      <td>0.009417</td>\n",
       "      <td>0.004708</td>\n",
       "    </tr>\n",
       "    <tr>\n",
       "      <th>17</th>\n",
       "      <td>(0, 1, 2, 3, 4, 5, 6, 7, 10, 11, 12, 13, 14, 1...</td>\n",
       "      <td>[0.7718105219371538, 0.7590926249594752, 0.779...</td>\n",
       "      <td>0.771894</td>\n",
       "      <td>(bedrooms, bathrooms, sqft_lot, floors, waterf...</td>\n",
       "      <td>0.011876</td>\n",
       "      <td>0.00924</td>\n",
       "      <td>0.00462</td>\n",
       "    </tr>\n",
       "    <tr>\n",
       "      <th>18</th>\n",
       "      <td>(0, 1, 2, 3, 4, 5, 6, 7, 10, 11, 12, 13, 14, 1...</td>\n",
       "      <td>[0.771810521937173, 0.7590926249594369, 0.7797...</td>\n",
       "      <td>0.771894</td>\n",
       "      <td>(bedrooms, bathrooms, sqft_lot, floors, waterf...</td>\n",
       "      <td>0.011876</td>\n",
       "      <td>0.00924</td>\n",
       "      <td>0.00462</td>\n",
       "    </tr>\n",
       "    <tr>\n",
       "      <th>19</th>\n",
       "      <td>(0, 1, 2, 3, 4, 5, 6, 7, 8, 10, 11, 12, 13, 14...</td>\n",
       "      <td>[0.7716577411421004, 0.7587530906518223, 0.779...</td>\n",
       "      <td>0.771849</td>\n",
       "      <td>(bedrooms, bathrooms, sqft_lot, floors, waterf...</td>\n",
       "      <td>0.011959</td>\n",
       "      <td>0.009305</td>\n",
       "      <td>0.004652</td>\n",
       "    </tr>\n",
       "    <tr>\n",
       "      <th>20</th>\n",
       "      <td>(0, 1, 2, 3, 4, 5, 6, 7, 8, 9, 10, 11, 12, 13,...</td>\n",
       "      <td>[0.7726695165842423, 0.7590002166978596, 0.779...</td>\n",
       "      <td>0.772243</td>\n",
       "      <td>(bedrooms, bathrooms, sqft_lot, floors, waterf...</td>\n",
       "      <td>0.011924</td>\n",
       "      <td>0.009277</td>\n",
       "      <td>0.004639</td>\n",
       "    </tr>\n",
       "  </tbody>\n",
       "</table>\n",
       "</div>"
      ],
      "text/plain": [
       "                                          feature_idx  \\\n",
       "1                                                (7,)   \n",
       "2                                             (7, 13)   \n",
       "3                                         (7, 13, 17)   \n",
       "4                                     (7, 13, 17, 19)   \n",
       "5                                  (5, 7, 13, 17, 19)   \n",
       "6                              (5, 7, 13, 15, 17, 19)   \n",
       "7                           (1, 5, 7, 13, 15, 17, 19)   \n",
       "8                        (1, 4, 5, 7, 13, 15, 17, 19)   \n",
       "9                     (1, 4, 5, 6, 7, 13, 15, 17, 19)   \n",
       "10                 (1, 3, 4, 5, 6, 7, 13, 15, 17, 19)   \n",
       "11             (1, 3, 4, 5, 6, 7, 10, 13, 15, 17, 19)   \n",
       "12         (1, 3, 4, 5, 6, 7, 10, 12, 13, 15, 17, 19)   \n",
       "13      (1, 2, 3, 4, 5, 6, 7, 10, 12, 13, 15, 17, 19)   \n",
       "14  (1, 2, 3, 4, 5, 6, 7, 10, 12, 13, 14, 15, 17, 19)   \n",
       "15  (0, 1, 2, 3, 4, 5, 6, 7, 10, 12, 13, 14, 15, 1...   \n",
       "16  (0, 1, 2, 3, 4, 5, 6, 7, 10, 11, 12, 13, 14, 1...   \n",
       "17  (0, 1, 2, 3, 4, 5, 6, 7, 10, 11, 12, 13, 14, 1...   \n",
       "18  (0, 1, 2, 3, 4, 5, 6, 7, 10, 11, 12, 13, 14, 1...   \n",
       "19  (0, 1, 2, 3, 4, 5, 6, 7, 8, 10, 11, 12, 13, 14...   \n",
       "20  (0, 1, 2, 3, 4, 5, 6, 7, 8, 9, 10, 11, 12, 13,...   \n",
       "\n",
       "                                            cv_scores avg_score  \\\n",
       "1   [0.49976609732186084, 0.48432935034811975, 0.4...   0.49038   \n",
       "2   [0.6344477428531824, 0.6164335722822347, 0.621...  0.627686   \n",
       "3   [0.7015952506673275, 0.6801475147533573, 0.690...  0.693628   \n",
       "4   [0.7330577510541543, 0.7139797438480512, 0.731...  0.729174   \n",
       "5   [0.746871800837455, 0.7278009989418114, 0.7511...  0.745213   \n",
       "6   [0.7507546925040682, 0.7331479527862113, 0.757...  0.750099   \n",
       "7   [0.755365947724633, 0.7401409941035282, 0.7621...  0.755451   \n",
       "8   [0.7587201393103744, 0.7447094817704186, 0.768...  0.759859   \n",
       "9   [0.7618692845973242, 0.7502475181259434, 0.770...  0.763157   \n",
       "10  [0.7634576891388052, 0.7519664851742267, 0.775...  0.765936   \n",
       "11  [0.7656596931908577, 0.753399500900445, 0.7773...  0.767542   \n",
       "12  [0.767797864500354, 0.75522976940841, 0.777484...  0.768711   \n",
       "13  [0.7686551690495395, 0.7569775094785839, 0.777...  0.769699   \n",
       "14  [0.7698261743017542, 0.7582646455223436, 0.778...  0.770809   \n",
       "15  [0.771211090527236, 0.7590579161474593, 0.7796...  0.771345   \n",
       "16  [0.7718363159375754, 0.7587928814010767, 0.779...  0.771754   \n",
       "17  [0.7718105219371538, 0.7590926249594752, 0.779...  0.771894   \n",
       "18  [0.771810521937173, 0.7590926249594369, 0.7797...  0.771894   \n",
       "19  [0.7716577411421004, 0.7587530906518223, 0.779...  0.771849   \n",
       "20  [0.7726695165842423, 0.7590002166978596, 0.779...  0.772243   \n",
       "\n",
       "                                        feature_names  ci_bound   std_dev  \\\n",
       "1                                            (grade,)  0.017949  0.013965   \n",
       "2                                        (grade, lat)   0.01884  0.014658   \n",
       "3                    (grade, lat, logged sqft_living)  0.014147  0.011007   \n",
       "4               (grade, lat, logged sqft_living, age)  0.013544  0.010538   \n",
       "5         (view, grade, lat, logged sqft_living, age)  0.014946  0.011628   \n",
       "6   (view, grade, lat, sqft_living15, logged sqft_...  0.015017  0.011684   \n",
       "7   (bathrooms, view, grade, lat, sqft_living15, l...  0.013965  0.010865   \n",
       "8   (bathrooms, waterfront, view, grade, lat, sqft...  0.014037  0.010922   \n",
       "9   (bathrooms, waterfront, view, condition, grade...  0.013215  0.010282   \n",
       "10  (bathrooms, floors, waterfront, view, conditio...  0.013473  0.010482   \n",
       "11  (bathrooms, floors, waterfront, view, conditio...  0.013746  0.010695   \n",
       "12  (bathrooms, floors, waterfront, view, conditio...  0.012748  0.009918   \n",
       "13  (bathrooms, sqft_lot, floors, waterfront, view...  0.012468  0.009701   \n",
       "14  (bathrooms, sqft_lot, floors, waterfront, view...  0.012368  0.009623   \n",
       "15  (bedrooms, bathrooms, sqft_lot, floors, waterf...  0.011973  0.009315   \n",
       "16  (bedrooms, bathrooms, sqft_lot, floors, waterf...  0.012103  0.009417   \n",
       "17  (bedrooms, bathrooms, sqft_lot, floors, waterf...  0.011876   0.00924   \n",
       "18  (bedrooms, bathrooms, sqft_lot, floors, waterf...  0.011876   0.00924   \n",
       "19  (bedrooms, bathrooms, sqft_lot, floors, waterf...  0.011959  0.009305   \n",
       "20  (bedrooms, bathrooms, sqft_lot, floors, waterf...  0.011924  0.009277   \n",
       "\n",
       "     std_err  \n",
       "1   0.006982  \n",
       "2   0.007329  \n",
       "3   0.005503  \n",
       "4   0.005269  \n",
       "5   0.005814  \n",
       "6   0.005842  \n",
       "7   0.005432  \n",
       "8   0.005461  \n",
       "9   0.005141  \n",
       "10  0.005241  \n",
       "11  0.005348  \n",
       "12  0.004959  \n",
       "13   0.00485  \n",
       "14  0.004811  \n",
       "15  0.004658  \n",
       "16  0.004708  \n",
       "17   0.00462  \n",
       "18   0.00462  \n",
       "19  0.004652  \n",
       "20  0.004639  "
      ]
     },
     "execution_count": 39,
     "metadata": {},
     "output_type": "execute_result"
    }
   ],
   "source": [
    "dataset_a =pd.DataFrame.from_dict(forward_feature_selection.get_metric_dict()).T\n",
    "dataset_a"
   ]
  },
  {
   "cell_type": "code",
   "execution_count": 116,
   "id": "61cbf125",
   "metadata": {},
   "outputs": [
    {
     "data": {
      "text/plain": [
       "(1, 4, 5, 7, 13, 15, 17, 19)"
      ]
     },
     "execution_count": 116,
     "metadata": {},
     "output_type": "execute_result"
    }
   ],
   "source": [
    "dataset_a['feature_idx'][8]"
   ]
  },
  {
   "cell_type": "code",
   "execution_count": 117,
   "id": "e2bdb6de",
   "metadata": {
    "scrolled": true
   },
   "outputs": [
    {
     "data": {
      "text/plain": [
       "('bathrooms',\n",
       " 'waterfront',\n",
       " 'view',\n",
       " 'grade',\n",
       " 'lat',\n",
       " 'sqft_living15',\n",
       " 'logged sqft_living',\n",
       " 'age')"
      ]
     },
     "execution_count": 117,
     "metadata": {},
     "output_type": "execute_result"
    }
   ],
   "source": [
    "\n",
    "dataset_a['feature_names'][8]"
   ]
  },
  {
   "cell_type": "markdown",
   "id": "0a374894",
   "metadata": {},
   "source": [
    "selecting best features"
   ]
  },
  {
   "cell_type": "code",
   "execution_count": 119,
   "id": "66546a44",
   "metadata": {},
   "outputs": [],
   "source": [
    "x_trainbest = X_train[['bathrooms',\n",
    " 'waterfront',\n",
    " 'view',\n",
    " 'grade',\n",
    " 'lat',\n",
    " 'sqft_living15',\n",
    " 'logged sqft_living',\n",
    " 'age']]"
   ]
  },
  {
   "cell_type": "markdown",
   "id": "81c720bc",
   "metadata": {},
   "source": [
    "# Multiple Linear Regression:\n",
    "Fitting significant features to Multiple Linear Regression and getting the score of the model\n"
   ]
  },
  {
   "cell_type": "code",
   "execution_count": 120,
   "id": "840495b7",
   "metadata": {},
   "outputs": [
    {
     "name": "stdout",
     "output_type": "stream",
     "text": [
      "The rms value is 0.25826279340582425\n",
      "The r square value is 0.7598589732356271\n"
     ]
    }
   ],
   "source": [
    "\n",
    "model = LinearRegression()\n",
    "score1 = cross_val_score(model, x_trainbest, y_train, cv = 5, scoring = 'r2')\n",
    "score2 = cross_val_score(model, x_trainbest, y_train, cv = 5, scoring = 'neg_root_mean_squared_error')\n",
    "print('The rms value is', np.abs(score2.mean()))\n",
    "print('The r square value is', score1.mean())"
   ]
  },
  {
   "cell_type": "markdown",
   "id": "776c5f10",
   "metadata": {},
   "source": [
    "# Decision Tree Model"
   ]
  },
  {
   "cell_type": "markdown",
   "id": "555d2393",
   "metadata": {},
   "source": [
    "Using Decision Tree Algorithm because there are No formal distributional assumptions,"
   ]
  },
  {
   "cell_type": "code",
   "execution_count": 44,
   "id": "c987d259",
   "metadata": {},
   "outputs": [],
   "source": [
    " dtr = DecisionTreeRegressor()"
   ]
  },
  {
   "cell_type": "code",
   "execution_count": 45,
   "id": "04f2993b",
   "metadata": {},
   "outputs": [],
   "source": [
    "DTR_Model = DecisionTreeRegressor().fit(X_train, y_train)"
   ]
  },
  {
   "cell_type": "code",
   "execution_count": 46,
   "id": "be2e2b87",
   "metadata": {},
   "outputs": [
    {
     "name": "stdout",
     "output_type": "stream",
     "text": [
      "Train Accuracy - : 0.999\n"
     ]
    }
   ],
   "source": [
    "print(f'Train Accuracy - : {DTR_Model.score(X_train,y_train):.3f}')\n"
   ]
  },
  {
   "cell_type": "markdown",
   "id": "949c00c7",
   "metadata": {},
   "source": [
    "This training score shows overfiting of model"
   ]
  },
  {
   "cell_type": "markdown",
   "id": "99a7583a",
   "metadata": {},
   "source": [
    "# Hyperparameter Tunning with RandomizedSearchCV\n",
    "To find optimal hyperparameters to train the model\n",
    "\n"
   ]
  },
  {
   "cell_type": "code",
   "execution_count": 47,
   "id": "2fe8f598",
   "metadata": {
    "scrolled": true
   },
   "outputs": [
    {
     "data": {
      "text/plain": [
       "dict_keys(['ccp_alpha', 'criterion', 'max_depth', 'max_features', 'max_leaf_nodes', 'min_impurity_decrease', 'min_samples_leaf', 'min_samples_split', 'min_weight_fraction_leaf', 'random_state', 'splitter'])"
      ]
     },
     "execution_count": 47,
     "metadata": {},
     "output_type": "execute_result"
    }
   ],
   "source": [
    "dtr.get_params().keys()"
   ]
  },
  {
   "cell_type": "code",
   "execution_count": 48,
   "id": "4a355161",
   "metadata": {},
   "outputs": [],
   "source": [
    "from sklearn.model_selection import RandomizedSearchCV\n",
    "import warnings\n",
    "warnings.filterwarnings(\"ignore\")\n",
    "from sklearn.exceptions import FitFailedWarning \n",
    "from sklearn.model_selection import GridSearchCV"
   ]
  },
  {
   "cell_type": "code",
   "execution_count": 49,
   "id": "fe88043d",
   "metadata": {},
   "outputs": [],
   "source": [
    "parameters = {'max_depth' : [8,10,11,18,20,30],\n",
    "              'min_samples_leaf' : [1,2,3,4,5],\n",
    "              'min_samples_split' : [2,3,4,5,10,12,1],\n",
    "              'max_features': ['auto','sqrt','log2'],\n",
    "               'criterion' : ['squared_error', 'friedman_mse', 'absolute_error'],\n",
    "               'ccp_alpha' : [0.1, 0.01, 0.001, 0.001]\n",
    "              } "
   ]
  },
  {
   "cell_type": "markdown",
   "id": "6a3f05a9",
   "metadata": {},
   "source": [
    "# Finding Best estimators with RandomSearch CV"
   ]
  },
  {
   "cell_type": "code",
   "execution_count": 50,
   "id": "9c8e15b9",
   "metadata": {},
   "outputs": [],
   "source": [
    "best_dtr_random = RandomizedSearchCV(dtr,  parameters, cv = 5, verbose = True)"
   ]
  },
  {
   "cell_type": "code",
   "execution_count": 51,
   "id": "b399378c",
   "metadata": {
    "scrolled": true
   },
   "outputs": [
    {
     "name": "stdout",
     "output_type": "stream",
     "text": [
      "Fitting 5 folds for each of 10 candidates, totalling 50 fits\n"
     ]
    },
    {
     "data": {
      "text/html": [
       "<style>#sk-container-id-1 {color: black;background-color: white;}#sk-container-id-1 pre{padding: 0;}#sk-container-id-1 div.sk-toggleable {background-color: white;}#sk-container-id-1 label.sk-toggleable__label {cursor: pointer;display: block;width: 100%;margin-bottom: 0;padding: 0.3em;box-sizing: border-box;text-align: center;}#sk-container-id-1 label.sk-toggleable__label-arrow:before {content: \"▸\";float: left;margin-right: 0.25em;color: #696969;}#sk-container-id-1 label.sk-toggleable__label-arrow:hover:before {color: black;}#sk-container-id-1 div.sk-estimator:hover label.sk-toggleable__label-arrow:before {color: black;}#sk-container-id-1 div.sk-toggleable__content {max-height: 0;max-width: 0;overflow: hidden;text-align: left;background-color: #f0f8ff;}#sk-container-id-1 div.sk-toggleable__content pre {margin: 0.2em;color: black;border-radius: 0.25em;background-color: #f0f8ff;}#sk-container-id-1 input.sk-toggleable__control:checked~div.sk-toggleable__content {max-height: 200px;max-width: 100%;overflow: auto;}#sk-container-id-1 input.sk-toggleable__control:checked~label.sk-toggleable__label-arrow:before {content: \"▾\";}#sk-container-id-1 div.sk-estimator input.sk-toggleable__control:checked~label.sk-toggleable__label {background-color: #d4ebff;}#sk-container-id-1 div.sk-label input.sk-toggleable__control:checked~label.sk-toggleable__label {background-color: #d4ebff;}#sk-container-id-1 input.sk-hidden--visually {border: 0;clip: rect(1px 1px 1px 1px);clip: rect(1px, 1px, 1px, 1px);height: 1px;margin: -1px;overflow: hidden;padding: 0;position: absolute;width: 1px;}#sk-container-id-1 div.sk-estimator {font-family: monospace;background-color: #f0f8ff;border: 1px dotted black;border-radius: 0.25em;box-sizing: border-box;margin-bottom: 0.5em;}#sk-container-id-1 div.sk-estimator:hover {background-color: #d4ebff;}#sk-container-id-1 div.sk-parallel-item::after {content: \"\";width: 100%;border-bottom: 1px solid gray;flex-grow: 1;}#sk-container-id-1 div.sk-label:hover label.sk-toggleable__label {background-color: #d4ebff;}#sk-container-id-1 div.sk-serial::before {content: \"\";position: absolute;border-left: 1px solid gray;box-sizing: border-box;top: 0;bottom: 0;left: 50%;z-index: 0;}#sk-container-id-1 div.sk-serial {display: flex;flex-direction: column;align-items: center;background-color: white;padding-right: 0.2em;padding-left: 0.2em;position: relative;}#sk-container-id-1 div.sk-item {position: relative;z-index: 1;}#sk-container-id-1 div.sk-parallel {display: flex;align-items: stretch;justify-content: center;background-color: white;position: relative;}#sk-container-id-1 div.sk-item::before, #sk-container-id-1 div.sk-parallel-item::before {content: \"\";position: absolute;border-left: 1px solid gray;box-sizing: border-box;top: 0;bottom: 0;left: 50%;z-index: -1;}#sk-container-id-1 div.sk-parallel-item {display: flex;flex-direction: column;z-index: 1;position: relative;background-color: white;}#sk-container-id-1 div.sk-parallel-item:first-child::after {align-self: flex-end;width: 50%;}#sk-container-id-1 div.sk-parallel-item:last-child::after {align-self: flex-start;width: 50%;}#sk-container-id-1 div.sk-parallel-item:only-child::after {width: 0;}#sk-container-id-1 div.sk-dashed-wrapped {border: 1px dashed gray;margin: 0 0.4em 0.5em 0.4em;box-sizing: border-box;padding-bottom: 0.4em;background-color: white;}#sk-container-id-1 div.sk-label label {font-family: monospace;font-weight: bold;display: inline-block;line-height: 1.2em;}#sk-container-id-1 div.sk-label-container {text-align: center;}#sk-container-id-1 div.sk-container {/* jupyter's `normalize.less` sets `[hidden] { display: none; }` but bootstrap.min.css set `[hidden] { display: none !important; }` so we also need the `!important` here to be able to override the default hidden behavior on the sphinx rendered scikit-learn.org. See: https://github.com/scikit-learn/scikit-learn/issues/21755 */display: inline-block !important;position: relative;}#sk-container-id-1 div.sk-text-repr-fallback {display: none;}</style><div id=\"sk-container-id-1\" class=\"sk-top-container\"><div class=\"sk-text-repr-fallback\"><pre>RandomizedSearchCV(cv=5, estimator=DecisionTreeRegressor(),\n",
       "                   param_distributions={&#x27;ccp_alpha&#x27;: [0.1, 0.01, 0.001, 0.001],\n",
       "                                        &#x27;criterion&#x27;: [&#x27;squared_error&#x27;,\n",
       "                                                      &#x27;friedman_mse&#x27;,\n",
       "                                                      &#x27;absolute_error&#x27;],\n",
       "                                        &#x27;max_depth&#x27;: [8, 10, 11, 18, 20, 30],\n",
       "                                        &#x27;max_features&#x27;: [&#x27;auto&#x27;, &#x27;sqrt&#x27;,\n",
       "                                                         &#x27;log2&#x27;],\n",
       "                                        &#x27;min_samples_leaf&#x27;: [1, 2, 3, 4, 5],\n",
       "                                        &#x27;min_samples_split&#x27;: [2, 3, 4, 5, 10,\n",
       "                                                              12, 1]},\n",
       "                   verbose=True)</pre><b>In a Jupyter environment, please rerun this cell to show the HTML representation or trust the notebook. <br />On GitHub, the HTML representation is unable to render, please try loading this page with nbviewer.org.</b></div><div class=\"sk-container\" hidden><div class=\"sk-item sk-dashed-wrapped\"><div class=\"sk-label-container\"><div class=\"sk-label sk-toggleable\"><input class=\"sk-toggleable__control sk-hidden--visually\" id=\"sk-estimator-id-1\" type=\"checkbox\" ><label for=\"sk-estimator-id-1\" class=\"sk-toggleable__label sk-toggleable__label-arrow\">RandomizedSearchCV</label><div class=\"sk-toggleable__content\"><pre>RandomizedSearchCV(cv=5, estimator=DecisionTreeRegressor(),\n",
       "                   param_distributions={&#x27;ccp_alpha&#x27;: [0.1, 0.01, 0.001, 0.001],\n",
       "                                        &#x27;criterion&#x27;: [&#x27;squared_error&#x27;,\n",
       "                                                      &#x27;friedman_mse&#x27;,\n",
       "                                                      &#x27;absolute_error&#x27;],\n",
       "                                        &#x27;max_depth&#x27;: [8, 10, 11, 18, 20, 30],\n",
       "                                        &#x27;max_features&#x27;: [&#x27;auto&#x27;, &#x27;sqrt&#x27;,\n",
       "                                                         &#x27;log2&#x27;],\n",
       "                                        &#x27;min_samples_leaf&#x27;: [1, 2, 3, 4, 5],\n",
       "                                        &#x27;min_samples_split&#x27;: [2, 3, 4, 5, 10,\n",
       "                                                              12, 1]},\n",
       "                   verbose=True)</pre></div></div></div><div class=\"sk-parallel\"><div class=\"sk-parallel-item\"><div class=\"sk-item\"><div class=\"sk-label-container\"><div class=\"sk-label sk-toggleable\"><input class=\"sk-toggleable__control sk-hidden--visually\" id=\"sk-estimator-id-2\" type=\"checkbox\" ><label for=\"sk-estimator-id-2\" class=\"sk-toggleable__label sk-toggleable__label-arrow\">estimator: DecisionTreeRegressor</label><div class=\"sk-toggleable__content\"><pre>DecisionTreeRegressor()</pre></div></div></div><div class=\"sk-serial\"><div class=\"sk-item\"><div class=\"sk-estimator sk-toggleable\"><input class=\"sk-toggleable__control sk-hidden--visually\" id=\"sk-estimator-id-3\" type=\"checkbox\" ><label for=\"sk-estimator-id-3\" class=\"sk-toggleable__label sk-toggleable__label-arrow\">DecisionTreeRegressor</label><div class=\"sk-toggleable__content\"><pre>DecisionTreeRegressor()</pre></div></div></div></div></div></div></div></div></div></div>"
      ],
      "text/plain": [
       "RandomizedSearchCV(cv=5, estimator=DecisionTreeRegressor(),\n",
       "                   param_distributions={'ccp_alpha': [0.1, 0.01, 0.001, 0.001],\n",
       "                                        'criterion': ['squared_error',\n",
       "                                                      'friedman_mse',\n",
       "                                                      'absolute_error'],\n",
       "                                        'max_depth': [8, 10, 11, 18, 20, 30],\n",
       "                                        'max_features': ['auto', 'sqrt',\n",
       "                                                         'log2'],\n",
       "                                        'min_samples_leaf': [1, 2, 3, 4, 5],\n",
       "                                        'min_samples_split': [2, 3, 4, 5, 10,\n",
       "                                                              12, 1]},\n",
       "                   verbose=True)"
      ]
     },
     "execution_count": 51,
     "metadata": {},
     "output_type": "execute_result"
    }
   ],
   "source": [
    "best_dtr_random.fit(X_train, y_train)"
   ]
  },
  {
   "cell_type": "code",
   "execution_count": 52,
   "id": "6d54150b",
   "metadata": {},
   "outputs": [
    {
     "data": {
      "text/html": [
       "<style>#sk-container-id-2 {color: black;background-color: white;}#sk-container-id-2 pre{padding: 0;}#sk-container-id-2 div.sk-toggleable {background-color: white;}#sk-container-id-2 label.sk-toggleable__label {cursor: pointer;display: block;width: 100%;margin-bottom: 0;padding: 0.3em;box-sizing: border-box;text-align: center;}#sk-container-id-2 label.sk-toggleable__label-arrow:before {content: \"▸\";float: left;margin-right: 0.25em;color: #696969;}#sk-container-id-2 label.sk-toggleable__label-arrow:hover:before {color: black;}#sk-container-id-2 div.sk-estimator:hover label.sk-toggleable__label-arrow:before {color: black;}#sk-container-id-2 div.sk-toggleable__content {max-height: 0;max-width: 0;overflow: hidden;text-align: left;background-color: #f0f8ff;}#sk-container-id-2 div.sk-toggleable__content pre {margin: 0.2em;color: black;border-radius: 0.25em;background-color: #f0f8ff;}#sk-container-id-2 input.sk-toggleable__control:checked~div.sk-toggleable__content {max-height: 200px;max-width: 100%;overflow: auto;}#sk-container-id-2 input.sk-toggleable__control:checked~label.sk-toggleable__label-arrow:before {content: \"▾\";}#sk-container-id-2 div.sk-estimator input.sk-toggleable__control:checked~label.sk-toggleable__label {background-color: #d4ebff;}#sk-container-id-2 div.sk-label input.sk-toggleable__control:checked~label.sk-toggleable__label {background-color: #d4ebff;}#sk-container-id-2 input.sk-hidden--visually {border: 0;clip: rect(1px 1px 1px 1px);clip: rect(1px, 1px, 1px, 1px);height: 1px;margin: -1px;overflow: hidden;padding: 0;position: absolute;width: 1px;}#sk-container-id-2 div.sk-estimator {font-family: monospace;background-color: #f0f8ff;border: 1px dotted black;border-radius: 0.25em;box-sizing: border-box;margin-bottom: 0.5em;}#sk-container-id-2 div.sk-estimator:hover {background-color: #d4ebff;}#sk-container-id-2 div.sk-parallel-item::after {content: \"\";width: 100%;border-bottom: 1px solid gray;flex-grow: 1;}#sk-container-id-2 div.sk-label:hover label.sk-toggleable__label {background-color: #d4ebff;}#sk-container-id-2 div.sk-serial::before {content: \"\";position: absolute;border-left: 1px solid gray;box-sizing: border-box;top: 0;bottom: 0;left: 50%;z-index: 0;}#sk-container-id-2 div.sk-serial {display: flex;flex-direction: column;align-items: center;background-color: white;padding-right: 0.2em;padding-left: 0.2em;position: relative;}#sk-container-id-2 div.sk-item {position: relative;z-index: 1;}#sk-container-id-2 div.sk-parallel {display: flex;align-items: stretch;justify-content: center;background-color: white;position: relative;}#sk-container-id-2 div.sk-item::before, #sk-container-id-2 div.sk-parallel-item::before {content: \"\";position: absolute;border-left: 1px solid gray;box-sizing: border-box;top: 0;bottom: 0;left: 50%;z-index: -1;}#sk-container-id-2 div.sk-parallel-item {display: flex;flex-direction: column;z-index: 1;position: relative;background-color: white;}#sk-container-id-2 div.sk-parallel-item:first-child::after {align-self: flex-end;width: 50%;}#sk-container-id-2 div.sk-parallel-item:last-child::after {align-self: flex-start;width: 50%;}#sk-container-id-2 div.sk-parallel-item:only-child::after {width: 0;}#sk-container-id-2 div.sk-dashed-wrapped {border: 1px dashed gray;margin: 0 0.4em 0.5em 0.4em;box-sizing: border-box;padding-bottom: 0.4em;background-color: white;}#sk-container-id-2 div.sk-label label {font-family: monospace;font-weight: bold;display: inline-block;line-height: 1.2em;}#sk-container-id-2 div.sk-label-container {text-align: center;}#sk-container-id-2 div.sk-container {/* jupyter's `normalize.less` sets `[hidden] { display: none; }` but bootstrap.min.css set `[hidden] { display: none !important; }` so we also need the `!important` here to be able to override the default hidden behavior on the sphinx rendered scikit-learn.org. See: https://github.com/scikit-learn/scikit-learn/issues/21755 */display: inline-block !important;position: relative;}#sk-container-id-2 div.sk-text-repr-fallback {display: none;}</style><div id=\"sk-container-id-2\" class=\"sk-top-container\"><div class=\"sk-text-repr-fallback\"><pre>DecisionTreeRegressor(ccp_alpha=0.001, criterion=&#x27;absolute_error&#x27;, max_depth=11,\n",
       "                      max_features=&#x27;auto&#x27;, min_samples_leaf=2,\n",
       "                      min_samples_split=5)</pre><b>In a Jupyter environment, please rerun this cell to show the HTML representation or trust the notebook. <br />On GitHub, the HTML representation is unable to render, please try loading this page with nbviewer.org.</b></div><div class=\"sk-container\" hidden><div class=\"sk-item\"><div class=\"sk-estimator sk-toggleable\"><input class=\"sk-toggleable__control sk-hidden--visually\" id=\"sk-estimator-id-4\" type=\"checkbox\" checked><label for=\"sk-estimator-id-4\" class=\"sk-toggleable__label sk-toggleable__label-arrow\">DecisionTreeRegressor</label><div class=\"sk-toggleable__content\"><pre>DecisionTreeRegressor(ccp_alpha=0.001, criterion=&#x27;absolute_error&#x27;, max_depth=11,\n",
       "                      max_features=&#x27;auto&#x27;, min_samples_leaf=2,\n",
       "                      min_samples_split=5)</pre></div></div></div></div></div>"
      ],
      "text/plain": [
       "DecisionTreeRegressor(ccp_alpha=0.001, criterion='absolute_error', max_depth=11,\n",
       "                      max_features='auto', min_samples_leaf=2,\n",
       "                      min_samples_split=5)"
      ]
     },
     "execution_count": 52,
     "metadata": {},
     "output_type": "execute_result"
    }
   ],
   "source": [
    "best_dtr_random.best_estimator_"
   ]
  },
  {
   "cell_type": "code",
   "execution_count": 53,
   "id": "1a5102d6",
   "metadata": {},
   "outputs": [],
   "source": [
    "#Building model with best estimator as per RandomizedSearchCV\n",
    "# ccp_alpha=0.001 is hyperparameter to define prunning strength\n",
    "DTR_Model2RS = DecisionTreeRegressor(ccp_alpha=0.001, criterion='absolute_error', max_depth=20,\n",
    "                      max_features='auto', min_samples_leaf=3,\n",
    "                      min_samples_split=12)"
   ]
  },
  {
   "cell_type": "code",
   "execution_count": 54,
   "id": "d19f4692",
   "metadata": {},
   "outputs": [
    {
     "data": {
      "text/html": [
       "<style>#sk-container-id-3 {color: black;background-color: white;}#sk-container-id-3 pre{padding: 0;}#sk-container-id-3 div.sk-toggleable {background-color: white;}#sk-container-id-3 label.sk-toggleable__label {cursor: pointer;display: block;width: 100%;margin-bottom: 0;padding: 0.3em;box-sizing: border-box;text-align: center;}#sk-container-id-3 label.sk-toggleable__label-arrow:before {content: \"▸\";float: left;margin-right: 0.25em;color: #696969;}#sk-container-id-3 label.sk-toggleable__label-arrow:hover:before {color: black;}#sk-container-id-3 div.sk-estimator:hover label.sk-toggleable__label-arrow:before {color: black;}#sk-container-id-3 div.sk-toggleable__content {max-height: 0;max-width: 0;overflow: hidden;text-align: left;background-color: #f0f8ff;}#sk-container-id-3 div.sk-toggleable__content pre {margin: 0.2em;color: black;border-radius: 0.25em;background-color: #f0f8ff;}#sk-container-id-3 input.sk-toggleable__control:checked~div.sk-toggleable__content {max-height: 200px;max-width: 100%;overflow: auto;}#sk-container-id-3 input.sk-toggleable__control:checked~label.sk-toggleable__label-arrow:before {content: \"▾\";}#sk-container-id-3 div.sk-estimator input.sk-toggleable__control:checked~label.sk-toggleable__label {background-color: #d4ebff;}#sk-container-id-3 div.sk-label input.sk-toggleable__control:checked~label.sk-toggleable__label {background-color: #d4ebff;}#sk-container-id-3 input.sk-hidden--visually {border: 0;clip: rect(1px 1px 1px 1px);clip: rect(1px, 1px, 1px, 1px);height: 1px;margin: -1px;overflow: hidden;padding: 0;position: absolute;width: 1px;}#sk-container-id-3 div.sk-estimator {font-family: monospace;background-color: #f0f8ff;border: 1px dotted black;border-radius: 0.25em;box-sizing: border-box;margin-bottom: 0.5em;}#sk-container-id-3 div.sk-estimator:hover {background-color: #d4ebff;}#sk-container-id-3 div.sk-parallel-item::after {content: \"\";width: 100%;border-bottom: 1px solid gray;flex-grow: 1;}#sk-container-id-3 div.sk-label:hover label.sk-toggleable__label {background-color: #d4ebff;}#sk-container-id-3 div.sk-serial::before {content: \"\";position: absolute;border-left: 1px solid gray;box-sizing: border-box;top: 0;bottom: 0;left: 50%;z-index: 0;}#sk-container-id-3 div.sk-serial {display: flex;flex-direction: column;align-items: center;background-color: white;padding-right: 0.2em;padding-left: 0.2em;position: relative;}#sk-container-id-3 div.sk-item {position: relative;z-index: 1;}#sk-container-id-3 div.sk-parallel {display: flex;align-items: stretch;justify-content: center;background-color: white;position: relative;}#sk-container-id-3 div.sk-item::before, #sk-container-id-3 div.sk-parallel-item::before {content: \"\";position: absolute;border-left: 1px solid gray;box-sizing: border-box;top: 0;bottom: 0;left: 50%;z-index: -1;}#sk-container-id-3 div.sk-parallel-item {display: flex;flex-direction: column;z-index: 1;position: relative;background-color: white;}#sk-container-id-3 div.sk-parallel-item:first-child::after {align-self: flex-end;width: 50%;}#sk-container-id-3 div.sk-parallel-item:last-child::after {align-self: flex-start;width: 50%;}#sk-container-id-3 div.sk-parallel-item:only-child::after {width: 0;}#sk-container-id-3 div.sk-dashed-wrapped {border: 1px dashed gray;margin: 0 0.4em 0.5em 0.4em;box-sizing: border-box;padding-bottom: 0.4em;background-color: white;}#sk-container-id-3 div.sk-label label {font-family: monospace;font-weight: bold;display: inline-block;line-height: 1.2em;}#sk-container-id-3 div.sk-label-container {text-align: center;}#sk-container-id-3 div.sk-container {/* jupyter's `normalize.less` sets `[hidden] { display: none; }` but bootstrap.min.css set `[hidden] { display: none !important; }` so we also need the `!important` here to be able to override the default hidden behavior on the sphinx rendered scikit-learn.org. See: https://github.com/scikit-learn/scikit-learn/issues/21755 */display: inline-block !important;position: relative;}#sk-container-id-3 div.sk-text-repr-fallback {display: none;}</style><div id=\"sk-container-id-3\" class=\"sk-top-container\"><div class=\"sk-text-repr-fallback\"><pre>DecisionTreeRegressor(ccp_alpha=0.001, criterion=&#x27;absolute_error&#x27;, max_depth=20,\n",
       "                      max_features=&#x27;auto&#x27;, min_samples_leaf=3,\n",
       "                      min_samples_split=12)</pre><b>In a Jupyter environment, please rerun this cell to show the HTML representation or trust the notebook. <br />On GitHub, the HTML representation is unable to render, please try loading this page with nbviewer.org.</b></div><div class=\"sk-container\" hidden><div class=\"sk-item\"><div class=\"sk-estimator sk-toggleable\"><input class=\"sk-toggleable__control sk-hidden--visually\" id=\"sk-estimator-id-5\" type=\"checkbox\" checked><label for=\"sk-estimator-id-5\" class=\"sk-toggleable__label sk-toggleable__label-arrow\">DecisionTreeRegressor</label><div class=\"sk-toggleable__content\"><pre>DecisionTreeRegressor(ccp_alpha=0.001, criterion=&#x27;absolute_error&#x27;, max_depth=20,\n",
       "                      max_features=&#x27;auto&#x27;, min_samples_leaf=3,\n",
       "                      min_samples_split=12)</pre></div></div></div></div></div>"
      ],
      "text/plain": [
       "DecisionTreeRegressor(ccp_alpha=0.001, criterion='absolute_error', max_depth=20,\n",
       "                      max_features='auto', min_samples_leaf=3,\n",
       "                      min_samples_split=12)"
      ]
     },
     "execution_count": 54,
     "metadata": {},
     "output_type": "execute_result"
    }
   ],
   "source": [
    "DTR_Model2RS.fit(X_train, y_train) # Training the model with hyperparameters as per RandomizedSearchCV"
   ]
  },
  {
   "cell_type": "code",
   "execution_count": 55,
   "id": "0fba93be",
   "metadata": {
    "scrolled": true
   },
   "outputs": [
    {
     "name": "stdout",
     "output_type": "stream",
     "text": [
      "Train Accuracy - : 0.762\n"
     ]
    }
   ],
   "source": [
    "print(f'Train Accuracy - : {DTR_Model2RS.score(X_train,y_train):.3f}')\n",
    " "
   ]
  },
  {
   "cell_type": "markdown",
   "id": "564c1993",
   "metadata": {},
   "source": [
    "Now our model is not overfitting on train data\n"
   ]
  },
  {
   "cell_type": "markdown",
   "id": "9cb946fd",
   "metadata": {},
   "source": [
    "\n",
    "**Gauging the performance of the model**"
   ]
  },
  {
   "cell_type": "code",
   "execution_count": 56,
   "id": "c5e008d7",
   "metadata": {},
   "outputs": [],
   "source": [
    " score1a = cross_val_score(DTR_Model2RS,X_train, y_train, cv =5, scoring ='neg_root_mean_squared_error')\n",
    "score2a = cross_val_score(DTR_Model2RS,X_train, y_train, cv =5, scoring ='r2')\n"
   ]
  },
  {
   "cell_type": "code",
   "execution_count": 57,
   "id": "c3a068e6",
   "metadata": {
    "scrolled": true
   },
   "outputs": [
    {
     "name": "stdout",
     "output_type": "stream",
     "text": [
      "The rmse score is 0.2579332055502188\n",
      "The R square value is 0.757984353609797\n"
     ]
    }
   ],
   "source": [
    "rmsescorea2= np.abs(score1a).min\n",
    "r2scorea2 =score2a.max\n",
    "print(\"The rmse score is\", rmsescorea2().min())\n",
    "print(\"The R square value is\", r2scorea2().max())\n"
   ]
  },
  {
   "cell_type": "code",
   "execution_count": 58,
   "id": "8f95122c",
   "metadata": {},
   "outputs": [],
   "source": [
    "from sklearn.tree import plot_tree\n",
    " "
   ]
  },
  {
   "cell_type": "code",
   "execution_count": 59,
   "id": "7a04c3a8",
   "metadata": {},
   "outputs": [
    {
     "data": {
      "image/png": "[encoded data removed]",
      "text/plain": [
       "<Figure size 1080x720 with 1 Axes>"
      ]
     },
     "metadata": {},
     "output_type": "display_data"
    }
   ],
   "source": [
    "plt.figure(figsize = (15,10))\n",
    "plot_tree(DTR_Model2RS, filled = True)\n",
    "plt.show()"
   ]
  },
  {
   "cell_type": "markdown",
   "id": "e05bce8d",
   "metadata": {},
   "source": [
    "**Plotted Tree shows that it is not overfitted**"
   ]
  },
  {
   "cell_type": "markdown",
   "id": "61b0ae87",
   "metadata": {},
   "source": [
    "# Random Forest"
   ]
  },
  {
   "cell_type": "code",
   "execution_count": 60,
   "id": "cd2a2694",
   "metadata": {},
   "outputs": [],
   "source": [
    "rf_regressor = RandomForestRegressor()\n"
   ]
  },
  {
   "cell_type": "code",
   "execution_count": 61,
   "id": "c2392e24",
   "metadata": {},
   "outputs": [],
   "source": [
    "RFR_Model= rf_regressor.fit(X_train,y_train)\n"
   ]
  },
  {
   "cell_type": "code",
   "execution_count": 62,
   "id": "b1ecb91f",
   "metadata": {
    "scrolled": true
   },
   "outputs": [
    {
     "name": "stdout",
     "output_type": "stream",
     "text": [
      "Train Accuracy - : 0.983\n"
     ]
    }
   ],
   "source": [
    "print(f'Train Accuracy - : {RFR_Model.score(X_train,y_train):.3f}')"
   ]
  },
  {
   "cell_type": "markdown",
   "id": "f4965e01",
   "metadata": {},
   "source": [
    "# Hyperparameter Tunning with RandomizedSearchCV\n",
    "To find optimal hyperparameters to train the model"
   ]
  },
  {
   "cell_type": "code",
   "execution_count": 63,
   "id": "3cfad256",
   "metadata": {},
   "outputs": [
    {
     "data": {
      "text/plain": [
       "dict_keys(['bootstrap', 'ccp_alpha', 'criterion', 'max_depth', 'max_features', 'max_leaf_nodes', 'max_samples', 'min_impurity_decrease', 'min_samples_leaf', 'min_samples_split', 'min_weight_fraction_leaf', 'n_estimators', 'n_jobs', 'oob_score', 'random_state', 'verbose', 'warm_start'])"
      ]
     },
     "execution_count": 63,
     "metadata": {},
     "output_type": "execute_result"
    }
   ],
   "source": [
    "rf_regressor.get_params().keys()"
   ]
  },
  {
   "cell_type": "code",
   "execution_count": 64,
   "id": "4c8c7001",
   "metadata": {},
   "outputs": [],
   "source": [
    "n_estimators = [10,15,20,30] # number of trees in the random forest\n",
    "max_features = ['auto', 'sqrt'] # number of features in consideration at every split\n",
    "max_depth = [2,3,5,10,20] # maximum number of levels allowed in each decision tree\n",
    "min_samples_split = [2, 6, 10] # minimum sample number to split a node\n",
    "min_samples_leaf = [1, 3, 4] # minimum sample number that can be stored in a leaf node\n",
    "bootstrap = [True, False] # method used to sample data points\n"
   ]
  },
  {
   "cell_type": "code",
   "execution_count": 65,
   "id": "6e920925",
   "metadata": {},
   "outputs": [],
   "source": [
    "random_grid = {'n_estimators': n_estimators,\n",
    "\n",
    "'max_features': max_features,\n",
    "\n",
    "'max_depth': max_depth,\n",
    "\n",
    "'min_samples_split': min_samples_split,\n",
    "\n",
    "'min_samples_leaf': min_samples_leaf,\n",
    "\n",
    "'bootstrap': bootstrap}"
   ]
  },
  {
   "cell_type": "code",
   "execution_count": 66,
   "id": "b52744c9",
   "metadata": {},
   "outputs": [],
   "source": [
    "rf = RandomForestRegressor()"
   ]
  },
  {
   "cell_type": "code",
   "execution_count": 67,
   "id": "6953234c",
   "metadata": {},
   "outputs": [],
   "source": [
    "rf_random = RandomizedSearchCV(estimator = rf,param_distributions = random_grid,\n",
    "               n_iter = 10, cv = 5, verbose=2, random_state=35, n_jobs = -1)"
   ]
  },
  {
   "cell_type": "code",
   "execution_count": 68,
   "id": "45590649",
   "metadata": {
    "scrolled": false
   },
   "outputs": [
    {
     "name": "stdout",
     "output_type": "stream",
     "text": [
      "Fitting 5 folds for each of 10 candidates, totalling 50 fits\n"
     ]
    },
    {
     "data": {
      "text/html": [
       "<style>#sk-container-id-4 {color: black;background-color: white;}#sk-container-id-4 pre{padding: 0;}#sk-container-id-4 div.sk-toggleable {background-color: white;}#sk-container-id-4 label.sk-toggleable__label {cursor: pointer;display: block;width: 100%;margin-bottom: 0;padding: 0.3em;box-sizing: border-box;text-align: center;}#sk-container-id-4 label.sk-toggleable__label-arrow:before {content: \"▸\";float: left;margin-right: 0.25em;color: #696969;}#sk-container-id-4 label.sk-toggleable__label-arrow:hover:before {color: black;}#sk-container-id-4 div.sk-estimator:hover label.sk-toggleable__label-arrow:before {color: black;}#sk-container-id-4 div.sk-toggleable__content {max-height: 0;max-width: 0;overflow: hidden;text-align: left;background-color: #f0f8ff;}#sk-container-id-4 div.sk-toggleable__content pre {margin: 0.2em;color: black;border-radius: 0.25em;background-color: #f0f8ff;}#sk-container-id-4 input.sk-toggleable__control:checked~div.sk-toggleable__content {max-height: 200px;max-width: 100%;overflow: auto;}#sk-container-id-4 input.sk-toggleable__control:checked~label.sk-toggleable__label-arrow:before {content: \"▾\";}#sk-container-id-4 div.sk-estimator input.sk-toggleable__control:checked~label.sk-toggleable__label {background-color: #d4ebff;}#sk-container-id-4 div.sk-label input.sk-toggleable__control:checked~label.sk-toggleable__label {background-color: #d4ebff;}#sk-container-id-4 input.sk-hidden--visually {border: 0;clip: rect(1px 1px 1px 1px);clip: rect(1px, 1px, 1px, 1px);height: 1px;margin: -1px;overflow: hidden;padding: 0;position: absolute;width: 1px;}#sk-container-id-4 div.sk-estimator {font-family: monospace;background-color: #f0f8ff;border: 1px dotted black;border-radius: 0.25em;box-sizing: border-box;margin-bottom: 0.5em;}#sk-container-id-4 div.sk-estimator:hover {background-color: #d4ebff;}#sk-container-id-4 div.sk-parallel-item::after {content: \"\";width: 100%;border-bottom: 1px solid gray;flex-grow: 1;}#sk-container-id-4 div.sk-label:hover label.sk-toggleable__label {background-color: #d4ebff;}#sk-container-id-4 div.sk-serial::before {content: \"\";position: absolute;border-left: 1px solid gray;box-sizing: border-box;top: 0;bottom: 0;left: 50%;z-index: 0;}#sk-container-id-4 div.sk-serial {display: flex;flex-direction: column;align-items: center;background-color: white;padding-right: 0.2em;padding-left: 0.2em;position: relative;}#sk-container-id-4 div.sk-item {position: relative;z-index: 1;}#sk-container-id-4 div.sk-parallel {display: flex;align-items: stretch;justify-content: center;background-color: white;position: relative;}#sk-container-id-4 div.sk-item::before, #sk-container-id-4 div.sk-parallel-item::before {content: \"\";position: absolute;border-left: 1px solid gray;box-sizing: border-box;top: 0;bottom: 0;left: 50%;z-index: -1;}#sk-container-id-4 div.sk-parallel-item {display: flex;flex-direction: column;z-index: 1;position: relative;background-color: white;}#sk-container-id-4 div.sk-parallel-item:first-child::after {align-self: flex-end;width: 50%;}#sk-container-id-4 div.sk-parallel-item:last-child::after {align-self: flex-start;width: 50%;}#sk-container-id-4 div.sk-parallel-item:only-child::after {width: 0;}#sk-container-id-4 div.sk-dashed-wrapped {border: 1px dashed gray;margin: 0 0.4em 0.5em 0.4em;box-sizing: border-box;padding-bottom: 0.4em;background-color: white;}#sk-container-id-4 div.sk-label label {font-family: monospace;font-weight: bold;display: inline-block;line-height: 1.2em;}#sk-container-id-4 div.sk-label-container {text-align: center;}#sk-container-id-4 div.sk-container {/* jupyter's `normalize.less` sets `[hidden] { display: none; }` but bootstrap.min.css set `[hidden] { display: none !important; }` so we also need the `!important` here to be able to override the default hidden behavior on the sphinx rendered scikit-learn.org. See: https://github.com/scikit-learn/scikit-learn/issues/21755 */display: inline-block !important;position: relative;}#sk-container-id-4 div.sk-text-repr-fallback {display: none;}</style><div id=\"sk-container-id-4\" class=\"sk-top-container\"><div class=\"sk-text-repr-fallback\"><pre>RandomizedSearchCV(cv=5, estimator=RandomForestRegressor(), n_jobs=-1,\n",
       "                   param_distributions={&#x27;bootstrap&#x27;: [True, False],\n",
       "                                        &#x27;max_depth&#x27;: [2, 3, 5, 10, 20],\n",
       "                                        &#x27;max_features&#x27;: [&#x27;auto&#x27;, &#x27;sqrt&#x27;],\n",
       "                                        &#x27;min_samples_leaf&#x27;: [1, 3, 4],\n",
       "                                        &#x27;min_samples_split&#x27;: [2, 6, 10],\n",
       "                                        &#x27;n_estimators&#x27;: [10, 15, 20, 30]},\n",
       "                   random_state=35, verbose=2)</pre><b>In a Jupyter environment, please rerun this cell to show the HTML representation or trust the notebook. <br />On GitHub, the HTML representation is unable to render, please try loading this page with nbviewer.org.</b></div><div class=\"sk-container\" hidden><div class=\"sk-item sk-dashed-wrapped\"><div class=\"sk-label-container\"><div class=\"sk-label sk-toggleable\"><input class=\"sk-toggleable__control sk-hidden--visually\" id=\"sk-estimator-id-6\" type=\"checkbox\" ><label for=\"sk-estimator-id-6\" class=\"sk-toggleable__label sk-toggleable__label-arrow\">RandomizedSearchCV</label><div class=\"sk-toggleable__content\"><pre>RandomizedSearchCV(cv=5, estimator=RandomForestRegressor(), n_jobs=-1,\n",
       "                   param_distributions={&#x27;bootstrap&#x27;: [True, False],\n",
       "                                        &#x27;max_depth&#x27;: [2, 3, 5, 10, 20],\n",
       "                                        &#x27;max_features&#x27;: [&#x27;auto&#x27;, &#x27;sqrt&#x27;],\n",
       "                                        &#x27;min_samples_leaf&#x27;: [1, 3, 4],\n",
       "                                        &#x27;min_samples_split&#x27;: [2, 6, 10],\n",
       "                                        &#x27;n_estimators&#x27;: [10, 15, 20, 30]},\n",
       "                   random_state=35, verbose=2)</pre></div></div></div><div class=\"sk-parallel\"><div class=\"sk-parallel-item\"><div class=\"sk-item\"><div class=\"sk-label-container\"><div class=\"sk-label sk-toggleable\"><input class=\"sk-toggleable__control sk-hidden--visually\" id=\"sk-estimator-id-7\" type=\"checkbox\" ><label for=\"sk-estimator-id-7\" class=\"sk-toggleable__label sk-toggleable__label-arrow\">estimator: RandomForestRegressor</label><div class=\"sk-toggleable__content\"><pre>RandomForestRegressor()</pre></div></div></div><div class=\"sk-serial\"><div class=\"sk-item\"><div class=\"sk-estimator sk-toggleable\"><input class=\"sk-toggleable__control sk-hidden--visually\" id=\"sk-estimator-id-8\" type=\"checkbox\" ><label for=\"sk-estimator-id-8\" class=\"sk-toggleable__label sk-toggleable__label-arrow\">RandomForestRegressor</label><div class=\"sk-toggleable__content\"><pre>RandomForestRegressor()</pre></div></div></div></div></div></div></div></div></div></div>"
      ],
      "text/plain": [
       "RandomizedSearchCV(cv=5, estimator=RandomForestRegressor(), n_jobs=-1,\n",
       "                   param_distributions={'bootstrap': [True, False],\n",
       "                                        'max_depth': [2, 3, 5, 10, 20],\n",
       "                                        'max_features': ['auto', 'sqrt'],\n",
       "                                        'min_samples_leaf': [1, 3, 4],\n",
       "                                        'min_samples_split': [2, 6, 10],\n",
       "                                        'n_estimators': [10, 15, 20, 30]},\n",
       "                   random_state=35, verbose=2)"
      ]
     },
     "execution_count": 68,
     "metadata": {},
     "output_type": "execute_result"
    }
   ],
   "source": [
    "rf_random.fit(X_train, y_train)"
   ]
  },
  {
   "cell_type": "markdown",
   "id": "e530cd0b",
   "metadata": {},
   "source": [
    "Print the best parameters"
   ]
  },
  {
   "cell_type": "code",
   "execution_count": 69,
   "id": "2c2edbc0",
   "metadata": {
    "scrolled": true
   },
   "outputs": [
    {
     "data": {
      "text/plain": [
       "{'n_estimators': 30,\n",
       " 'min_samples_split': 10,\n",
       " 'min_samples_leaf': 1,\n",
       " 'max_features': 'sqrt',\n",
       " 'max_depth': 20,\n",
       " 'bootstrap': False}"
      ]
     },
     "execution_count": 69,
     "metadata": {},
     "output_type": "execute_result"
    }
   ],
   "source": [
    "rf_random.best_params_"
   ]
  },
  {
   "cell_type": "markdown",
   "id": "a4b8278a",
   "metadata": {},
   "source": [
    "Using the best parameters"
   ]
  },
  {
   "cell_type": "code",
   "execution_count": 70,
   "id": "15554357",
   "metadata": {},
   "outputs": [],
   "source": [
    "randmf = RandomForestRegressor(n_estimators= 30, min_samples_split= 10, min_samples_leaf= 1, max_features= 'sqrt', max_depth= 20, bootstrap= False)\n"
   ]
  },
  {
   "cell_type": "code",
   "execution_count": 71,
   "id": "91e052b1",
   "metadata": {},
   "outputs": [
    {
     "data": {
      "text/html": [
       "<style>#sk-container-id-5 {color: black;background-color: white;}#sk-container-id-5 pre{padding: 0;}#sk-container-id-5 div.sk-toggleable {background-color: white;}#sk-container-id-5 label.sk-toggleable__label {cursor: pointer;display: block;width: 100%;margin-bottom: 0;padding: 0.3em;box-sizing: border-box;text-align: center;}#sk-container-id-5 label.sk-toggleable__label-arrow:before {content: \"▸\";float: left;margin-right: 0.25em;color: #696969;}#sk-container-id-5 label.sk-toggleable__label-arrow:hover:before {color: black;}#sk-container-id-5 div.sk-estimator:hover label.sk-toggleable__label-arrow:before {color: black;}#sk-container-id-5 div.sk-toggleable__content {max-height: 0;max-width: 0;overflow: hidden;text-align: left;background-color: #f0f8ff;}#sk-container-id-5 div.sk-toggleable__content pre {margin: 0.2em;color: black;border-radius: 0.25em;background-color: #f0f8ff;}#sk-container-id-5 input.sk-toggleable__control:checked~div.sk-toggleable__content {max-height: 200px;max-width: 100%;overflow: auto;}#sk-container-id-5 input.sk-toggleable__control:checked~label.sk-toggleable__label-arrow:before {content: \"▾\";}#sk-container-id-5 div.sk-estimator input.sk-toggleable__control:checked~label.sk-toggleable__label {background-color: #d4ebff;}#sk-container-id-5 div.sk-label input.sk-toggleable__control:checked~label.sk-toggleable__label {background-color: #d4ebff;}#sk-container-id-5 input.sk-hidden--visually {border: 0;clip: rect(1px 1px 1px 1px);clip: rect(1px, 1px, 1px, 1px);height: 1px;margin: -1px;overflow: hidden;padding: 0;position: absolute;width: 1px;}#sk-container-id-5 div.sk-estimator {font-family: monospace;background-color: #f0f8ff;border: 1px dotted black;border-radius: 0.25em;box-sizing: border-box;margin-bottom: 0.5em;}#sk-container-id-5 div.sk-estimator:hover {background-color: #d4ebff;}#sk-container-id-5 div.sk-parallel-item::after {content: \"\";width: 100%;border-bottom: 1px solid gray;flex-grow: 1;}#sk-container-id-5 div.sk-label:hover label.sk-toggleable__label {background-color: #d4ebff;}#sk-container-id-5 div.sk-serial::before {content: \"\";position: absolute;border-left: 1px solid gray;box-sizing: border-box;top: 0;bottom: 0;left: 50%;z-index: 0;}#sk-container-id-5 div.sk-serial {display: flex;flex-direction: column;align-items: center;background-color: white;padding-right: 0.2em;padding-left: 0.2em;position: relative;}#sk-container-id-5 div.sk-item {position: relative;z-index: 1;}#sk-container-id-5 div.sk-parallel {display: flex;align-items: stretch;justify-content: center;background-color: white;position: relative;}#sk-container-id-5 div.sk-item::before, #sk-container-id-5 div.sk-parallel-item::before {content: \"\";position: absolute;border-left: 1px solid gray;box-sizing: border-box;top: 0;bottom: 0;left: 50%;z-index: -1;}#sk-container-id-5 div.sk-parallel-item {display: flex;flex-direction: column;z-index: 1;position: relative;background-color: white;}#sk-container-id-5 div.sk-parallel-item:first-child::after {align-self: flex-end;width: 50%;}#sk-container-id-5 div.sk-parallel-item:last-child::after {align-self: flex-start;width: 50%;}#sk-container-id-5 div.sk-parallel-item:only-child::after {width: 0;}#sk-container-id-5 div.sk-dashed-wrapped {border: 1px dashed gray;margin: 0 0.4em 0.5em 0.4em;box-sizing: border-box;padding-bottom: 0.4em;background-color: white;}#sk-container-id-5 div.sk-label label {font-family: monospace;font-weight: bold;display: inline-block;line-height: 1.2em;}#sk-container-id-5 div.sk-label-container {text-align: center;}#sk-container-id-5 div.sk-container {/* jupyter's `normalize.less` sets `[hidden] { display: none; }` but bootstrap.min.css set `[hidden] { display: none !important; }` so we also need the `!important` here to be able to override the default hidden behavior on the sphinx rendered scikit-learn.org. See: https://github.com/scikit-learn/scikit-learn/issues/21755 */display: inline-block !important;position: relative;}#sk-container-id-5 div.sk-text-repr-fallback {display: none;}</style><div id=\"sk-container-id-5\" class=\"sk-top-container\"><div class=\"sk-text-repr-fallback\"><pre>RandomForestRegressor(bootstrap=False, max_depth=20, max_features=&#x27;sqrt&#x27;,\n",
       "                      min_samples_split=10, n_estimators=30)</pre><b>In a Jupyter environment, please rerun this cell to show the HTML representation or trust the notebook. <br />On GitHub, the HTML representation is unable to render, please try loading this page with nbviewer.org.</b></div><div class=\"sk-container\" hidden><div class=\"sk-item\"><div class=\"sk-estimator sk-toggleable\"><input class=\"sk-toggleable__control sk-hidden--visually\" id=\"sk-estimator-id-9\" type=\"checkbox\" checked><label for=\"sk-estimator-id-9\" class=\"sk-toggleable__label sk-toggleable__label-arrow\">RandomForestRegressor</label><div class=\"sk-toggleable__content\"><pre>RandomForestRegressor(bootstrap=False, max_depth=20, max_features=&#x27;sqrt&#x27;,\n",
       "                      min_samples_split=10, n_estimators=30)</pre></div></div></div></div></div>"
      ],
      "text/plain": [
       "RandomForestRegressor(bootstrap=False, max_depth=20, max_features='sqrt',\n",
       "                      min_samples_split=10, n_estimators=30)"
      ]
     },
     "execution_count": 71,
     "metadata": {},
     "output_type": "execute_result"
    }
   ],
   "source": [
    "randmf.fit( X_train, y_train) "
   ]
  },
  {
   "cell_type": "code",
   "execution_count": 72,
   "id": "1dc05ea8",
   "metadata": {},
   "outputs": [
    {
     "name": "stdout",
     "output_type": "stream",
     "text": [
      "Train Accuracy - : 0.979\n"
     ]
    }
   ],
   "source": [
    "print(f'Train Accuracy - : {randmf.score(X_train,y_train):.3f}')"
   ]
  },
  {
   "cell_type": "markdown",
   "id": "5438f0f0",
   "metadata": {},
   "source": [
    "**Gauging the performance of the model**"
   ]
  },
  {
   "cell_type": "code",
   "execution_count": 73,
   "id": "d4e7b482",
   "metadata": {},
   "outputs": [],
   "source": [
    " score3a = cross_val_score(randmf,X_train, y_train, cv =5, scoring ='neg_root_mean_squared_error')\n",
    "score3b = cross_val_score(randmf,X_train, y_train, cv =5, scoring ='r2')"
   ]
  },
  {
   "cell_type": "code",
   "execution_count": 74,
   "id": "5a679c34",
   "metadata": {},
   "outputs": [
    {
     "name": "stdout",
     "output_type": "stream",
     "text": [
      "The rmse score is 0.17949373180032\n",
      "The R square value is 0.8852776173333841\n"
     ]
    }
   ],
   "source": [
    "rmsescorea3= np.abs(score3a).min\n",
    "r2scorea3 =score3b.max\n",
    "print(\"The rmse score is\", rmsescorea3().min())\n",
    "print(\"The R square value is\", r2scorea3().max())"
   ]
  },
  {
   "cell_type": "code",
   "execution_count": 75,
   "id": "88219fb1",
   "metadata": {},
   "outputs": [
    {
     "data": {
      "text/plain": [
       "array([0.00636785, 0.06268901, 0.01799226, 0.01020723, 0.00726733,\n",
       "       0.02467716, 0.00575583, 0.20299104, 0.07621834, 0.02204779,\n",
       "       0.02130488, 0.00221897, 0.02972928, 0.25128601, 0.02939481,\n",
       "       0.07611865, 0.02336681, 0.10845429, 0.00154404, 0.02036844])"
      ]
     },
     "execution_count": 75,
     "metadata": {},
     "output_type": "execute_result"
    }
   ],
   "source": [
    "# Random forest determined feature importances\n",
    "randmf.feature_importances_"
   ]
  },
  {
   "cell_type": "code",
   "execution_count": 76,
   "id": "ba5f8955",
   "metadata": {},
   "outputs": [
    {
     "name": "stdout",
     "output_type": "stream",
     "text": [
      "['lat', 'grade', 'logged sqft_living', 'sqft_above', 'sqft_living15', 'bathrooms', 'zipcode', 'long', 'view', 'sqft_lot15', 'sqft_basement', 'yr_built', 'age', 'sqft_lot', 'floors']\n"
     ]
    }
   ],
   "source": [
    "importance = randmf.feature_importances_\n",
    "\n",
    "# map feature importance values to the features\n",
    "feature_importances = zip(importance, X.columns)\n",
    "#list(feature_importances)\n",
    "\n",
    "sorted_feature_importances = sorted(feature_importances, reverse = True)\n",
    "#print(sorted_feature_importances)\n",
    "\n",
    "top_15_predictors = sorted_feature_importances[0:15]\n",
    "values = [value for value, predictors in top_15_predictors]\n",
    "predictors = [predictors for value, predictors in top_15_predictors]\n",
    "print(predictors)"
   ]
  },
  {
   "cell_type": "code",
   "execution_count": 77,
   "id": "3656b604",
   "metadata": {},
   "outputs": [
    {
     "data": {
      "image/png": "[encoded data removed]",
      "text/plain": [
       "<Figure size 432x288 with 1 Axes>"
      ]
     },
     "metadata": {},
     "output_type": "display_data"
    }
   ],
   "source": [
    "# Plot the feature importances of the forest\n",
    "plt.figure()\n",
    "plt.title(\"Feature importances\")\n",
    "plt.bar(range(len(predictors)), values,color=\"r\", align=\"center\");\n",
    "plt.xticks(range(len(predictors)), predictors, rotation=90);"
   ]
  },
  {
   "cell_type": "markdown",
   "id": "bf531544",
   "metadata": {},
   "source": [
    "# Testing with Random Forest"
   ]
  },
  {
   "cell_type": "code",
   "execution_count": 78,
   "id": "9095cb6d",
   "metadata": {},
   "outputs": [
    {
     "data": {
      "text/html": [
       "<style>#sk-container-id-6 {color: black;background-color: white;}#sk-container-id-6 pre{padding: 0;}#sk-container-id-6 div.sk-toggleable {background-color: white;}#sk-container-id-6 label.sk-toggleable__label {cursor: pointer;display: block;width: 100%;margin-bottom: 0;padding: 0.3em;box-sizing: border-box;text-align: center;}#sk-container-id-6 label.sk-toggleable__label-arrow:before {content: \"▸\";float: left;margin-right: 0.25em;color: #696969;}#sk-container-id-6 label.sk-toggleable__label-arrow:hover:before {color: black;}#sk-container-id-6 div.sk-estimator:hover label.sk-toggleable__label-arrow:before {color: black;}#sk-container-id-6 div.sk-toggleable__content {max-height: 0;max-width: 0;overflow: hidden;text-align: left;background-color: #f0f8ff;}#sk-container-id-6 div.sk-toggleable__content pre {margin: 0.2em;color: black;border-radius: 0.25em;background-color: #f0f8ff;}#sk-container-id-6 input.sk-toggleable__control:checked~div.sk-toggleable__content {max-height: 200px;max-width: 100%;overflow: auto;}#sk-container-id-6 input.sk-toggleable__control:checked~label.sk-toggleable__label-arrow:before {content: \"▾\";}#sk-container-id-6 div.sk-estimator input.sk-toggleable__control:checked~label.sk-toggleable__label {background-color: #d4ebff;}#sk-container-id-6 div.sk-label input.sk-toggleable__control:checked~label.sk-toggleable__label {background-color: #d4ebff;}#sk-container-id-6 input.sk-hidden--visually {border: 0;clip: rect(1px 1px 1px 1px);clip: rect(1px, 1px, 1px, 1px);height: 1px;margin: -1px;overflow: hidden;padding: 0;position: absolute;width: 1px;}#sk-container-id-6 div.sk-estimator {font-family: monospace;background-color: #f0f8ff;border: 1px dotted black;border-radius: 0.25em;box-sizing: border-box;margin-bottom: 0.5em;}#sk-container-id-6 div.sk-estimator:hover {background-color: #d4ebff;}#sk-container-id-6 div.sk-parallel-item::after {content: \"\";width: 100%;border-bottom: 1px solid gray;flex-grow: 1;}#sk-container-id-6 div.sk-label:hover label.sk-toggleable__label {background-color: #d4ebff;}#sk-container-id-6 div.sk-serial::before {content: \"\";position: absolute;border-left: 1px solid gray;box-sizing: border-box;top: 0;bottom: 0;left: 50%;z-index: 0;}#sk-container-id-6 div.sk-serial {display: flex;flex-direction: column;align-items: center;background-color: white;padding-right: 0.2em;padding-left: 0.2em;position: relative;}#sk-container-id-6 div.sk-item {position: relative;z-index: 1;}#sk-container-id-6 div.sk-parallel {display: flex;align-items: stretch;justify-content: center;background-color: white;position: relative;}#sk-container-id-6 div.sk-item::before, #sk-container-id-6 div.sk-parallel-item::before {content: \"\";position: absolute;border-left: 1px solid gray;box-sizing: border-box;top: 0;bottom: 0;left: 50%;z-index: -1;}#sk-container-id-6 div.sk-parallel-item {display: flex;flex-direction: column;z-index: 1;position: relative;background-color: white;}#sk-container-id-6 div.sk-parallel-item:first-child::after {align-self: flex-end;width: 50%;}#sk-container-id-6 div.sk-parallel-item:last-child::after {align-self: flex-start;width: 50%;}#sk-container-id-6 div.sk-parallel-item:only-child::after {width: 0;}#sk-container-id-6 div.sk-dashed-wrapped {border: 1px dashed gray;margin: 0 0.4em 0.5em 0.4em;box-sizing: border-box;padding-bottom: 0.4em;background-color: white;}#sk-container-id-6 div.sk-label label {font-family: monospace;font-weight: bold;display: inline-block;line-height: 1.2em;}#sk-container-id-6 div.sk-label-container {text-align: center;}#sk-container-id-6 div.sk-container {/* jupyter's `normalize.less` sets `[hidden] { display: none; }` but bootstrap.min.css set `[hidden] { display: none !important; }` so we also need the `!important` here to be able to override the default hidden behavior on the sphinx rendered scikit-learn.org. See: https://github.com/scikit-learn/scikit-learn/issues/21755 */display: inline-block !important;position: relative;}#sk-container-id-6 div.sk-text-repr-fallback {display: none;}</style><div id=\"sk-container-id-6\" class=\"sk-top-container\"><div class=\"sk-text-repr-fallback\"><pre>RandomForestRegressor(bootstrap=False, max_depth=20, max_features=&#x27;sqrt&#x27;,\n",
       "                      min_samples_split=10, n_estimators=30)</pre><b>In a Jupyter environment, please rerun this cell to show the HTML representation or trust the notebook. <br />On GitHub, the HTML representation is unable to render, please try loading this page with nbviewer.org.</b></div><div class=\"sk-container\" hidden><div class=\"sk-item\"><div class=\"sk-estimator sk-toggleable\"><input class=\"sk-toggleable__control sk-hidden--visually\" id=\"sk-estimator-id-10\" type=\"checkbox\" checked><label for=\"sk-estimator-id-10\" class=\"sk-toggleable__label sk-toggleable__label-arrow\">RandomForestRegressor</label><div class=\"sk-toggleable__content\"><pre>RandomForestRegressor(bootstrap=False, max_depth=20, max_features=&#x27;sqrt&#x27;,\n",
       "                      min_samples_split=10, n_estimators=30)</pre></div></div></div></div></div>"
      ],
      "text/plain": [
       "RandomForestRegressor(bootstrap=False, max_depth=20, max_features='sqrt',\n",
       "                      min_samples_split=10, n_estimators=30)"
      ]
     },
     "execution_count": 78,
     "metadata": {},
     "output_type": "execute_result"
    }
   ],
   "source": [
    "randmf.fit(X_train, y_train)"
   ]
  },
  {
   "cell_type": "code",
   "execution_count": 79,
   "id": "ef6e7410",
   "metadata": {},
   "outputs": [
    {
     "data": {
      "text/plain": [
       "array([12.61265875, 14.28573   , 13.19568517, ..., 12.7347056 ,\n",
       "       12.35646747, 12.21531976])"
      ]
     },
     "execution_count": 79,
     "metadata": {},
     "output_type": "execute_result"
    }
   ],
   "source": [
    "pre4=randmf.predict(X_test)\n",
    "pre4"
   ]
  },
  {
   "cell_type": "code",
   "execution_count": 80,
   "id": "637ada5a",
   "metadata": {},
   "outputs": [
    {
     "name": "stdout",
     "output_type": "stream",
     "text": [
      "Test Accuracy - : 0.885\n"
     ]
    }
   ],
   "source": [
    "print(f'Test Accuracy - : {randmf.score(X_test,y_test):.3f}')"
   ]
  },
  {
   "cell_type": "code",
   "execution_count": 81,
   "id": "e2495e4b",
   "metadata": {
    "scrolled": true
   },
   "outputs": [
    {
     "name": "stdout",
     "output_type": "stream",
     "text": [
      "RMSE : 0.17834985736532685\n",
      "MAE : 0.1260726381476604\n"
     ]
    }
   ],
   "source": [
    "rmsrf= mean_squared_error(y_test, pre4, squared=False)\n",
    "mae3= mean_absolute_error(y_test, pre4)\n",
    "print(\"RMSE :\", rmsrf) # RMSE, # squared  If True returns MSE value, if False returns RMSE value\n",
    "print(\"MAE :\", mae3)"
   ]
  },
  {
   "cell_type": "markdown",
   "id": "24559583",
   "metadata": {},
   "source": [
    "Testing for 5 folds"
   ]
  },
  {
   "cell_type": "code",
   "execution_count": 82,
   "id": "f8fd7da2",
   "metadata": {},
   "outputs": [],
   "source": [
    " score3a = cross_val_score(randmf,X_test, y_test, cv =5, scoring ='neg_root_mean_squared_error')\n",
    "score3b = cross_val_score(randmf,X_test, y_test, cv =5, scoring ='r2')"
   ]
  },
  {
   "cell_type": "code",
   "execution_count": 157,
   "id": "8f0b2d15",
   "metadata": {
    "scrolled": true
   },
   "outputs": [
    {
     "name": "stdout",
     "output_type": "stream",
     "text": [
      "The rmse score is 0.17658063094763823\n",
      "The R square value is 0.8825509984266364\n"
     ]
    }
   ],
   "source": [
    "rmsescorea3= np.abs(score3a).min\n",
    "r2scorea3 =score3b.max\n",
    "print(\"The rmse score is\", rmsescorea3().min())\n",
    "print(\"The R square value is\", r2scorea3().max())"
   ]
  },
  {
   "cell_type": "markdown",
   "id": "2e3223db",
   "metadata": {},
   "source": [
    "# Testing with Decision Tree Model"
   ]
  },
  {
   "cell_type": "markdown",
   "id": "52ed0a9e",
   "metadata": {},
   "source": [
    "After fitting all the model, it is time to   evaluate their performance on the test dataset.\n",
    "\n",
    " "
   ]
  },
  {
   "cell_type": "code",
   "execution_count": 84,
   "id": "6b4c733b",
   "metadata": {},
   "outputs": [
    {
     "data": {
      "text/html": [
       "<style>#sk-container-id-7 {color: black;background-color: white;}#sk-container-id-7 pre{padding: 0;}#sk-container-id-7 div.sk-toggleable {background-color: white;}#sk-container-id-7 label.sk-toggleable__label {cursor: pointer;display: block;width: 100%;margin-bottom: 0;padding: 0.3em;box-sizing: border-box;text-align: center;}#sk-container-id-7 label.sk-toggleable__label-arrow:before {content: \"▸\";float: left;margin-right: 0.25em;color: #696969;}#sk-container-id-7 label.sk-toggleable__label-arrow:hover:before {color: black;}#sk-container-id-7 div.sk-estimator:hover label.sk-toggleable__label-arrow:before {color: black;}#sk-container-id-7 div.sk-toggleable__content {max-height: 0;max-width: 0;overflow: hidden;text-align: left;background-color: #f0f8ff;}#sk-container-id-7 div.sk-toggleable__content pre {margin: 0.2em;color: black;border-radius: 0.25em;background-color: #f0f8ff;}#sk-container-id-7 input.sk-toggleable__control:checked~div.sk-toggleable__content {max-height: 200px;max-width: 100%;overflow: auto;}#sk-container-id-7 input.sk-toggleable__control:checked~label.sk-toggleable__label-arrow:before {content: \"▾\";}#sk-container-id-7 div.sk-estimator input.sk-toggleable__control:checked~label.sk-toggleable__label {background-color: #d4ebff;}#sk-container-id-7 div.sk-label input.sk-toggleable__control:checked~label.sk-toggleable__label {background-color: #d4ebff;}#sk-container-id-7 input.sk-hidden--visually {border: 0;clip: rect(1px 1px 1px 1px);clip: rect(1px, 1px, 1px, 1px);height: 1px;margin: -1px;overflow: hidden;padding: 0;position: absolute;width: 1px;}#sk-container-id-7 div.sk-estimator {font-family: monospace;background-color: #f0f8ff;border: 1px dotted black;border-radius: 0.25em;box-sizing: border-box;margin-bottom: 0.5em;}#sk-container-id-7 div.sk-estimator:hover {background-color: #d4ebff;}#sk-container-id-7 div.sk-parallel-item::after {content: \"\";width: 100%;border-bottom: 1px solid gray;flex-grow: 1;}#sk-container-id-7 div.sk-label:hover label.sk-toggleable__label {background-color: #d4ebff;}#sk-container-id-7 div.sk-serial::before {content: \"\";position: absolute;border-left: 1px solid gray;box-sizing: border-box;top: 0;bottom: 0;left: 50%;z-index: 0;}#sk-container-id-7 div.sk-serial {display: flex;flex-direction: column;align-items: center;background-color: white;padding-right: 0.2em;padding-left: 0.2em;position: relative;}#sk-container-id-7 div.sk-item {position: relative;z-index: 1;}#sk-container-id-7 div.sk-parallel {display: flex;align-items: stretch;justify-content: center;background-color: white;position: relative;}#sk-container-id-7 div.sk-item::before, #sk-container-id-7 div.sk-parallel-item::before {content: \"\";position: absolute;border-left: 1px solid gray;box-sizing: border-box;top: 0;bottom: 0;left: 50%;z-index: -1;}#sk-container-id-7 div.sk-parallel-item {display: flex;flex-direction: column;z-index: 1;position: relative;background-color: white;}#sk-container-id-7 div.sk-parallel-item:first-child::after {align-self: flex-end;width: 50%;}#sk-container-id-7 div.sk-parallel-item:last-child::after {align-self: flex-start;width: 50%;}#sk-container-id-7 div.sk-parallel-item:only-child::after {width: 0;}#sk-container-id-7 div.sk-dashed-wrapped {border: 1px dashed gray;margin: 0 0.4em 0.5em 0.4em;box-sizing: border-box;padding-bottom: 0.4em;background-color: white;}#sk-container-id-7 div.sk-label label {font-family: monospace;font-weight: bold;display: inline-block;line-height: 1.2em;}#sk-container-id-7 div.sk-label-container {text-align: center;}#sk-container-id-7 div.sk-container {/* jupyter's `normalize.less` sets `[hidden] { display: none; }` but bootstrap.min.css set `[hidden] { display: none !important; }` so we also need the `!important` here to be able to override the default hidden behavior on the sphinx rendered scikit-learn.org. See: https://github.com/scikit-learn/scikit-learn/issues/21755 */display: inline-block !important;position: relative;}#sk-container-id-7 div.sk-text-repr-fallback {display: none;}</style><div id=\"sk-container-id-7\" class=\"sk-top-container\"><div class=\"sk-text-repr-fallback\"><pre>DecisionTreeRegressor(ccp_alpha=0.001, criterion=&#x27;absolute_error&#x27;, max_depth=20,\n",
       "                      max_features=&#x27;auto&#x27;, min_samples_leaf=3,\n",
       "                      min_samples_split=12)</pre><b>In a Jupyter environment, please rerun this cell to show the HTML representation or trust the notebook. <br />On GitHub, the HTML representation is unable to render, please try loading this page with nbviewer.org.</b></div><div class=\"sk-container\" hidden><div class=\"sk-item\"><div class=\"sk-estimator sk-toggleable\"><input class=\"sk-toggleable__control sk-hidden--visually\" id=\"sk-estimator-id-11\" type=\"checkbox\" checked><label for=\"sk-estimator-id-11\" class=\"sk-toggleable__label sk-toggleable__label-arrow\">DecisionTreeRegressor</label><div class=\"sk-toggleable__content\"><pre>DecisionTreeRegressor(ccp_alpha=0.001, criterion=&#x27;absolute_error&#x27;, max_depth=20,\n",
       "                      max_features=&#x27;auto&#x27;, min_samples_leaf=3,\n",
       "                      min_samples_split=12)</pre></div></div></div></div></div>"
      ],
      "text/plain": [
       "DecisionTreeRegressor(ccp_alpha=0.001, criterion='absolute_error', max_depth=20,\n",
       "                      max_features='auto', min_samples_leaf=3,\n",
       "                      min_samples_split=12)"
      ]
     },
     "execution_count": 84,
     "metadata": {},
     "output_type": "execute_result"
    }
   ],
   "source": [
    "DTR_Model2RS.fit(X_train, y_train)\n"
   ]
  },
  {
   "cell_type": "code",
   "execution_count": 85,
   "id": "3fef98c1",
   "metadata": {},
   "outputs": [
    {
     "data": {
      "text/plain": [
       "array([12.74256602, 14.08383268, 13.08455766, ..., 12.67607627,\n",
       "       12.42881612, 12.42881612])"
      ]
     },
     "execution_count": 85,
     "metadata": {},
     "output_type": "execute_result"
    }
   ],
   "source": [
    "pre3=DTR_Model2RS.predict(X_test)\n",
    "pre3\n"
   ]
  },
  {
   "cell_type": "code",
   "execution_count": 86,
   "id": "94d2b65d",
   "metadata": {},
   "outputs": [
    {
     "name": "stdout",
     "output_type": "stream",
     "text": [
      "Test Accuracy - : 0.764\n"
     ]
    }
   ],
   "source": [
    "print(f'Test Accuracy - : {DTR_Model2RS.score(X_test,y_test):.3f}')\n"
   ]
  },
  {
   "cell_type": "code",
   "execution_count": 87,
   "id": "a0d89e5d",
   "metadata": {
    "scrolled": false
   },
   "outputs": [
    {
     "name": "stdout",
     "output_type": "stream",
     "text": [
      "RMSE : 0.2549401676297483\n",
      "MAE : 0.18823794171112648\n"
     ]
    }
   ],
   "source": [
    "rmsDTR= mean_squared_error(y_test, pre3, squared=False)\n",
    "mae1= mean_absolute_error(y_test, pre3)\n",
    "print(\"RMSE :\", rmsDTR) # RMSE, # squared  If True returns MSE value, if False returns RMSE value\n",
    "print(\"MAE :\", mae1)"
   ]
  },
  {
   "cell_type": "markdown",
   "id": "6041433e",
   "metadata": {},
   "source": [
    "Testing for 5 folds"
   ]
  },
  {
   "cell_type": "code",
   "execution_count": 88,
   "id": "0fcda679",
   "metadata": {},
   "outputs": [],
   "source": [
    " score1a = cross_val_score(DTR_Model2RS,X_test, y_test, cv =5, scoring ='neg_root_mean_squared_error')\n",
    "score2a = cross_val_score(DTR_Model2RS,X_test, y_test, cv =5, scoring ='r2')\n"
   ]
  },
  {
   "cell_type": "code",
   "execution_count": 153,
   "id": "ebbda88f",
   "metadata": {},
   "outputs": [
    {
     "name": "stdout",
     "output_type": "stream",
     "text": [
      "The rmse score is 0.2476693789174272\n",
      "The R square value is 0.7790776484770369\n"
     ]
    }
   ],
   "source": [
    " \n",
    "rmsescorea2= np.abs(score1a)\n",
    "r2scorea2 =score2a.max\n",
    "print(\"The rmse score is\", rmsescorea2.min())\n",
    "print(\"The R square value is\", r2scorea2().max())"
   ]
  },
  {
   "cell_type": "markdown",
   "id": "cb741f72",
   "metadata": {},
   "source": [
    "# Testing with Linear Regression Model"
   ]
  },
  {
   "cell_type": "code",
   "execution_count": 121,
   "id": "d6ee5c2c",
   "metadata": {},
   "outputs": [],
   "source": [
    "# Defining xtest with same parameters selected via forward selection\n",
    "x_testbest = X_test[['bathrooms',\n",
    " 'waterfront',\n",
    " 'view',\n",
    " 'grade',\n",
    " 'lat',\n",
    " 'sqft_living15',\n",
    " 'logged sqft_living',\n",
    " 'age']]"
   ]
  },
  {
   "cell_type": "code",
   "execution_count": 122,
   "id": "fd0f3676",
   "metadata": {
    "scrolled": true
   },
   "outputs": [
    {
     "data": {
      "text/plain": [
       "array([12.83922392, 14.3831766 , 13.04311749, ..., 12.62528661,\n",
       "       12.49551001, 12.33188429])"
      ]
     },
     "execution_count": 122,
     "metadata": {},
     "output_type": "execute_result"
    }
   ],
   "source": [
    "model.fit(x_trainbest, y_train) \n",
    "pre2=model.predict(x_testbest)\n",
    "pre2"
   ]
  },
  {
   "cell_type": "code",
   "execution_count": 123,
   "id": "c730e224",
   "metadata": {},
   "outputs": [
    {
     "name": "stdout",
     "output_type": "stream",
     "text": [
      "Test Accuracy - : 0.764\n"
     ]
    }
   ],
   "source": [
    "print(f'Test Accuracy - : {model.score(x_testbest,y_test):.3f}')"
   ]
  },
  {
   "cell_type": "code",
   "execution_count": 124,
   "id": "2ac803d8",
   "metadata": {},
   "outputs": [
    {
     "name": "stdout",
     "output_type": "stream",
     "text": [
      "RMSE : 0.2552451476735597\n",
      "MAE : 0.19743324599079695\n"
     ]
    }
   ],
   "source": [
    "rmslr = mean_squared_error(y_test, pre2, squared=False)\n",
    "mae2 = mean_absolute_error(y_test, pre2)\n",
    "print(\"RMSE :\", rmslr) # RMSE, # squared  If True returns MSE value, if False returns RMSE value\n",
    "print(\"MAE :\", mae2)"
   ]
  },
  {
   "cell_type": "markdown",
   "id": "c621fff7",
   "metadata": {},
   "source": [
    "Testing for 5 folds"
   ]
  },
  {
   "cell_type": "code",
   "execution_count": 125,
   "id": "7173ebc6",
   "metadata": {},
   "outputs": [],
   "source": [
    "score1 = cross_val_score(model, x_testbest, y_test, cv = 5, scoring = 'r2')\n",
    "score2 = cross_val_score(model, x_testbest, y_test, cv = 5, scoring = 'neg_root_mean_squared_error')"
   ]
  },
  {
   "cell_type": "code",
   "execution_count": 126,
   "id": "919dd717",
   "metadata": {},
   "outputs": [
    {
     "name": "stdout",
     "output_type": "stream",
     "text": [
      "The rms value is 0.2493541727472672\n",
      "The r square value is 0.7625947756126903\n"
     ]
    }
   ],
   "source": [
    "rmselr= np.abs(score2)\n",
    "print('The rms value is',rmselr.min() )\n",
    "print('The r square value is', score1.mean())"
   ]
  },
  {
   "cell_type": "code",
   "execution_count": 127,
   "id": "5dce4a7f",
   "metadata": {},
   "outputs": [],
   "source": [
    "from sklearn.metrics import explained_variance_score"
   ]
  },
  {
   "cell_type": "code",
   "execution_count": 128,
   "id": "4de54e4b",
   "metadata": {},
   "outputs": [],
   "source": [
    "expl_mlr = explained_variance_score(pre2,y_test)"
   ]
  },
  {
   "cell_type": "code",
   "execution_count": 129,
   "id": "1b39d2ba",
   "metadata": {},
   "outputs": [
    {
     "data": {
      "text/plain": [
       "0.6894492791850799"
      ]
     },
     "execution_count": 129,
     "metadata": {},
     "output_type": "execute_result"
    }
   ],
   "source": [
    "expl_mlr"
   ]
  },
  {
   "cell_type": "code",
   "execution_count": 130,
   "id": "50c6bb95",
   "metadata": {},
   "outputs": [],
   "source": [
    "expl_tr = explained_variance_score(pre3,y_test)"
   ]
  },
  {
   "cell_type": "code",
   "execution_count": 131,
   "id": "42830eb3",
   "metadata": {},
   "outputs": [
    {
     "data": {
      "text/plain": [
       "0.6823028498921757"
      ]
     },
     "execution_count": 131,
     "metadata": {},
     "output_type": "execute_result"
    }
   ],
   "source": [
    "expl_tr "
   ]
  },
  {
   "cell_type": "code",
   "execution_count": 132,
   "id": "27ec468f",
   "metadata": {},
   "outputs": [],
   "source": [
    "expl_rf = explained_variance_score(pre4,y_test)"
   ]
  },
  {
   "cell_type": "code",
   "execution_count": 133,
   "id": "49ca7df5",
   "metadata": {},
   "outputs": [
    {
     "data": {
      "text/plain": [
       "0.8593522552706222"
      ]
     },
     "execution_count": 133,
     "metadata": {},
     "output_type": "execute_result"
    }
   ],
   "source": [
    "expl_rf"
   ]
  },
  {
   "cell_type": "markdown",
   "id": "b912bdbd",
   "metadata": {},
   "source": [
    "# Metrics of Best Model"
   ]
  },
  {
   "cell_type": "markdown",
   "id": "06319d69",
   "metadata": {},
   "source": [
    "**Mean Absolute error and Root Mean Square Error Comparison of *Decision Tree Regressor*, *Linear Regression* Models**"
   ]
  },
  {
   "cell_type": "code",
   "execution_count": 134,
   "id": "d1a8b4ea",
   "metadata": {},
   "outputs": [],
   "source": [
    "indexes = [\"Mean Absolute Error\", \"Root Mean Square Error\"]"
   ]
  },
  {
   "cell_type": "code",
   "execution_count": 135,
   "id": "7a4f7bb8",
   "metadata": {},
   "outputs": [],
   "source": [
    "data = [[mae1, mae2, mae3], [rmsDTR, rmslr,rmsrf]]"
   ]
  },
  {
   "cell_type": "code",
   "execution_count": 136,
   "id": "80efc60e",
   "metadata": {
    "scrolled": true
   },
   "outputs": [
    {
     "data": {
      "text/html": [
       "<div>\n",
       "<style scoped>\n",
       "    .dataframe tbody tr th:only-of-type {\n",
       "        vertical-align: middle;\n",
       "    }\n",
       "\n",
       "    .dataframe tbody tr th {\n",
       "        vertical-align: top;\n",
       "    }\n",
       "\n",
       "    .dataframe thead th {\n",
       "        text-align: right;\n",
       "    }\n",
       "</style>\n",
       "<table border=\"1\" class=\"dataframe\">\n",
       "  <thead>\n",
       "    <tr style=\"text-align: right;\">\n",
       "      <th></th>\n",
       "      <th>Decision Tree Regressor</th>\n",
       "      <th>Linear Regression</th>\n",
       "      <th>Random Forest</th>\n",
       "    </tr>\n",
       "  </thead>\n",
       "  <tbody>\n",
       "    <tr>\n",
       "      <th>Mean Absolute Error</th>\n",
       "      <td>0.188238</td>\n",
       "      <td>0.197433</td>\n",
       "      <td>0.126073</td>\n",
       "    </tr>\n",
       "    <tr>\n",
       "      <th>Root Mean Square Error</th>\n",
       "      <td>0.254940</td>\n",
       "      <td>0.255245</td>\n",
       "      <td>0.178350</td>\n",
       "    </tr>\n",
       "  </tbody>\n",
       "</table>\n",
       "</div>"
      ],
      "text/plain": [
       "                        Decision Tree Regressor  Linear Regression  \\\n",
       "Mean Absolute Error                    0.188238           0.197433   \n",
       "Root Mean Square Error                 0.254940           0.255245   \n",
       "\n",
       "                        Random Forest  \n",
       "Mean Absolute Error          0.126073  \n",
       "Root Mean Square Error       0.178350  "
      ]
     },
     "execution_count": 136,
     "metadata": {},
     "output_type": "execute_result"
    }
   ],
   "source": [
    "model_result = pd.DataFrame(data, columns = [\"Decision Tree Regressor\", \"Linear Regression\", \"Random Forest\"], index = indexes)\n",
    "model_result"
   ]
  },
  {
   "cell_type": "markdown",
   "id": "688aa31f",
   "metadata": {},
   "source": [
    "# RMSE for 5 folds and Explained Variance Score"
   ]
  },
  {
   "cell_type": "code",
   "execution_count": 161,
   "id": "b5f9484c",
   "metadata": {},
   "outputs": [],
   "source": [
    "rmselr0 = rmselr.min() "
   ]
  },
  {
   "cell_type": "code",
   "execution_count": 162,
   "id": "d0ea1844",
   "metadata": {},
   "outputs": [
    {
     "data": {
      "text/plain": [
       "0.2476693789174272"
      ]
     },
     "execution_count": 162,
     "metadata": {},
     "output_type": "execute_result"
    }
   ],
   "source": [
    "\n",
    "rmsescorea2= np.abs(score1a)\n",
    "rmsedtr0 = rmsescorea2.min()\n",
    "rmsedtr0"
   ]
  },
  {
   "cell_type": "code",
   "execution_count": 163,
   "id": "6b4b667f",
   "metadata": {},
   "outputs": [
    {
     "data": {
      "text/plain": [
       "0.17658063094763823"
      ]
     },
     "execution_count": 163,
     "metadata": {},
     "output_type": "execute_result"
    }
   ],
   "source": [
    "rmsescorea3= np.abs(score3a).min\n",
    "rmserf0 = rmsescorea3().min()\n",
    "rmserf0 "
   ]
  },
  {
   "cell_type": "code",
   "execution_count": 164,
   "id": "cd32d9cd",
   "metadata": {},
   "outputs": [
    {
     "data": {
      "text/html": [
       "<div>\n",
       "<style scoped>\n",
       "    .dataframe tbody tr th:only-of-type {\n",
       "        vertical-align: middle;\n",
       "    }\n",
       "\n",
       "    .dataframe tbody tr th {\n",
       "        vertical-align: top;\n",
       "    }\n",
       "\n",
       "    .dataframe thead th {\n",
       "        text-align: right;\n",
       "    }\n",
       "</style>\n",
       "<table border=\"1\" class=\"dataframe\">\n",
       "  <thead>\n",
       "    <tr style=\"text-align: right;\">\n",
       "      <th></th>\n",
       "      <th>Model</th>\n",
       "      <th>RMSE</th>\n",
       "      <th>Explained Variance Score</th>\n",
       "    </tr>\n",
       "  </thead>\n",
       "  <tbody>\n",
       "    <tr>\n",
       "      <th>0</th>\n",
       "      <td>Multiple Linear Regression</td>\n",
       "      <td>0.249354</td>\n",
       "      <td>0.689449</td>\n",
       "    </tr>\n",
       "    <tr>\n",
       "      <th>1</th>\n",
       "      <td>Decision Tree</td>\n",
       "      <td>0.247669</td>\n",
       "      <td>0.682303</td>\n",
       "    </tr>\n",
       "    <tr>\n",
       "      <th>2</th>\n",
       "      <td>Random forest Regression</td>\n",
       "      <td>0.176581</td>\n",
       "      <td>0.859352</td>\n",
       "    </tr>\n",
       "  </tbody>\n",
       "</table>\n",
       "</div>"
      ],
      "text/plain": [
       "                        Model      RMSE  Explained Variance Score\n",
       "0  Multiple Linear Regression  0.249354                  0.689449\n",
       "1               Decision Tree  0.247669                  0.682303\n",
       "2    Random forest Regression  0.176581                  0.859352"
      ]
     },
     "execution_count": 164,
     "metadata": {},
     "output_type": "execute_result"
    }
   ],
   "source": [
    "models_score =pd.DataFrame({'Model':['Multiple Linear Regression','Decision Tree','Random forest Regression'],\n",
    "                            'RMSE':[rmselr0,rmsedtr0,rmserf0],\n",
    "                            'Explained Variance Score':[expl_mlr,expl_tr,expl_rf]\n",
    "                           })\n",
    "models_score.sort_values(by='RMSE',ascending=False)"
   ]
  },
  {
   "cell_type": "markdown",
   "id": "66de2ee8",
   "metadata": {},
   "source": [
    "# Conclusion\n",
    "**So comparing the mean absolute error and root mean square error of Linear Regression Model, Decision Tree Regressor model, and Random Forest Regressor model it is clear that Random Forest Regressor model is outperforming the other two models**"
   ]
  },
  {
   "cell_type": "code",
   "execution_count": null,
   "id": "ca2905cc",
   "metadata": {},
   "outputs": [],
   "source": []
  },
  {
   "cell_type": "code",
   "execution_count": null,
   "id": "f756e562",
   "metadata": {},
   "outputs": [],
   "source": []
  },
  {
   "cell_type": "code",
   "execution_count": null,
   "id": "ab6ad642",
   "metadata": {},
   "outputs": [],
   "source": []
  }
 ],
 "metadata": {
  "kernelspec": {
   "display_name": "Python 3 (ipykernel)",
   "language": "python",
   "name": "python3"
  },
  "language_info": {
   "codemirror_mode": {
    "name": "ipython",
    "version": 3
   },
   "file_extension": ".py",
   "mimetype": "text/x-python",
   "name": "python",
   "nbconvert_exporter": "python",
   "pygments_lexer": "ipython3",
   "version": "3.9.7"
  }
 },
 "nbformat": 4,
 "nbformat_minor": 5
}
